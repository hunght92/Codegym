{
 "cells": [
  {
   "cell_type": "code",
   "execution_count": 1,
   "id": "c3422966",
   "metadata": {},
   "outputs": [],
   "source": [
    "import turtle\n",
    "h = turtle.Turtle()\n",
    "\n",
    "# h.fd(200)\n",
    "# h.bk(200)\n",
    "# h.rt(90)\n",
    "# h.lt(90)\n",
    "\n",
    "# h.circle(100)\n",
    "\n",
    "# h.goto(100,100)\n",
    "\n",
    "# h.home()\n",
    "\n",
    "# h.dot(200)\n",
    "\n",
    "#đổi màu bút, cỡ bút\n",
    "# h.pencolor(\"red\")\n",
    "# h.pensize(2)\n",
    "# h.fillcolor(\"cyan\")\n",
    "# h.begin_fill()\n",
    "# h.circle(200)\n",
    "# h.end_fill()\n",
    "\n",
    "# Vẽ ngôi sao\n",
    "h.forward(100)\n",
    "h.left(72)\n",
    "h.forward(100)\n",
    "h.right(144)\n",
    "h.forward(100)\n",
    "h.left(72)\n",
    "h.forward(100)\n",
    "h.right(144)\n",
    "h.forward(100)\n",
    "h.left(72)\n",
    "h.forward(100)\n",
    "h.right(144)\n",
    "h.forward(100)\n",
    "h.left(72)\n",
    "h.forward(100)\n",
    "h.right(144)\n",
    "h.forward(100)\n",
    "h.left(72)\n",
    "h.forward(100)\n",
    "\n",
    "\n",
    "turtle.done()"
   ]
  },
  {
   "cell_type": "code",
   "execution_count": null,
   "id": "95a914ca",
   "metadata": {},
   "outputs": [],
   "source": []
  }
 ],
 "metadata": {
  "kernelspec": {
   "display_name": "Python 3 (ipykernel)",
   "language": "python",
   "name": "python3"
  },
  "language_info": {
   "codemirror_mode": {
    "name": "ipython",
    "version": 3
   },
   "file_extension": ".py",
   "mimetype": "text/x-python",
   "name": "python",
   "nbconvert_exporter": "python",
   "pygments_lexer": "ipython3",
   "version": "3.9.12"
  }
 },
 "nbformat": 4,
 "nbformat_minor": 5
}
