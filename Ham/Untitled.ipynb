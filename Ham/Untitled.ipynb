{
 "cells": [
  {
   "cell_type": "code",
   "execution_count": 2,
   "id": "27c7d0c7",
   "metadata": {},
   "outputs": [
    {
     "name": "stdout",
     "output_type": "stream",
     "text": [
      "7 9 75\n"
     ]
    }
   ],
   "source": [
    "def sap_xep (a, b, c):\n",
    "    maxx = max(a, b, c)\n",
    "    minn = min(a, b, c)\n",
    "    so_con_lai = a + b + c - maxx - minn\n",
    "    print(minn, so_con_lai, maxx)\n",
    "\n",
    "sap_xep (9,75,7)"
   ]
  },
  {
   "cell_type": "code",
   "execution_count": null,
   "id": "c4619e5e",
   "metadata": {},
   "outputs": [],
   "source": []
  }
 ],
 "metadata": {
  "kernelspec": {
   "display_name": "Python 3 (ipykernel)",
   "language": "python",
   "name": "python3"
  },
  "language_info": {
   "codemirror_mode": {
    "name": "ipython",
    "version": 3
   },
   "file_extension": ".py",
   "mimetype": "text/x-python",
   "name": "python",
   "nbconvert_exporter": "python",
   "pygments_lexer": "ipython3",
   "version": "3.9.12"
  }
 },
 "nbformat": 4,
 "nbformat_minor": 5
}
