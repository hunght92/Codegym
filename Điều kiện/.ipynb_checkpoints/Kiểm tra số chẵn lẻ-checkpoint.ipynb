{
 "cells": [
  {
   "cell_type": "code",
   "execution_count": 5,
   "id": "23c93fdb",
   "metadata": {},
   "outputs": [
    {
     "name": "stdout",
     "output_type": "stream",
     "text": [
      "Moi nhap so can kiem tra: 79.3\n",
      "Không phải số tự nhiên\n"
     ]
    }
   ],
   "source": [
    "a = input(\"Moi nhap so can kiem tra: \")\n",
    "\n",
    "a = float(a)\n",
    "\n",
    "if a % 2 == 0:\n",
    "    print(\"Số chẵn\")\n",
    "elif a % 2 == 1:\n",
    "    print(\"Số lẻ\")\n",
    "else:\n",
    "    print(\"Không phải số tự nhiên\")"
   ]
  },
  {
   "cell_type": "code",
   "execution_count": null,
   "id": "c63222f6",
   "metadata": {},
   "outputs": [],
   "source": []
  },
  {
   "cell_type": "code",
   "execution_count": null,
   "id": "7379ed00",
   "metadata": {},
   "outputs": [],
   "source": []
  }
 ],
 "metadata": {
  "kernelspec": {
   "display_name": "Python 3 (ipykernel)",
   "language": "python",
   "name": "python3"
  },
  "language_info": {
   "codemirror_mode": {
    "name": "ipython",
    "version": 3
   },
   "file_extension": ".py",
   "mimetype": "text/x-python",
   "name": "python",
   "nbconvert_exporter": "python",
   "pygments_lexer": "ipython3",
   "version": "3.9.12"
  }
 },
 "nbformat": 4,
 "nbformat_minor": 5
}
