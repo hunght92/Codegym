{
 "cells": [
  {
   "cell_type": "code",
   "execution_count": 6,
   "id": "a7cf0fde",
   "metadata": {},
   "outputs": [
    {
     "name": "stdout",
     "output_type": "stream",
     "text": [
      "Moi nhap chieu cao (m): 1.89\n",
      "Moi nhap can nang(kg): 55\n",
      "15.397105344195293\n",
      "Gầy cấp độ III\n"
     ]
    }
   ],
   "source": [
    "chieu_cao = float(input(\"Moi nhap chieu cao (m): \"))\n",
    "can_nang = float(input(\"Moi nhap can nang(kg): \"))\n",
    "\n",
    "bmi = can_nang / (chieu_cao * chieu_cao)\n",
    "\n",
    "print(bmi)\n",
    "\n",
    "if bmi > 40:\n",
    "    print(\"Béo phì cấp độ III\")\n",
    "elif bmi >= 35:\n",
    "    print(\"Béo phì cấp độ II\")\n",
    "elif bmi >= 30:\n",
    "    print(\"Béo phì cấp độ I\")\n",
    "elif bmi >= 25:\n",
    "    print(\"Thừa cân\")\n",
    "elif bmi >= 18.5:\n",
    "    print(\"Bình thường\")\n",
    "elif bmi >= 17:\n",
    "    print(\"Gầy cấp độ I\")\n",
    "elif bmi >= 16:\n",
    "    print(\"Gầy cấp độ II\")\n",
    "else:\n",
    "    print(\"Gầy cấp độ III\")"
   ]
  },
  {
   "cell_type": "code",
   "execution_count": null,
   "id": "32e0fd8e",
   "metadata": {},
   "outputs": [],
   "source": []
  },
  {
   "cell_type": "code",
   "execution_count": null,
   "id": "8c346170",
   "metadata": {},
   "outputs": [],
   "source": []
  }
 ],
 "metadata": {
  "kernelspec": {
   "display_name": "Python 3 (ipykernel)",
   "language": "python",
   "name": "python3"
  },
  "language_info": {
   "codemirror_mode": {
    "name": "ipython",
    "version": 3
   },
   "file_extension": ".py",
   "mimetype": "text/x-python",
   "name": "python",
   "nbconvert_exporter": "python",
   "pygments_lexer": "ipython3",
   "version": "3.9.12"
  }
 },
 "nbformat": 4,
 "nbformat_minor": 5
}
