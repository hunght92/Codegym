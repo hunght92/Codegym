{
 "cells": [
  {
   "cell_type": "code",
   "execution_count": 2,
   "id": "298d8e9f",
   "metadata": {},
   "outputs": [
    {
     "name": "stderr",
     "output_type": "stream",
     "text": [
      "<>:3: SyntaxWarning: invalid escape sequence '\\H'\n",
      "<>:3: SyntaxWarning: invalid escape sequence '\\H'\n",
      "C:\\Users\\hungh\\AppData\\Local\\Temp\\ipykernel_14724\\3567388772.py:3: SyntaxWarning: invalid escape sequence '\\H'\n",
      "  df = pd.read_csv(\"D:\\Học\\Codegym\\Dataset\\salary_data.csv\")\n",
      "C:\\Users\\hungh\\AppData\\Local\\Temp\\ipykernel_14724\\3567388772.py:3: SyntaxWarning: invalid escape sequence '\\H'\n",
      "  df = pd.read_csv(\"D:\\Học\\Codegym\\Dataset\\salary_data.csv\")\n"
     ]
    },
    {
     "ename": "ModuleNotFoundError",
     "evalue": "No module named 'pandas'",
     "output_type": "error",
     "traceback": [
      "\u001b[1;31m---------------------------------------------------------------------------\u001b[0m",
      "\u001b[1;31mModuleNotFoundError\u001b[0m                       Traceback (most recent call last)",
      "Cell \u001b[1;32mIn[2], line 1\u001b[0m\n\u001b[1;32m----> 1\u001b[0m \u001b[38;5;28;01mimport\u001b[39;00m \u001b[38;5;21;01mpandas\u001b[39;00m \u001b[38;5;28;01mas\u001b[39;00m \u001b[38;5;21;01mpd\u001b[39;00m\n\u001b[0;32m      2\u001b[0m \u001b[38;5;66;03m# df = pd.read_csv(r\"/workspaces/Codegym/Dataset/salary_data.csv\")\u001b[39;00m\n\u001b[0;32m      3\u001b[0m df \u001b[38;5;241m=\u001b[39m pd\u001b[38;5;241m.\u001b[39mread_csv(\u001b[38;5;124m\"\u001b[39m\u001b[38;5;124mD:\u001b[39m\u001b[38;5;124m\\\u001b[39m\u001b[38;5;124mHọc\u001b[39m\u001b[38;5;124m\\\u001b[39m\u001b[38;5;124mCodegym\u001b[39m\u001b[38;5;124m\\\u001b[39m\u001b[38;5;124mDataset\u001b[39m\u001b[38;5;124m\\\u001b[39m\u001b[38;5;124msalary_data.csv\u001b[39m\u001b[38;5;124m\"\u001b[39m)\n",
      "\u001b[1;31mModuleNotFoundError\u001b[0m: No module named 'pandas'"
     ]
    }
   ],
   "source": [
    "# import pandas as pd\n",
    "# # df = pd.read_csv(r\"/workspaces/Codegym/Dataset/salary_data.csv\")\n",
    "# df = pd.read_csv(\"D:\\Học\\Codegym\\Dataset\\salary_data.csv\")\n",
    "# df"
   ]
  },
  {
   "cell_type": "code",
   "execution_count": 3,
   "id": "b7c5b7f7",
   "metadata": {},
   "outputs": [
    {
     "name": "stderr",
     "output_type": "stream",
     "text": [
      "<>:2: SyntaxWarning: invalid escape sequence '\\H'\n",
      "<>:2: SyntaxWarning: invalid escape sequence '\\H'\n",
      "C:\\Users\\hungh\\AppData\\Local\\Temp\\ipykernel_14724\\1154312626.py:2: SyntaxWarning: invalid escape sequence '\\H'\n",
      "  df = pd.read_csv(\"D:\\Học\\Codegym\\Dataset\\salary_data.csv\")\n",
      "C:\\Users\\hungh\\AppData\\Local\\Temp\\ipykernel_14724\\1154312626.py:2: SyntaxWarning: invalid escape sequence '\\H'\n",
      "  df = pd.read_csv(\"D:\\Học\\Codegym\\Dataset\\salary_data.csv\")\n"
     ]
    },
    {
     "ename": "ModuleNotFoundError",
     "evalue": "No module named 'pandas'",
     "output_type": "error",
     "traceback": [
      "\u001b[1;31m---------------------------------------------------------------------------\u001b[0m",
      "\u001b[1;31mModuleNotFoundError\u001b[0m                       Traceback (most recent call last)",
      "Cell \u001b[1;32mIn[3], line 1\u001b[0m\n\u001b[1;32m----> 1\u001b[0m \u001b[38;5;28;01mimport\u001b[39;00m \u001b[38;5;21;01mpandas\u001b[39;00m \u001b[38;5;28;01mas\u001b[39;00m \u001b[38;5;21;01mpd\u001b[39;00m\n\u001b[0;32m      2\u001b[0m df \u001b[38;5;241m=\u001b[39m pd\u001b[38;5;241m.\u001b[39mread_csv(\u001b[38;5;124m\"\u001b[39m\u001b[38;5;124mD:\u001b[39m\u001b[38;5;124m\\\u001b[39m\u001b[38;5;124mHọc\u001b[39m\u001b[38;5;124m\\\u001b[39m\u001b[38;5;124mCodegym\u001b[39m\u001b[38;5;124m\\\u001b[39m\u001b[38;5;124mDataset\u001b[39m\u001b[38;5;124m\\\u001b[39m\u001b[38;5;124msalary_data.csv\u001b[39m\u001b[38;5;124m\"\u001b[39m)\n\u001b[0;32m      3\u001b[0m df\u001b[38;5;241m.\u001b[39minfo()\n",
      "\u001b[1;31mModuleNotFoundError\u001b[0m: No module named 'pandas'"
     ]
    }
   ],
   "source": [
    "import pandas as pd\n",
    "df = pd.read_csv(\"D:\\Học\\Codegym\\Dataset\\salary_data.csv\")\n",
    "df.info()\n"
   ]
  },
  {
   "cell_type": "code",
   "execution_count": null,
   "id": "c8104405",
   "metadata": {},
   "outputs": [
    {
     "data": {
      "text/plain": [
       "(1426, 3)"
      ]
     },
     "execution_count": 13,
     "metadata": {},
     "output_type": "execute_result"
    }
   ],
   "source": [
    "df.shape"
   ]
  },
  {
   "cell_type": "code",
   "execution_count": null,
   "id": "28cb3651",
   "metadata": {},
   "outputs": [
    {
     "name": "stdout",
     "output_type": "stream",
     "text": [
      "Số dòng của bảng dữ liệu là 1426\n",
      "Số cột của bảng dữ liệu là 3\n"
     ]
    }
   ],
   "source": [
    "print(f\"Số dòng của bảng dữ liệu là {df.shape[0]}\")\n",
    "print(f\"Số cột của bảng dữ liệu là {df.shape[1]}\")"
   ]
  },
  {
   "cell_type": "code",
   "execution_count": null,
   "id": "4554425d",
   "metadata": {},
   "outputs": [
    {
     "data": {
      "text/html": [
       "<div>\n",
       "<style scoped>\n",
       "    .dataframe tbody tr th:only-of-type {\n",
       "        vertical-align: middle;\n",
       "    }\n",
       "\n",
       "    .dataframe tbody tr th {\n",
       "        vertical-align: top;\n",
       "    }\n",
       "\n",
       "    .dataframe thead th {\n",
       "        text-align: right;\n",
       "    }\n",
       "</style>\n",
       "<table border=\"1\" class=\"dataframe\">\n",
       "  <thead>\n",
       "    <tr style=\"text-align: right;\">\n",
       "      <th></th>\n",
       "      <th>SoNamKinhNghiem</th>\n",
       "      <th>Luong</th>\n",
       "      <th>NganhNghe</th>\n",
       "    </tr>\n",
       "  </thead>\n",
       "  <tbody>\n",
       "    <tr>\n",
       "      <th>0</th>\n",
       "      <td>7</td>\n",
       "      <td>26.0</td>\n",
       "      <td>KeToan</td>\n",
       "    </tr>\n",
       "    <tr>\n",
       "      <th>1</th>\n",
       "      <td>4</td>\n",
       "      <td>13.8</td>\n",
       "      <td>KeToan</td>\n",
       "    </tr>\n",
       "    <tr>\n",
       "      <th>2</th>\n",
       "      <td>8</td>\n",
       "      <td>21.5</td>\n",
       "      <td>KeToan</td>\n",
       "    </tr>\n",
       "    <tr>\n",
       "      <th>3</th>\n",
       "      <td>9</td>\n",
       "      <td>24.0</td>\n",
       "      <td>KeToan</td>\n",
       "    </tr>\n",
       "    <tr>\n",
       "      <th>4</th>\n",
       "      <td>1</td>\n",
       "      <td>7.8</td>\n",
       "      <td>KeToan</td>\n",
       "    </tr>\n",
       "    <tr>\n",
       "      <th>5</th>\n",
       "      <td>2</td>\n",
       "      <td>10.0</td>\n",
       "      <td>KeToan</td>\n",
       "    </tr>\n",
       "    <tr>\n",
       "      <th>6</th>\n",
       "      <td>4</td>\n",
       "      <td>13.5</td>\n",
       "      <td>KeToan</td>\n",
       "    </tr>\n",
       "    <tr>\n",
       "      <th>7</th>\n",
       "      <td>5</td>\n",
       "      <td>15.8</td>\n",
       "      <td>KeToan</td>\n",
       "    </tr>\n",
       "    <tr>\n",
       "      <th>8</th>\n",
       "      <td>3</td>\n",
       "      <td>12.2</td>\n",
       "      <td>KeToan</td>\n",
       "    </tr>\n",
       "    <tr>\n",
       "      <th>9</th>\n",
       "      <td>2</td>\n",
       "      <td>10.0</td>\n",
       "      <td>KeToan</td>\n",
       "    </tr>\n",
       "    <tr>\n",
       "      <th>10</th>\n",
       "      <td>4</td>\n",
       "      <td>14.1</td>\n",
       "      <td>KeToan</td>\n",
       "    </tr>\n",
       "    <tr>\n",
       "      <th>11</th>\n",
       "      <td>0</td>\n",
       "      <td>6.1</td>\n",
       "      <td>KeToan</td>\n",
       "    </tr>\n",
       "    <tr>\n",
       "      <th>12</th>\n",
       "      <td>3</td>\n",
       "      <td>12.1</td>\n",
       "      <td>KeToan</td>\n",
       "    </tr>\n",
       "    <tr>\n",
       "      <th>13</th>\n",
       "      <td>8</td>\n",
       "      <td>21.6</td>\n",
       "      <td>KeToan</td>\n",
       "    </tr>\n",
       "    <tr>\n",
       "      <th>14</th>\n",
       "      <td>5</td>\n",
       "      <td>15.7</td>\n",
       "      <td>KeToan</td>\n",
       "    </tr>\n",
       "    <tr>\n",
       "      <th>15</th>\n",
       "      <td>5</td>\n",
       "      <td>16.0</td>\n",
       "      <td>KeToan</td>\n",
       "    </tr>\n",
       "    <tr>\n",
       "      <th>16</th>\n",
       "      <td>8</td>\n",
       "      <td>22.0</td>\n",
       "      <td>KeToan</td>\n",
       "    </tr>\n",
       "    <tr>\n",
       "      <th>17</th>\n",
       "      <td>5</td>\n",
       "      <td>16.0</td>\n",
       "      <td>KeToan</td>\n",
       "    </tr>\n",
       "    <tr>\n",
       "      <th>18</th>\n",
       "      <td>2</td>\n",
       "      <td>10.5</td>\n",
       "      <td>KeToan</td>\n",
       "    </tr>\n",
       "    <tr>\n",
       "      <th>19</th>\n",
       "      <td>3</td>\n",
       "      <td>11.4</td>\n",
       "      <td>KeToan</td>\n",
       "    </tr>\n",
       "  </tbody>\n",
       "</table>\n",
       "</div>"
      ],
      "text/plain": [
       "    SoNamKinhNghiem  Luong NganhNghe\n",
       "0                 7   26.0    KeToan\n",
       "1                 4   13.8    KeToan\n",
       "2                 8   21.5    KeToan\n",
       "3                 9   24.0    KeToan\n",
       "4                 1    7.8    KeToan\n",
       "5                 2   10.0    KeToan\n",
       "6                 4   13.5    KeToan\n",
       "7                 5   15.8    KeToan\n",
       "8                 3   12.2    KeToan\n",
       "9                 2   10.0    KeToan\n",
       "10                4   14.1    KeToan\n",
       "11                0    6.1    KeToan\n",
       "12                3   12.1    KeToan\n",
       "13                8   21.6    KeToan\n",
       "14                5   15.7    KeToan\n",
       "15                5   16.0    KeToan\n",
       "16                8   22.0    KeToan\n",
       "17                5   16.0    KeToan\n",
       "18                2   10.5    KeToan\n",
       "19                3   11.4    KeToan"
      ]
     },
     "execution_count": 15,
     "metadata": {},
     "output_type": "execute_result"
    }
   ],
   "source": [
    "df.head(20)"
   ]
  }
 ],
 "metadata": {
  "kernelspec": {
   "display_name": "Python 3 (ipykernel)",
   "language": "python",
   "name": "python3"
  },
  "language_info": {
   "codemirror_mode": {
    "name": "ipython",
    "version": 3
   },
   "file_extension": ".py",
   "mimetype": "text/x-python",
   "name": "python",
   "nbconvert_exporter": "python",
   "pygments_lexer": "ipython3",
   "version": "3.12.2"
  }
 },
 "nbformat": 4,
 "nbformat_minor": 5
}
