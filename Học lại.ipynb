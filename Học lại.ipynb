{
 "cells": [
  {
   "cell_type": "code",
   "execution_count": 126,
   "id": "298d8e9f",
   "metadata": {},
   "outputs": [],
   "source": [
    "# import pandas as pd\n",
    "# # df = pd.read_csv(r\"/workspaces/Codegym/Dataset/salary_data.csv\")\n",
    "# df = pd.read_csv(\"D:\\Học\\Codegym\\Dataset\\salary_data.csv\")\n",
    "# df"
   ]
  },
  {
   "cell_type": "code",
   "execution_count": 127,
   "id": "b7c5b7f7",
   "metadata": {},
   "outputs": [
    {
     "data": {
      "application/vnd.microsoft.datawrangler.viewer.v0+json": {
       "columns": [
        {
         "name": "index",
         "rawType": "int64",
         "type": "integer"
        },
        {
         "name": "country",
         "rawType": "object",
         "type": "string"
        },
        {
         "name": "continent",
         "rawType": "object",
         "type": "string"
        },
        {
         "name": "date",
         "rawType": "object",
         "type": "string"
        },
        {
         "name": "day",
         "rawType": "int64",
         "type": "integer"
        },
        {
         "name": "month",
         "rawType": "int64",
         "type": "integer"
        },
        {
         "name": "year",
         "rawType": "int64",
         "type": "integer"
        },
        {
         "name": "cases",
         "rawType": "int64",
         "type": "integer"
        },
        {
         "name": "deaths",
         "rawType": "int64",
         "type": "integer"
        },
        {
         "name": "country_code",
         "rawType": "object",
         "type": "unknown"
        },
        {
         "name": "population",
         "rawType": "float64",
         "type": "float"
        }
       ],
       "ref": "ced1a6bc-3bd4-4225-b195-f01ad2855e5c",
       "rows": [
        [
         "0",
         "Afghanistan",
         "Asia",
         "2020-04-12",
         "12",
         "4",
         "2020",
         "34",
         "3",
         "AFG",
         "37172386.0"
        ],
        [
         "1",
         "Albania",
         "Europe",
         "2020-04-12",
         "12",
         "4",
         "2020",
         "17",
         "0",
         "ALB",
         "2866376.0"
        ],
        [
         "2",
         "Algeria",
         "Africa",
         "2020-04-12",
         "12",
         "4",
         "2020",
         "64",
         "19",
         "DZA",
         "42228429.0"
        ],
        [
         "3",
         "Andorra",
         "Europe",
         "2020-04-12",
         "12",
         "4",
         "2020",
         "21",
         "2",
         "AND",
         "77006.0"
        ],
        [
         "4",
         "Angola",
         "Africa",
         "2020-04-12",
         "12",
         "4",
         "2020",
         "0",
         "0",
         "AGO",
         "30809762.0"
        ],
        [
         "5",
         "Anguilla",
         "America",
         "2020-04-12",
         "12",
         "4",
         "2020",
         "0",
         "0",
         null,
         null
        ],
        [
         "6",
         "Antigua_and_Barbuda",
         "America",
         "2020-04-12",
         "12",
         "4",
         "2020",
         "0",
         "0",
         "ATG",
         "96286.0"
        ],
        [
         "7",
         "Argentina",
         "America",
         "2020-04-12",
         "12",
         "4",
         "2020",
         "162",
         "7",
         "ARG",
         "44494502.0"
        ],
        [
         "8",
         "Armenia",
         "Europe",
         "2020-04-12",
         "12",
         "4",
         "2020",
         "30",
         "2",
         "ARM",
         "2951776.0"
        ],
        [
         "9",
         "Aruba",
         "America",
         "2020-04-12",
         "12",
         "4",
         "2020",
         "6",
         "0",
         "ABW",
         "105845.0"
        ],
        [
         "10",
         "Australia",
         "Oceania",
         "2020-04-12",
         "12",
         "4",
         "2020",
         "51",
         "3",
         "AUS",
         "24992369.0"
        ],
        [
         "11",
         "Austria",
         "Europe",
         "2020-04-12",
         "12",
         "4",
         "2020",
         "247",
         "18",
         "AUT",
         "8847037.0"
        ],
        [
         "12",
         "Azerbaijan",
         "Europe",
         "2020-04-12",
         "12",
         "4",
         "2020",
         "67",
         "1",
         "AZE",
         "9942334.0"
        ],
        [
         "13",
         "Bahamas",
         "America",
         "2020-04-12",
         "12",
         "4",
         "2020",
         "4",
         "0",
         "BHS",
         "385640.0"
        ],
        [
         "14",
         "Bahrain",
         "Asia",
         "2020-04-12",
         "12",
         "4",
         "2020",
         "42",
         "0",
         "BHR",
         "1569439.0"
        ],
        [
         "15",
         "Bangladesh",
         "Asia",
         "2020-04-12",
         "12",
         "4",
         "2020",
         "58",
         "3",
         "BGD",
         "161356039.0"
        ],
        [
         "16",
         "Barbados",
         "America",
         "2020-04-12",
         "12",
         "4",
         "2020",
         "1",
         "0",
         "BRB",
         "286641.0"
        ],
        [
         "17",
         "Belarus",
         "Europe",
         "2020-04-12",
         "12",
         "4",
         "2020",
         "245",
         "4",
         "BLR",
         "9485386.0"
        ],
        [
         "18",
         "Belgium",
         "Europe",
         "2020-04-12",
         "12",
         "4",
         "2020",
         "1351",
         "327",
         "BEL",
         "11422068.0"
        ],
        [
         "19",
         "Belize",
         "America",
         "2020-04-12",
         "12",
         "4",
         "2020",
         "3",
         "0",
         "BLZ",
         "383071.0"
        ]
       ],
       "shape": {
        "columns": 10,
        "rows": 20
       }
      },
      "text/html": [
       "<div>\n",
       "<style scoped>\n",
       "    .dataframe tbody tr th:only-of-type {\n",
       "        vertical-align: middle;\n",
       "    }\n",
       "\n",
       "    .dataframe tbody tr th {\n",
       "        vertical-align: top;\n",
       "    }\n",
       "\n",
       "    .dataframe thead th {\n",
       "        text-align: right;\n",
       "    }\n",
       "</style>\n",
       "<table border=\"1\" class=\"dataframe\">\n",
       "  <thead>\n",
       "    <tr style=\"text-align: right;\">\n",
       "      <th></th>\n",
       "      <th>country</th>\n",
       "      <th>continent</th>\n",
       "      <th>date</th>\n",
       "      <th>day</th>\n",
       "      <th>month</th>\n",
       "      <th>year</th>\n",
       "      <th>cases</th>\n",
       "      <th>deaths</th>\n",
       "      <th>country_code</th>\n",
       "      <th>population</th>\n",
       "    </tr>\n",
       "  </thead>\n",
       "  <tbody>\n",
       "    <tr>\n",
       "      <th>0</th>\n",
       "      <td>Afghanistan</td>\n",
       "      <td>Asia</td>\n",
       "      <td>2020-04-12</td>\n",
       "      <td>12</td>\n",
       "      <td>4</td>\n",
       "      <td>2020</td>\n",
       "      <td>34</td>\n",
       "      <td>3</td>\n",
       "      <td>AFG</td>\n",
       "      <td>37172386.0</td>\n",
       "    </tr>\n",
       "    <tr>\n",
       "      <th>1</th>\n",
       "      <td>Albania</td>\n",
       "      <td>Europe</td>\n",
       "      <td>2020-04-12</td>\n",
       "      <td>12</td>\n",
       "      <td>4</td>\n",
       "      <td>2020</td>\n",
       "      <td>17</td>\n",
       "      <td>0</td>\n",
       "      <td>ALB</td>\n",
       "      <td>2866376.0</td>\n",
       "    </tr>\n",
       "    <tr>\n",
       "      <th>2</th>\n",
       "      <td>Algeria</td>\n",
       "      <td>Africa</td>\n",
       "      <td>2020-04-12</td>\n",
       "      <td>12</td>\n",
       "      <td>4</td>\n",
       "      <td>2020</td>\n",
       "      <td>64</td>\n",
       "      <td>19</td>\n",
       "      <td>DZA</td>\n",
       "      <td>42228429.0</td>\n",
       "    </tr>\n",
       "    <tr>\n",
       "      <th>3</th>\n",
       "      <td>Andorra</td>\n",
       "      <td>Europe</td>\n",
       "      <td>2020-04-12</td>\n",
       "      <td>12</td>\n",
       "      <td>4</td>\n",
       "      <td>2020</td>\n",
       "      <td>21</td>\n",
       "      <td>2</td>\n",
       "      <td>AND</td>\n",
       "      <td>77006.0</td>\n",
       "    </tr>\n",
       "    <tr>\n",
       "      <th>4</th>\n",
       "      <td>Angola</td>\n",
       "      <td>Africa</td>\n",
       "      <td>2020-04-12</td>\n",
       "      <td>12</td>\n",
       "      <td>4</td>\n",
       "      <td>2020</td>\n",
       "      <td>0</td>\n",
       "      <td>0</td>\n",
       "      <td>AGO</td>\n",
       "      <td>30809762.0</td>\n",
       "    </tr>\n",
       "    <tr>\n",
       "      <th>5</th>\n",
       "      <td>Anguilla</td>\n",
       "      <td>America</td>\n",
       "      <td>2020-04-12</td>\n",
       "      <td>12</td>\n",
       "      <td>4</td>\n",
       "      <td>2020</td>\n",
       "      <td>0</td>\n",
       "      <td>0</td>\n",
       "      <td>NaN</td>\n",
       "      <td>NaN</td>\n",
       "    </tr>\n",
       "    <tr>\n",
       "      <th>6</th>\n",
       "      <td>Antigua_and_Barbuda</td>\n",
       "      <td>America</td>\n",
       "      <td>2020-04-12</td>\n",
       "      <td>12</td>\n",
       "      <td>4</td>\n",
       "      <td>2020</td>\n",
       "      <td>0</td>\n",
       "      <td>0</td>\n",
       "      <td>ATG</td>\n",
       "      <td>96286.0</td>\n",
       "    </tr>\n",
       "    <tr>\n",
       "      <th>7</th>\n",
       "      <td>Argentina</td>\n",
       "      <td>America</td>\n",
       "      <td>2020-04-12</td>\n",
       "      <td>12</td>\n",
       "      <td>4</td>\n",
       "      <td>2020</td>\n",
       "      <td>162</td>\n",
       "      <td>7</td>\n",
       "      <td>ARG</td>\n",
       "      <td>44494502.0</td>\n",
       "    </tr>\n",
       "    <tr>\n",
       "      <th>8</th>\n",
       "      <td>Armenia</td>\n",
       "      <td>Europe</td>\n",
       "      <td>2020-04-12</td>\n",
       "      <td>12</td>\n",
       "      <td>4</td>\n",
       "      <td>2020</td>\n",
       "      <td>30</td>\n",
       "      <td>2</td>\n",
       "      <td>ARM</td>\n",
       "      <td>2951776.0</td>\n",
       "    </tr>\n",
       "    <tr>\n",
       "      <th>9</th>\n",
       "      <td>Aruba</td>\n",
       "      <td>America</td>\n",
       "      <td>2020-04-12</td>\n",
       "      <td>12</td>\n",
       "      <td>4</td>\n",
       "      <td>2020</td>\n",
       "      <td>6</td>\n",
       "      <td>0</td>\n",
       "      <td>ABW</td>\n",
       "      <td>105845.0</td>\n",
       "    </tr>\n",
       "    <tr>\n",
       "      <th>10</th>\n",
       "      <td>Australia</td>\n",
       "      <td>Oceania</td>\n",
       "      <td>2020-04-12</td>\n",
       "      <td>12</td>\n",
       "      <td>4</td>\n",
       "      <td>2020</td>\n",
       "      <td>51</td>\n",
       "      <td>3</td>\n",
       "      <td>AUS</td>\n",
       "      <td>24992369.0</td>\n",
       "    </tr>\n",
       "    <tr>\n",
       "      <th>11</th>\n",
       "      <td>Austria</td>\n",
       "      <td>Europe</td>\n",
       "      <td>2020-04-12</td>\n",
       "      <td>12</td>\n",
       "      <td>4</td>\n",
       "      <td>2020</td>\n",
       "      <td>247</td>\n",
       "      <td>18</td>\n",
       "      <td>AUT</td>\n",
       "      <td>8847037.0</td>\n",
       "    </tr>\n",
       "    <tr>\n",
       "      <th>12</th>\n",
       "      <td>Azerbaijan</td>\n",
       "      <td>Europe</td>\n",
       "      <td>2020-04-12</td>\n",
       "      <td>12</td>\n",
       "      <td>4</td>\n",
       "      <td>2020</td>\n",
       "      <td>67</td>\n",
       "      <td>1</td>\n",
       "      <td>AZE</td>\n",
       "      <td>9942334.0</td>\n",
       "    </tr>\n",
       "    <tr>\n",
       "      <th>13</th>\n",
       "      <td>Bahamas</td>\n",
       "      <td>America</td>\n",
       "      <td>2020-04-12</td>\n",
       "      <td>12</td>\n",
       "      <td>4</td>\n",
       "      <td>2020</td>\n",
       "      <td>4</td>\n",
       "      <td>0</td>\n",
       "      <td>BHS</td>\n",
       "      <td>385640.0</td>\n",
       "    </tr>\n",
       "    <tr>\n",
       "      <th>14</th>\n",
       "      <td>Bahrain</td>\n",
       "      <td>Asia</td>\n",
       "      <td>2020-04-12</td>\n",
       "      <td>12</td>\n",
       "      <td>4</td>\n",
       "      <td>2020</td>\n",
       "      <td>42</td>\n",
       "      <td>0</td>\n",
       "      <td>BHR</td>\n",
       "      <td>1569439.0</td>\n",
       "    </tr>\n",
       "    <tr>\n",
       "      <th>15</th>\n",
       "      <td>Bangladesh</td>\n",
       "      <td>Asia</td>\n",
       "      <td>2020-04-12</td>\n",
       "      <td>12</td>\n",
       "      <td>4</td>\n",
       "      <td>2020</td>\n",
       "      <td>58</td>\n",
       "      <td>3</td>\n",
       "      <td>BGD</td>\n",
       "      <td>161356039.0</td>\n",
       "    </tr>\n",
       "    <tr>\n",
       "      <th>16</th>\n",
       "      <td>Barbados</td>\n",
       "      <td>America</td>\n",
       "      <td>2020-04-12</td>\n",
       "      <td>12</td>\n",
       "      <td>4</td>\n",
       "      <td>2020</td>\n",
       "      <td>1</td>\n",
       "      <td>0</td>\n",
       "      <td>BRB</td>\n",
       "      <td>286641.0</td>\n",
       "    </tr>\n",
       "    <tr>\n",
       "      <th>17</th>\n",
       "      <td>Belarus</td>\n",
       "      <td>Europe</td>\n",
       "      <td>2020-04-12</td>\n",
       "      <td>12</td>\n",
       "      <td>4</td>\n",
       "      <td>2020</td>\n",
       "      <td>245</td>\n",
       "      <td>4</td>\n",
       "      <td>BLR</td>\n",
       "      <td>9485386.0</td>\n",
       "    </tr>\n",
       "    <tr>\n",
       "      <th>18</th>\n",
       "      <td>Belgium</td>\n",
       "      <td>Europe</td>\n",
       "      <td>2020-04-12</td>\n",
       "      <td>12</td>\n",
       "      <td>4</td>\n",
       "      <td>2020</td>\n",
       "      <td>1351</td>\n",
       "      <td>327</td>\n",
       "      <td>BEL</td>\n",
       "      <td>11422068.0</td>\n",
       "    </tr>\n",
       "    <tr>\n",
       "      <th>19</th>\n",
       "      <td>Belize</td>\n",
       "      <td>America</td>\n",
       "      <td>2020-04-12</td>\n",
       "      <td>12</td>\n",
       "      <td>4</td>\n",
       "      <td>2020</td>\n",
       "      <td>3</td>\n",
       "      <td>0</td>\n",
       "      <td>BLZ</td>\n",
       "      <td>383071.0</td>\n",
       "    </tr>\n",
       "  </tbody>\n",
       "</table>\n",
       "</div>"
      ],
      "text/plain": [
       "                country continent        date  day  month  year  cases  \\\n",
       "0           Afghanistan      Asia  2020-04-12   12      4  2020     34   \n",
       "1               Albania    Europe  2020-04-12   12      4  2020     17   \n",
       "2               Algeria    Africa  2020-04-12   12      4  2020     64   \n",
       "3               Andorra    Europe  2020-04-12   12      4  2020     21   \n",
       "4                Angola    Africa  2020-04-12   12      4  2020      0   \n",
       "5              Anguilla   America  2020-04-12   12      4  2020      0   \n",
       "6   Antigua_and_Barbuda   America  2020-04-12   12      4  2020      0   \n",
       "7             Argentina   America  2020-04-12   12      4  2020    162   \n",
       "8               Armenia    Europe  2020-04-12   12      4  2020     30   \n",
       "9                 Aruba   America  2020-04-12   12      4  2020      6   \n",
       "10            Australia   Oceania  2020-04-12   12      4  2020     51   \n",
       "11              Austria    Europe  2020-04-12   12      4  2020    247   \n",
       "12           Azerbaijan    Europe  2020-04-12   12      4  2020     67   \n",
       "13              Bahamas   America  2020-04-12   12      4  2020      4   \n",
       "14              Bahrain      Asia  2020-04-12   12      4  2020     42   \n",
       "15           Bangladesh      Asia  2020-04-12   12      4  2020     58   \n",
       "16             Barbados   America  2020-04-12   12      4  2020      1   \n",
       "17              Belarus    Europe  2020-04-12   12      4  2020    245   \n",
       "18              Belgium    Europe  2020-04-12   12      4  2020   1351   \n",
       "19               Belize   America  2020-04-12   12      4  2020      3   \n",
       "\n",
       "    deaths country_code   population  \n",
       "0        3          AFG   37172386.0  \n",
       "1        0          ALB    2866376.0  \n",
       "2       19          DZA   42228429.0  \n",
       "3        2          AND      77006.0  \n",
       "4        0          AGO   30809762.0  \n",
       "5        0          NaN          NaN  \n",
       "6        0          ATG      96286.0  \n",
       "7        7          ARG   44494502.0  \n",
       "8        2          ARM    2951776.0  \n",
       "9        0          ABW     105845.0  \n",
       "10       3          AUS   24992369.0  \n",
       "11      18          AUT    8847037.0  \n",
       "12       1          AZE    9942334.0  \n",
       "13       0          BHS     385640.0  \n",
       "14       0          BHR    1569439.0  \n",
       "15       3          BGD  161356039.0  \n",
       "16       0          BRB     286641.0  \n",
       "17       4          BLR    9485386.0  \n",
       "18     327          BEL   11422068.0  \n",
       "19       0          BLZ     383071.0  "
      ]
     },
     "execution_count": 127,
     "metadata": {},
     "output_type": "execute_result"
    }
   ],
   "source": [
    "#Tổng quan về phân tích dữ liệu - Thực hành trên bộ dữ liệu Covid 19\n",
    "\n",
    "import pandas as pd\n",
    "df = pd.read_csv(r\"/workspaces/Codegym/Dataset/subset-covid-data.csv\", encoding = \"UTF-8\")\n",
    "df.head(20)\n"
   ]
  },
  {
   "cell_type": "code",
   "execution_count": 128,
   "id": "c8104405",
   "metadata": {},
   "outputs": [
    {
     "name": "stdout",
     "output_type": "stream",
     "text": [
      "<class 'pandas.core.frame.DataFrame'>\n",
      "RangeIndex: 206 entries, 0 to 205\n",
      "Data columns (total 10 columns):\n",
      " #   Column        Non-Null Count  Dtype  \n",
      "---  ------        --------------  -----  \n",
      " 0   country       206 non-null    object \n",
      " 1   continent     206 non-null    object \n",
      " 2   date          206 non-null    object \n",
      " 3   day           206 non-null    int64  \n",
      " 4   month         206 non-null    int64  \n",
      " 5   year          206 non-null    int64  \n",
      " 6   cases         206 non-null    int64  \n",
      " 7   deaths        206 non-null    int64  \n",
      " 8   country_code  202 non-null    object \n",
      " 9   population    202 non-null    float64\n",
      "dtypes: float64(1), int64(5), object(4)\n",
      "memory usage: 16.2+ KB\n"
     ]
    }
   ],
   "source": [
    "#Tìm số lượng dòng và cột của dữ liệu\n",
    "df.info()"
   ]
  },
  {
   "cell_type": "code",
   "execution_count": 129,
   "id": "28cb3651",
   "metadata": {},
   "outputs": [
    {
     "data": {
      "application/vnd.microsoft.datawrangler.viewer.v0+json": {
       "columns": [
        {
         "name": "date",
         "rawType": "object",
         "type": "string"
        },
        {
         "name": "count",
         "rawType": "int64",
         "type": "integer"
        }
       ],
       "ref": "b096714f-8c6b-43b3-9de1-730d72e520c5",
       "rows": [
        [
         "2020-04-12",
         "204"
        ],
        [
         "2020-01-18",
         "1"
        ],
        [
         "2020-04-11",
         "1"
        ]
       ],
       "shape": {
        "columns": 1,
        "rows": 3
       }
      },
      "text/plain": [
       "date\n",
       "2020-04-12    204\n",
       "2020-01-18      1\n",
       "2020-04-11      1\n",
       "Name: count, dtype: int64"
      ]
     },
     "execution_count": 129,
     "metadata": {},
     "output_type": "execute_result"
    }
   ],
   "source": [
    "# Tìm hiểu dữ liệu thống kê cho những ngày nào\n",
    "df.date.value_counts()"
   ]
  },
  {
   "cell_type": "code",
   "execution_count": 130,
   "id": "4554425d",
   "metadata": {},
   "outputs": [
    {
     "name": "stdout",
     "output_type": "stream",
     "text": [
      "Trung bình số lượng ca mắc mới: 376.8186274509804\n",
      "Trung vị số lượng ca mắc mới: 11.5\n"
     ]
    }
   ],
   "source": [
    "#Liệu các quốc gia có số lượng ca mắc mới trong ngày 12-4-2020, số ca tử vong trong ngày 12-4- có giống nhau hay không?\n",
    "# lọc dữ liệu nhiễu:\n",
    "cleaned_data= df[df.date == \"2020-04-12\"]\n",
    "\n",
    "# Vẽ biểu đồ phân bố số lượng ca mắc mới ở các quốc gia\n",
    "print(\"Trung bình số lượng ca mắc mới: \" + str(cleaned_data.cases.mean()))\n",
    "print(\"Trung vị số lượng ca mắc mới: \" + str(cleaned_data.cases.median()))"
   ]
  },
  {
   "cell_type": "code",
   "execution_count": 131,
   "id": "458ea65b-4896-4476-9785-a9a6160526d1",
   "metadata": {},
   "outputs": [
    {
     "data": {
      "text/plain": [
       "Text(0, 0.5, 'Số lượng quốc gia khảo sát')"
      ]
     },
     "execution_count": 131,
     "metadata": {},
     "output_type": "execute_result"
    },
    {
     "data": {
      "image/png": "[encoded data removed]",
      "text/plain": [
       "<Figure size 640x480 with 1 Axes>"
      ]
     },
     "metadata": {},
     "output_type": "display_data"
    }
   ],
   "source": [
    "import matplotlib.pyplot as plt\n",
    "plt.hist(cleaned_data.cases, bins = 200)\n",
    "plt.title(\"Biểu đồ phân bố số ca mắc mới\")\n",
    "plt.xlabel(\"Số ca mắc mới hàng ngày\")\n",
    "plt.ylabel(\"Số lượng quốc gia khảo sát\")"
   ]
  },
  {
   "cell_type": "code",
   "execution_count": 132,
   "id": "8734bf7f",
   "metadata": {},
   "outputs": [
    {
     "name": "stdout",
     "output_type": "stream",
     "text": [
      "Top 5 quốc gia có số ca nhiễm mới cao nhất\n"
     ]
    },
    {
     "data": {
      "application/vnd.microsoft.datawrangler.viewer.v0+json": {
       "columns": [
        {
         "name": "index",
         "rawType": "int64",
         "type": "integer"
        },
        {
         "name": "country",
         "rawType": "object",
         "type": "string"
        },
        {
         "name": "continent",
         "rawType": "object",
         "type": "string"
        },
        {
         "name": "date",
         "rawType": "object",
         "type": "string"
        },
        {
         "name": "day",
         "rawType": "int64",
         "type": "integer"
        },
        {
         "name": "month",
         "rawType": "int64",
         "type": "integer"
        },
        {
         "name": "year",
         "rawType": "int64",
         "type": "integer"
        },
        {
         "name": "cases",
         "rawType": "int64",
         "type": "integer"
        },
        {
         "name": "deaths",
         "rawType": "int64",
         "type": "integer"
        },
        {
         "name": "country_code",
         "rawType": "object",
         "type": "string"
        },
        {
         "name": "population",
         "rawType": "float64",
         "type": "float"
        }
       ],
       "ref": "7c65d344-ed3d-4e78-bbbb-5272654cdc2b",
       "rows": [
        [
         "198",
         "United_States_of_America",
         "America",
         "2020-04-12",
         "12",
         "4",
         "2020",
         "28391",
         "1831",
         "USA",
         "327167434.0"
        ],
        [
         "195",
         "United_Kingdom",
         "Europe",
         "2020-04-12",
         "12",
         "4",
         "2020",
         "8719",
         "839",
         "GBR",
         "66488991.0"
        ],
        [
         "190",
         "Turkey",
         "Asia",
         "2020-04-12",
         "12",
         "4",
         "2020",
         "5138",
         "95",
         "TUR",
         "82319724.0"
        ],
        [
         "98",
         "Italy",
         "Europe",
         "2020-04-12",
         "12",
         "4",
         "2020",
         "4694",
         "619",
         "ITA",
         "60431283.0"
        ],
        [
         "177",
         "Spain",
         "Europe",
         "2020-04-11",
         "11",
         "4",
         "2020",
         "4550",
         "605",
         "ESP",
         "46723749.0"
        ],
        [
         "69",
         "France",
         "Europe",
         "2020-04-12",
         "12",
         "4",
         "2020",
         "3114",
         "635",
         "FRA",
         "66987244.0"
        ],
        [
         "74",
         "Germany",
         "Europe",
         "2020-04-12",
         "12",
         "4",
         "2020",
         "2821",
         "129",
         "DEU",
         "82927922.0"
        ],
        [
         "93",
         "Iran",
         "Asia",
         "2020-04-12",
         "12",
         "4",
         "2020",
         "1837",
         "125",
         "IRN",
         "81800269.0"
        ],
        [
         "157",
         "Russia",
         "Europe",
         "2020-04-12",
         "12",
         "4",
         "2020",
         "1667",
         "12",
         "RUS",
         "144478050.0"
        ],
        [
         "100",
         "Japan",
         "Asia",
         "2020-04-12",
         "12",
         "4",
         "2020",
         "1401",
         "10",
         "JPN",
         "126529100.0"
        ]
       ],
       "shape": {
        "columns": 10,
        "rows": 10
       }
      },
      "text/html": [
       "<div>\n",
       "<style scoped>\n",
       "    .dataframe tbody tr th:only-of-type {\n",
       "        vertical-align: middle;\n",
       "    }\n",
       "\n",
       "    .dataframe tbody tr th {\n",
       "        vertical-align: top;\n",
       "    }\n",
       "\n",
       "    .dataframe thead th {\n",
       "        text-align: right;\n",
       "    }\n",
       "</style>\n",
       "<table border=\"1\" class=\"dataframe\">\n",
       "  <thead>\n",
       "    <tr style=\"text-align: right;\">\n",
       "      <th></th>\n",
       "      <th>country</th>\n",
       "      <th>continent</th>\n",
       "      <th>date</th>\n",
       "      <th>day</th>\n",
       "      <th>month</th>\n",
       "      <th>year</th>\n",
       "      <th>cases</th>\n",
       "      <th>deaths</th>\n",
       "      <th>country_code</th>\n",
       "      <th>population</th>\n",
       "    </tr>\n",
       "  </thead>\n",
       "  <tbody>\n",
       "    <tr>\n",
       "      <th>198</th>\n",
       "      <td>United_States_of_America</td>\n",
       "      <td>America</td>\n",
       "      <td>2020-04-12</td>\n",
       "      <td>12</td>\n",
       "      <td>4</td>\n",
       "      <td>2020</td>\n",
       "      <td>28391</td>\n",
       "      <td>1831</td>\n",
       "      <td>USA</td>\n",
       "      <td>327167434.0</td>\n",
       "    </tr>\n",
       "    <tr>\n",
       "      <th>195</th>\n",
       "      <td>United_Kingdom</td>\n",
       "      <td>Europe</td>\n",
       "      <td>2020-04-12</td>\n",
       "      <td>12</td>\n",
       "      <td>4</td>\n",
       "      <td>2020</td>\n",
       "      <td>8719</td>\n",
       "      <td>839</td>\n",
       "      <td>GBR</td>\n",
       "      <td>66488991.0</td>\n",
       "    </tr>\n",
       "    <tr>\n",
       "      <th>190</th>\n",
       "      <td>Turkey</td>\n",
       "      <td>Asia</td>\n",
       "      <td>2020-04-12</td>\n",
       "      <td>12</td>\n",
       "      <td>4</td>\n",
       "      <td>2020</td>\n",
       "      <td>5138</td>\n",
       "      <td>95</td>\n",
       "      <td>TUR</td>\n",
       "      <td>82319724.0</td>\n",
       "    </tr>\n",
       "    <tr>\n",
       "      <th>98</th>\n",
       "      <td>Italy</td>\n",
       "      <td>Europe</td>\n",
       "      <td>2020-04-12</td>\n",
       "      <td>12</td>\n",
       "      <td>4</td>\n",
       "      <td>2020</td>\n",
       "      <td>4694</td>\n",
       "      <td>619</td>\n",
       "      <td>ITA</td>\n",
       "      <td>60431283.0</td>\n",
       "    </tr>\n",
       "    <tr>\n",
       "      <th>177</th>\n",
       "      <td>Spain</td>\n",
       "      <td>Europe</td>\n",
       "      <td>2020-04-11</td>\n",
       "      <td>11</td>\n",
       "      <td>4</td>\n",
       "      <td>2020</td>\n",
       "      <td>4550</td>\n",
       "      <td>605</td>\n",
       "      <td>ESP</td>\n",
       "      <td>46723749.0</td>\n",
       "    </tr>\n",
       "    <tr>\n",
       "      <th>69</th>\n",
       "      <td>France</td>\n",
       "      <td>Europe</td>\n",
       "      <td>2020-04-12</td>\n",
       "      <td>12</td>\n",
       "      <td>4</td>\n",
       "      <td>2020</td>\n",
       "      <td>3114</td>\n",
       "      <td>635</td>\n",
       "      <td>FRA</td>\n",
       "      <td>66987244.0</td>\n",
       "    </tr>\n",
       "    <tr>\n",
       "      <th>74</th>\n",
       "      <td>Germany</td>\n",
       "      <td>Europe</td>\n",
       "      <td>2020-04-12</td>\n",
       "      <td>12</td>\n",
       "      <td>4</td>\n",
       "      <td>2020</td>\n",
       "      <td>2821</td>\n",
       "      <td>129</td>\n",
       "      <td>DEU</td>\n",
       "      <td>82927922.0</td>\n",
       "    </tr>\n",
       "    <tr>\n",
       "      <th>93</th>\n",
       "      <td>Iran</td>\n",
       "      <td>Asia</td>\n",
       "      <td>2020-04-12</td>\n",
       "      <td>12</td>\n",
       "      <td>4</td>\n",
       "      <td>2020</td>\n",
       "      <td>1837</td>\n",
       "      <td>125</td>\n",
       "      <td>IRN</td>\n",
       "      <td>81800269.0</td>\n",
       "    </tr>\n",
       "    <tr>\n",
       "      <th>157</th>\n",
       "      <td>Russia</td>\n",
       "      <td>Europe</td>\n",
       "      <td>2020-04-12</td>\n",
       "      <td>12</td>\n",
       "      <td>4</td>\n",
       "      <td>2020</td>\n",
       "      <td>1667</td>\n",
       "      <td>12</td>\n",
       "      <td>RUS</td>\n",
       "      <td>144478050.0</td>\n",
       "    </tr>\n",
       "    <tr>\n",
       "      <th>100</th>\n",
       "      <td>Japan</td>\n",
       "      <td>Asia</td>\n",
       "      <td>2020-04-12</td>\n",
       "      <td>12</td>\n",
       "      <td>4</td>\n",
       "      <td>2020</td>\n",
       "      <td>1401</td>\n",
       "      <td>10</td>\n",
       "      <td>JPN</td>\n",
       "      <td>126529100.0</td>\n",
       "    </tr>\n",
       "  </tbody>\n",
       "</table>\n",
       "</div>"
      ],
      "text/plain": [
       "                      country continent        date  day  month  year  cases  \\\n",
       "198  United_States_of_America   America  2020-04-12   12      4  2020  28391   \n",
       "195            United_Kingdom    Europe  2020-04-12   12      4  2020   8719   \n",
       "190                    Turkey      Asia  2020-04-12   12      4  2020   5138   \n",
       "98                      Italy    Europe  2020-04-12   12      4  2020   4694   \n",
       "177                     Spain    Europe  2020-04-11   11      4  2020   4550   \n",
       "69                     France    Europe  2020-04-12   12      4  2020   3114   \n",
       "74                    Germany    Europe  2020-04-12   12      4  2020   2821   \n",
       "93                       Iran      Asia  2020-04-12   12      4  2020   1837   \n",
       "157                    Russia    Europe  2020-04-12   12      4  2020   1667   \n",
       "100                     Japan      Asia  2020-04-12   12      4  2020   1401   \n",
       "\n",
       "     deaths country_code   population  \n",
       "198    1831          USA  327167434.0  \n",
       "195     839          GBR   66488991.0  \n",
       "190      95          TUR   82319724.0  \n",
       "98      619          ITA   60431283.0  \n",
       "177     605          ESP   46723749.0  \n",
       "69      635          FRA   66987244.0  \n",
       "74      129          DEU   82927922.0  \n",
       "93      125          IRN   81800269.0  \n",
       "157      12          RUS  144478050.0  \n",
       "100      10          JPN  126529100.0  "
      ]
     },
     "execution_count": 132,
     "metadata": {},
     "output_type": "execute_result"
    }
   ],
   "source": [
    "#Top 5 quốc gia có số ca nhiễm mới cao nhất\n",
    "print(\"Top 5 quốc gia có số ca nhiễm mới cao nhất\")\n",
    "data = df.sort_values('cases', ascending = False)\n",
    "data.head(10)"
   ]
  },
  {
   "cell_type": "code",
   "execution_count": 133,
   "id": "72a0e517",
   "metadata": {},
   "outputs": [
    {
     "name": "stdout",
     "output_type": "stream",
     "text": [
      "Top 5 quốc gia có số ca tử vong cao nhất\n"
     ]
    },
    {
     "data": {
      "application/vnd.microsoft.datawrangler.viewer.v0+json": {
       "columns": [
        {
         "name": "index",
         "rawType": "int64",
         "type": "integer"
        },
        {
         "name": "country",
         "rawType": "object",
         "type": "string"
        },
        {
         "name": "continent",
         "rawType": "object",
         "type": "string"
        },
        {
         "name": "date",
         "rawType": "object",
         "type": "string"
        },
        {
         "name": "day",
         "rawType": "int64",
         "type": "integer"
        },
        {
         "name": "month",
         "rawType": "int64",
         "type": "integer"
        },
        {
         "name": "year",
         "rawType": "int64",
         "type": "integer"
        },
        {
         "name": "cases",
         "rawType": "int64",
         "type": "integer"
        },
        {
         "name": "deaths",
         "rawType": "int64",
         "type": "integer"
        },
        {
         "name": "country_code",
         "rawType": "object",
         "type": "string"
        },
        {
         "name": "population",
         "rawType": "float64",
         "type": "float"
        }
       ],
       "ref": "84f8cea6-9ba7-466c-b7d8-02c1aff29d7d",
       "rows": [
        [
         "198",
         "United_States_of_America",
         "America",
         "2020-04-12",
         "12",
         "4",
         "2020",
         "28391",
         "1831",
         "USA",
         "327167434.0"
        ],
        [
         "195",
         "United_Kingdom",
         "Europe",
         "2020-04-12",
         "12",
         "4",
         "2020",
         "8719",
         "839",
         "GBR",
         "66488991.0"
        ],
        [
         "69",
         "France",
         "Europe",
         "2020-04-12",
         "12",
         "4",
         "2020",
         "3114",
         "635",
         "FRA",
         "66987244.0"
        ],
        [
         "98",
         "Italy",
         "Europe",
         "2020-04-12",
         "12",
         "4",
         "2020",
         "4694",
         "619",
         "ITA",
         "60431283.0"
        ],
        [
         "177",
         "Spain",
         "Europe",
         "2020-04-11",
         "11",
         "4",
         "2020",
         "4550",
         "605",
         "ESP",
         "46723749.0"
        ],
        [
         "18",
         "Belgium",
         "Europe",
         "2020-04-12",
         "12",
         "4",
         "2020",
         "1351",
         "327",
         "BEL",
         "11422068.0"
        ],
        [
         "135",
         "Netherlands",
         "Europe",
         "2020-04-12",
         "12",
         "4",
         "2020",
         "1316",
         "132",
         "NLD",
         "17231017.0"
        ],
        [
         "74",
         "Germany",
         "Europe",
         "2020-04-12",
         "12",
         "4",
         "2020",
         "2821",
         "129",
         "DEU",
         "82927922.0"
        ],
        [
         "93",
         "Iran",
         "Asia",
         "2020-04-12",
         "12",
         "4",
         "2020",
         "1837",
         "125",
         "IRN",
         "81800269.0"
        ],
        [
         "190",
         "Turkey",
         "Asia",
         "2020-04-12",
         "12",
         "4",
         "2020",
         "5138",
         "95",
         "TUR",
         "82319724.0"
        ]
       ],
       "shape": {
        "columns": 10,
        "rows": 10
       }
      },
      "text/html": [
       "<div>\n",
       "<style scoped>\n",
       "    .dataframe tbody tr th:only-of-type {\n",
       "        vertical-align: middle;\n",
       "    }\n",
       "\n",
       "    .dataframe tbody tr th {\n",
       "        vertical-align: top;\n",
       "    }\n",
       "\n",
       "    .dataframe thead th {\n",
       "        text-align: right;\n",
       "    }\n",
       "</style>\n",
       "<table border=\"1\" class=\"dataframe\">\n",
       "  <thead>\n",
       "    <tr style=\"text-align: right;\">\n",
       "      <th></th>\n",
       "      <th>country</th>\n",
       "      <th>continent</th>\n",
       "      <th>date</th>\n",
       "      <th>day</th>\n",
       "      <th>month</th>\n",
       "      <th>year</th>\n",
       "      <th>cases</th>\n",
       "      <th>deaths</th>\n",
       "      <th>country_code</th>\n",
       "      <th>population</th>\n",
       "    </tr>\n",
       "  </thead>\n",
       "  <tbody>\n",
       "    <tr>\n",
       "      <th>198</th>\n",
       "      <td>United_States_of_America</td>\n",
       "      <td>America</td>\n",
       "      <td>2020-04-12</td>\n",
       "      <td>12</td>\n",
       "      <td>4</td>\n",
       "      <td>2020</td>\n",
       "      <td>28391</td>\n",
       "      <td>1831</td>\n",
       "      <td>USA</td>\n",
       "      <td>327167434.0</td>\n",
       "    </tr>\n",
       "    <tr>\n",
       "      <th>195</th>\n",
       "      <td>United_Kingdom</td>\n",
       "      <td>Europe</td>\n",
       "      <td>2020-04-12</td>\n",
       "      <td>12</td>\n",
       "      <td>4</td>\n",
       "      <td>2020</td>\n",
       "      <td>8719</td>\n",
       "      <td>839</td>\n",
       "      <td>GBR</td>\n",
       "      <td>66488991.0</td>\n",
       "    </tr>\n",
       "    <tr>\n",
       "      <th>69</th>\n",
       "      <td>France</td>\n",
       "      <td>Europe</td>\n",
       "      <td>2020-04-12</td>\n",
       "      <td>12</td>\n",
       "      <td>4</td>\n",
       "      <td>2020</td>\n",
       "      <td>3114</td>\n",
       "      <td>635</td>\n",
       "      <td>FRA</td>\n",
       "      <td>66987244.0</td>\n",
       "    </tr>\n",
       "    <tr>\n",
       "      <th>98</th>\n",
       "      <td>Italy</td>\n",
       "      <td>Europe</td>\n",
       "      <td>2020-04-12</td>\n",
       "      <td>12</td>\n",
       "      <td>4</td>\n",
       "      <td>2020</td>\n",
       "      <td>4694</td>\n",
       "      <td>619</td>\n",
       "      <td>ITA</td>\n",
       "      <td>60431283.0</td>\n",
       "    </tr>\n",
       "    <tr>\n",
       "      <th>177</th>\n",
       "      <td>Spain</td>\n",
       "      <td>Europe</td>\n",
       "      <td>2020-04-11</td>\n",
       "      <td>11</td>\n",
       "      <td>4</td>\n",
       "      <td>2020</td>\n",
       "      <td>4550</td>\n",
       "      <td>605</td>\n",
       "      <td>ESP</td>\n",
       "      <td>46723749.0</td>\n",
       "    </tr>\n",
       "    <tr>\n",
       "      <th>18</th>\n",
       "      <td>Belgium</td>\n",
       "      <td>Europe</td>\n",
       "      <td>2020-04-12</td>\n",
       "      <td>12</td>\n",
       "      <td>4</td>\n",
       "      <td>2020</td>\n",
       "      <td>1351</td>\n",
       "      <td>327</td>\n",
       "      <td>BEL</td>\n",
       "      <td>11422068.0</td>\n",
       "    </tr>\n",
       "    <tr>\n",
       "      <th>135</th>\n",
       "      <td>Netherlands</td>\n",
       "      <td>Europe</td>\n",
       "      <td>2020-04-12</td>\n",
       "      <td>12</td>\n",
       "      <td>4</td>\n",
       "      <td>2020</td>\n",
       "      <td>1316</td>\n",
       "      <td>132</td>\n",
       "      <td>NLD</td>\n",
       "      <td>17231017.0</td>\n",
       "    </tr>\n",
       "    <tr>\n",
       "      <th>74</th>\n",
       "      <td>Germany</td>\n",
       "      <td>Europe</td>\n",
       "      <td>2020-04-12</td>\n",
       "      <td>12</td>\n",
       "      <td>4</td>\n",
       "      <td>2020</td>\n",
       "      <td>2821</td>\n",
       "      <td>129</td>\n",
       "      <td>DEU</td>\n",
       "      <td>82927922.0</td>\n",
       "    </tr>\n",
       "    <tr>\n",
       "      <th>93</th>\n",
       "      <td>Iran</td>\n",
       "      <td>Asia</td>\n",
       "      <td>2020-04-12</td>\n",
       "      <td>12</td>\n",
       "      <td>4</td>\n",
       "      <td>2020</td>\n",
       "      <td>1837</td>\n",
       "      <td>125</td>\n",
       "      <td>IRN</td>\n",
       "      <td>81800269.0</td>\n",
       "    </tr>\n",
       "    <tr>\n",
       "      <th>190</th>\n",
       "      <td>Turkey</td>\n",
       "      <td>Asia</td>\n",
       "      <td>2020-04-12</td>\n",
       "      <td>12</td>\n",
       "      <td>4</td>\n",
       "      <td>2020</td>\n",
       "      <td>5138</td>\n",
       "      <td>95</td>\n",
       "      <td>TUR</td>\n",
       "      <td>82319724.0</td>\n",
       "    </tr>\n",
       "  </tbody>\n",
       "</table>\n",
       "</div>"
      ],
      "text/plain": [
       "                      country continent        date  day  month  year  cases  \\\n",
       "198  United_States_of_America   America  2020-04-12   12      4  2020  28391   \n",
       "195            United_Kingdom    Europe  2020-04-12   12      4  2020   8719   \n",
       "69                     France    Europe  2020-04-12   12      4  2020   3114   \n",
       "98                      Italy    Europe  2020-04-12   12      4  2020   4694   \n",
       "177                     Spain    Europe  2020-04-11   11      4  2020   4550   \n",
       "18                    Belgium    Europe  2020-04-12   12      4  2020   1351   \n",
       "135               Netherlands    Europe  2020-04-12   12      4  2020   1316   \n",
       "74                    Germany    Europe  2020-04-12   12      4  2020   2821   \n",
       "93                       Iran      Asia  2020-04-12   12      4  2020   1837   \n",
       "190                    Turkey      Asia  2020-04-12   12      4  2020   5138   \n",
       "\n",
       "     deaths country_code   population  \n",
       "198    1831          USA  327167434.0  \n",
       "195     839          GBR   66488991.0  \n",
       "69      635          FRA   66987244.0  \n",
       "98      619          ITA   60431283.0  \n",
       "177     605          ESP   46723749.0  \n",
       "18      327          BEL   11422068.0  \n",
       "135     132          NLD   17231017.0  \n",
       "74      129          DEU   82927922.0  \n",
       "93      125          IRN   81800269.0  \n",
       "190      95          TUR   82319724.0  "
      ]
     },
     "execution_count": 133,
     "metadata": {},
     "output_type": "execute_result"
    }
   ],
   "source": [
    "#Top 5 quốc gia có số ca tử vong cao nhất\n",
    "print(\"Top 5 quốc gia có số ca tử vong cao nhất\")\n",
    "data2 = df.sort_values('deaths', ascending = False)\n",
    "data2.head(10)"
   ]
  },
  {
   "cell_type": "code",
   "execution_count": 134,
   "id": "5d09380d",
   "metadata": {},
   "outputs": [
    {
     "data": {
      "application/vnd.microsoft.datawrangler.viewer.v0+json": {
       "columns": [
        {
         "name": "index",
         "rawType": "int64",
         "type": "integer"
        },
        {
         "name": "InvoiceNo",
         "rawType": "object",
         "type": "string"
        },
        {
         "name": "StockCode",
         "rawType": "object",
         "type": "string"
        },
        {
         "name": "Description",
         "rawType": "object",
         "type": "string"
        },
        {
         "name": "Quantity",
         "rawType": "int64",
         "type": "integer"
        },
        {
         "name": "InvoiceDate",
         "rawType": "object",
         "type": "string"
        },
        {
         "name": "UnitPrice",
         "rawType": "float64",
         "type": "float"
        },
        {
         "name": "CustomerID",
         "rawType": "float64",
         "type": "float"
        },
        {
         "name": "Country",
         "rawType": "object",
         "type": "string"
        }
       ],
       "ref": "79304147-c75a-4a48-ba62-8ab2ef1802dd",
       "rows": [
        [
         "0",
         "536365",
         "85123A",
         "WHITE HANGING HEART T-LIGHT HOLDER",
         "6",
         "12/1/2010 8:26",
         "2.55",
         "17850.0",
         "United Kingdom"
        ],
        [
         "1",
         "536365",
         "71053",
         "WHITE METAL LANTERN",
         "6",
         "12/1/2010 8:26",
         "3.39",
         "17850.0",
         "United Kingdom"
        ],
        [
         "2",
         "536365",
         "84406B",
         "CREAM CUPID HEARTS COAT HANGER",
         "8",
         "12/1/2010 8:26",
         "2.75",
         "17850.0",
         "United Kingdom"
        ],
        [
         "3",
         "536365",
         "84029G",
         "KNITTED UNION FLAG HOT WATER BOTTLE",
         "6",
         "12/1/2010 8:26",
         "3.39",
         "17850.0",
         "United Kingdom"
        ],
        [
         "4",
         "536365",
         "84029E",
         "RED WOOLLY HOTTIE WHITE HEART.",
         "6",
         "12/1/2010 8:26",
         "3.39",
         "17850.0",
         "United Kingdom"
        ],
        [
         "5",
         "536365",
         "22752",
         "SET 7 BABUSHKA NESTING BOXES",
         "2",
         "12/1/2010 8:26",
         "7.65",
         "17850.0",
         "United Kingdom"
        ],
        [
         "6",
         "536365",
         "21730",
         "GLASS STAR FROSTED T-LIGHT HOLDER",
         "6",
         "12/1/2010 8:26",
         "4.25",
         "17850.0",
         "United Kingdom"
        ],
        [
         "7",
         "536366",
         "22633",
         "HAND WARMER UNION JACK",
         "6",
         "12/1/2010 8:28",
         "1.85",
         "17850.0",
         "United Kingdom"
        ],
        [
         "8",
         "536366",
         "22632",
         "HAND WARMER RED POLKA DOT",
         "6",
         "12/1/2010 8:28",
         "1.85",
         "17850.0",
         "United Kingdom"
        ],
        [
         "9",
         "536367",
         "84879",
         "ASSORTED COLOUR BIRD ORNAMENT",
         "32",
         "12/1/2010 8:34",
         "1.69",
         "13047.0",
         "United Kingdom"
        ]
       ],
       "shape": {
        "columns": 8,
        "rows": 10
       }
      },
      "text/html": [
       "<div>\n",
       "<style scoped>\n",
       "    .dataframe tbody tr th:only-of-type {\n",
       "        vertical-align: middle;\n",
       "    }\n",
       "\n",
       "    .dataframe tbody tr th {\n",
       "        vertical-align: top;\n",
       "    }\n",
       "\n",
       "    .dataframe thead th {\n",
       "        text-align: right;\n",
       "    }\n",
       "</style>\n",
       "<table border=\"1\" class=\"dataframe\">\n",
       "  <thead>\n",
       "    <tr style=\"text-align: right;\">\n",
       "      <th></th>\n",
       "      <th>InvoiceNo</th>\n",
       "      <th>StockCode</th>\n",
       "      <th>Description</th>\n",
       "      <th>Quantity</th>\n",
       "      <th>InvoiceDate</th>\n",
       "      <th>UnitPrice</th>\n",
       "      <th>CustomerID</th>\n",
       "      <th>Country</th>\n",
       "    </tr>\n",
       "  </thead>\n",
       "  <tbody>\n",
       "    <tr>\n",
       "      <th>0</th>\n",
       "      <td>536365</td>\n",
       "      <td>85123A</td>\n",
       "      <td>WHITE HANGING HEART T-LIGHT HOLDER</td>\n",
       "      <td>6</td>\n",
       "      <td>12/1/2010 8:26</td>\n",
       "      <td>2.55</td>\n",
       "      <td>17850.0</td>\n",
       "      <td>United Kingdom</td>\n",
       "    </tr>\n",
       "    <tr>\n",
       "      <th>1</th>\n",
       "      <td>536365</td>\n",
       "      <td>71053</td>\n",
       "      <td>WHITE METAL LANTERN</td>\n",
       "      <td>6</td>\n",
       "      <td>12/1/2010 8:26</td>\n",
       "      <td>3.39</td>\n",
       "      <td>17850.0</td>\n",
       "      <td>United Kingdom</td>\n",
       "    </tr>\n",
       "    <tr>\n",
       "      <th>2</th>\n",
       "      <td>536365</td>\n",
       "      <td>84406B</td>\n",
       "      <td>CREAM CUPID HEARTS COAT HANGER</td>\n",
       "      <td>8</td>\n",
       "      <td>12/1/2010 8:26</td>\n",
       "      <td>2.75</td>\n",
       "      <td>17850.0</td>\n",
       "      <td>United Kingdom</td>\n",
       "    </tr>\n",
       "    <tr>\n",
       "      <th>3</th>\n",
       "      <td>536365</td>\n",
       "      <td>84029G</td>\n",
       "      <td>KNITTED UNION FLAG HOT WATER BOTTLE</td>\n",
       "      <td>6</td>\n",
       "      <td>12/1/2010 8:26</td>\n",
       "      <td>3.39</td>\n",
       "      <td>17850.0</td>\n",
       "      <td>United Kingdom</td>\n",
       "    </tr>\n",
       "    <tr>\n",
       "      <th>4</th>\n",
       "      <td>536365</td>\n",
       "      <td>84029E</td>\n",
       "      <td>RED WOOLLY HOTTIE WHITE HEART.</td>\n",
       "      <td>6</td>\n",
       "      <td>12/1/2010 8:26</td>\n",
       "      <td>3.39</td>\n",
       "      <td>17850.0</td>\n",
       "      <td>United Kingdom</td>\n",
       "    </tr>\n",
       "    <tr>\n",
       "      <th>5</th>\n",
       "      <td>536365</td>\n",
       "      <td>22752</td>\n",
       "      <td>SET 7 BABUSHKA NESTING BOXES</td>\n",
       "      <td>2</td>\n",
       "      <td>12/1/2010 8:26</td>\n",
       "      <td>7.65</td>\n",
       "      <td>17850.0</td>\n",
       "      <td>United Kingdom</td>\n",
       "    </tr>\n",
       "    <tr>\n",
       "      <th>6</th>\n",
       "      <td>536365</td>\n",
       "      <td>21730</td>\n",
       "      <td>GLASS STAR FROSTED T-LIGHT HOLDER</td>\n",
       "      <td>6</td>\n",
       "      <td>12/1/2010 8:26</td>\n",
       "      <td>4.25</td>\n",
       "      <td>17850.0</td>\n",
       "      <td>United Kingdom</td>\n",
       "    </tr>\n",
       "    <tr>\n",
       "      <th>7</th>\n",
       "      <td>536366</td>\n",
       "      <td>22633</td>\n",
       "      <td>HAND WARMER UNION JACK</td>\n",
       "      <td>6</td>\n",
       "      <td>12/1/2010 8:28</td>\n",
       "      <td>1.85</td>\n",
       "      <td>17850.0</td>\n",
       "      <td>United Kingdom</td>\n",
       "    </tr>\n",
       "    <tr>\n",
       "      <th>8</th>\n",
       "      <td>536366</td>\n",
       "      <td>22632</td>\n",
       "      <td>HAND WARMER RED POLKA DOT</td>\n",
       "      <td>6</td>\n",
       "      <td>12/1/2010 8:28</td>\n",
       "      <td>1.85</td>\n",
       "      <td>17850.0</td>\n",
       "      <td>United Kingdom</td>\n",
       "    </tr>\n",
       "    <tr>\n",
       "      <th>9</th>\n",
       "      <td>536367</td>\n",
       "      <td>84879</td>\n",
       "      <td>ASSORTED COLOUR BIRD ORNAMENT</td>\n",
       "      <td>32</td>\n",
       "      <td>12/1/2010 8:34</td>\n",
       "      <td>1.69</td>\n",
       "      <td>13047.0</td>\n",
       "      <td>United Kingdom</td>\n",
       "    </tr>\n",
       "  </tbody>\n",
       "</table>\n",
       "</div>"
      ],
      "text/plain": [
       "  InvoiceNo StockCode                          Description  Quantity  \\\n",
       "0    536365    85123A   WHITE HANGING HEART T-LIGHT HOLDER         6   \n",
       "1    536365     71053                  WHITE METAL LANTERN         6   \n",
       "2    536365    84406B       CREAM CUPID HEARTS COAT HANGER         8   \n",
       "3    536365    84029G  KNITTED UNION FLAG HOT WATER BOTTLE         6   \n",
       "4    536365    84029E       RED WOOLLY HOTTIE WHITE HEART.         6   \n",
       "5    536365     22752         SET 7 BABUSHKA NESTING BOXES         2   \n",
       "6    536365     21730    GLASS STAR FROSTED T-LIGHT HOLDER         6   \n",
       "7    536366     22633               HAND WARMER UNION JACK         6   \n",
       "8    536366     22632            HAND WARMER RED POLKA DOT         6   \n",
       "9    536367     84879        ASSORTED COLOUR BIRD ORNAMENT        32   \n",
       "\n",
       "      InvoiceDate  UnitPrice  CustomerID         Country  \n",
       "0  12/1/2010 8:26       2.55     17850.0  United Kingdom  \n",
       "1  12/1/2010 8:26       3.39     17850.0  United Kingdom  \n",
       "2  12/1/2010 8:26       2.75     17850.0  United Kingdom  \n",
       "3  12/1/2010 8:26       3.39     17850.0  United Kingdom  \n",
       "4  12/1/2010 8:26       3.39     17850.0  United Kingdom  \n",
       "5  12/1/2010 8:26       7.65     17850.0  United Kingdom  \n",
       "6  12/1/2010 8:26       4.25     17850.0  United Kingdom  \n",
       "7  12/1/2010 8:28       1.85     17850.0  United Kingdom  \n",
       "8  12/1/2010 8:28       1.85     17850.0  United Kingdom  \n",
       "9  12/1/2010 8:34       1.69     13047.0  United Kingdom  "
      ]
     },
     "execution_count": 134,
     "metadata": {},
     "output_type": "execute_result"
    }
   ],
   "source": [
    "#Thực hành trên bộ dữ liệu Online Retail\n",
    "import pandas as pd\n",
    "data = pd.read_csv(r\"/workspaces/Codegym/Dataset/OnlineRetail.csv\", encoding = \"ISO-8859-1\")\n",
    "data.head(10)"
   ]
  },
  {
   "cell_type": "code",
   "execution_count": 135,
   "id": "0fdcba24",
   "metadata": {},
   "outputs": [
    {
     "name": "stdout",
     "output_type": "stream",
     "text": [
      "<class 'pandas.core.frame.DataFrame'>\n",
      "RangeIndex: 541909 entries, 0 to 541908\n",
      "Data columns (total 8 columns):\n",
      " #   Column       Non-Null Count   Dtype  \n",
      "---  ------       --------------   -----  \n",
      " 0   InvoiceNo    541909 non-null  object \n",
      " 1   StockCode    541909 non-null  object \n",
      " 2   Description  540455 non-null  object \n",
      " 3   Quantity     541909 non-null  int64  \n",
      " 4   InvoiceDate  541909 non-null  object \n",
      " 5   UnitPrice    541909 non-null  float64\n",
      " 6   CustomerID   406829 non-null  float64\n",
      " 7   Country      541909 non-null  object \n",
      "dtypes: float64(2), int64(1), object(5)\n",
      "memory usage: 33.1+ MB\n",
      "None\n"
     ]
    }
   ],
   "source": [
    "#Tìm hiểu cấu trúc bộ dữ liệu\n",
    "print(data.info())"
   ]
  },
  {
   "cell_type": "code",
   "execution_count": 136,
   "id": "21482127",
   "metadata": {},
   "outputs": [
    {
     "name": "stdout",
     "output_type": "stream",
     "text": [
      "số lượng các quốc gia: 38\n"
     ]
    }
   ],
   "source": [
    "# Công ty bán hàng tại bao nhiêu quốc gia\n",
    "country = data.Country.unique()\n",
    "print (\"số lượng các quốc gia: \" + str(country.size))"
   ]
  },
  {
   "cell_type": "code",
   "execution_count": 137,
   "id": "8e5bde89",
   "metadata": {},
   "outputs": [
    {
     "name": "stdout",
     "output_type": "stream",
     "text": [
      "số lượng hóa đơn bán ra: 1\n",
      "Tổng doanh thu: 9747747.933999998\n"
     ]
    }
   ],
   "source": [
    "# Tạo cột tính thành tiền của các mặt hàng\n",
    "data['total'] = data['Quantity'] * data['UnitPrice'] \n",
    "\n",
    "# Giá trị đơn hàng của mỗi đơn hàng\n",
    "total_invoices = data['total'].sum()\n",
    "print (\"số lượng hóa đơn bán ra: \"+ str (total_invoices.size))\n",
    "print (\"Tổng doanh thu: \" + str(total_invoices.sum()))"
   ]
  },
  {
   "cell_type": "code",
   "execution_count": 138,
   "id": "5e4eef26",
   "metadata": {},
   "outputs": [
    {
     "data": {
      "application/vnd.microsoft.datawrangler.viewer.v0+json": {
       "columns": [
        {
         "name": "('StockCode', 'Description')",
         "rawType": "object",
         "type": "unknown"
        },
        {
         "name": "Quantity",
         "rawType": "int64",
         "type": "integer"
        }
       ],
       "ref": "0fb09936-31e3-4aca-b0aa-b7b4a6789b1a",
       "rows": [
        [
         "('84077', 'WORLD WAR 2 GLIDERS ASSTD DESIGNS')",
         "53847"
        ],
        [
         "('85099B', 'JUMBO BAG RED RETROSPOT')",
         "47363"
        ],
        [
         "('84879', 'ASSORTED COLOUR BIRD ORNAMENT')",
         "36381"
        ],
        [
         "('22197', 'POPCORN HOLDER')",
         "36334"
        ],
        [
         "('21212', 'PACK OF 72 RETROSPOT CAKE CASES')",
         "36039"
        ]
       ],
       "shape": {
        "columns": 1,
        "rows": 5
       }
      },
      "text/plain": [
       "StockCode  Description                      \n",
       "84077      WORLD WAR 2 GLIDERS ASSTD DESIGNS    53847\n",
       "85099B     JUMBO BAG RED RETROSPOT              47363\n",
       "84879      ASSORTED COLOUR BIRD ORNAMENT        36381\n",
       "22197      POPCORN HOLDER                       36334\n",
       "21212      PACK OF 72 RETROSPOT CAKE CASES      36039\n",
       "Name: Quantity, dtype: int64"
      ]
     },
     "execution_count": 138,
     "metadata": {},
     "output_type": "execute_result"
    }
   ],
   "source": [
    "#Top 10 mặt hàng có số lượng bán ra lớn nhất\n",
    "quantity_product = data.groupby(['StockCode', 'Description'])['Quantity'].sum().sort_values(ascending= False)\n",
    "quantity_product.head(5)"
   ]
  },
  {
   "cell_type": "code",
   "execution_count": 139,
   "id": "040a9c2b",
   "metadata": {},
   "outputs": [
    {
     "data": {
      "application/vnd.microsoft.datawrangler.viewer.v0+json": {
       "columns": [
        {
         "name": "('StockCode', 'Description')",
         "rawType": "object",
         "type": "unknown"
        },
        {
         "name": "total",
         "rawType": "float64",
         "type": "float"
        }
       ],
       "ref": "f9a94663-e3f8-4f5c-9f39-672da3a37b83",
       "rows": [
        [
         "('DOT', 'DOTCOM POSTAGE')",
         "206245.48"
        ],
        [
         "('22423', 'REGENCY CAKESTAND 3 TIER')",
         "164762.19"
        ],
        [
         "('47566', 'PARTY BUNTING')",
         "98302.98"
        ],
        [
         "('85123A', 'WHITE HANGING HEART T-LIGHT HOLDER')",
         "97715.99"
        ],
        [
         "('85099B', 'JUMBO BAG RED RETROSPOT')",
         "92356.03"
        ],
        [
         "('23084', 'RABBIT NIGHT LIGHT')",
         "66756.59"
        ],
        [
         "('POST', 'POSTAGE')",
         "66230.64"
        ],
        [
         "('22086', \"PAPER CHAIN KIT 50'S CHRISTMAS \")",
         "63791.94"
        ],
        [
         "('84879', 'ASSORTED COLOUR BIRD ORNAMENT')",
         "58959.729999999996"
        ],
        [
         "('79321', 'CHILLI LIGHTS')",
         "53768.060000000005"
        ]
       ],
       "shape": {
        "columns": 1,
        "rows": 10
       }
      },
      "text/plain": [
       "StockCode  Description                       \n",
       "DOT        DOTCOM POSTAGE                        206245.48\n",
       "22423      REGENCY CAKESTAND 3 TIER              164762.19\n",
       "47566      PARTY BUNTING                          98302.98\n",
       "85123A     WHITE HANGING HEART T-LIGHT HOLDER     97715.99\n",
       "85099B     JUMBO BAG RED RETROSPOT                92356.03\n",
       "23084      RABBIT NIGHT LIGHT                     66756.59\n",
       "POST       POSTAGE                                66230.64\n",
       "22086      PAPER CHAIN KIT 50'S CHRISTMAS         63791.94\n",
       "84879      ASSORTED COLOUR BIRD ORNAMENT          58959.73\n",
       "79321      CHILLI LIGHTS                          53768.06\n",
       "Name: total, dtype: float64"
      ]
     },
     "execution_count": 139,
     "metadata": {},
     "output_type": "execute_result"
    }
   ],
   "source": [
    "#Top 10 mặt hàng có doanh thu lớn nhất\n",
    "# sử dụng groupby để tiến hành tính tổng (sum) theo nhóm.\n",
    "#Vì mỗi mã hàng sẽ có một mô tả tương ứng, để rõ ràng, tiến hành gom nhóm theo 2 thuộc tính: StockCode, Description\n",
    "quantity_product = data.groupby(['StockCode', 'Description'])['total'].sum().sort_values(ascending= False)\n",
    "quantity_product.head(10)"
   ]
  },
  {
   "cell_type": "code",
   "execution_count": 140,
   "id": "5e9d7124",
   "metadata": {},
   "outputs": [
    {
     "data": {
      "application/vnd.microsoft.datawrangler.viewer.v0+json": {
       "columns": [
        {
         "name": "index",
         "rawType": "int64",
         "type": "integer"
        },
        {
         "name": "Place",
         "rawType": "object",
         "type": "string"
        },
        {
         "name": "ProductId",
         "rawType": "int64",
         "type": "integer"
        },
        {
         "name": "ProductName",
         "rawType": "object",
         "type": "string"
        },
        {
         "name": "UmId",
         "rawType": "int64",
         "type": "integer"
        },
        {
         "name": "UmName",
         "rawType": "object",
         "type": "string"
        },
        {
         "name": "Month",
         "rawType": "int64",
         "type": "integer"
        },
        {
         "name": "Year",
         "rawType": "int64",
         "type": "integer"
        },
        {
         "name": "Price",
         "rawType": "float64",
         "type": "float"
        }
       ],
       "ref": "32feae2a-034c-47f2-ab67-cbbbc0504668",
       "rows": [
        [
         "0",
         "National Average",
         "52",
         "Rice - Retail",
         "5",
         "KG",
         "5",
         "2013",
         "4.492"
        ],
        [
         "1",
         "National Average",
         "52",
         "Rice - Retail",
         "5",
         "KG",
         "6",
         "2013",
         "4.5786"
        ],
        [
         "2",
         "National Average",
         "52",
         "Rice - Retail",
         "5",
         "KG",
         "11",
         "2013",
         "4.7865"
        ],
        [
         "3",
         "National Average",
         "52",
         "Rice - Retail",
         "5",
         "KG",
         "12",
         "2013",
         "5.1337"
        ],
        [
         "4",
         "National Average",
         "52",
         "Rice - Retail",
         "5",
         "KG",
         "1",
         "2014",
         "5.5099"
        ]
       ],
       "shape": {
        "columns": 8,
        "rows": 5
       }
      },
      "text/html": [
       "<div>\n",
       "<style scoped>\n",
       "    .dataframe tbody tr th:only-of-type {\n",
       "        vertical-align: middle;\n",
       "    }\n",
       "\n",
       "    .dataframe tbody tr th {\n",
       "        vertical-align: top;\n",
       "    }\n",
       "\n",
       "    .dataframe thead th {\n",
       "        text-align: right;\n",
       "    }\n",
       "</style>\n",
       "<table border=\"1\" class=\"dataframe\">\n",
       "  <thead>\n",
       "    <tr style=\"text-align: right;\">\n",
       "      <th></th>\n",
       "      <th>Place</th>\n",
       "      <th>ProductId</th>\n",
       "      <th>ProductName</th>\n",
       "      <th>UmId</th>\n",
       "      <th>UmName</th>\n",
       "      <th>Month</th>\n",
       "      <th>Year</th>\n",
       "      <th>Price</th>\n",
       "    </tr>\n",
       "  </thead>\n",
       "  <tbody>\n",
       "    <tr>\n",
       "      <th>0</th>\n",
       "      <td>National Average</td>\n",
       "      <td>52</td>\n",
       "      <td>Rice - Retail</td>\n",
       "      <td>5</td>\n",
       "      <td>KG</td>\n",
       "      <td>5</td>\n",
       "      <td>2013</td>\n",
       "      <td>4.4920</td>\n",
       "    </tr>\n",
       "    <tr>\n",
       "      <th>1</th>\n",
       "      <td>National Average</td>\n",
       "      <td>52</td>\n",
       "      <td>Rice - Retail</td>\n",
       "      <td>5</td>\n",
       "      <td>KG</td>\n",
       "      <td>6</td>\n",
       "      <td>2013</td>\n",
       "      <td>4.5786</td>\n",
       "    </tr>\n",
       "    <tr>\n",
       "      <th>2</th>\n",
       "      <td>National Average</td>\n",
       "      <td>52</td>\n",
       "      <td>Rice - Retail</td>\n",
       "      <td>5</td>\n",
       "      <td>KG</td>\n",
       "      <td>11</td>\n",
       "      <td>2013</td>\n",
       "      <td>4.7865</td>\n",
       "    </tr>\n",
       "    <tr>\n",
       "      <th>3</th>\n",
       "      <td>National Average</td>\n",
       "      <td>52</td>\n",
       "      <td>Rice - Retail</td>\n",
       "      <td>5</td>\n",
       "      <td>KG</td>\n",
       "      <td>12</td>\n",
       "      <td>2013</td>\n",
       "      <td>5.1337</td>\n",
       "    </tr>\n",
       "    <tr>\n",
       "      <th>4</th>\n",
       "      <td>National Average</td>\n",
       "      <td>52</td>\n",
       "      <td>Rice - Retail</td>\n",
       "      <td>5</td>\n",
       "      <td>KG</td>\n",
       "      <td>1</td>\n",
       "      <td>2014</td>\n",
       "      <td>5.5099</td>\n",
       "    </tr>\n",
       "  </tbody>\n",
       "</table>\n",
       "</div>"
      ],
      "text/plain": [
       "              Place  ProductId    ProductName  UmId UmName  Month  Year  \\\n",
       "0  National Average         52  Rice - Retail     5     KG      5  2013   \n",
       "1  National Average         52  Rice - Retail     5     KG      6  2013   \n",
       "2  National Average         52  Rice - Retail     5     KG     11  2013   \n",
       "3  National Average         52  Rice - Retail     5     KG     12  2013   \n",
       "4  National Average         52  Rice - Retail     5     KG      1  2014   \n",
       "\n",
       "    Price  \n",
       "0  4.4920  \n",
       "1  4.5786  \n",
       "2  4.7865  \n",
       "3  5.1337  \n",
       "4  5.5099  "
      ]
     },
     "execution_count": 140,
     "metadata": {},
     "output_type": "execute_result"
    }
   ],
   "source": [
    "# Thực hành: Đọc dữ liệu vào DataFrame\n",
    "# Cách 1: Ghi tường minh các tham số\n",
    "import pandas as pd\n",
    "df=pd.read_csv(r\"/workspaces/Codegym/Dataset/FoodPrice_in_Turkey.csv\", encoding = \"ISO-8859-1\")\n",
    "# Hiển thị 5 dòng dữ liệu đầu tiên\n",
    "df.head(5)"
   ]
  },
  {
   "cell_type": "code",
   "execution_count": 141,
   "id": "eb5a45b5",
   "metadata": {},
   "outputs": [
    {
     "data": {
      "application/vnd.microsoft.datawrangler.viewer.v0+json": {
       "columns": [
        {
         "name": "index",
         "rawType": "int64",
         "type": "integer"
        },
        {
         "name": "Place",
         "rawType": "object",
         "type": "string"
        },
        {
         "name": "ProductId",
         "rawType": "int64",
         "type": "integer"
        },
        {
         "name": "ProductName",
         "rawType": "object",
         "type": "string"
        },
        {
         "name": "UmId",
         "rawType": "int64",
         "type": "integer"
        },
        {
         "name": "UmName",
         "rawType": "object",
         "type": "string"
        },
        {
         "name": "Month",
         "rawType": "int64",
         "type": "integer"
        },
        {
         "name": "Year",
         "rawType": "int64",
         "type": "integer"
        },
        {
         "name": "Price",
         "rawType": "float64",
         "type": "float"
        }
       ],
       "ref": "662e5992-bee4-4d0f-a5f1-dd8576e5c2b9",
       "rows": [
        [
         "0",
         "National Average",
         "52",
         "Rice - Retail",
         "5",
         "KG",
         "5",
         "2013",
         "4.492"
        ],
        [
         "1",
         "National Average",
         "52",
         "Rice - Retail",
         "5",
         "KG",
         "6",
         "2013",
         "4.5786"
        ],
        [
         "2",
         "National Average",
         "52",
         "Rice - Retail",
         "5",
         "KG",
         "11",
         "2013",
         "4.7865"
        ],
        [
         "3",
         "National Average",
         "52",
         "Rice - Retail",
         "5",
         "KG",
         "12",
         "2013",
         "5.1337"
        ],
        [
         "4",
         "National Average",
         "52",
         "Rice - Retail",
         "5",
         "KG",
         "1",
         "2014",
         "5.5099"
        ]
       ],
       "shape": {
        "columns": 8,
        "rows": 5
       }
      },
      "text/html": [
       "<div>\n",
       "<style scoped>\n",
       "    .dataframe tbody tr th:only-of-type {\n",
       "        vertical-align: middle;\n",
       "    }\n",
       "\n",
       "    .dataframe tbody tr th {\n",
       "        vertical-align: top;\n",
       "    }\n",
       "\n",
       "    .dataframe thead th {\n",
       "        text-align: right;\n",
       "    }\n",
       "</style>\n",
       "<table border=\"1\" class=\"dataframe\">\n",
       "  <thead>\n",
       "    <tr style=\"text-align: right;\">\n",
       "      <th></th>\n",
       "      <th>Place</th>\n",
       "      <th>ProductId</th>\n",
       "      <th>ProductName</th>\n",
       "      <th>UmId</th>\n",
       "      <th>UmName</th>\n",
       "      <th>Month</th>\n",
       "      <th>Year</th>\n",
       "      <th>Price</th>\n",
       "    </tr>\n",
       "  </thead>\n",
       "  <tbody>\n",
       "    <tr>\n",
       "      <th>0</th>\n",
       "      <td>National Average</td>\n",
       "      <td>52</td>\n",
       "      <td>Rice - Retail</td>\n",
       "      <td>5</td>\n",
       "      <td>KG</td>\n",
       "      <td>5</td>\n",
       "      <td>2013</td>\n",
       "      <td>4.4920</td>\n",
       "    </tr>\n",
       "    <tr>\n",
       "      <th>1</th>\n",
       "      <td>National Average</td>\n",
       "      <td>52</td>\n",
       "      <td>Rice - Retail</td>\n",
       "      <td>5</td>\n",
       "      <td>KG</td>\n",
       "      <td>6</td>\n",
       "      <td>2013</td>\n",
       "      <td>4.5786</td>\n",
       "    </tr>\n",
       "    <tr>\n",
       "      <th>2</th>\n",
       "      <td>National Average</td>\n",
       "      <td>52</td>\n",
       "      <td>Rice - Retail</td>\n",
       "      <td>5</td>\n",
       "      <td>KG</td>\n",
       "      <td>11</td>\n",
       "      <td>2013</td>\n",
       "      <td>4.7865</td>\n",
       "    </tr>\n",
       "    <tr>\n",
       "      <th>3</th>\n",
       "      <td>National Average</td>\n",
       "      <td>52</td>\n",
       "      <td>Rice - Retail</td>\n",
       "      <td>5</td>\n",
       "      <td>KG</td>\n",
       "      <td>12</td>\n",
       "      <td>2013</td>\n",
       "      <td>5.1337</td>\n",
       "    </tr>\n",
       "    <tr>\n",
       "      <th>4</th>\n",
       "      <td>National Average</td>\n",
       "      <td>52</td>\n",
       "      <td>Rice - Retail</td>\n",
       "      <td>5</td>\n",
       "      <td>KG</td>\n",
       "      <td>1</td>\n",
       "      <td>2014</td>\n",
       "      <td>5.5099</td>\n",
       "    </tr>\n",
       "  </tbody>\n",
       "</table>\n",
       "</div>"
      ],
      "text/plain": [
       "              Place  ProductId    ProductName  UmId UmName  Month  Year  \\\n",
       "0  National Average         52  Rice - Retail     5     KG      5  2013   \n",
       "1  National Average         52  Rice - Retail     5     KG      6  2013   \n",
       "2  National Average         52  Rice - Retail     5     KG     11  2013   \n",
       "3  National Average         52  Rice - Retail     5     KG     12  2013   \n",
       "4  National Average         52  Rice - Retail     5     KG      1  2014   \n",
       "\n",
       "    Price  \n",
       "0  4.4920  \n",
       "1  4.5786  \n",
       "2  4.7865  \n",
       "3  5.1337  \n",
       "4  5.5099  "
      ]
     },
     "execution_count": 141,
     "metadata": {},
     "output_type": "execute_result"
    }
   ],
   "source": [
    "# Cách 2: Không ghi tường minh các tham số\n",
    "import pandas as pd\n",
    "df=pd.read_csv(r\"/workspaces/Codegym/Dataset/FoodPrice_in_Turkey.csv\")\n",
    "# Hiển thị 5 dòng dữ liệu đầu tiên\n",
    "df.head(5)"
   ]
  },
  {
   "cell_type": "code",
   "execution_count": 142,
   "id": "cea6db01",
   "metadata": {},
   "outputs": [
    {
     "data": {
      "application/vnd.microsoft.datawrangler.viewer.v0+json": {
       "columns": [
        {
         "name": "index",
         "rawType": "int64",
         "type": "integer"
        },
        {
         "name": "Địa điểm",
         "rawType": "object",
         "type": "string"
        },
        {
         "name": "ProductId",
         "rawType": "int64",
         "type": "integer"
        },
        {
         "name": "Tên SP",
         "rawType": "object",
         "type": "string"
        },
        {
         "name": "UmId",
         "rawType": "int64",
         "type": "integer"
        },
        {
         "name": "UmName",
         "rawType": "object",
         "type": "string"
        },
        {
         "name": "Month",
         "rawType": "int64",
         "type": "integer"
        },
        {
         "name": "Year",
         "rawType": "int64",
         "type": "integer"
        },
        {
         "name": "Price",
         "rawType": "float64",
         "type": "float"
        }
       ],
       "ref": "886b8425-46cf-4638-bf8d-9838090edf99",
       "rows": [
        [
         "0",
         "National Average",
         "52",
         "Rice - Retail",
         "5",
         "KG",
         "5",
         "2013",
         "4.492"
        ],
        [
         "1",
         "National Average",
         "52",
         "Rice - Retail",
         "5",
         "KG",
         "6",
         "2013",
         "4.5786"
        ],
        [
         "2",
         "National Average",
         "52",
         "Rice - Retail",
         "5",
         "KG",
         "11",
         "2013",
         "4.7865"
        ],
        [
         "3",
         "National Average",
         "52",
         "Rice - Retail",
         "5",
         "KG",
         "12",
         "2013",
         "5.1337"
        ],
        [
         "4",
         "National Average",
         "52",
         "Rice - Retail",
         "5",
         "KG",
         "1",
         "2014",
         "5.5099"
        ],
        [
         "5",
         "National Average",
         "52",
         "Rice - Retail",
         "5",
         "KG",
         "2",
         "2014",
         "5.8146"
        ],
        [
         "6",
         "National Average",
         "52",
         "Rice - Retail",
         "5",
         "KG",
         "3",
         "2014",
         "6.0014"
        ],
        [
         "7",
         "National Average",
         "52",
         "Rice - Retail",
         "5",
         "KG",
         "5",
         "2014",
         "6.3202"
        ],
        [
         "8",
         "National Average",
         "52",
         "Rice - Retail",
         "5",
         "KG",
         "6",
         "2014",
         "6.6019"
        ],
        [
         "9",
         "National Average",
         "52",
         "Rice - Retail",
         "5",
         "KG",
         "7",
         "2014",
         "6.6503"
        ]
       ],
       "shape": {
        "columns": 8,
        "rows": 10
       }
      },
      "text/html": [
       "<div>\n",
       "<style scoped>\n",
       "    .dataframe tbody tr th:only-of-type {\n",
       "        vertical-align: middle;\n",
       "    }\n",
       "\n",
       "    .dataframe tbody tr th {\n",
       "        vertical-align: top;\n",
       "    }\n",
       "\n",
       "    .dataframe thead th {\n",
       "        text-align: right;\n",
       "    }\n",
       "</style>\n",
       "<table border=\"1\" class=\"dataframe\">\n",
       "  <thead>\n",
       "    <tr style=\"text-align: right;\">\n",
       "      <th></th>\n",
       "      <th>Địa điểm</th>\n",
       "      <th>ProductId</th>\n",
       "      <th>Tên SP</th>\n",
       "      <th>UmId</th>\n",
       "      <th>UmName</th>\n",
       "      <th>Month</th>\n",
       "      <th>Year</th>\n",
       "      <th>Price</th>\n",
       "    </tr>\n",
       "  </thead>\n",
       "  <tbody>\n",
       "    <tr>\n",
       "      <th>0</th>\n",
       "      <td>National Average</td>\n",
       "      <td>52</td>\n",
       "      <td>Rice - Retail</td>\n",
       "      <td>5</td>\n",
       "      <td>KG</td>\n",
       "      <td>5</td>\n",
       "      <td>2013</td>\n",
       "      <td>4.4920</td>\n",
       "    </tr>\n",
       "    <tr>\n",
       "      <th>1</th>\n",
       "      <td>National Average</td>\n",
       "      <td>52</td>\n",
       "      <td>Rice - Retail</td>\n",
       "      <td>5</td>\n",
       "      <td>KG</td>\n",
       "      <td>6</td>\n",
       "      <td>2013</td>\n",
       "      <td>4.5786</td>\n",
       "    </tr>\n",
       "    <tr>\n",
       "      <th>2</th>\n",
       "      <td>National Average</td>\n",
       "      <td>52</td>\n",
       "      <td>Rice - Retail</td>\n",
       "      <td>5</td>\n",
       "      <td>KG</td>\n",
       "      <td>11</td>\n",
       "      <td>2013</td>\n",
       "      <td>4.7865</td>\n",
       "    </tr>\n",
       "    <tr>\n",
       "      <th>3</th>\n",
       "      <td>National Average</td>\n",
       "      <td>52</td>\n",
       "      <td>Rice - Retail</td>\n",
       "      <td>5</td>\n",
       "      <td>KG</td>\n",
       "      <td>12</td>\n",
       "      <td>2013</td>\n",
       "      <td>5.1337</td>\n",
       "    </tr>\n",
       "    <tr>\n",
       "      <th>4</th>\n",
       "      <td>National Average</td>\n",
       "      <td>52</td>\n",
       "      <td>Rice - Retail</td>\n",
       "      <td>5</td>\n",
       "      <td>KG</td>\n",
       "      <td>1</td>\n",
       "      <td>2014</td>\n",
       "      <td>5.5099</td>\n",
       "    </tr>\n",
       "    <tr>\n",
       "      <th>5</th>\n",
       "      <td>National Average</td>\n",
       "      <td>52</td>\n",
       "      <td>Rice - Retail</td>\n",
       "      <td>5</td>\n",
       "      <td>KG</td>\n",
       "      <td>2</td>\n",
       "      <td>2014</td>\n",
       "      <td>5.8146</td>\n",
       "    </tr>\n",
       "    <tr>\n",
       "      <th>6</th>\n",
       "      <td>National Average</td>\n",
       "      <td>52</td>\n",
       "      <td>Rice - Retail</td>\n",
       "      <td>5</td>\n",
       "      <td>KG</td>\n",
       "      <td>3</td>\n",
       "      <td>2014</td>\n",
       "      <td>6.0014</td>\n",
       "    </tr>\n",
       "    <tr>\n",
       "      <th>7</th>\n",
       "      <td>National Average</td>\n",
       "      <td>52</td>\n",
       "      <td>Rice - Retail</td>\n",
       "      <td>5</td>\n",
       "      <td>KG</td>\n",
       "      <td>5</td>\n",
       "      <td>2014</td>\n",
       "      <td>6.3202</td>\n",
       "    </tr>\n",
       "    <tr>\n",
       "      <th>8</th>\n",
       "      <td>National Average</td>\n",
       "      <td>52</td>\n",
       "      <td>Rice - Retail</td>\n",
       "      <td>5</td>\n",
       "      <td>KG</td>\n",
       "      <td>6</td>\n",
       "      <td>2014</td>\n",
       "      <td>6.6019</td>\n",
       "    </tr>\n",
       "    <tr>\n",
       "      <th>9</th>\n",
       "      <td>National Average</td>\n",
       "      <td>52</td>\n",
       "      <td>Rice - Retail</td>\n",
       "      <td>5</td>\n",
       "      <td>KG</td>\n",
       "      <td>7</td>\n",
       "      <td>2014</td>\n",
       "      <td>6.6503</td>\n",
       "    </tr>\n",
       "  </tbody>\n",
       "</table>\n",
       "</div>"
      ],
      "text/plain": [
       "           Địa điểm  ProductId         Tên SP  UmId UmName  Month  Year  \\\n",
       "0  National Average         52  Rice - Retail     5     KG      5  2013   \n",
       "1  National Average         52  Rice - Retail     5     KG      6  2013   \n",
       "2  National Average         52  Rice - Retail     5     KG     11  2013   \n",
       "3  National Average         52  Rice - Retail     5     KG     12  2013   \n",
       "4  National Average         52  Rice - Retail     5     KG      1  2014   \n",
       "5  National Average         52  Rice - Retail     5     KG      2  2014   \n",
       "6  National Average         52  Rice - Retail     5     KG      3  2014   \n",
       "7  National Average         52  Rice - Retail     5     KG      5  2014   \n",
       "8  National Average         52  Rice - Retail     5     KG      6  2014   \n",
       "9  National Average         52  Rice - Retail     5     KG      7  2014   \n",
       "\n",
       "    Price  \n",
       "0  4.4920  \n",
       "1  4.5786  \n",
       "2  4.7865  \n",
       "3  5.1337  \n",
       "4  5.5099  \n",
       "5  5.8146  \n",
       "6  6.0014  \n",
       "7  6.3202  \n",
       "8  6.6019  \n",
       "9  6.6503  "
      ]
     },
     "execution_count": 142,
     "metadata": {},
     "output_type": "execute_result"
    }
   ],
   "source": [
    "df.rename(columns={'Place':'Địa điểm','ProductName':'Tên SP'},inplace=True)\n",
    "df.head(10)"
   ]
  },
  {
   "cell_type": "code",
   "execution_count": 143,
   "id": "8df4f45c",
   "metadata": {},
   "outputs": [
    {
     "data": {
      "application/vnd.microsoft.datawrangler.viewer.v0+json": {
       "columns": [
        {
         "name": "index",
         "rawType": "int64",
         "type": "integer"
        },
        {
         "name": "Địa điểm",
         "rawType": "object",
         "type": "string"
        },
        {
         "name": "ProductId",
         "rawType": "int64",
         "type": "integer"
        },
        {
         "name": "Tên SP",
         "rawType": "object",
         "type": "string"
        },
        {
         "name": "UmId",
         "rawType": "int64",
         "type": "integer"
        },
        {
         "name": "UmName",
         "rawType": "object",
         "type": "string"
        },
        {
         "name": "Month",
         "rawType": "int64",
         "type": "integer"
        },
        {
         "name": "Year",
         "rawType": "int64",
         "type": "integer"
        },
        {
         "name": "Price",
         "rawType": "float64",
         "type": "float"
        },
        {
         "name": "new_column",
         "rawType": "object",
         "type": "string"
        }
       ],
       "ref": "46cfe2ff-b3ba-46ca-b6d5-7490935725e8",
       "rows": [
        [
         "0",
         "National Average",
         "52",
         "Rice - Retail",
         "5",
         "KG",
         "5",
         "2013",
         "4.492",
         "NaN"
        ],
        [
         "1",
         "National Average",
         "52",
         "Rice - Retail",
         "5",
         "KG",
         "6",
         "2013",
         "4.5786",
         "NaN"
        ],
        [
         "2",
         "National Average",
         "52",
         "Rice - Retail",
         "5",
         "KG",
         "11",
         "2013",
         "4.7865",
         "NaN"
        ],
        [
         "3",
         "National Average",
         "52",
         "Rice - Retail",
         "5",
         "KG",
         "12",
         "2013",
         "5.1337",
         "NaN"
        ],
        [
         "4",
         "National Average",
         "52",
         "Rice - Retail",
         "5",
         "KG",
         "1",
         "2014",
         "5.5099",
         "NaN"
        ],
        [
         "5",
         "National Average",
         "52",
         "Rice - Retail",
         "5",
         "KG",
         "2",
         "2014",
         "5.8146",
         "NaN"
        ],
        [
         "6",
         "National Average",
         "52",
         "Rice - Retail",
         "5",
         "KG",
         "3",
         "2014",
         "6.0014",
         "NaN"
        ],
        [
         "7",
         "National Average",
         "52",
         "Rice - Retail",
         "5",
         "KG",
         "5",
         "2014",
         "6.3202",
         "NaN"
        ],
        [
         "8",
         "National Average",
         "52",
         "Rice - Retail",
         "5",
         "KG",
         "6",
         "2014",
         "6.6019",
         "NaN"
        ],
        [
         "9",
         "National Average",
         "52",
         "Rice - Retail",
         "5",
         "KG",
         "7",
         "2014",
         "6.6503",
         "NaN"
        ]
       ],
       "shape": {
        "columns": 9,
        "rows": 10
       }
      },
      "text/html": [
       "<div>\n",
       "<style scoped>\n",
       "    .dataframe tbody tr th:only-of-type {\n",
       "        vertical-align: middle;\n",
       "    }\n",
       "\n",
       "    .dataframe tbody tr th {\n",
       "        vertical-align: top;\n",
       "    }\n",
       "\n",
       "    .dataframe thead th {\n",
       "        text-align: right;\n",
       "    }\n",
       "</style>\n",
       "<table border=\"1\" class=\"dataframe\">\n",
       "  <thead>\n",
       "    <tr style=\"text-align: right;\">\n",
       "      <th></th>\n",
       "      <th>Địa điểm</th>\n",
       "      <th>ProductId</th>\n",
       "      <th>Tên SP</th>\n",
       "      <th>UmId</th>\n",
       "      <th>UmName</th>\n",
       "      <th>Month</th>\n",
       "      <th>Year</th>\n",
       "      <th>Price</th>\n",
       "      <th>new_column</th>\n",
       "    </tr>\n",
       "  </thead>\n",
       "  <tbody>\n",
       "    <tr>\n",
       "      <th>0</th>\n",
       "      <td>National Average</td>\n",
       "      <td>52</td>\n",
       "      <td>Rice - Retail</td>\n",
       "      <td>5</td>\n",
       "      <td>KG</td>\n",
       "      <td>5</td>\n",
       "      <td>2013</td>\n",
       "      <td>4.4920</td>\n",
       "      <td>NaN</td>\n",
       "    </tr>\n",
       "    <tr>\n",
       "      <th>1</th>\n",
       "      <td>National Average</td>\n",
       "      <td>52</td>\n",
       "      <td>Rice - Retail</td>\n",
       "      <td>5</td>\n",
       "      <td>KG</td>\n",
       "      <td>6</td>\n",
       "      <td>2013</td>\n",
       "      <td>4.5786</td>\n",
       "      <td>NaN</td>\n",
       "    </tr>\n",
       "    <tr>\n",
       "      <th>2</th>\n",
       "      <td>National Average</td>\n",
       "      <td>52</td>\n",
       "      <td>Rice - Retail</td>\n",
       "      <td>5</td>\n",
       "      <td>KG</td>\n",
       "      <td>11</td>\n",
       "      <td>2013</td>\n",
       "      <td>4.7865</td>\n",
       "      <td>NaN</td>\n",
       "    </tr>\n",
       "    <tr>\n",
       "      <th>3</th>\n",
       "      <td>National Average</td>\n",
       "      <td>52</td>\n",
       "      <td>Rice - Retail</td>\n",
       "      <td>5</td>\n",
       "      <td>KG</td>\n",
       "      <td>12</td>\n",
       "      <td>2013</td>\n",
       "      <td>5.1337</td>\n",
       "      <td>NaN</td>\n",
       "    </tr>\n",
       "    <tr>\n",
       "      <th>4</th>\n",
       "      <td>National Average</td>\n",
       "      <td>52</td>\n",
       "      <td>Rice - Retail</td>\n",
       "      <td>5</td>\n",
       "      <td>KG</td>\n",
       "      <td>1</td>\n",
       "      <td>2014</td>\n",
       "      <td>5.5099</td>\n",
       "      <td>NaN</td>\n",
       "    </tr>\n",
       "    <tr>\n",
       "      <th>5</th>\n",
       "      <td>National Average</td>\n",
       "      <td>52</td>\n",
       "      <td>Rice - Retail</td>\n",
       "      <td>5</td>\n",
       "      <td>KG</td>\n",
       "      <td>2</td>\n",
       "      <td>2014</td>\n",
       "      <td>5.8146</td>\n",
       "      <td>NaN</td>\n",
       "    </tr>\n",
       "    <tr>\n",
       "      <th>6</th>\n",
       "      <td>National Average</td>\n",
       "      <td>52</td>\n",
       "      <td>Rice - Retail</td>\n",
       "      <td>5</td>\n",
       "      <td>KG</td>\n",
       "      <td>3</td>\n",
       "      <td>2014</td>\n",
       "      <td>6.0014</td>\n",
       "      <td>NaN</td>\n",
       "    </tr>\n",
       "    <tr>\n",
       "      <th>7</th>\n",
       "      <td>National Average</td>\n",
       "      <td>52</td>\n",
       "      <td>Rice - Retail</td>\n",
       "      <td>5</td>\n",
       "      <td>KG</td>\n",
       "      <td>5</td>\n",
       "      <td>2014</td>\n",
       "      <td>6.3202</td>\n",
       "      <td>NaN</td>\n",
       "    </tr>\n",
       "    <tr>\n",
       "      <th>8</th>\n",
       "      <td>National Average</td>\n",
       "      <td>52</td>\n",
       "      <td>Rice - Retail</td>\n",
       "      <td>5</td>\n",
       "      <td>KG</td>\n",
       "      <td>6</td>\n",
       "      <td>2014</td>\n",
       "      <td>6.6019</td>\n",
       "      <td>NaN</td>\n",
       "    </tr>\n",
       "    <tr>\n",
       "      <th>9</th>\n",
       "      <td>National Average</td>\n",
       "      <td>52</td>\n",
       "      <td>Rice - Retail</td>\n",
       "      <td>5</td>\n",
       "      <td>KG</td>\n",
       "      <td>7</td>\n",
       "      <td>2014</td>\n",
       "      <td>6.6503</td>\n",
       "      <td>NaN</td>\n",
       "    </tr>\n",
       "  </tbody>\n",
       "</table>\n",
       "</div>"
      ],
      "text/plain": [
       "           Địa điểm  ProductId         Tên SP  UmId UmName  Month  Year  \\\n",
       "0  National Average         52  Rice - Retail     5     KG      5  2013   \n",
       "1  National Average         52  Rice - Retail     5     KG      6  2013   \n",
       "2  National Average         52  Rice - Retail     5     KG     11  2013   \n",
       "3  National Average         52  Rice - Retail     5     KG     12  2013   \n",
       "4  National Average         52  Rice - Retail     5     KG      1  2014   \n",
       "5  National Average         52  Rice - Retail     5     KG      2  2014   \n",
       "6  National Average         52  Rice - Retail     5     KG      3  2014   \n",
       "7  National Average         52  Rice - Retail     5     KG      5  2014   \n",
       "8  National Average         52  Rice - Retail     5     KG      6  2014   \n",
       "9  National Average         52  Rice - Retail     5     KG      7  2014   \n",
       "\n",
       "    Price new_column  \n",
       "0  4.4920        NaN  \n",
       "1  4.5786        NaN  \n",
       "2  4.7865        NaN  \n",
       "3  5.1337        NaN  \n",
       "4  5.5099        NaN  \n",
       "5  5.8146        NaN  \n",
       "6  6.0014        NaN  \n",
       "7  6.3202        NaN  \n",
       "8  6.6019        NaN  \n",
       "9  6.6503        NaN  "
      ]
     },
     "execution_count": 143,
     "metadata": {},
     "output_type": "execute_result"
    }
   ],
   "source": [
    "# Thêm một cột mới với tất cả các giá trị rỗng NaN\n",
    "df['new_column'] = 'NaN'\n",
    "df.head(10)"
   ]
  },
  {
   "cell_type": "code",
   "execution_count": 144,
   "id": "92f68dd0",
   "metadata": {},
   "outputs": [
    {
     "data": {
      "application/vnd.microsoft.datawrangler.viewer.v0+json": {
       "columns": [
        {
         "name": "index",
         "rawType": "int64",
         "type": "integer"
        },
        {
         "name": "Địa điểm",
         "rawType": "object",
         "type": "string"
        },
        {
         "name": "ProductId",
         "rawType": "int64",
         "type": "integer"
        },
        {
         "name": "Tên SP",
         "rawType": "object",
         "type": "string"
        },
        {
         "name": "UmId",
         "rawType": "int64",
         "type": "integer"
        },
        {
         "name": "UmName",
         "rawType": "object",
         "type": "string"
        },
        {
         "name": "Month",
         "rawType": "int64",
         "type": "integer"
        },
        {
         "name": "Year",
         "rawType": "int64",
         "type": "integer"
        },
        {
         "name": "Price",
         "rawType": "float64",
         "type": "float"
        },
        {
         "name": "new_column",
         "rawType": "object",
         "type": "string"
        },
        {
         "name": "Giảm giá",
         "rawType": "object",
         "type": "string"
        }
       ],
       "ref": "22e75231-dcbb-492c-a78f-bf5cc37a44c4",
       "rows": [
        [
         "0",
         "National Average",
         "52",
         "Rice - Retail",
         "5",
         "KG",
         "5",
         "2013",
         "4.492",
         "NaN",
         "10%"
        ],
        [
         "1",
         "National Average",
         "52",
         "Rice - Retail",
         "5",
         "KG",
         "6",
         "2013",
         "4.5786",
         "NaN",
         "10%"
        ],
        [
         "2",
         "National Average",
         "52",
         "Rice - Retail",
         "5",
         "KG",
         "11",
         "2013",
         "4.7865",
         "NaN",
         "10%"
        ],
        [
         "3",
         "National Average",
         "52",
         "Rice - Retail",
         "5",
         "KG",
         "12",
         "2013",
         "5.1337",
         "NaN",
         "10%"
        ],
        [
         "4",
         "National Average",
         "52",
         "Rice - Retail",
         "5",
         "KG",
         "1",
         "2014",
         "5.5099",
         "NaN",
         "10%"
        ],
        [
         "5",
         "National Average",
         "52",
         "Rice - Retail",
         "5",
         "KG",
         "2",
         "2014",
         "5.8146",
         "NaN",
         "10%"
        ],
        [
         "6",
         "National Average",
         "52",
         "Rice - Retail",
         "5",
         "KG",
         "3",
         "2014",
         "6.0014",
         "NaN",
         "10%"
        ],
        [
         "7",
         "National Average",
         "52",
         "Rice - Retail",
         "5",
         "KG",
         "5",
         "2014",
         "6.3202",
         "NaN",
         "10%"
        ],
        [
         "8",
         "National Average",
         "52",
         "Rice - Retail",
         "5",
         "KG",
         "6",
         "2014",
         "6.6019",
         "NaN",
         "10%"
        ],
        [
         "9",
         "National Average",
         "52",
         "Rice - Retail",
         "5",
         "KG",
         "7",
         "2014",
         "6.6503",
         "NaN",
         "10%"
        ]
       ],
       "shape": {
        "columns": 10,
        "rows": 10
       }
      },
      "text/html": [
       "<div>\n",
       "<style scoped>\n",
       "    .dataframe tbody tr th:only-of-type {\n",
       "        vertical-align: middle;\n",
       "    }\n",
       "\n",
       "    .dataframe tbody tr th {\n",
       "        vertical-align: top;\n",
       "    }\n",
       "\n",
       "    .dataframe thead th {\n",
       "        text-align: right;\n",
       "    }\n",
       "</style>\n",
       "<table border=\"1\" class=\"dataframe\">\n",
       "  <thead>\n",
       "    <tr style=\"text-align: right;\">\n",
       "      <th></th>\n",
       "      <th>Địa điểm</th>\n",
       "      <th>ProductId</th>\n",
       "      <th>Tên SP</th>\n",
       "      <th>UmId</th>\n",
       "      <th>UmName</th>\n",
       "      <th>Month</th>\n",
       "      <th>Year</th>\n",
       "      <th>Price</th>\n",
       "      <th>new_column</th>\n",
       "      <th>Giảm giá</th>\n",
       "    </tr>\n",
       "  </thead>\n",
       "  <tbody>\n",
       "    <tr>\n",
       "      <th>0</th>\n",
       "      <td>National Average</td>\n",
       "      <td>52</td>\n",
       "      <td>Rice - Retail</td>\n",
       "      <td>5</td>\n",
       "      <td>KG</td>\n",
       "      <td>5</td>\n",
       "      <td>2013</td>\n",
       "      <td>4.4920</td>\n",
       "      <td>NaN</td>\n",
       "      <td>10%</td>\n",
       "    </tr>\n",
       "    <tr>\n",
       "      <th>1</th>\n",
       "      <td>National Average</td>\n",
       "      <td>52</td>\n",
       "      <td>Rice - Retail</td>\n",
       "      <td>5</td>\n",
       "      <td>KG</td>\n",
       "      <td>6</td>\n",
       "      <td>2013</td>\n",
       "      <td>4.5786</td>\n",
       "      <td>NaN</td>\n",
       "      <td>10%</td>\n",
       "    </tr>\n",
       "    <tr>\n",
       "      <th>2</th>\n",
       "      <td>National Average</td>\n",
       "      <td>52</td>\n",
       "      <td>Rice - Retail</td>\n",
       "      <td>5</td>\n",
       "      <td>KG</td>\n",
       "      <td>11</td>\n",
       "      <td>2013</td>\n",
       "      <td>4.7865</td>\n",
       "      <td>NaN</td>\n",
       "      <td>10%</td>\n",
       "    </tr>\n",
       "    <tr>\n",
       "      <th>3</th>\n",
       "      <td>National Average</td>\n",
       "      <td>52</td>\n",
       "      <td>Rice - Retail</td>\n",
       "      <td>5</td>\n",
       "      <td>KG</td>\n",
       "      <td>12</td>\n",
       "      <td>2013</td>\n",
       "      <td>5.1337</td>\n",
       "      <td>NaN</td>\n",
       "      <td>10%</td>\n",
       "    </tr>\n",
       "    <tr>\n",
       "      <th>4</th>\n",
       "      <td>National Average</td>\n",
       "      <td>52</td>\n",
       "      <td>Rice - Retail</td>\n",
       "      <td>5</td>\n",
       "      <td>KG</td>\n",
       "      <td>1</td>\n",
       "      <td>2014</td>\n",
       "      <td>5.5099</td>\n",
       "      <td>NaN</td>\n",
       "      <td>10%</td>\n",
       "    </tr>\n",
       "    <tr>\n",
       "      <th>5</th>\n",
       "      <td>National Average</td>\n",
       "      <td>52</td>\n",
       "      <td>Rice - Retail</td>\n",
       "      <td>5</td>\n",
       "      <td>KG</td>\n",
       "      <td>2</td>\n",
       "      <td>2014</td>\n",
       "      <td>5.8146</td>\n",
       "      <td>NaN</td>\n",
       "      <td>10%</td>\n",
       "    </tr>\n",
       "    <tr>\n",
       "      <th>6</th>\n",
       "      <td>National Average</td>\n",
       "      <td>52</td>\n",
       "      <td>Rice - Retail</td>\n",
       "      <td>5</td>\n",
       "      <td>KG</td>\n",
       "      <td>3</td>\n",
       "      <td>2014</td>\n",
       "      <td>6.0014</td>\n",
       "      <td>NaN</td>\n",
       "      <td>10%</td>\n",
       "    </tr>\n",
       "    <tr>\n",
       "      <th>7</th>\n",
       "      <td>National Average</td>\n",
       "      <td>52</td>\n",
       "      <td>Rice - Retail</td>\n",
       "      <td>5</td>\n",
       "      <td>KG</td>\n",
       "      <td>5</td>\n",
       "      <td>2014</td>\n",
       "      <td>6.3202</td>\n",
       "      <td>NaN</td>\n",
       "      <td>10%</td>\n",
       "    </tr>\n",
       "    <tr>\n",
       "      <th>8</th>\n",
       "      <td>National Average</td>\n",
       "      <td>52</td>\n",
       "      <td>Rice - Retail</td>\n",
       "      <td>5</td>\n",
       "      <td>KG</td>\n",
       "      <td>6</td>\n",
       "      <td>2014</td>\n",
       "      <td>6.6019</td>\n",
       "      <td>NaN</td>\n",
       "      <td>10%</td>\n",
       "    </tr>\n",
       "    <tr>\n",
       "      <th>9</th>\n",
       "      <td>National Average</td>\n",
       "      <td>52</td>\n",
       "      <td>Rice - Retail</td>\n",
       "      <td>5</td>\n",
       "      <td>KG</td>\n",
       "      <td>7</td>\n",
       "      <td>2014</td>\n",
       "      <td>6.6503</td>\n",
       "      <td>NaN</td>\n",
       "      <td>10%</td>\n",
       "    </tr>\n",
       "  </tbody>\n",
       "</table>\n",
       "</div>"
      ],
      "text/plain": [
       "           Địa điểm  ProductId         Tên SP  UmId UmName  Month  Year  \\\n",
       "0  National Average         52  Rice - Retail     5     KG      5  2013   \n",
       "1  National Average         52  Rice - Retail     5     KG      6  2013   \n",
       "2  National Average         52  Rice - Retail     5     KG     11  2013   \n",
       "3  National Average         52  Rice - Retail     5     KG     12  2013   \n",
       "4  National Average         52  Rice - Retail     5     KG      1  2014   \n",
       "5  National Average         52  Rice - Retail     5     KG      2  2014   \n",
       "6  National Average         52  Rice - Retail     5     KG      3  2014   \n",
       "7  National Average         52  Rice - Retail     5     KG      5  2014   \n",
       "8  National Average         52  Rice - Retail     5     KG      6  2014   \n",
       "9  National Average         52  Rice - Retail     5     KG      7  2014   \n",
       "\n",
       "    Price new_column Giảm giá  \n",
       "0  4.4920        NaN      10%  \n",
       "1  4.5786        NaN      10%  \n",
       "2  4.7865        NaN      10%  \n",
       "3  5.1337        NaN      10%  \n",
       "4  5.5099        NaN      10%  \n",
       "5  5.8146        NaN      10%  \n",
       "6  6.0014        NaN      10%  \n",
       "7  6.3202        NaN      10%  \n",
       "8  6.6019        NaN      10%  \n",
       "9  6.6503        NaN      10%  "
      ]
     },
     "execution_count": 144,
     "metadata": {},
     "output_type": "execute_result"
    }
   ],
   "source": [
    "# Thêm cột giảm giá 10% cho tất cả các bản ghi\n",
    "# Cách 1: Gán tên cột dưới dạng một chuỗi và thêm giá trị cho cột đó\n",
    "\n",
    "df['Giảm giá']= pd.Series('10%', index=df.index)\n",
    "df.head(10)"
   ]
  },
  {
   "cell_type": "code",
   "execution_count": 145,
   "id": "b224f361",
   "metadata": {},
   "outputs": [
    {
     "data": {
      "application/vnd.microsoft.datawrangler.viewer.v0+json": {
       "columns": [
        {
         "name": "index",
         "rawType": "int64",
         "type": "integer"
        },
        {
         "name": "Địa điểm",
         "rawType": "object",
         "type": "string"
        },
        {
         "name": "ProductId",
         "rawType": "int64",
         "type": "integer"
        },
        {
         "name": "Tên SP",
         "rawType": "object",
         "type": "string"
        },
        {
         "name": "UmId",
         "rawType": "int64",
         "type": "integer"
        },
        {
         "name": "UmName",
         "rawType": "object",
         "type": "string"
        },
        {
         "name": "Month",
         "rawType": "int64",
         "type": "integer"
        },
        {
         "name": "Year",
         "rawType": "int64",
         "type": "integer"
        },
        {
         "name": "Price",
         "rawType": "float64",
         "type": "float"
        },
        {
         "name": "new_column",
         "rawType": "object",
         "type": "string"
        },
        {
         "name": "Giảm giá",
         "rawType": "object",
         "type": "string"
        },
        {
         "name": "Giảm giá 2",
         "rawType": "object",
         "type": "string"
        }
       ],
       "ref": "d2984f13-ddad-40a8-beaf-ef63a3e2598d",
       "rows": [
        [
         "0",
         "National Average",
         "52",
         "Rice - Retail",
         "5",
         "KG",
         "5",
         "2013",
         "4.492",
         "NaN",
         "10%",
         "12%"
        ],
        [
         "1",
         "National Average",
         "52",
         "Rice - Retail",
         "5",
         "KG",
         "6",
         "2013",
         "4.5786",
         "NaN",
         "10%",
         "12%"
        ],
        [
         "2",
         "National Average",
         "52",
         "Rice - Retail",
         "5",
         "KG",
         "11",
         "2013",
         "4.7865",
         "NaN",
         "10%",
         "12%"
        ],
        [
         "3",
         "National Average",
         "52",
         "Rice - Retail",
         "5",
         "KG",
         "12",
         "2013",
         "5.1337",
         "NaN",
         "10%",
         "12%"
        ],
        [
         "4",
         "National Average",
         "52",
         "Rice - Retail",
         "5",
         "KG",
         "1",
         "2014",
         "5.5099",
         "NaN",
         "10%",
         "12%"
        ]
       ],
       "shape": {
        "columns": 11,
        "rows": 5
       }
      },
      "text/html": [
       "<div>\n",
       "<style scoped>\n",
       "    .dataframe tbody tr th:only-of-type {\n",
       "        vertical-align: middle;\n",
       "    }\n",
       "\n",
       "    .dataframe tbody tr th {\n",
       "        vertical-align: top;\n",
       "    }\n",
       "\n",
       "    .dataframe thead th {\n",
       "        text-align: right;\n",
       "    }\n",
       "</style>\n",
       "<table border=\"1\" class=\"dataframe\">\n",
       "  <thead>\n",
       "    <tr style=\"text-align: right;\">\n",
       "      <th></th>\n",
       "      <th>Địa điểm</th>\n",
       "      <th>ProductId</th>\n",
       "      <th>Tên SP</th>\n",
       "      <th>UmId</th>\n",
       "      <th>UmName</th>\n",
       "      <th>Month</th>\n",
       "      <th>Year</th>\n",
       "      <th>Price</th>\n",
       "      <th>new_column</th>\n",
       "      <th>Giảm giá</th>\n",
       "      <th>Giảm giá 2</th>\n",
       "    </tr>\n",
       "  </thead>\n",
       "  <tbody>\n",
       "    <tr>\n",
       "      <th>0</th>\n",
       "      <td>National Average</td>\n",
       "      <td>52</td>\n",
       "      <td>Rice - Retail</td>\n",
       "      <td>5</td>\n",
       "      <td>KG</td>\n",
       "      <td>5</td>\n",
       "      <td>2013</td>\n",
       "      <td>4.4920</td>\n",
       "      <td>NaN</td>\n",
       "      <td>10%</td>\n",
       "      <td>12%</td>\n",
       "    </tr>\n",
       "    <tr>\n",
       "      <th>1</th>\n",
       "      <td>National Average</td>\n",
       "      <td>52</td>\n",
       "      <td>Rice - Retail</td>\n",
       "      <td>5</td>\n",
       "      <td>KG</td>\n",
       "      <td>6</td>\n",
       "      <td>2013</td>\n",
       "      <td>4.5786</td>\n",
       "      <td>NaN</td>\n",
       "      <td>10%</td>\n",
       "      <td>12%</td>\n",
       "    </tr>\n",
       "    <tr>\n",
       "      <th>2</th>\n",
       "      <td>National Average</td>\n",
       "      <td>52</td>\n",
       "      <td>Rice - Retail</td>\n",
       "      <td>5</td>\n",
       "      <td>KG</td>\n",
       "      <td>11</td>\n",
       "      <td>2013</td>\n",
       "      <td>4.7865</td>\n",
       "      <td>NaN</td>\n",
       "      <td>10%</td>\n",
       "      <td>12%</td>\n",
       "    </tr>\n",
       "    <tr>\n",
       "      <th>3</th>\n",
       "      <td>National Average</td>\n",
       "      <td>52</td>\n",
       "      <td>Rice - Retail</td>\n",
       "      <td>5</td>\n",
       "      <td>KG</td>\n",
       "      <td>12</td>\n",
       "      <td>2013</td>\n",
       "      <td>5.1337</td>\n",
       "      <td>NaN</td>\n",
       "      <td>10%</td>\n",
       "      <td>12%</td>\n",
       "    </tr>\n",
       "    <tr>\n",
       "      <th>4</th>\n",
       "      <td>National Average</td>\n",
       "      <td>52</td>\n",
       "      <td>Rice - Retail</td>\n",
       "      <td>5</td>\n",
       "      <td>KG</td>\n",
       "      <td>1</td>\n",
       "      <td>2014</td>\n",
       "      <td>5.5099</td>\n",
       "      <td>NaN</td>\n",
       "      <td>10%</td>\n",
       "      <td>12%</td>\n",
       "    </tr>\n",
       "  </tbody>\n",
       "</table>\n",
       "</div>"
      ],
      "text/plain": [
       "           Địa điểm  ProductId         Tên SP  UmId UmName  Month  Year  \\\n",
       "0  National Average         52  Rice - Retail     5     KG      5  2013   \n",
       "1  National Average         52  Rice - Retail     5     KG      6  2013   \n",
       "2  National Average         52  Rice - Retail     5     KG     11  2013   \n",
       "3  National Average         52  Rice - Retail     5     KG     12  2013   \n",
       "4  National Average         52  Rice - Retail     5     KG      1  2014   \n",
       "\n",
       "    Price new_column Giảm giá Giảm giá 2  \n",
       "0  4.4920        NaN      10%        12%  \n",
       "1  4.5786        NaN      10%        12%  \n",
       "2  4.7865        NaN      10%        12%  \n",
       "3  5.1337        NaN      10%        12%  \n",
       "4  5.5099        NaN      10%        12%  "
      ]
     },
     "execution_count": 145,
     "metadata": {},
     "output_type": "execute_result"
    }
   ],
   "source": [
    "# Thêm cột giảm giá 12% cho tất cả các bản ghi\n",
    "# Cách 2: Sử dụng phương thức insert() gồm 3 đối số\n",
    "# - đối số đầu tiên là chỉ mục (vị trí) muốn chèn cột mới (chỉ mục là 10--> cột mới được thêm vào vị trí 11 của DataFrame)\n",
    "# - đối số thứ hai là tên của cột mới muốn chèn \n",
    "# - đối số thứ ba giá trị của cột\n",
    "\n",
    "df.insert(10,'Giảm giá 2',pd.Series('12%', index=df.index))\n",
    "df.head(5)"
   ]
  },
  {
   "cell_type": "code",
   "execution_count": 146,
   "id": "137c0cd5",
   "metadata": {},
   "outputs": [
    {
     "data": {
      "application/vnd.microsoft.datawrangler.viewer.v0+json": {
       "columns": [
        {
         "name": "index",
         "rawType": "int64",
         "type": "integer"
        },
        {
         "name": "Địa điểm",
         "rawType": "object",
         "type": "string"
        },
        {
         "name": "ProductId",
         "rawType": "int64",
         "type": "integer"
        },
        {
         "name": "Tên SP",
         "rawType": "object",
         "type": "string"
        },
        {
         "name": "UmId",
         "rawType": "int64",
         "type": "integer"
        },
        {
         "name": "UmName",
         "rawType": "object",
         "type": "string"
        },
        {
         "name": "Month",
         "rawType": "int64",
         "type": "integer"
        },
        {
         "name": "Year",
         "rawType": "int64",
         "type": "integer"
        },
        {
         "name": "Price",
         "rawType": "float64",
         "type": "float"
        },
        {
         "name": "Giảm giá",
         "rawType": "object",
         "type": "string"
        },
        {
         "name": "Giảm giá 2",
         "rawType": "object",
         "type": "string"
        }
       ],
       "ref": "a356b4aa-d804-4e7c-a2ad-b258d8e6b8f5",
       "rows": [
        [
         "0",
         "National Average",
         "52",
         "Rice - Retail",
         "5",
         "KG",
         "5",
         "2013",
         "4.492",
         "10%",
         "12%"
        ],
        [
         "1",
         "National Average",
         "52",
         "Rice - Retail",
         "5",
         "KG",
         "6",
         "2013",
         "4.5786",
         "10%",
         "12%"
        ],
        [
         "2",
         "National Average",
         "52",
         "Rice - Retail",
         "5",
         "KG",
         "11",
         "2013",
         "4.7865",
         "10%",
         "12%"
        ],
        [
         "3",
         "National Average",
         "52",
         "Rice - Retail",
         "5",
         "KG",
         "12",
         "2013",
         "5.1337",
         "10%",
         "12%"
        ],
        [
         "4",
         "National Average",
         "52",
         "Rice - Retail",
         "5",
         "KG",
         "1",
         "2014",
         "5.5099",
         "10%",
         "12%"
        ]
       ],
       "shape": {
        "columns": 10,
        "rows": 5
       }
      },
      "text/html": [
       "<div>\n",
       "<style scoped>\n",
       "    .dataframe tbody tr th:only-of-type {\n",
       "        vertical-align: middle;\n",
       "    }\n",
       "\n",
       "    .dataframe tbody tr th {\n",
       "        vertical-align: top;\n",
       "    }\n",
       "\n",
       "    .dataframe thead th {\n",
       "        text-align: right;\n",
       "    }\n",
       "</style>\n",
       "<table border=\"1\" class=\"dataframe\">\n",
       "  <thead>\n",
       "    <tr style=\"text-align: right;\">\n",
       "      <th></th>\n",
       "      <th>Địa điểm</th>\n",
       "      <th>ProductId</th>\n",
       "      <th>Tên SP</th>\n",
       "      <th>UmId</th>\n",
       "      <th>UmName</th>\n",
       "      <th>Month</th>\n",
       "      <th>Year</th>\n",
       "      <th>Price</th>\n",
       "      <th>Giảm giá</th>\n",
       "      <th>Giảm giá 2</th>\n",
       "    </tr>\n",
       "  </thead>\n",
       "  <tbody>\n",
       "    <tr>\n",
       "      <th>0</th>\n",
       "      <td>National Average</td>\n",
       "      <td>52</td>\n",
       "      <td>Rice - Retail</td>\n",
       "      <td>5</td>\n",
       "      <td>KG</td>\n",
       "      <td>5</td>\n",
       "      <td>2013</td>\n",
       "      <td>4.4920</td>\n",
       "      <td>10%</td>\n",
       "      <td>12%</td>\n",
       "    </tr>\n",
       "    <tr>\n",
       "      <th>1</th>\n",
       "      <td>National Average</td>\n",
       "      <td>52</td>\n",
       "      <td>Rice - Retail</td>\n",
       "      <td>5</td>\n",
       "      <td>KG</td>\n",
       "      <td>6</td>\n",
       "      <td>2013</td>\n",
       "      <td>4.5786</td>\n",
       "      <td>10%</td>\n",
       "      <td>12%</td>\n",
       "    </tr>\n",
       "    <tr>\n",
       "      <th>2</th>\n",
       "      <td>National Average</td>\n",
       "      <td>52</td>\n",
       "      <td>Rice - Retail</td>\n",
       "      <td>5</td>\n",
       "      <td>KG</td>\n",
       "      <td>11</td>\n",
       "      <td>2013</td>\n",
       "      <td>4.7865</td>\n",
       "      <td>10%</td>\n",
       "      <td>12%</td>\n",
       "    </tr>\n",
       "    <tr>\n",
       "      <th>3</th>\n",
       "      <td>National Average</td>\n",
       "      <td>52</td>\n",
       "      <td>Rice - Retail</td>\n",
       "      <td>5</td>\n",
       "      <td>KG</td>\n",
       "      <td>12</td>\n",
       "      <td>2013</td>\n",
       "      <td>5.1337</td>\n",
       "      <td>10%</td>\n",
       "      <td>12%</td>\n",
       "    </tr>\n",
       "    <tr>\n",
       "      <th>4</th>\n",
       "      <td>National Average</td>\n",
       "      <td>52</td>\n",
       "      <td>Rice - Retail</td>\n",
       "      <td>5</td>\n",
       "      <td>KG</td>\n",
       "      <td>1</td>\n",
       "      <td>2014</td>\n",
       "      <td>5.5099</td>\n",
       "      <td>10%</td>\n",
       "      <td>12%</td>\n",
       "    </tr>\n",
       "  </tbody>\n",
       "</table>\n",
       "</div>"
      ],
      "text/plain": [
       "           Địa điểm  ProductId         Tên SP  UmId UmName  Month  Year  \\\n",
       "0  National Average         52  Rice - Retail     5     KG      5  2013   \n",
       "1  National Average         52  Rice - Retail     5     KG      6  2013   \n",
       "2  National Average         52  Rice - Retail     5     KG     11  2013   \n",
       "3  National Average         52  Rice - Retail     5     KG     12  2013   \n",
       "4  National Average         52  Rice - Retail     5     KG      1  2014   \n",
       "\n",
       "    Price Giảm giá Giảm giá 2  \n",
       "0  4.4920      10%        12%  \n",
       "1  4.5786      10%        12%  \n",
       "2  4.7865      10%        12%  \n",
       "3  5.1337      10%        12%  \n",
       "4  5.5099      10%        12%  "
      ]
     },
     "execution_count": 146,
     "metadata": {},
     "output_type": "execute_result"
    }
   ],
   "source": [
    "# Xóa một cột sử dụng hàm del\n",
    "del df['new_column']\n",
    "df.head(5)"
   ]
  },
  {
   "cell_type": "code",
   "execution_count": 147,
   "id": "9b42f839",
   "metadata": {},
   "outputs": [
    {
     "data": {
      "application/vnd.microsoft.datawrangler.viewer.v0+json": {
       "columns": [
        {
         "name": "index",
         "rawType": "int64",
         "type": "integer"
        },
        {
         "name": "Giảm giá 2",
         "rawType": "object",
         "type": "string"
        }
       ],
       "ref": "08136d66-86a8-4eff-89e7-943ee6e66222",
       "rows": [
        [
         "0",
         "12%"
        ],
        [
         "1",
         "12%"
        ],
        [
         "2",
         "12%"
        ],
        [
         "3",
         "12%"
        ],
        [
         "4",
         "12%"
        ],
        [
         "5",
         "12%"
        ],
        [
         "6",
         "12%"
        ],
        [
         "7",
         "12%"
        ],
        [
         "8",
         "12%"
        ],
        [
         "9",
         "12%"
        ],
        [
         "10",
         "12%"
        ],
        [
         "11",
         "12%"
        ],
        [
         "12",
         "12%"
        ],
        [
         "13",
         "12%"
        ],
        [
         "14",
         "12%"
        ],
        [
         "15",
         "12%"
        ],
        [
         "16",
         "12%"
        ],
        [
         "17",
         "12%"
        ],
        [
         "18",
         "12%"
        ],
        [
         "19",
         "12%"
        ],
        [
         "20",
         "12%"
        ],
        [
         "21",
         "12%"
        ],
        [
         "22",
         "12%"
        ],
        [
         "23",
         "12%"
        ],
        [
         "24",
         "12%"
        ],
        [
         "25",
         "12%"
        ],
        [
         "26",
         "12%"
        ],
        [
         "27",
         "12%"
        ],
        [
         "28",
         "12%"
        ],
        [
         "29",
         "12%"
        ],
        [
         "30",
         "12%"
        ],
        [
         "31",
         "12%"
        ],
        [
         "32",
         "12%"
        ],
        [
         "33",
         "12%"
        ],
        [
         "34",
         "12%"
        ],
        [
         "35",
         "12%"
        ],
        [
         "36",
         "12%"
        ],
        [
         "37",
         "12%"
        ],
        [
         "38",
         "12%"
        ],
        [
         "39",
         "12%"
        ],
        [
         "40",
         "12%"
        ],
        [
         "41",
         "12%"
        ],
        [
         "42",
         "12%"
        ],
        [
         "43",
         "12%"
        ],
        [
         "44",
         "12%"
        ],
        [
         "45",
         "12%"
        ],
        [
         "46",
         "12%"
        ],
        [
         "47",
         "12%"
        ],
        [
         "48",
         "12%"
        ],
        [
         "49",
         "12%"
        ]
       ],
       "shape": {
        "columns": 1,
        "rows": 7381
       }
      },
      "text/plain": [
       "0       12%\n",
       "1       12%\n",
       "2       12%\n",
       "3       12%\n",
       "4       12%\n",
       "       ... \n",
       "7376    12%\n",
       "7377    12%\n",
       "7378    12%\n",
       "7379    12%\n",
       "7380    12%\n",
       "Name: Giảm giá 2, Length: 7381, dtype: object"
      ]
     },
     "execution_count": 147,
     "metadata": {},
     "output_type": "execute_result"
    }
   ],
   "source": [
    "# Xóa một cột sử dụng phương thức pop()\n",
    "# Phương thức pop trả về cột đã xóa\n",
    "\n",
    "df.pop('Giảm giá 2')"
   ]
  },
  {
   "cell_type": "code",
   "execution_count": 148,
   "id": "386cd716",
   "metadata": {},
   "outputs": [
    {
     "data": {
      "application/vnd.microsoft.datawrangler.viewer.v0+json": {
       "columns": [
        {
         "name": "index",
         "rawType": "int64",
         "type": "integer"
        },
        {
         "name": "Địa điểm",
         "rawType": "object",
         "type": "string"
        },
        {
         "name": "ProductId",
         "rawType": "int64",
         "type": "integer"
        },
        {
         "name": "Tên SP",
         "rawType": "object",
         "type": "string"
        },
        {
         "name": "UmId",
         "rawType": "int64",
         "type": "integer"
        },
        {
         "name": "UmName",
         "rawType": "object",
         "type": "string"
        },
        {
         "name": "Month",
         "rawType": "int64",
         "type": "integer"
        },
        {
         "name": "Year",
         "rawType": "int64",
         "type": "integer"
        },
        {
         "name": "Price",
         "rawType": "float64",
         "type": "float"
        }
       ],
       "ref": "a94716a4-cfbc-474e-a980-57575af72b6c",
       "rows": [
        [
         "0",
         "National Average",
         "52",
         "Rice - Retail",
         "5",
         "KG",
         "5",
         "2013",
         "4.492"
        ],
        [
         "1",
         "National Average",
         "52",
         "Rice - Retail",
         "5",
         "KG",
         "6",
         "2013",
         "4.5786"
        ],
        [
         "2",
         "National Average",
         "52",
         "Rice - Retail",
         "5",
         "KG",
         "11",
         "2013",
         "4.7865"
        ],
        [
         "3",
         "National Average",
         "52",
         "Rice - Retail",
         "5",
         "KG",
         "12",
         "2013",
         "5.1337"
        ],
        [
         "4",
         "National Average",
         "52",
         "Rice - Retail",
         "5",
         "KG",
         "1",
         "2014",
         "5.5099"
        ],
        [
         "5",
         "National Average",
         "52",
         "Rice - Retail",
         "5",
         "KG",
         "2",
         "2014",
         "5.8146"
        ],
        [
         "6",
         "National Average",
         "52",
         "Rice - Retail",
         "5",
         "KG",
         "3",
         "2014",
         "6.0014"
        ],
        [
         "7",
         "National Average",
         "52",
         "Rice - Retail",
         "5",
         "KG",
         "5",
         "2014",
         "6.3202"
        ],
        [
         "8",
         "National Average",
         "52",
         "Rice - Retail",
         "5",
         "KG",
         "6",
         "2014",
         "6.6019"
        ],
        [
         "9",
         "National Average",
         "52",
         "Rice - Retail",
         "5",
         "KG",
         "7",
         "2014",
         "6.6503"
        ],
        [
         "10",
         "National Average",
         "52",
         "Rice - Retail",
         "5",
         "KG",
         "8",
         "2014",
         "6.6806"
        ],
        [
         "11",
         "National Average",
         "52",
         "Rice - Retail",
         "5",
         "KG",
         "9",
         "2014",
         "6.6035"
        ],
        [
         "12",
         "National Average",
         "52",
         "Rice - Retail",
         "5",
         "KG",
         "10",
         "2014",
         "6.496"
        ],
        [
         "13",
         "National Average",
         "52",
         "Rice - Retail",
         "5",
         "KG",
         "11",
         "2014",
         "6.644"
        ],
        [
         "14",
         "National Average",
         "52",
         "Rice - Retail",
         "5",
         "KG",
         "12",
         "2014",
         "6.724"
        ],
        [
         "15",
         "National Average",
         "52",
         "Rice - Retail",
         "5",
         "KG",
         "1",
         "2015",
         "6.755"
        ],
        [
         "16",
         "National Average",
         "52",
         "Rice - Retail",
         "5",
         "KG",
         "2",
         "2015",
         "6.49"
        ],
        [
         "17",
         "National Average",
         "52",
         "Rice - Retail",
         "5",
         "KG",
         "3",
         "2015",
         "6.517"
        ],
        [
         "18",
         "National Average",
         "52",
         "Rice - Retail",
         "5",
         "KG",
         "4",
         "2015",
         "6.54"
        ],
        [
         "19",
         "National Average",
         "52",
         "Rice - Retail",
         "5",
         "KG",
         "5",
         "2015",
         "6.53"
        ],
        [
         "20",
         "National Average",
         "52",
         "Rice - Retail",
         "5",
         "KG",
         "6",
         "2015",
         "6.44"
        ],
        [
         "21",
         "National Average",
         "52",
         "Rice - Retail",
         "5",
         "KG",
         "7",
         "2015",
         "6.33"
        ],
        [
         "22",
         "National Average",
         "52",
         "Rice - Retail",
         "5",
         "KG",
         "8",
         "2015",
         "6.31"
        ],
        [
         "23",
         "National Average",
         "52",
         "Rice - Retail",
         "5",
         "KG",
         "9",
         "2015",
         "6.33"
        ],
        [
         "24",
         "National Average",
         "52",
         "Rice - Retail",
         "5",
         "KG",
         "10",
         "2015",
         "6.33"
        ],
        [
         "25",
         "National Average",
         "52",
         "Rice - Retail",
         "5",
         "KG",
         "11",
         "2015",
         "6.28"
        ],
        [
         "26",
         "National Average",
         "52",
         "Rice - Retail",
         "5",
         "KG",
         "12",
         "2015",
         "6.27"
        ],
        [
         "27",
         "National Average",
         "52",
         "Rice - Retail",
         "5",
         "KG",
         "1",
         "2016",
         "6.37"
        ],
        [
         "28",
         "National Average",
         "52",
         "Rice - Retail",
         "5",
         "KG",
         "2",
         "2016",
         "6.31"
        ],
        [
         "29",
         "National Average",
         "52",
         "Rice - Retail",
         "5",
         "KG",
         "3",
         "2016",
         "6.26"
        ],
        [
         "30",
         "National Average",
         "52",
         "Rice - Retail",
         "5",
         "KG",
         "4",
         "2016",
         "6.39"
        ],
        [
         "31",
         "National Average",
         "52",
         "Rice - Retail",
         "5",
         "KG",
         "5",
         "2016",
         "6.06"
        ],
        [
         "32",
         "National Average",
         "52",
         "Rice - Retail",
         "5",
         "KG",
         "6",
         "2016",
         "5.92"
        ],
        [
         "33",
         "National Average",
         "52",
         "Rice - Retail",
         "5",
         "KG",
         "7",
         "2016",
         "5.86"
        ],
        [
         "34",
         "National Average",
         "52",
         "Rice - Retail",
         "5",
         "KG",
         "8",
         "2016",
         "5.87"
        ],
        [
         "35",
         "National Average",
         "52",
         "Rice - Retail",
         "5",
         "KG",
         "9",
         "2016",
         "5.82"
        ],
        [
         "36",
         "National Average",
         "52",
         "Rice - Retail",
         "5",
         "KG",
         "10",
         "2016",
         "5.79"
        ],
        [
         "37",
         "National Average",
         "52",
         "Rice - Retail",
         "5",
         "KG",
         "11",
         "2016",
         "5.85"
        ],
        [
         "38",
         "National Average",
         "52",
         "Rice - Retail",
         "5",
         "KG",
         "12",
         "2016",
         "6.07"
        ],
        [
         "39",
         "National Average",
         "52",
         "Rice - Retail",
         "5",
         "KG",
         "1",
         "2017",
         "5.87"
        ],
        [
         "40",
         "National Average",
         "52",
         "Rice - Retail",
         "5",
         "KG",
         "2",
         "2017",
         "6.01"
        ],
        [
         "41",
         "National Average",
         "52",
         "Rice - Retail",
         "5",
         "KG",
         "3",
         "2017",
         "6.28"
        ],
        [
         "42",
         "National Average",
         "52",
         "Rice - Retail",
         "5",
         "KG",
         "1",
         "2018",
         "7.7321"
        ],
        [
         "43",
         "National Average",
         "52",
         "Rice - Retail",
         "5",
         "KG",
         "2",
         "2018",
         "7.7563"
        ],
        [
         "44",
         "National Average",
         "52",
         "Rice - Retail",
         "5",
         "KG",
         "3",
         "2018",
         "7.7952"
        ],
        [
         "45",
         "National Average",
         "52",
         "Rice - Retail",
         "5",
         "KG",
         "4",
         "2018",
         "7.8248"
        ],
        [
         "46",
         "National Average",
         "52",
         "Rice - Retail",
         "5",
         "KG",
         "5",
         "2018",
         "7.8543"
        ],
        [
         "47",
         "National Average",
         "52",
         "Rice - Retail",
         "5",
         "KG",
         "6",
         "2018",
         "8.0722"
        ],
        [
         "48",
         "National Average",
         "52",
         "Rice - Retail",
         "5",
         "KG",
         "7",
         "2018",
         "8.3216"
        ],
        [
         "49",
         "National Average",
         "52",
         "Rice - Retail",
         "5",
         "KG",
         "8",
         "2018",
         "8.4695"
        ]
       ],
       "shape": {
        "columns": 8,
        "rows": 7381
       }
      },
      "text/html": [
       "<div>\n",
       "<style scoped>\n",
       "    .dataframe tbody tr th:only-of-type {\n",
       "        vertical-align: middle;\n",
       "    }\n",
       "\n",
       "    .dataframe tbody tr th {\n",
       "        vertical-align: top;\n",
       "    }\n",
       "\n",
       "    .dataframe thead th {\n",
       "        text-align: right;\n",
       "    }\n",
       "</style>\n",
       "<table border=\"1\" class=\"dataframe\">\n",
       "  <thead>\n",
       "    <tr style=\"text-align: right;\">\n",
       "      <th></th>\n",
       "      <th>Địa điểm</th>\n",
       "      <th>ProductId</th>\n",
       "      <th>Tên SP</th>\n",
       "      <th>UmId</th>\n",
       "      <th>UmName</th>\n",
       "      <th>Month</th>\n",
       "      <th>Year</th>\n",
       "      <th>Price</th>\n",
       "    </tr>\n",
       "  </thead>\n",
       "  <tbody>\n",
       "    <tr>\n",
       "      <th>0</th>\n",
       "      <td>National Average</td>\n",
       "      <td>52</td>\n",
       "      <td>Rice - Retail</td>\n",
       "      <td>5</td>\n",
       "      <td>KG</td>\n",
       "      <td>5</td>\n",
       "      <td>2013</td>\n",
       "      <td>4.4920</td>\n",
       "    </tr>\n",
       "    <tr>\n",
       "      <th>1</th>\n",
       "      <td>National Average</td>\n",
       "      <td>52</td>\n",
       "      <td>Rice - Retail</td>\n",
       "      <td>5</td>\n",
       "      <td>KG</td>\n",
       "      <td>6</td>\n",
       "      <td>2013</td>\n",
       "      <td>4.5786</td>\n",
       "    </tr>\n",
       "    <tr>\n",
       "      <th>2</th>\n",
       "      <td>National Average</td>\n",
       "      <td>52</td>\n",
       "      <td>Rice - Retail</td>\n",
       "      <td>5</td>\n",
       "      <td>KG</td>\n",
       "      <td>11</td>\n",
       "      <td>2013</td>\n",
       "      <td>4.7865</td>\n",
       "    </tr>\n",
       "    <tr>\n",
       "      <th>3</th>\n",
       "      <td>National Average</td>\n",
       "      <td>52</td>\n",
       "      <td>Rice - Retail</td>\n",
       "      <td>5</td>\n",
       "      <td>KG</td>\n",
       "      <td>12</td>\n",
       "      <td>2013</td>\n",
       "      <td>5.1337</td>\n",
       "    </tr>\n",
       "    <tr>\n",
       "      <th>4</th>\n",
       "      <td>National Average</td>\n",
       "      <td>52</td>\n",
       "      <td>Rice - Retail</td>\n",
       "      <td>5</td>\n",
       "      <td>KG</td>\n",
       "      <td>1</td>\n",
       "      <td>2014</td>\n",
       "      <td>5.5099</td>\n",
       "    </tr>\n",
       "    <tr>\n",
       "      <th>...</th>\n",
       "      <td>...</td>\n",
       "      <td>...</td>\n",
       "      <td>...</td>\n",
       "      <td>...</td>\n",
       "      <td>...</td>\n",
       "      <td>...</td>\n",
       "      <td>...</td>\n",
       "      <td>...</td>\n",
       "    </tr>\n",
       "    <tr>\n",
       "      <th>7376</th>\n",
       "      <td>Izmir</td>\n",
       "      <td>502</td>\n",
       "      <td>Cocoa (powder) - Retail</td>\n",
       "      <td>5</td>\n",
       "      <td>KG</td>\n",
       "      <td>8</td>\n",
       "      <td>2019</td>\n",
       "      <td>47.9040</td>\n",
       "    </tr>\n",
       "    <tr>\n",
       "      <th>7377</th>\n",
       "      <td>Izmir</td>\n",
       "      <td>502</td>\n",
       "      <td>Cocoa (powder) - Retail</td>\n",
       "      <td>5</td>\n",
       "      <td>KG</td>\n",
       "      <td>9</td>\n",
       "      <td>2019</td>\n",
       "      <td>49.1176</td>\n",
       "    </tr>\n",
       "    <tr>\n",
       "      <th>7378</th>\n",
       "      <td>Izmir</td>\n",
       "      <td>502</td>\n",
       "      <td>Cocoa (powder) - Retail</td>\n",
       "      <td>5</td>\n",
       "      <td>KG</td>\n",
       "      <td>10</td>\n",
       "      <td>2019</td>\n",
       "      <td>50.8347</td>\n",
       "    </tr>\n",
       "    <tr>\n",
       "      <th>7379</th>\n",
       "      <td>Izmir</td>\n",
       "      <td>502</td>\n",
       "      <td>Cocoa (powder) - Retail</td>\n",
       "      <td>5</td>\n",
       "      <td>KG</td>\n",
       "      <td>11</td>\n",
       "      <td>2019</td>\n",
       "      <td>51.7985</td>\n",
       "    </tr>\n",
       "    <tr>\n",
       "      <th>7380</th>\n",
       "      <td>Izmir</td>\n",
       "      <td>502</td>\n",
       "      <td>Cocoa (powder) - Retail</td>\n",
       "      <td>5</td>\n",
       "      <td>KG</td>\n",
       "      <td>12</td>\n",
       "      <td>2019</td>\n",
       "      <td>51.6071</td>\n",
       "    </tr>\n",
       "  </tbody>\n",
       "</table>\n",
       "<p>7381 rows × 8 columns</p>\n",
       "</div>"
      ],
      "text/plain": [
       "              Địa điểm  ProductId                   Tên SP  UmId UmName  \\\n",
       "0     National Average         52            Rice - Retail     5     KG   \n",
       "1     National Average         52            Rice - Retail     5     KG   \n",
       "2     National Average         52            Rice - Retail     5     KG   \n",
       "3     National Average         52            Rice - Retail     5     KG   \n",
       "4     National Average         52            Rice - Retail     5     KG   \n",
       "...                ...        ...                      ...   ...    ...   \n",
       "7376             Izmir        502  Cocoa (powder) - Retail     5     KG   \n",
       "7377             Izmir        502  Cocoa (powder) - Retail     5     KG   \n",
       "7378             Izmir        502  Cocoa (powder) - Retail     5     KG   \n",
       "7379             Izmir        502  Cocoa (powder) - Retail     5     KG   \n",
       "7380             Izmir        502  Cocoa (powder) - Retail     5     KG   \n",
       "\n",
       "      Month  Year    Price  \n",
       "0         5  2013   4.4920  \n",
       "1         6  2013   4.5786  \n",
       "2        11  2013   4.7865  \n",
       "3        12  2013   5.1337  \n",
       "4         1  2014   5.5099  \n",
       "...     ...   ...      ...  \n",
       "7376      8  2019  47.9040  \n",
       "7377      9  2019  49.1176  \n",
       "7378     10  2019  50.8347  \n",
       "7379     11  2019  51.7985  \n",
       "7380     12  2019  51.6071  \n",
       "\n",
       "[7381 rows x 8 columns]"
      ]
     },
     "execution_count": 148,
     "metadata": {},
     "output_type": "execute_result"
    }
   ],
   "source": [
    "# Xóa một cột sử dụng phương thức drop() \n",
    "# Cú pháp: df.drop('column_name', axis=1, inplace=True)\n",
    "# Trong đó axis = 1 là xóa cột; inplace = True xóa trục tiếp trên dữ liệu gốc mà không phải tạo bản sao\n",
    "\n",
    "df.drop('Giảm giá', axis=1, inplace=True)\n",
    "df"
   ]
  },
  {
   "cell_type": "code",
   "execution_count": 149,
   "id": "fba9392d",
   "metadata": {},
   "outputs": [
    {
     "data": {
      "application/vnd.microsoft.datawrangler.viewer.v0+json": {
       "columns": [
        {
         "name": "index",
         "rawType": "int64",
         "type": "integer"
        },
        {
         "name": "Địa điểm",
         "rawType": "object",
         "type": "string"
        },
        {
         "name": "ProductId",
         "rawType": "int64",
         "type": "integer"
        },
        {
         "name": "Tên SP",
         "rawType": "object",
         "type": "string"
        },
        {
         "name": "UmId",
         "rawType": "int64",
         "type": "integer"
        },
        {
         "name": "UmName",
         "rawType": "object",
         "type": "string"
        },
        {
         "name": "Price",
         "rawType": "float64",
         "type": "float"
        }
       ],
       "ref": "c1d6f5d9-038f-4566-a641-f77370becc64",
       "rows": [
        [
         "0",
         "National Average",
         "52",
         "Rice - Retail",
         "5",
         "KG",
         "4.492"
        ],
        [
         "1",
         "National Average",
         "52",
         "Rice - Retail",
         "5",
         "KG",
         "4.5786"
        ],
        [
         "2",
         "National Average",
         "52",
         "Rice - Retail",
         "5",
         "KG",
         "4.7865"
        ],
        [
         "3",
         "National Average",
         "52",
         "Rice - Retail",
         "5",
         "KG",
         "5.1337"
        ],
        [
         "4",
         "National Average",
         "52",
         "Rice - Retail",
         "5",
         "KG",
         "5.5099"
        ],
        [
         "5",
         "National Average",
         "52",
         "Rice - Retail",
         "5",
         "KG",
         "5.8146"
        ],
        [
         "6",
         "National Average",
         "52",
         "Rice - Retail",
         "5",
         "KG",
         "6.0014"
        ],
        [
         "7",
         "National Average",
         "52",
         "Rice - Retail",
         "5",
         "KG",
         "6.3202"
        ],
        [
         "8",
         "National Average",
         "52",
         "Rice - Retail",
         "5",
         "KG",
         "6.6019"
        ],
        [
         "9",
         "National Average",
         "52",
         "Rice - Retail",
         "5",
         "KG",
         "6.6503"
        ],
        [
         "10",
         "National Average",
         "52",
         "Rice - Retail",
         "5",
         "KG",
         "6.6806"
        ],
        [
         "11",
         "National Average",
         "52",
         "Rice - Retail",
         "5",
         "KG",
         "6.6035"
        ],
        [
         "12",
         "National Average",
         "52",
         "Rice - Retail",
         "5",
         "KG",
         "6.496"
        ],
        [
         "13",
         "National Average",
         "52",
         "Rice - Retail",
         "5",
         "KG",
         "6.644"
        ],
        [
         "14",
         "National Average",
         "52",
         "Rice - Retail",
         "5",
         "KG",
         "6.724"
        ],
        [
         "15",
         "National Average",
         "52",
         "Rice - Retail",
         "5",
         "KG",
         "6.755"
        ],
        [
         "16",
         "National Average",
         "52",
         "Rice - Retail",
         "5",
         "KG",
         "6.49"
        ],
        [
         "17",
         "National Average",
         "52",
         "Rice - Retail",
         "5",
         "KG",
         "6.517"
        ],
        [
         "18",
         "National Average",
         "52",
         "Rice - Retail",
         "5",
         "KG",
         "6.54"
        ],
        [
         "19",
         "National Average",
         "52",
         "Rice - Retail",
         "5",
         "KG",
         "6.53"
        ],
        [
         "20",
         "National Average",
         "52",
         "Rice - Retail",
         "5",
         "KG",
         "6.44"
        ],
        [
         "21",
         "National Average",
         "52",
         "Rice - Retail",
         "5",
         "KG",
         "6.33"
        ],
        [
         "22",
         "National Average",
         "52",
         "Rice - Retail",
         "5",
         "KG",
         "6.31"
        ],
        [
         "23",
         "National Average",
         "52",
         "Rice - Retail",
         "5",
         "KG",
         "6.33"
        ],
        [
         "24",
         "National Average",
         "52",
         "Rice - Retail",
         "5",
         "KG",
         "6.33"
        ],
        [
         "25",
         "National Average",
         "52",
         "Rice - Retail",
         "5",
         "KG",
         "6.28"
        ],
        [
         "26",
         "National Average",
         "52",
         "Rice - Retail",
         "5",
         "KG",
         "6.27"
        ],
        [
         "27",
         "National Average",
         "52",
         "Rice - Retail",
         "5",
         "KG",
         "6.37"
        ],
        [
         "28",
         "National Average",
         "52",
         "Rice - Retail",
         "5",
         "KG",
         "6.31"
        ],
        [
         "29",
         "National Average",
         "52",
         "Rice - Retail",
         "5",
         "KG",
         "6.26"
        ],
        [
         "30",
         "National Average",
         "52",
         "Rice - Retail",
         "5",
         "KG",
         "6.39"
        ],
        [
         "31",
         "National Average",
         "52",
         "Rice - Retail",
         "5",
         "KG",
         "6.06"
        ],
        [
         "32",
         "National Average",
         "52",
         "Rice - Retail",
         "5",
         "KG",
         "5.92"
        ],
        [
         "33",
         "National Average",
         "52",
         "Rice - Retail",
         "5",
         "KG",
         "5.86"
        ],
        [
         "34",
         "National Average",
         "52",
         "Rice - Retail",
         "5",
         "KG",
         "5.87"
        ],
        [
         "35",
         "National Average",
         "52",
         "Rice - Retail",
         "5",
         "KG",
         "5.82"
        ],
        [
         "36",
         "National Average",
         "52",
         "Rice - Retail",
         "5",
         "KG",
         "5.79"
        ],
        [
         "37",
         "National Average",
         "52",
         "Rice - Retail",
         "5",
         "KG",
         "5.85"
        ],
        [
         "38",
         "National Average",
         "52",
         "Rice - Retail",
         "5",
         "KG",
         "6.07"
        ],
        [
         "39",
         "National Average",
         "52",
         "Rice - Retail",
         "5",
         "KG",
         "5.87"
        ],
        [
         "40",
         "National Average",
         "52",
         "Rice - Retail",
         "5",
         "KG",
         "6.01"
        ],
        [
         "41",
         "National Average",
         "52",
         "Rice - Retail",
         "5",
         "KG",
         "6.28"
        ],
        [
         "42",
         "National Average",
         "52",
         "Rice - Retail",
         "5",
         "KG",
         "7.7321"
        ],
        [
         "43",
         "National Average",
         "52",
         "Rice - Retail",
         "5",
         "KG",
         "7.7563"
        ],
        [
         "44",
         "National Average",
         "52",
         "Rice - Retail",
         "5",
         "KG",
         "7.7952"
        ],
        [
         "45",
         "National Average",
         "52",
         "Rice - Retail",
         "5",
         "KG",
         "7.8248"
        ],
        [
         "46",
         "National Average",
         "52",
         "Rice - Retail",
         "5",
         "KG",
         "7.8543"
        ],
        [
         "47",
         "National Average",
         "52",
         "Rice - Retail",
         "5",
         "KG",
         "8.0722"
        ],
        [
         "48",
         "National Average",
         "52",
         "Rice - Retail",
         "5",
         "KG",
         "8.3216"
        ],
        [
         "49",
         "National Average",
         "52",
         "Rice - Retail",
         "5",
         "KG",
         "8.4695"
        ]
       ],
       "shape": {
        "columns": 6,
        "rows": 7381
       }
      },
      "text/html": [
       "<div>\n",
       "<style scoped>\n",
       "    .dataframe tbody tr th:only-of-type {\n",
       "        vertical-align: middle;\n",
       "    }\n",
       "\n",
       "    .dataframe tbody tr th {\n",
       "        vertical-align: top;\n",
       "    }\n",
       "\n",
       "    .dataframe thead th {\n",
       "        text-align: right;\n",
       "    }\n",
       "</style>\n",
       "<table border=\"1\" class=\"dataframe\">\n",
       "  <thead>\n",
       "    <tr style=\"text-align: right;\">\n",
       "      <th></th>\n",
       "      <th>Địa điểm</th>\n",
       "      <th>ProductId</th>\n",
       "      <th>Tên SP</th>\n",
       "      <th>UmId</th>\n",
       "      <th>UmName</th>\n",
       "      <th>Price</th>\n",
       "    </tr>\n",
       "  </thead>\n",
       "  <tbody>\n",
       "    <tr>\n",
       "      <th>0</th>\n",
       "      <td>National Average</td>\n",
       "      <td>52</td>\n",
       "      <td>Rice - Retail</td>\n",
       "      <td>5</td>\n",
       "      <td>KG</td>\n",
       "      <td>4.4920</td>\n",
       "    </tr>\n",
       "    <tr>\n",
       "      <th>1</th>\n",
       "      <td>National Average</td>\n",
       "      <td>52</td>\n",
       "      <td>Rice - Retail</td>\n",
       "      <td>5</td>\n",
       "      <td>KG</td>\n",
       "      <td>4.5786</td>\n",
       "    </tr>\n",
       "    <tr>\n",
       "      <th>2</th>\n",
       "      <td>National Average</td>\n",
       "      <td>52</td>\n",
       "      <td>Rice - Retail</td>\n",
       "      <td>5</td>\n",
       "      <td>KG</td>\n",
       "      <td>4.7865</td>\n",
       "    </tr>\n",
       "    <tr>\n",
       "      <th>3</th>\n",
       "      <td>National Average</td>\n",
       "      <td>52</td>\n",
       "      <td>Rice - Retail</td>\n",
       "      <td>5</td>\n",
       "      <td>KG</td>\n",
       "      <td>5.1337</td>\n",
       "    </tr>\n",
       "    <tr>\n",
       "      <th>4</th>\n",
       "      <td>National Average</td>\n",
       "      <td>52</td>\n",
       "      <td>Rice - Retail</td>\n",
       "      <td>5</td>\n",
       "      <td>KG</td>\n",
       "      <td>5.5099</td>\n",
       "    </tr>\n",
       "    <tr>\n",
       "      <th>...</th>\n",
       "      <td>...</td>\n",
       "      <td>...</td>\n",
       "      <td>...</td>\n",
       "      <td>...</td>\n",
       "      <td>...</td>\n",
       "      <td>...</td>\n",
       "    </tr>\n",
       "    <tr>\n",
       "      <th>7376</th>\n",
       "      <td>Izmir</td>\n",
       "      <td>502</td>\n",
       "      <td>Cocoa (powder) - Retail</td>\n",
       "      <td>5</td>\n",
       "      <td>KG</td>\n",
       "      <td>47.9040</td>\n",
       "    </tr>\n",
       "    <tr>\n",
       "      <th>7377</th>\n",
       "      <td>Izmir</td>\n",
       "      <td>502</td>\n",
       "      <td>Cocoa (powder) - Retail</td>\n",
       "      <td>5</td>\n",
       "      <td>KG</td>\n",
       "      <td>49.1176</td>\n",
       "    </tr>\n",
       "    <tr>\n",
       "      <th>7378</th>\n",
       "      <td>Izmir</td>\n",
       "      <td>502</td>\n",
       "      <td>Cocoa (powder) - Retail</td>\n",
       "      <td>5</td>\n",
       "      <td>KG</td>\n",
       "      <td>50.8347</td>\n",
       "    </tr>\n",
       "    <tr>\n",
       "      <th>7379</th>\n",
       "      <td>Izmir</td>\n",
       "      <td>502</td>\n",
       "      <td>Cocoa (powder) - Retail</td>\n",
       "      <td>5</td>\n",
       "      <td>KG</td>\n",
       "      <td>51.7985</td>\n",
       "    </tr>\n",
       "    <tr>\n",
       "      <th>7380</th>\n",
       "      <td>Izmir</td>\n",
       "      <td>502</td>\n",
       "      <td>Cocoa (powder) - Retail</td>\n",
       "      <td>5</td>\n",
       "      <td>KG</td>\n",
       "      <td>51.6071</td>\n",
       "    </tr>\n",
       "  </tbody>\n",
       "</table>\n",
       "<p>7381 rows × 6 columns</p>\n",
       "</div>"
      ],
      "text/plain": [
       "              Địa điểm  ProductId                   Tên SP  UmId UmName  \\\n",
       "0     National Average         52            Rice - Retail     5     KG   \n",
       "1     National Average         52            Rice - Retail     5     KG   \n",
       "2     National Average         52            Rice - Retail     5     KG   \n",
       "3     National Average         52            Rice - Retail     5     KG   \n",
       "4     National Average         52            Rice - Retail     5     KG   \n",
       "...                ...        ...                      ...   ...    ...   \n",
       "7376             Izmir        502  Cocoa (powder) - Retail     5     KG   \n",
       "7377             Izmir        502  Cocoa (powder) - Retail     5     KG   \n",
       "7378             Izmir        502  Cocoa (powder) - Retail     5     KG   \n",
       "7379             Izmir        502  Cocoa (powder) - Retail     5     KG   \n",
       "7380             Izmir        502  Cocoa (powder) - Retail     5     KG   \n",
       "\n",
       "        Price  \n",
       "0      4.4920  \n",
       "1      4.5786  \n",
       "2      4.7865  \n",
       "3      5.1337  \n",
       "4      5.5099  \n",
       "...       ...  \n",
       "7376  47.9040  \n",
       "7377  49.1176  \n",
       "7378  50.8347  \n",
       "7379  51.7985  \n",
       "7380  51.6071  \n",
       "\n",
       "[7381 rows x 6 columns]"
      ]
     },
     "execution_count": 149,
     "metadata": {},
     "output_type": "execute_result"
    }
   ],
   "source": [
    "# Xóa nhiều cột sử dụng phương thức drop()\n",
    "df.drop(['Month','Year'], axis=1, inplace=True)\n",
    "df"
   ]
  },
  {
   "cell_type": "code",
   "execution_count": 150,
   "id": "18cdee3f",
   "metadata": {},
   "outputs": [
    {
     "data": {
      "application/vnd.microsoft.datawrangler.viewer.v0+json": {
       "columns": [
        {
         "name": "index",
         "rawType": "int64",
         "type": "integer"
        },
        {
         "name": "Địa điểm",
         "rawType": "object",
         "type": "string"
        },
        {
         "name": "ProductId",
         "rawType": "int64",
         "type": "integer"
        },
        {
         "name": "Tên SP",
         "rawType": "object",
         "type": "string"
        },
        {
         "name": "UmId",
         "rawType": "int64",
         "type": "integer"
        },
        {
         "name": "UmName",
         "rawType": "object",
         "type": "string"
        },
        {
         "name": "Price",
         "rawType": "float64",
         "type": "float"
        }
       ],
       "ref": "ddbf0acb-9978-43f4-a2d8-7127016dc80d",
       "rows": [
        [
         "0",
         "National Average",
         "52",
         "Rice - Retail",
         "5",
         "KG",
         "4.492"
        ],
        [
         "2",
         "National Average",
         "52",
         "Rice - Retail",
         "5",
         "KG",
         "4.7865"
        ],
        [
         "3",
         "National Average",
         "52",
         "Rice - Retail",
         "5",
         "KG",
         "5.1337"
        ],
        [
         "4",
         "National Average",
         "52",
         "Rice - Retail",
         "5",
         "KG",
         "5.5099"
        ],
        [
         "5",
         "National Average",
         "52",
         "Rice - Retail",
         "5",
         "KG",
         "5.8146"
        ],
        [
         "6",
         "National Average",
         "52",
         "Rice - Retail",
         "5",
         "KG",
         "6.0014"
        ],
        [
         "7",
         "National Average",
         "52",
         "Rice - Retail",
         "5",
         "KG",
         "6.3202"
        ],
        [
         "8",
         "National Average",
         "52",
         "Rice - Retail",
         "5",
         "KG",
         "6.6019"
        ],
        [
         "9",
         "National Average",
         "52",
         "Rice - Retail",
         "5",
         "KG",
         "6.6503"
        ],
        [
         "10",
         "National Average",
         "52",
         "Rice - Retail",
         "5",
         "KG",
         "6.6806"
        ],
        [
         "11",
         "National Average",
         "52",
         "Rice - Retail",
         "5",
         "KG",
         "6.6035"
        ],
        [
         "12",
         "National Average",
         "52",
         "Rice - Retail",
         "5",
         "KG",
         "6.496"
        ],
        [
         "13",
         "National Average",
         "52",
         "Rice - Retail",
         "5",
         "KG",
         "6.644"
        ],
        [
         "14",
         "National Average",
         "52",
         "Rice - Retail",
         "5",
         "KG",
         "6.724"
        ],
        [
         "15",
         "National Average",
         "52",
         "Rice - Retail",
         "5",
         "KG",
         "6.755"
        ],
        [
         "16",
         "National Average",
         "52",
         "Rice - Retail",
         "5",
         "KG",
         "6.49"
        ],
        [
         "17",
         "National Average",
         "52",
         "Rice - Retail",
         "5",
         "KG",
         "6.517"
        ],
        [
         "18",
         "National Average",
         "52",
         "Rice - Retail",
         "5",
         "KG",
         "6.54"
        ],
        [
         "19",
         "National Average",
         "52",
         "Rice - Retail",
         "5",
         "KG",
         "6.53"
        ],
        [
         "20",
         "National Average",
         "52",
         "Rice - Retail",
         "5",
         "KG",
         "6.44"
        ],
        [
         "21",
         "National Average",
         "52",
         "Rice - Retail",
         "5",
         "KG",
         "6.33"
        ],
        [
         "22",
         "National Average",
         "52",
         "Rice - Retail",
         "5",
         "KG",
         "6.31"
        ],
        [
         "23",
         "National Average",
         "52",
         "Rice - Retail",
         "5",
         "KG",
         "6.33"
        ],
        [
         "24",
         "National Average",
         "52",
         "Rice - Retail",
         "5",
         "KG",
         "6.33"
        ],
        [
         "25",
         "National Average",
         "52",
         "Rice - Retail",
         "5",
         "KG",
         "6.28"
        ],
        [
         "26",
         "National Average",
         "52",
         "Rice - Retail",
         "5",
         "KG",
         "6.27"
        ],
        [
         "27",
         "National Average",
         "52",
         "Rice - Retail",
         "5",
         "KG",
         "6.37"
        ],
        [
         "28",
         "National Average",
         "52",
         "Rice - Retail",
         "5",
         "KG",
         "6.31"
        ],
        [
         "29",
         "National Average",
         "52",
         "Rice - Retail",
         "5",
         "KG",
         "6.26"
        ],
        [
         "30",
         "National Average",
         "52",
         "Rice - Retail",
         "5",
         "KG",
         "6.39"
        ],
        [
         "31",
         "National Average",
         "52",
         "Rice - Retail",
         "5",
         "KG",
         "6.06"
        ],
        [
         "32",
         "National Average",
         "52",
         "Rice - Retail",
         "5",
         "KG",
         "5.92"
        ],
        [
         "33",
         "National Average",
         "52",
         "Rice - Retail",
         "5",
         "KG",
         "5.86"
        ],
        [
         "34",
         "National Average",
         "52",
         "Rice - Retail",
         "5",
         "KG",
         "5.87"
        ],
        [
         "35",
         "National Average",
         "52",
         "Rice - Retail",
         "5",
         "KG",
         "5.82"
        ],
        [
         "36",
         "National Average",
         "52",
         "Rice - Retail",
         "5",
         "KG",
         "5.79"
        ],
        [
         "37",
         "National Average",
         "52",
         "Rice - Retail",
         "5",
         "KG",
         "5.85"
        ],
        [
         "38",
         "National Average",
         "52",
         "Rice - Retail",
         "5",
         "KG",
         "6.07"
        ],
        [
         "39",
         "National Average",
         "52",
         "Rice - Retail",
         "5",
         "KG",
         "5.87"
        ],
        [
         "40",
         "National Average",
         "52",
         "Rice - Retail",
         "5",
         "KG",
         "6.01"
        ],
        [
         "41",
         "National Average",
         "52",
         "Rice - Retail",
         "5",
         "KG",
         "6.28"
        ],
        [
         "42",
         "National Average",
         "52",
         "Rice - Retail",
         "5",
         "KG",
         "7.7321"
        ],
        [
         "43",
         "National Average",
         "52",
         "Rice - Retail",
         "5",
         "KG",
         "7.7563"
        ],
        [
         "44",
         "National Average",
         "52",
         "Rice - Retail",
         "5",
         "KG",
         "7.7952"
        ],
        [
         "45",
         "National Average",
         "52",
         "Rice - Retail",
         "5",
         "KG",
         "7.8248"
        ],
        [
         "46",
         "National Average",
         "52",
         "Rice - Retail",
         "5",
         "KG",
         "7.8543"
        ],
        [
         "47",
         "National Average",
         "52",
         "Rice - Retail",
         "5",
         "KG",
         "8.0722"
        ],
        [
         "48",
         "National Average",
         "52",
         "Rice - Retail",
         "5",
         "KG",
         "8.3216"
        ],
        [
         "49",
         "National Average",
         "52",
         "Rice - Retail",
         "5",
         "KG",
         "8.4695"
        ],
        [
         "50",
         "National Average",
         "52",
         "Rice - Retail",
         "5",
         "KG",
         "8.8124"
        ]
       ],
       "shape": {
        "columns": 6,
        "rows": 7380
       }
      },
      "text/html": [
       "<div>\n",
       "<style scoped>\n",
       "    .dataframe tbody tr th:only-of-type {\n",
       "        vertical-align: middle;\n",
       "    }\n",
       "\n",
       "    .dataframe tbody tr th {\n",
       "        vertical-align: top;\n",
       "    }\n",
       "\n",
       "    .dataframe thead th {\n",
       "        text-align: right;\n",
       "    }\n",
       "</style>\n",
       "<table border=\"1\" class=\"dataframe\">\n",
       "  <thead>\n",
       "    <tr style=\"text-align: right;\">\n",
       "      <th></th>\n",
       "      <th>Địa điểm</th>\n",
       "      <th>ProductId</th>\n",
       "      <th>Tên SP</th>\n",
       "      <th>UmId</th>\n",
       "      <th>UmName</th>\n",
       "      <th>Price</th>\n",
       "    </tr>\n",
       "  </thead>\n",
       "  <tbody>\n",
       "    <tr>\n",
       "      <th>0</th>\n",
       "      <td>National Average</td>\n",
       "      <td>52</td>\n",
       "      <td>Rice - Retail</td>\n",
       "      <td>5</td>\n",
       "      <td>KG</td>\n",
       "      <td>4.4920</td>\n",
       "    </tr>\n",
       "    <tr>\n",
       "      <th>2</th>\n",
       "      <td>National Average</td>\n",
       "      <td>52</td>\n",
       "      <td>Rice - Retail</td>\n",
       "      <td>5</td>\n",
       "      <td>KG</td>\n",
       "      <td>4.7865</td>\n",
       "    </tr>\n",
       "    <tr>\n",
       "      <th>3</th>\n",
       "      <td>National Average</td>\n",
       "      <td>52</td>\n",
       "      <td>Rice - Retail</td>\n",
       "      <td>5</td>\n",
       "      <td>KG</td>\n",
       "      <td>5.1337</td>\n",
       "    </tr>\n",
       "    <tr>\n",
       "      <th>4</th>\n",
       "      <td>National Average</td>\n",
       "      <td>52</td>\n",
       "      <td>Rice - Retail</td>\n",
       "      <td>5</td>\n",
       "      <td>KG</td>\n",
       "      <td>5.5099</td>\n",
       "    </tr>\n",
       "    <tr>\n",
       "      <th>5</th>\n",
       "      <td>National Average</td>\n",
       "      <td>52</td>\n",
       "      <td>Rice - Retail</td>\n",
       "      <td>5</td>\n",
       "      <td>KG</td>\n",
       "      <td>5.8146</td>\n",
       "    </tr>\n",
       "    <tr>\n",
       "      <th>...</th>\n",
       "      <td>...</td>\n",
       "      <td>...</td>\n",
       "      <td>...</td>\n",
       "      <td>...</td>\n",
       "      <td>...</td>\n",
       "      <td>...</td>\n",
       "    </tr>\n",
       "    <tr>\n",
       "      <th>7376</th>\n",
       "      <td>Izmir</td>\n",
       "      <td>502</td>\n",
       "      <td>Cocoa (powder) - Retail</td>\n",
       "      <td>5</td>\n",
       "      <td>KG</td>\n",
       "      <td>47.9040</td>\n",
       "    </tr>\n",
       "    <tr>\n",
       "      <th>7377</th>\n",
       "      <td>Izmir</td>\n",
       "      <td>502</td>\n",
       "      <td>Cocoa (powder) - Retail</td>\n",
       "      <td>5</td>\n",
       "      <td>KG</td>\n",
       "      <td>49.1176</td>\n",
       "    </tr>\n",
       "    <tr>\n",
       "      <th>7378</th>\n",
       "      <td>Izmir</td>\n",
       "      <td>502</td>\n",
       "      <td>Cocoa (powder) - Retail</td>\n",
       "      <td>5</td>\n",
       "      <td>KG</td>\n",
       "      <td>50.8347</td>\n",
       "    </tr>\n",
       "    <tr>\n",
       "      <th>7379</th>\n",
       "      <td>Izmir</td>\n",
       "      <td>502</td>\n",
       "      <td>Cocoa (powder) - Retail</td>\n",
       "      <td>5</td>\n",
       "      <td>KG</td>\n",
       "      <td>51.7985</td>\n",
       "    </tr>\n",
       "    <tr>\n",
       "      <th>7380</th>\n",
       "      <td>Izmir</td>\n",
       "      <td>502</td>\n",
       "      <td>Cocoa (powder) - Retail</td>\n",
       "      <td>5</td>\n",
       "      <td>KG</td>\n",
       "      <td>51.6071</td>\n",
       "    </tr>\n",
       "  </tbody>\n",
       "</table>\n",
       "<p>7380 rows × 6 columns</p>\n",
       "</div>"
      ],
      "text/plain": [
       "              Địa điểm  ProductId                   Tên SP  UmId UmName  \\\n",
       "0     National Average         52            Rice - Retail     5     KG   \n",
       "2     National Average         52            Rice - Retail     5     KG   \n",
       "3     National Average         52            Rice - Retail     5     KG   \n",
       "4     National Average         52            Rice - Retail     5     KG   \n",
       "5     National Average         52            Rice - Retail     5     KG   \n",
       "...                ...        ...                      ...   ...    ...   \n",
       "7376             Izmir        502  Cocoa (powder) - Retail     5     KG   \n",
       "7377             Izmir        502  Cocoa (powder) - Retail     5     KG   \n",
       "7378             Izmir        502  Cocoa (powder) - Retail     5     KG   \n",
       "7379             Izmir        502  Cocoa (powder) - Retail     5     KG   \n",
       "7380             Izmir        502  Cocoa (powder) - Retail     5     KG   \n",
       "\n",
       "        Price  \n",
       "0      4.4920  \n",
       "2      4.7865  \n",
       "3      5.1337  \n",
       "4      5.5099  \n",
       "5      5.8146  \n",
       "...       ...  \n",
       "7376  47.9040  \n",
       "7377  49.1176  \n",
       "7378  50.8347  \n",
       "7379  51.7985  \n",
       "7380  51.6071  \n",
       "\n",
       "[7380 rows x 6 columns]"
      ]
     },
     "execution_count": 150,
     "metadata": {},
     "output_type": "execute_result"
    }
   ],
   "source": [
    "# Cú pháp: df.drop(Chỉ số dòng cần xóa, axis=0, inplace=True)\n",
    "# axis = 0 là giá trị mặc định có thể viết tường minh hoặc không\n",
    "# Xóa dòng có chỉ số 1 (dòng thứ 2) sử dụng phương thức drop()\n",
    "\n",
    "df.drop(1, axis = 0, inplace=True)\n",
    "df"
   ]
  },
  {
   "cell_type": "code",
   "execution_count": 151,
   "id": "000c7baf",
   "metadata": {},
   "outputs": [
    {
     "data": {
      "application/vnd.microsoft.datawrangler.viewer.v0+json": {
       "columns": [
        {
         "name": "index",
         "rawType": "int64",
         "type": "integer"
        },
        {
         "name": "Địa điểm",
         "rawType": "object",
         "type": "string"
        },
        {
         "name": "ProductId",
         "rawType": "int64",
         "type": "integer"
        },
        {
         "name": "Tên SP",
         "rawType": "object",
         "type": "string"
        },
        {
         "name": "UmId",
         "rawType": "int64",
         "type": "integer"
        },
        {
         "name": "UmName",
         "rawType": "object",
         "type": "string"
        },
        {
         "name": "Price",
         "rawType": "float64",
         "type": "float"
        }
       ],
       "ref": "bd3b012a-7627-4c60-bf68-bd297eca299d",
       "rows": [
        [
         "0",
         "National Average",
         "52",
         "Rice - Retail",
         "5",
         "KG",
         "4.492"
        ],
        [
         "2",
         "National Average",
         "52",
         "Rice - Retail",
         "5",
         "KG",
         "4.7865"
        ],
        [
         "3",
         "National Average",
         "52",
         "Rice - Retail",
         "5",
         "KG",
         "5.1337"
        ],
        [
         "4",
         "National Average",
         "52",
         "Rice - Retail",
         "5",
         "KG",
         "5.5099"
        ],
        [
         "5",
         "National Average",
         "52",
         "Rice - Retail",
         "5",
         "KG",
         "5.8146"
        ],
        [
         "6",
         "National Average",
         "52",
         "Rice - Retail",
         "5",
         "KG",
         "6.0014"
        ],
        [
         "7",
         "National Average",
         "52",
         "Rice - Retail",
         "5",
         "KG",
         "6.3202"
        ],
        [
         "8",
         "National Average",
         "52",
         "Rice - Retail",
         "5",
         "KG",
         "6.6019"
        ],
        [
         "9",
         "National Average",
         "52",
         "Rice - Retail",
         "5",
         "KG",
         "6.6503"
        ],
        [
         "10",
         "National Average",
         "52",
         "Rice - Retail",
         "5",
         "KG",
         "6.6806"
        ],
        [
         "11",
         "National Average",
         "52",
         "Rice - Retail",
         "5",
         "KG",
         "6.6035"
        ],
        [
         "12",
         "National Average",
         "52",
         "Rice - Retail",
         "5",
         "KG",
         "6.496"
        ],
        [
         "13",
         "National Average",
         "52",
         "Rice - Retail",
         "5",
         "KG",
         "6.644"
        ],
        [
         "14",
         "National Average",
         "52",
         "Rice - Retail",
         "5",
         "KG",
         "6.724"
        ],
        [
         "15",
         "National Average",
         "52",
         "Rice - Retail",
         "5",
         "KG",
         "6.755"
        ],
        [
         "16",
         "National Average",
         "52",
         "Rice - Retail",
         "5",
         "KG",
         "6.49"
        ],
        [
         "17",
         "National Average",
         "52",
         "Rice - Retail",
         "5",
         "KG",
         "6.517"
        ],
        [
         "18",
         "National Average",
         "52",
         "Rice - Retail",
         "5",
         "KG",
         "6.54"
        ],
        [
         "19",
         "National Average",
         "52",
         "Rice - Retail",
         "5",
         "KG",
         "6.53"
        ],
        [
         "20",
         "National Average",
         "52",
         "Rice - Retail",
         "5",
         "KG",
         "6.44"
        ],
        [
         "21",
         "National Average",
         "52",
         "Rice - Retail",
         "5",
         "KG",
         "6.33"
        ],
        [
         "22",
         "National Average",
         "52",
         "Rice - Retail",
         "5",
         "KG",
         "6.31"
        ],
        [
         "23",
         "National Average",
         "52",
         "Rice - Retail",
         "5",
         "KG",
         "6.33"
        ],
        [
         "24",
         "National Average",
         "52",
         "Rice - Retail",
         "5",
         "KG",
         "6.33"
        ],
        [
         "25",
         "National Average",
         "52",
         "Rice - Retail",
         "5",
         "KG",
         "6.28"
        ],
        [
         "26",
         "National Average",
         "52",
         "Rice - Retail",
         "5",
         "KG",
         "6.27"
        ],
        [
         "27",
         "National Average",
         "52",
         "Rice - Retail",
         "5",
         "KG",
         "6.37"
        ],
        [
         "28",
         "National Average",
         "52",
         "Rice - Retail",
         "5",
         "KG",
         "6.31"
        ],
        [
         "29",
         "National Average",
         "52",
         "Rice - Retail",
         "5",
         "KG",
         "6.26"
        ],
        [
         "30",
         "National Average",
         "52",
         "Rice - Retail",
         "5",
         "KG",
         "6.39"
        ],
        [
         "31",
         "National Average",
         "52",
         "Rice - Retail",
         "5",
         "KG",
         "6.06"
        ],
        [
         "32",
         "National Average",
         "52",
         "Rice - Retail",
         "5",
         "KG",
         "5.92"
        ],
        [
         "33",
         "National Average",
         "52",
         "Rice - Retail",
         "5",
         "KG",
         "5.86"
        ],
        [
         "34",
         "National Average",
         "52",
         "Rice - Retail",
         "5",
         "KG",
         "5.87"
        ],
        [
         "35",
         "National Average",
         "52",
         "Rice - Retail",
         "5",
         "KG",
         "5.82"
        ],
        [
         "36",
         "National Average",
         "52",
         "Rice - Retail",
         "5",
         "KG",
         "5.79"
        ],
        [
         "37",
         "National Average",
         "52",
         "Rice - Retail",
         "5",
         "KG",
         "5.85"
        ],
        [
         "38",
         "National Average",
         "52",
         "Rice - Retail",
         "5",
         "KG",
         "6.07"
        ],
        [
         "39",
         "National Average",
         "52",
         "Rice - Retail",
         "5",
         "KG",
         "5.87"
        ],
        [
         "40",
         "National Average",
         "52",
         "Rice - Retail",
         "5",
         "KG",
         "6.01"
        ],
        [
         "41",
         "National Average",
         "52",
         "Rice - Retail",
         "5",
         "KG",
         "6.28"
        ],
        [
         "42",
         "National Average",
         "52",
         "Rice - Retail",
         "5",
         "KG",
         "7.7321"
        ],
        [
         "43",
         "National Average",
         "52",
         "Rice - Retail",
         "5",
         "KG",
         "7.7563"
        ],
        [
         "44",
         "National Average",
         "52",
         "Rice - Retail",
         "5",
         "KG",
         "7.7952"
        ],
        [
         "45",
         "National Average",
         "52",
         "Rice - Retail",
         "5",
         "KG",
         "7.8248"
        ],
        [
         "46",
         "National Average",
         "52",
         "Rice - Retail",
         "5",
         "KG",
         "7.8543"
        ],
        [
         "47",
         "National Average",
         "52",
         "Rice - Retail",
         "5",
         "KG",
         "8.0722"
        ],
        [
         "48",
         "National Average",
         "52",
         "Rice - Retail",
         "5",
         "KG",
         "8.3216"
        ],
        [
         "49",
         "National Average",
         "52",
         "Rice - Retail",
         "5",
         "KG",
         "8.4695"
        ],
        [
         "50",
         "National Average",
         "52",
         "Rice - Retail",
         "5",
         "KG",
         "8.8124"
        ]
       ],
       "shape": {
        "columns": 6,
        "rows": 7378
       }
      },
      "text/html": [
       "<div>\n",
       "<style scoped>\n",
       "    .dataframe tbody tr th:only-of-type {\n",
       "        vertical-align: middle;\n",
       "    }\n",
       "\n",
       "    .dataframe tbody tr th {\n",
       "        vertical-align: top;\n",
       "    }\n",
       "\n",
       "    .dataframe thead th {\n",
       "        text-align: right;\n",
       "    }\n",
       "</style>\n",
       "<table border=\"1\" class=\"dataframe\">\n",
       "  <thead>\n",
       "    <tr style=\"text-align: right;\">\n",
       "      <th></th>\n",
       "      <th>Địa điểm</th>\n",
       "      <th>ProductId</th>\n",
       "      <th>Tên SP</th>\n",
       "      <th>UmId</th>\n",
       "      <th>UmName</th>\n",
       "      <th>Price</th>\n",
       "    </tr>\n",
       "  </thead>\n",
       "  <tbody>\n",
       "    <tr>\n",
       "      <th>0</th>\n",
       "      <td>National Average</td>\n",
       "      <td>52</td>\n",
       "      <td>Rice - Retail</td>\n",
       "      <td>5</td>\n",
       "      <td>KG</td>\n",
       "      <td>4.4920</td>\n",
       "    </tr>\n",
       "    <tr>\n",
       "      <th>2</th>\n",
       "      <td>National Average</td>\n",
       "      <td>52</td>\n",
       "      <td>Rice - Retail</td>\n",
       "      <td>5</td>\n",
       "      <td>KG</td>\n",
       "      <td>4.7865</td>\n",
       "    </tr>\n",
       "    <tr>\n",
       "      <th>3</th>\n",
       "      <td>National Average</td>\n",
       "      <td>52</td>\n",
       "      <td>Rice - Retail</td>\n",
       "      <td>5</td>\n",
       "      <td>KG</td>\n",
       "      <td>5.1337</td>\n",
       "    </tr>\n",
       "    <tr>\n",
       "      <th>4</th>\n",
       "      <td>National Average</td>\n",
       "      <td>52</td>\n",
       "      <td>Rice - Retail</td>\n",
       "      <td>5</td>\n",
       "      <td>KG</td>\n",
       "      <td>5.5099</td>\n",
       "    </tr>\n",
       "    <tr>\n",
       "      <th>5</th>\n",
       "      <td>National Average</td>\n",
       "      <td>52</td>\n",
       "      <td>Rice - Retail</td>\n",
       "      <td>5</td>\n",
       "      <td>KG</td>\n",
       "      <td>5.8146</td>\n",
       "    </tr>\n",
       "    <tr>\n",
       "      <th>...</th>\n",
       "      <td>...</td>\n",
       "      <td>...</td>\n",
       "      <td>...</td>\n",
       "      <td>...</td>\n",
       "      <td>...</td>\n",
       "      <td>...</td>\n",
       "    </tr>\n",
       "    <tr>\n",
       "      <th>7374</th>\n",
       "      <td>Izmir</td>\n",
       "      <td>502</td>\n",
       "      <td>Cocoa (powder) - Retail</td>\n",
       "      <td>5</td>\n",
       "      <td>KG</td>\n",
       "      <td>46.4609</td>\n",
       "    </tr>\n",
       "    <tr>\n",
       "      <th>7375</th>\n",
       "      <td>Izmir</td>\n",
       "      <td>502</td>\n",
       "      <td>Cocoa (powder) - Retail</td>\n",
       "      <td>5</td>\n",
       "      <td>KG</td>\n",
       "      <td>47.4010</td>\n",
       "    </tr>\n",
       "    <tr>\n",
       "      <th>7376</th>\n",
       "      <td>Izmir</td>\n",
       "      <td>502</td>\n",
       "      <td>Cocoa (powder) - Retail</td>\n",
       "      <td>5</td>\n",
       "      <td>KG</td>\n",
       "      <td>47.9040</td>\n",
       "    </tr>\n",
       "    <tr>\n",
       "      <th>7378</th>\n",
       "      <td>Izmir</td>\n",
       "      <td>502</td>\n",
       "      <td>Cocoa (powder) - Retail</td>\n",
       "      <td>5</td>\n",
       "      <td>KG</td>\n",
       "      <td>50.8347</td>\n",
       "    </tr>\n",
       "    <tr>\n",
       "      <th>7380</th>\n",
       "      <td>Izmir</td>\n",
       "      <td>502</td>\n",
       "      <td>Cocoa (powder) - Retail</td>\n",
       "      <td>5</td>\n",
       "      <td>KG</td>\n",
       "      <td>51.6071</td>\n",
       "    </tr>\n",
       "  </tbody>\n",
       "</table>\n",
       "<p>7378 rows × 6 columns</p>\n",
       "</div>"
      ],
      "text/plain": [
       "              Địa điểm  ProductId                   Tên SP  UmId UmName  \\\n",
       "0     National Average         52            Rice - Retail     5     KG   \n",
       "2     National Average         52            Rice - Retail     5     KG   \n",
       "3     National Average         52            Rice - Retail     5     KG   \n",
       "4     National Average         52            Rice - Retail     5     KG   \n",
       "5     National Average         52            Rice - Retail     5     KG   \n",
       "...                ...        ...                      ...   ...    ...   \n",
       "7374             Izmir        502  Cocoa (powder) - Retail     5     KG   \n",
       "7375             Izmir        502  Cocoa (powder) - Retail     5     KG   \n",
       "7376             Izmir        502  Cocoa (powder) - Retail     5     KG   \n",
       "7378             Izmir        502  Cocoa (powder) - Retail     5     KG   \n",
       "7380             Izmir        502  Cocoa (powder) - Retail     5     KG   \n",
       "\n",
       "        Price  \n",
       "0      4.4920  \n",
       "2      4.7865  \n",
       "3      5.1337  \n",
       "4      5.5099  \n",
       "5      5.8146  \n",
       "...       ...  \n",
       "7374  46.4609  \n",
       "7375  47.4010  \n",
       "7376  47.9040  \n",
       "7378  50.8347  \n",
       "7380  51.6071  \n",
       "\n",
       "[7378 rows x 6 columns]"
      ]
     },
     "execution_count": 151,
     "metadata": {},
     "output_type": "execute_result"
    }
   ],
   "source": [
    "# Xóa các dòng có chỉ số 7377 và 7379 sử dụng phương thức drop()\n",
    "df.drop([7377,7379], inplace=True)\n",
    "df"
   ]
  },
  {
   "cell_type": "code",
   "execution_count": 152,
   "id": "437ae7cf",
   "metadata": {},
   "outputs": [
    {
     "data": {
      "application/vnd.microsoft.datawrangler.viewer.v0+json": {
       "columns": [
        {
         "name": "index",
         "rawType": "int64",
         "type": "integer"
        },
        {
         "name": "Place",
         "rawType": "object",
         "type": "string"
        },
        {
         "name": "ProductId",
         "rawType": "int64",
         "type": "integer"
        },
        {
         "name": "ProductName",
         "rawType": "object",
         "type": "string"
        },
        {
         "name": "UmId",
         "rawType": "int64",
         "type": "integer"
        },
        {
         "name": "UmName",
         "rawType": "object",
         "type": "string"
        },
        {
         "name": "Month",
         "rawType": "int64",
         "type": "integer"
        },
        {
         "name": "Year",
         "rawType": "int64",
         "type": "integer"
        },
        {
         "name": "Price",
         "rawType": "float64",
         "type": "float"
        }
       ],
       "ref": "d29d2bee-5001-42a3-8057-389498f04517",
       "rows": [
        [
         "0",
         "National Average",
         "52",
         "Rice - Retail",
         "5",
         "KG",
         "5",
         "2013",
         "4.492"
        ],
        [
         "1",
         "National Average",
         "52",
         "Rice - Retail",
         "5",
         "KG",
         "6",
         "2013",
         "4.5786"
        ],
        [
         "2",
         "National Average",
         "52",
         "Rice - Retail",
         "5",
         "KG",
         "11",
         "2013",
         "4.7865"
        ],
        [
         "3",
         "National Average",
         "52",
         "Rice - Retail",
         "5",
         "KG",
         "12",
         "2013",
         "5.1337"
        ],
        [
         "4",
         "National Average",
         "52",
         "Rice - Retail",
         "5",
         "KG",
         "1",
         "2014",
         "5.5099"
        ]
       ],
       "shape": {
        "columns": 8,
        "rows": 5
       }
      },
      "text/html": [
       "<div>\n",
       "<style scoped>\n",
       "    .dataframe tbody tr th:only-of-type {\n",
       "        vertical-align: middle;\n",
       "    }\n",
       "\n",
       "    .dataframe tbody tr th {\n",
       "        vertical-align: top;\n",
       "    }\n",
       "\n",
       "    .dataframe thead th {\n",
       "        text-align: right;\n",
       "    }\n",
       "</style>\n",
       "<table border=\"1\" class=\"dataframe\">\n",
       "  <thead>\n",
       "    <tr style=\"text-align: right;\">\n",
       "      <th></th>\n",
       "      <th>Place</th>\n",
       "      <th>ProductId</th>\n",
       "      <th>ProductName</th>\n",
       "      <th>UmId</th>\n",
       "      <th>UmName</th>\n",
       "      <th>Month</th>\n",
       "      <th>Year</th>\n",
       "      <th>Price</th>\n",
       "    </tr>\n",
       "  </thead>\n",
       "  <tbody>\n",
       "    <tr>\n",
       "      <th>0</th>\n",
       "      <td>National Average</td>\n",
       "      <td>52</td>\n",
       "      <td>Rice - Retail</td>\n",
       "      <td>5</td>\n",
       "      <td>KG</td>\n",
       "      <td>5</td>\n",
       "      <td>2013</td>\n",
       "      <td>4.4920</td>\n",
       "    </tr>\n",
       "    <tr>\n",
       "      <th>1</th>\n",
       "      <td>National Average</td>\n",
       "      <td>52</td>\n",
       "      <td>Rice - Retail</td>\n",
       "      <td>5</td>\n",
       "      <td>KG</td>\n",
       "      <td>6</td>\n",
       "      <td>2013</td>\n",
       "      <td>4.5786</td>\n",
       "    </tr>\n",
       "    <tr>\n",
       "      <th>2</th>\n",
       "      <td>National Average</td>\n",
       "      <td>52</td>\n",
       "      <td>Rice - Retail</td>\n",
       "      <td>5</td>\n",
       "      <td>KG</td>\n",
       "      <td>11</td>\n",
       "      <td>2013</td>\n",
       "      <td>4.7865</td>\n",
       "    </tr>\n",
       "    <tr>\n",
       "      <th>3</th>\n",
       "      <td>National Average</td>\n",
       "      <td>52</td>\n",
       "      <td>Rice - Retail</td>\n",
       "      <td>5</td>\n",
       "      <td>KG</td>\n",
       "      <td>12</td>\n",
       "      <td>2013</td>\n",
       "      <td>5.1337</td>\n",
       "    </tr>\n",
       "    <tr>\n",
       "      <th>4</th>\n",
       "      <td>National Average</td>\n",
       "      <td>52</td>\n",
       "      <td>Rice - Retail</td>\n",
       "      <td>5</td>\n",
       "      <td>KG</td>\n",
       "      <td>1</td>\n",
       "      <td>2014</td>\n",
       "      <td>5.5099</td>\n",
       "    </tr>\n",
       "  </tbody>\n",
       "</table>\n",
       "</div>"
      ],
      "text/plain": [
       "              Place  ProductId    ProductName  UmId UmName  Month  Year  \\\n",
       "0  National Average         52  Rice - Retail     5     KG      5  2013   \n",
       "1  National Average         52  Rice - Retail     5     KG      6  2013   \n",
       "2  National Average         52  Rice - Retail     5     KG     11  2013   \n",
       "3  National Average         52  Rice - Retail     5     KG     12  2013   \n",
       "4  National Average         52  Rice - Retail     5     KG      1  2014   \n",
       "\n",
       "    Price  \n",
       "0  4.4920  \n",
       "1  4.5786  \n",
       "2  4.7865  \n",
       "3  5.1337  \n",
       "4  5.5099  "
      ]
     },
     "execution_count": 152,
     "metadata": {},
     "output_type": "execute_result"
    }
   ],
   "source": [
    "# [Thực hành] Truy cập dữ liệu trong DataFrame\n",
    "import pandas as pd\n",
    "df=pd.read_csv(r\"/workspaces/Codegym/Dataset/FoodPrice_in_Turkey.csv\", encoding = \"ISO-8859-1\")\n",
    "# Hiển thị 5 dòng dữ liệu đầu tiên\n",
    "df.head(5)"
   ]
  },
  {
   "cell_type": "code",
   "execution_count": 153,
   "id": "400b6e5f",
   "metadata": {},
   "outputs": [
    {
     "data": {
      "application/vnd.microsoft.datawrangler.viewer.v0+json": {
       "columns": [
        {
         "name": "index",
         "rawType": "object",
         "type": "string"
        },
        {
         "name": "3",
         "rawType": "object",
         "type": "unknown"
        }
       ],
       "ref": "0e2ad671-6281-4624-aee7-33206a874768",
       "rows": [
        [
         "Place",
         "National Average"
        ],
        [
         "ProductId",
         "52"
        ],
        [
         "ProductName",
         "Rice - Retail"
        ],
        [
         "UmId",
         "5"
        ],
        [
         "UmName",
         "KG"
        ],
        [
         "Month",
         "12"
        ],
        [
         "Year",
         "2013"
        ],
        [
         "Price",
         "5.1337"
        ]
       ],
       "shape": {
        "columns": 1,
        "rows": 8
       }
      },
      "text/plain": [
       "Place          National Average\n",
       "ProductId                    52\n",
       "ProductName       Rice - Retail\n",
       "UmId                          5\n",
       "UmName                       KG\n",
       "Month                        12\n",
       "Year                       2013\n",
       "Price                    5.1337\n",
       "Name: 3, dtype: object"
      ]
     },
     "execution_count": 153,
     "metadata": {},
     "output_type": "execute_result"
    }
   ],
   "source": [
    "# Truy cập dòng có chỉ số 3 của dữ liệu\n",
    "tg = df.iloc[3]\n",
    "tg"
   ]
  },
  {
   "cell_type": "code",
   "execution_count": 154,
   "id": "0ea63234",
   "metadata": {},
   "outputs": [
    {
     "data": {
      "application/vnd.microsoft.datawrangler.viewer.v0+json": {
       "columns": [
        {
         "name": "index",
         "rawType": "int64",
         "type": "integer"
        },
        {
         "name": "Place",
         "rawType": "object",
         "type": "string"
        },
        {
         "name": "ProductId",
         "rawType": "int64",
         "type": "integer"
        },
        {
         "name": "ProductName",
         "rawType": "object",
         "type": "string"
        },
        {
         "name": "UmId",
         "rawType": "int64",
         "type": "integer"
        },
        {
         "name": "UmName",
         "rawType": "object",
         "type": "string"
        },
        {
         "name": "Month",
         "rawType": "int64",
         "type": "integer"
        },
        {
         "name": "Year",
         "rawType": "int64",
         "type": "integer"
        },
        {
         "name": "Price",
         "rawType": "float64",
         "type": "float"
        }
       ],
       "ref": "6b6b99fd-e414-4852-8df1-5d57195e2126",
       "rows": [
        [
         "3",
         "National Average",
         "52",
         "Rice - Retail",
         "5",
         "KG",
         "12",
         "2013",
         "5.1337"
        ],
        [
         "4",
         "National Average",
         "52",
         "Rice - Retail",
         "5",
         "KG",
         "1",
         "2014",
         "5.5099"
        ],
        [
         "5",
         "National Average",
         "52",
         "Rice - Retail",
         "5",
         "KG",
         "2",
         "2014",
         "5.8146"
        ],
        [
         "6",
         "National Average",
         "52",
         "Rice - Retail",
         "5",
         "KG",
         "3",
         "2014",
         "6.0014"
        ],
        [
         "7",
         "National Average",
         "52",
         "Rice - Retail",
         "5",
         "KG",
         "5",
         "2014",
         "6.3202"
        ]
       ],
       "shape": {
        "columns": 8,
        "rows": 5
       }
      },
      "text/html": [
       "<div>\n",
       "<style scoped>\n",
       "    .dataframe tbody tr th:only-of-type {\n",
       "        vertical-align: middle;\n",
       "    }\n",
       "\n",
       "    .dataframe tbody tr th {\n",
       "        vertical-align: top;\n",
       "    }\n",
       "\n",
       "    .dataframe thead th {\n",
       "        text-align: right;\n",
       "    }\n",
       "</style>\n",
       "<table border=\"1\" class=\"dataframe\">\n",
       "  <thead>\n",
       "    <tr style=\"text-align: right;\">\n",
       "      <th></th>\n",
       "      <th>Place</th>\n",
       "      <th>ProductId</th>\n",
       "      <th>ProductName</th>\n",
       "      <th>UmId</th>\n",
       "      <th>UmName</th>\n",
       "      <th>Month</th>\n",
       "      <th>Year</th>\n",
       "      <th>Price</th>\n",
       "    </tr>\n",
       "  </thead>\n",
       "  <tbody>\n",
       "    <tr>\n",
       "      <th>3</th>\n",
       "      <td>National Average</td>\n",
       "      <td>52</td>\n",
       "      <td>Rice - Retail</td>\n",
       "      <td>5</td>\n",
       "      <td>KG</td>\n",
       "      <td>12</td>\n",
       "      <td>2013</td>\n",
       "      <td>5.1337</td>\n",
       "    </tr>\n",
       "    <tr>\n",
       "      <th>4</th>\n",
       "      <td>National Average</td>\n",
       "      <td>52</td>\n",
       "      <td>Rice - Retail</td>\n",
       "      <td>5</td>\n",
       "      <td>KG</td>\n",
       "      <td>1</td>\n",
       "      <td>2014</td>\n",
       "      <td>5.5099</td>\n",
       "    </tr>\n",
       "    <tr>\n",
       "      <th>5</th>\n",
       "      <td>National Average</td>\n",
       "      <td>52</td>\n",
       "      <td>Rice - Retail</td>\n",
       "      <td>5</td>\n",
       "      <td>KG</td>\n",
       "      <td>2</td>\n",
       "      <td>2014</td>\n",
       "      <td>5.8146</td>\n",
       "    </tr>\n",
       "    <tr>\n",
       "      <th>6</th>\n",
       "      <td>National Average</td>\n",
       "      <td>52</td>\n",
       "      <td>Rice - Retail</td>\n",
       "      <td>5</td>\n",
       "      <td>KG</td>\n",
       "      <td>3</td>\n",
       "      <td>2014</td>\n",
       "      <td>6.0014</td>\n",
       "    </tr>\n",
       "    <tr>\n",
       "      <th>7</th>\n",
       "      <td>National Average</td>\n",
       "      <td>52</td>\n",
       "      <td>Rice - Retail</td>\n",
       "      <td>5</td>\n",
       "      <td>KG</td>\n",
       "      <td>5</td>\n",
       "      <td>2014</td>\n",
       "      <td>6.3202</td>\n",
       "    </tr>\n",
       "  </tbody>\n",
       "</table>\n",
       "</div>"
      ],
      "text/plain": [
       "              Place  ProductId    ProductName  UmId UmName  Month  Year  \\\n",
       "3  National Average         52  Rice - Retail     5     KG     12  2013   \n",
       "4  National Average         52  Rice - Retail     5     KG      1  2014   \n",
       "5  National Average         52  Rice - Retail     5     KG      2  2014   \n",
       "6  National Average         52  Rice - Retail     5     KG      3  2014   \n",
       "7  National Average         52  Rice - Retail     5     KG      5  2014   \n",
       "\n",
       "    Price  \n",
       "3  5.1337  \n",
       "4  5.5099  \n",
       "5  5.8146  \n",
       "6  6.0014  \n",
       "7  6.3202  "
      ]
     },
     "execution_count": 154,
     "metadata": {},
     "output_type": "execute_result"
    }
   ],
   "source": [
    "# Truy cập các dòng có chỉ số liên tục từ 3 tới 8 của dữ liệu\n",
    "tg = df.iloc[3:8]\n",
    "tg"
   ]
  },
  {
   "cell_type": "code",
   "execution_count": 155,
   "id": "3a69ef19",
   "metadata": {},
   "outputs": [
    {
     "data": {
      "application/vnd.microsoft.datawrangler.viewer.v0+json": {
       "columns": [
        {
         "name": "index",
         "rawType": "int64",
         "type": "integer"
        },
        {
         "name": "Place",
         "rawType": "object",
         "type": "string"
        },
        {
         "name": "ProductId",
         "rawType": "int64",
         "type": "integer"
        },
        {
         "name": "ProductName",
         "rawType": "object",
         "type": "string"
        },
        {
         "name": "UmId",
         "rawType": "int64",
         "type": "integer"
        },
        {
         "name": "UmName",
         "rawType": "object",
         "type": "string"
        },
        {
         "name": "Month",
         "rawType": "int64",
         "type": "integer"
        },
        {
         "name": "Year",
         "rawType": "int64",
         "type": "integer"
        },
        {
         "name": "Price",
         "rawType": "float64",
         "type": "float"
        }
       ],
       "ref": "fc4f6437-f8eb-4a7f-84a1-d267b86499c8",
       "rows": [
        [
         "3",
         "National Average",
         "52",
         "Rice - Retail",
         "5",
         "KG",
         "12",
         "2013",
         "5.1337"
        ],
        [
         "5",
         "National Average",
         "52",
         "Rice - Retail",
         "5",
         "KG",
         "2",
         "2014",
         "5.8146"
        ],
        [
         "7",
         "National Average",
         "52",
         "Rice - Retail",
         "5",
         "KG",
         "5",
         "2014",
         "6.3202"
        ]
       ],
       "shape": {
        "columns": 8,
        "rows": 3
       }
      },
      "text/html": [
       "<div>\n",
       "<style scoped>\n",
       "    .dataframe tbody tr th:only-of-type {\n",
       "        vertical-align: middle;\n",
       "    }\n",
       "\n",
       "    .dataframe tbody tr th {\n",
       "        vertical-align: top;\n",
       "    }\n",
       "\n",
       "    .dataframe thead th {\n",
       "        text-align: right;\n",
       "    }\n",
       "</style>\n",
       "<table border=\"1\" class=\"dataframe\">\n",
       "  <thead>\n",
       "    <tr style=\"text-align: right;\">\n",
       "      <th></th>\n",
       "      <th>Place</th>\n",
       "      <th>ProductId</th>\n",
       "      <th>ProductName</th>\n",
       "      <th>UmId</th>\n",
       "      <th>UmName</th>\n",
       "      <th>Month</th>\n",
       "      <th>Year</th>\n",
       "      <th>Price</th>\n",
       "    </tr>\n",
       "  </thead>\n",
       "  <tbody>\n",
       "    <tr>\n",
       "      <th>3</th>\n",
       "      <td>National Average</td>\n",
       "      <td>52</td>\n",
       "      <td>Rice - Retail</td>\n",
       "      <td>5</td>\n",
       "      <td>KG</td>\n",
       "      <td>12</td>\n",
       "      <td>2013</td>\n",
       "      <td>5.1337</td>\n",
       "    </tr>\n",
       "    <tr>\n",
       "      <th>5</th>\n",
       "      <td>National Average</td>\n",
       "      <td>52</td>\n",
       "      <td>Rice - Retail</td>\n",
       "      <td>5</td>\n",
       "      <td>KG</td>\n",
       "      <td>2</td>\n",
       "      <td>2014</td>\n",
       "      <td>5.8146</td>\n",
       "    </tr>\n",
       "    <tr>\n",
       "      <th>7</th>\n",
       "      <td>National Average</td>\n",
       "      <td>52</td>\n",
       "      <td>Rice - Retail</td>\n",
       "      <td>5</td>\n",
       "      <td>KG</td>\n",
       "      <td>5</td>\n",
       "      <td>2014</td>\n",
       "      <td>6.3202</td>\n",
       "    </tr>\n",
       "  </tbody>\n",
       "</table>\n",
       "</div>"
      ],
      "text/plain": [
       "              Place  ProductId    ProductName  UmId UmName  Month  Year  \\\n",
       "3  National Average         52  Rice - Retail     5     KG     12  2013   \n",
       "5  National Average         52  Rice - Retail     5     KG      2  2014   \n",
       "7  National Average         52  Rice - Retail     5     KG      5  2014   \n",
       "\n",
       "    Price  \n",
       "3  5.1337  \n",
       "5  5.8146  \n",
       "7  6.3202  "
      ]
     },
     "execution_count": 155,
     "metadata": {},
     "output_type": "execute_result"
    }
   ],
   "source": [
    "# Truy cập các dòng rời rạc của dữ liệu\n",
    "tg = df.iloc[[3,5,7]]\n",
    "tg"
   ]
  },
  {
   "cell_type": "code",
   "execution_count": 156,
   "id": "29c854d1",
   "metadata": {},
   "outputs": [
    {
     "data": {
      "application/vnd.microsoft.datawrangler.viewer.v0+json": {
       "columns": [
        {
         "name": "index",
         "rawType": "int64",
         "type": "integer"
        },
        {
         "name": "UmName",
         "rawType": "object",
         "type": "string"
        }
       ],
       "ref": "a9ca8347-04e8-47df-ada6-502a6456e1f7",
       "rows": [
        [
         "0",
         "KG"
        ],
        [
         "1",
         "KG"
        ],
        [
         "2",
         "KG"
        ],
        [
         "3",
         "KG"
        ],
        [
         "4",
         "KG"
        ],
        [
         "5",
         "KG"
        ],
        [
         "6",
         "KG"
        ],
        [
         "7",
         "KG"
        ],
        [
         "8",
         "KG"
        ],
        [
         "9",
         "KG"
        ],
        [
         "10",
         "KG"
        ],
        [
         "11",
         "KG"
        ],
        [
         "12",
         "KG"
        ],
        [
         "13",
         "KG"
        ],
        [
         "14",
         "KG"
        ],
        [
         "15",
         "KG"
        ],
        [
         "16",
         "KG"
        ],
        [
         "17",
         "KG"
        ],
        [
         "18",
         "KG"
        ],
        [
         "19",
         "KG"
        ],
        [
         "20",
         "KG"
        ],
        [
         "21",
         "KG"
        ],
        [
         "22",
         "KG"
        ],
        [
         "23",
         "KG"
        ],
        [
         "24",
         "KG"
        ],
        [
         "25",
         "KG"
        ],
        [
         "26",
         "KG"
        ],
        [
         "27",
         "KG"
        ],
        [
         "28",
         "KG"
        ],
        [
         "29",
         "KG"
        ],
        [
         "30",
         "KG"
        ],
        [
         "31",
         "KG"
        ],
        [
         "32",
         "KG"
        ],
        [
         "33",
         "KG"
        ],
        [
         "34",
         "KG"
        ],
        [
         "35",
         "KG"
        ],
        [
         "36",
         "KG"
        ],
        [
         "37",
         "KG"
        ],
        [
         "38",
         "KG"
        ],
        [
         "39",
         "KG"
        ],
        [
         "40",
         "KG"
        ],
        [
         "41",
         "KG"
        ],
        [
         "42",
         "KG"
        ],
        [
         "43",
         "KG"
        ],
        [
         "44",
         "KG"
        ],
        [
         "45",
         "KG"
        ],
        [
         "46",
         "KG"
        ],
        [
         "47",
         "KG"
        ],
        [
         "48",
         "KG"
        ],
        [
         "49",
         "KG"
        ]
       ],
       "shape": {
        "columns": 1,
        "rows": 7381
       }
      },
      "text/plain": [
       "0       KG\n",
       "1       KG\n",
       "2       KG\n",
       "3       KG\n",
       "4       KG\n",
       "        ..\n",
       "7376    KG\n",
       "7377    KG\n",
       "7378    KG\n",
       "7379    KG\n",
       "7380    KG\n",
       "Name: UmName, Length: 7381, dtype: object"
      ]
     },
     "execution_count": 156,
     "metadata": {},
     "output_type": "execute_result"
    }
   ],
   "source": [
    "# Truy cập cột thứ 4 của dữ liệu\n",
    "# : được sử dụng để đại diện cho tất cả các dòng.\n",
    "tg = df.iloc[:,4]\n",
    "tg"
   ]
  },
  {
   "cell_type": "code",
   "execution_count": 157,
   "id": "59e97185",
   "metadata": {},
   "outputs": [
    {
     "data": {
      "application/vnd.microsoft.datawrangler.viewer.v0+json": {
       "columns": [
        {
         "name": "index",
         "rawType": "int64",
         "type": "integer"
        },
        {
         "name": "UmId",
         "rawType": "int64",
         "type": "integer"
        },
        {
         "name": "UmName",
         "rawType": "object",
         "type": "string"
        },
        {
         "name": "Month",
         "rawType": "int64",
         "type": "integer"
        },
        {
         "name": "Year",
         "rawType": "int64",
         "type": "integer"
        },
        {
         "name": "Price",
         "rawType": "float64",
         "type": "float"
        }
       ],
       "ref": "e9dd6f06-88d1-4f34-94e6-64b7f5b6e40b",
       "rows": [
        [
         "0",
         "5",
         "KG",
         "5",
         "2013",
         "4.492"
        ],
        [
         "1",
         "5",
         "KG",
         "6",
         "2013",
         "4.5786"
        ],
        [
         "2",
         "5",
         "KG",
         "11",
         "2013",
         "4.7865"
        ],
        [
         "3",
         "5",
         "KG",
         "12",
         "2013",
         "5.1337"
        ],
        [
         "4",
         "5",
         "KG",
         "1",
         "2014",
         "5.5099"
        ],
        [
         "5",
         "5",
         "KG",
         "2",
         "2014",
         "5.8146"
        ],
        [
         "6",
         "5",
         "KG",
         "3",
         "2014",
         "6.0014"
        ],
        [
         "7",
         "5",
         "KG",
         "5",
         "2014",
         "6.3202"
        ],
        [
         "8",
         "5",
         "KG",
         "6",
         "2014",
         "6.6019"
        ],
        [
         "9",
         "5",
         "KG",
         "7",
         "2014",
         "6.6503"
        ],
        [
         "10",
         "5",
         "KG",
         "8",
         "2014",
         "6.6806"
        ],
        [
         "11",
         "5",
         "KG",
         "9",
         "2014",
         "6.6035"
        ],
        [
         "12",
         "5",
         "KG",
         "10",
         "2014",
         "6.496"
        ],
        [
         "13",
         "5",
         "KG",
         "11",
         "2014",
         "6.644"
        ],
        [
         "14",
         "5",
         "KG",
         "12",
         "2014",
         "6.724"
        ],
        [
         "15",
         "5",
         "KG",
         "1",
         "2015",
         "6.755"
        ],
        [
         "16",
         "5",
         "KG",
         "2",
         "2015",
         "6.49"
        ],
        [
         "17",
         "5",
         "KG",
         "3",
         "2015",
         "6.517"
        ],
        [
         "18",
         "5",
         "KG",
         "4",
         "2015",
         "6.54"
        ],
        [
         "19",
         "5",
         "KG",
         "5",
         "2015",
         "6.53"
        ],
        [
         "20",
         "5",
         "KG",
         "6",
         "2015",
         "6.44"
        ],
        [
         "21",
         "5",
         "KG",
         "7",
         "2015",
         "6.33"
        ],
        [
         "22",
         "5",
         "KG",
         "8",
         "2015",
         "6.31"
        ],
        [
         "23",
         "5",
         "KG",
         "9",
         "2015",
         "6.33"
        ],
        [
         "24",
         "5",
         "KG",
         "10",
         "2015",
         "6.33"
        ],
        [
         "25",
         "5",
         "KG",
         "11",
         "2015",
         "6.28"
        ],
        [
         "26",
         "5",
         "KG",
         "12",
         "2015",
         "6.27"
        ],
        [
         "27",
         "5",
         "KG",
         "1",
         "2016",
         "6.37"
        ],
        [
         "28",
         "5",
         "KG",
         "2",
         "2016",
         "6.31"
        ],
        [
         "29",
         "5",
         "KG",
         "3",
         "2016",
         "6.26"
        ],
        [
         "30",
         "5",
         "KG",
         "4",
         "2016",
         "6.39"
        ],
        [
         "31",
         "5",
         "KG",
         "5",
         "2016",
         "6.06"
        ],
        [
         "32",
         "5",
         "KG",
         "6",
         "2016",
         "5.92"
        ],
        [
         "33",
         "5",
         "KG",
         "7",
         "2016",
         "5.86"
        ],
        [
         "34",
         "5",
         "KG",
         "8",
         "2016",
         "5.87"
        ],
        [
         "35",
         "5",
         "KG",
         "9",
         "2016",
         "5.82"
        ],
        [
         "36",
         "5",
         "KG",
         "10",
         "2016",
         "5.79"
        ],
        [
         "37",
         "5",
         "KG",
         "11",
         "2016",
         "5.85"
        ],
        [
         "38",
         "5",
         "KG",
         "12",
         "2016",
         "6.07"
        ],
        [
         "39",
         "5",
         "KG",
         "1",
         "2017",
         "5.87"
        ],
        [
         "40",
         "5",
         "KG",
         "2",
         "2017",
         "6.01"
        ],
        [
         "41",
         "5",
         "KG",
         "3",
         "2017",
         "6.28"
        ],
        [
         "42",
         "5",
         "KG",
         "1",
         "2018",
         "7.7321"
        ],
        [
         "43",
         "5",
         "KG",
         "2",
         "2018",
         "7.7563"
        ],
        [
         "44",
         "5",
         "KG",
         "3",
         "2018",
         "7.7952"
        ],
        [
         "45",
         "5",
         "KG",
         "4",
         "2018",
         "7.8248"
        ],
        [
         "46",
         "5",
         "KG",
         "5",
         "2018",
         "7.8543"
        ],
        [
         "47",
         "5",
         "KG",
         "6",
         "2018",
         "8.0722"
        ],
        [
         "48",
         "5",
         "KG",
         "7",
         "2018",
         "8.3216"
        ],
        [
         "49",
         "5",
         "KG",
         "8",
         "2018",
         "8.4695"
        ]
       ],
       "shape": {
        "columns": 5,
        "rows": 7381
       }
      },
      "text/html": [
       "<div>\n",
       "<style scoped>\n",
       "    .dataframe tbody tr th:only-of-type {\n",
       "        vertical-align: middle;\n",
       "    }\n",
       "\n",
       "    .dataframe tbody tr th {\n",
       "        vertical-align: top;\n",
       "    }\n",
       "\n",
       "    .dataframe thead th {\n",
       "        text-align: right;\n",
       "    }\n",
       "</style>\n",
       "<table border=\"1\" class=\"dataframe\">\n",
       "  <thead>\n",
       "    <tr style=\"text-align: right;\">\n",
       "      <th></th>\n",
       "      <th>UmId</th>\n",
       "      <th>UmName</th>\n",
       "      <th>Month</th>\n",
       "      <th>Year</th>\n",
       "      <th>Price</th>\n",
       "    </tr>\n",
       "  </thead>\n",
       "  <tbody>\n",
       "    <tr>\n",
       "      <th>0</th>\n",
       "      <td>5</td>\n",
       "      <td>KG</td>\n",
       "      <td>5</td>\n",
       "      <td>2013</td>\n",
       "      <td>4.4920</td>\n",
       "    </tr>\n",
       "    <tr>\n",
       "      <th>1</th>\n",
       "      <td>5</td>\n",
       "      <td>KG</td>\n",
       "      <td>6</td>\n",
       "      <td>2013</td>\n",
       "      <td>4.5786</td>\n",
       "    </tr>\n",
       "    <tr>\n",
       "      <th>2</th>\n",
       "      <td>5</td>\n",
       "      <td>KG</td>\n",
       "      <td>11</td>\n",
       "      <td>2013</td>\n",
       "      <td>4.7865</td>\n",
       "    </tr>\n",
       "    <tr>\n",
       "      <th>3</th>\n",
       "      <td>5</td>\n",
       "      <td>KG</td>\n",
       "      <td>12</td>\n",
       "      <td>2013</td>\n",
       "      <td>5.1337</td>\n",
       "    </tr>\n",
       "    <tr>\n",
       "      <th>4</th>\n",
       "      <td>5</td>\n",
       "      <td>KG</td>\n",
       "      <td>1</td>\n",
       "      <td>2014</td>\n",
       "      <td>5.5099</td>\n",
       "    </tr>\n",
       "    <tr>\n",
       "      <th>...</th>\n",
       "      <td>...</td>\n",
       "      <td>...</td>\n",
       "      <td>...</td>\n",
       "      <td>...</td>\n",
       "      <td>...</td>\n",
       "    </tr>\n",
       "    <tr>\n",
       "      <th>7376</th>\n",
       "      <td>5</td>\n",
       "      <td>KG</td>\n",
       "      <td>8</td>\n",
       "      <td>2019</td>\n",
       "      <td>47.9040</td>\n",
       "    </tr>\n",
       "    <tr>\n",
       "      <th>7377</th>\n",
       "      <td>5</td>\n",
       "      <td>KG</td>\n",
       "      <td>9</td>\n",
       "      <td>2019</td>\n",
       "      <td>49.1176</td>\n",
       "    </tr>\n",
       "    <tr>\n",
       "      <th>7378</th>\n",
       "      <td>5</td>\n",
       "      <td>KG</td>\n",
       "      <td>10</td>\n",
       "      <td>2019</td>\n",
       "      <td>50.8347</td>\n",
       "    </tr>\n",
       "    <tr>\n",
       "      <th>7379</th>\n",
       "      <td>5</td>\n",
       "      <td>KG</td>\n",
       "      <td>11</td>\n",
       "      <td>2019</td>\n",
       "      <td>51.7985</td>\n",
       "    </tr>\n",
       "    <tr>\n",
       "      <th>7380</th>\n",
       "      <td>5</td>\n",
       "      <td>KG</td>\n",
       "      <td>12</td>\n",
       "      <td>2019</td>\n",
       "      <td>51.6071</td>\n",
       "    </tr>\n",
       "  </tbody>\n",
       "</table>\n",
       "<p>7381 rows × 5 columns</p>\n",
       "</div>"
      ],
      "text/plain": [
       "      UmId UmName  Month  Year    Price\n",
       "0        5     KG      5  2013   4.4920\n",
       "1        5     KG      6  2013   4.5786\n",
       "2        5     KG     11  2013   4.7865\n",
       "3        5     KG     12  2013   5.1337\n",
       "4        5     KG      1  2014   5.5099\n",
       "...    ...    ...    ...   ...      ...\n",
       "7376     5     KG      8  2019  47.9040\n",
       "7377     5     KG      9  2019  49.1176\n",
       "7378     5     KG     10  2019  50.8347\n",
       "7379     5     KG     11  2019  51.7985\n",
       "7380     5     KG     12  2019  51.6071\n",
       "\n",
       "[7381 rows x 5 columns]"
      ]
     },
     "execution_count": 157,
     "metadata": {},
     "output_type": "execute_result"
    }
   ],
   "source": [
    "# Truy cập các cột liên tục từ cột 3 tới cột 8 của dữ liệu\n",
    "tg = df.iloc[:,3:8]\n",
    "tg"
   ]
  },
  {
   "cell_type": "code",
   "execution_count": 158,
   "id": "4a78377c",
   "metadata": {},
   "outputs": [
    {
     "data": {
      "text/plain": [
       "5.1337"
      ]
     },
     "execution_count": 158,
     "metadata": {},
     "output_type": "execute_result"
    }
   ],
   "source": [
    "# Truy cập tới phần tử tại dòng 3 cột 7 của dữ liệu\n",
    "tg = df.iloc[3,7]\n",
    "tg"
   ]
  },
  {
   "cell_type": "code",
   "execution_count": 159,
   "id": "f42ee950",
   "metadata": {},
   "outputs": [
    {
     "data": {
      "application/vnd.microsoft.datawrangler.viewer.v0+json": {
       "columns": [
        {
         "name": "index",
         "rawType": "int64",
         "type": "integer"
        },
        {
         "name": "Month",
         "rawType": "int64",
         "type": "integer"
        },
        {
         "name": "Year",
         "rawType": "int64",
         "type": "integer"
        }
       ],
       "ref": "50c1742a-9951-4282-8d5f-60c2004b49d6",
       "rows": [
        [
         "3",
         "12",
         "2013"
        ],
        [
         "4",
         "1",
         "2014"
        ]
       ],
       "shape": {
        "columns": 2,
        "rows": 2
       }
      },
      "text/html": [
       "<div>\n",
       "<style scoped>\n",
       "    .dataframe tbody tr th:only-of-type {\n",
       "        vertical-align: middle;\n",
       "    }\n",
       "\n",
       "    .dataframe tbody tr th {\n",
       "        vertical-align: top;\n",
       "    }\n",
       "\n",
       "    .dataframe thead th {\n",
       "        text-align: right;\n",
       "    }\n",
       "</style>\n",
       "<table border=\"1\" class=\"dataframe\">\n",
       "  <thead>\n",
       "    <tr style=\"text-align: right;\">\n",
       "      <th></th>\n",
       "      <th>Month</th>\n",
       "      <th>Year</th>\n",
       "    </tr>\n",
       "  </thead>\n",
       "  <tbody>\n",
       "    <tr>\n",
       "      <th>3</th>\n",
       "      <td>12</td>\n",
       "      <td>2013</td>\n",
       "    </tr>\n",
       "    <tr>\n",
       "      <th>4</th>\n",
       "      <td>1</td>\n",
       "      <td>2014</td>\n",
       "    </tr>\n",
       "  </tbody>\n",
       "</table>\n",
       "</div>"
      ],
      "text/plain": [
       "   Month  Year\n",
       "3     12  2013\n",
       "4      1  2014"
      ]
     },
     "execution_count": 159,
     "metadata": {},
     "output_type": "execute_result"
    }
   ],
   "source": [
    "# Truy cập tới các phần tử từ dòng 3 đến dòng 4, cột 5 đến cột 6 của dữ liệu\n",
    "tg = df.iloc[3:5,5:7]\n",
    "tg"
   ]
  },
  {
   "cell_type": "code",
   "execution_count": 160,
   "id": "7b58959d",
   "metadata": {},
   "outputs": [
    {
     "data": {
      "application/vnd.microsoft.datawrangler.viewer.v0+json": {
       "columns": [
        {
         "name": "index",
         "rawType": "object",
         "type": "string"
        },
        {
         "name": "3",
         "rawType": "object",
         "type": "unknown"
        }
       ],
       "ref": "39729ded-b77e-45bd-a836-cb7d1348fd88",
       "rows": [
        [
         "Place",
         "National Average"
        ],
        [
         "ProductId",
         "52"
        ],
        [
         "ProductName",
         "Rice - Retail"
        ],
        [
         "UmId",
         "5"
        ],
        [
         "UmName",
         "KG"
        ],
        [
         "Month",
         "12"
        ],
        [
         "Year",
         "2013"
        ],
        [
         "Price",
         "5.1337"
        ]
       ],
       "shape": {
        "columns": 1,
        "rows": 8
       }
      },
      "text/plain": [
       "Place          National Average\n",
       "ProductId                    52\n",
       "ProductName       Rice - Retail\n",
       "UmId                          5\n",
       "UmName                       KG\n",
       "Month                        12\n",
       "Year                       2013\n",
       "Price                    5.1337\n",
       "Name: 3, dtype: object"
      ]
     },
     "execution_count": 160,
     "metadata": {},
     "output_type": "execute_result"
    }
   ],
   "source": [
    "# Truy cập dòng có chỉ số 3 của dữ liệu\n",
    "tg = df.loc[3]\n",
    "tg"
   ]
  },
  {
   "cell_type": "code",
   "execution_count": 161,
   "id": "362ab7d8",
   "metadata": {},
   "outputs": [
    {
     "data": {
      "application/vnd.microsoft.datawrangler.viewer.v0+json": {
       "columns": [
        {
         "name": "index",
         "rawType": "int64",
         "type": "integer"
        },
        {
         "name": "UmName",
         "rawType": "object",
         "type": "string"
        }
       ],
       "ref": "74483c9d-a88f-46b2-a918-d289bf18b02c",
       "rows": [
        [
         "0",
         "KG"
        ],
        [
         "1",
         "KG"
        ],
        [
         "2",
         "KG"
        ],
        [
         "3",
         "KG"
        ],
        [
         "4",
         "KG"
        ],
        [
         "5",
         "KG"
        ],
        [
         "6",
         "KG"
        ],
        [
         "7",
         "KG"
        ],
        [
         "8",
         "KG"
        ],
        [
         "9",
         "KG"
        ],
        [
         "10",
         "KG"
        ],
        [
         "11",
         "KG"
        ],
        [
         "12",
         "KG"
        ],
        [
         "13",
         "KG"
        ],
        [
         "14",
         "KG"
        ],
        [
         "15",
         "KG"
        ],
        [
         "16",
         "KG"
        ],
        [
         "17",
         "KG"
        ],
        [
         "18",
         "KG"
        ],
        [
         "19",
         "KG"
        ],
        [
         "20",
         "KG"
        ],
        [
         "21",
         "KG"
        ],
        [
         "22",
         "KG"
        ],
        [
         "23",
         "KG"
        ],
        [
         "24",
         "KG"
        ],
        [
         "25",
         "KG"
        ],
        [
         "26",
         "KG"
        ],
        [
         "27",
         "KG"
        ],
        [
         "28",
         "KG"
        ],
        [
         "29",
         "KG"
        ],
        [
         "30",
         "KG"
        ],
        [
         "31",
         "KG"
        ],
        [
         "32",
         "KG"
        ],
        [
         "33",
         "KG"
        ],
        [
         "34",
         "KG"
        ],
        [
         "35",
         "KG"
        ],
        [
         "36",
         "KG"
        ],
        [
         "37",
         "KG"
        ],
        [
         "38",
         "KG"
        ],
        [
         "39",
         "KG"
        ],
        [
         "40",
         "KG"
        ],
        [
         "41",
         "KG"
        ],
        [
         "42",
         "KG"
        ],
        [
         "43",
         "KG"
        ],
        [
         "44",
         "KG"
        ],
        [
         "45",
         "KG"
        ],
        [
         "46",
         "KG"
        ],
        [
         "47",
         "KG"
        ],
        [
         "48",
         "KG"
        ],
        [
         "49",
         "KG"
        ]
       ],
       "shape": {
        "columns": 1,
        "rows": 7381
       }
      },
      "text/plain": [
       "0       KG\n",
       "1       KG\n",
       "2       KG\n",
       "3       KG\n",
       "4       KG\n",
       "        ..\n",
       "7376    KG\n",
       "7377    KG\n",
       "7378    KG\n",
       "7379    KG\n",
       "7380    KG\n",
       "Name: UmName, Length: 7381, dtype: object"
      ]
     },
     "execution_count": 161,
     "metadata": {},
     "output_type": "execute_result"
    }
   ],
   "source": [
    "# Truy cập cột thứ 4 của dữ liệu\n",
    "tg = df.loc[:,'UmName']\n",
    "tg"
   ]
  },
  {
   "cell_type": "code",
   "execution_count": 162,
   "id": "f9f49639",
   "metadata": {},
   "outputs": [
    {
     "data": {
      "application/vnd.microsoft.datawrangler.viewer.v0+json": {
       "columns": [
        {
         "name": "index",
         "rawType": "int64",
         "type": "integer"
        },
        {
         "name": "UmName",
         "rawType": "object",
         "type": "string"
        },
        {
         "name": "Month",
         "rawType": "int64",
         "type": "integer"
        }
       ],
       "ref": "34a6e389-324b-4c6e-8905-d993e239b7e1",
       "rows": [
        [
         "0",
         "KG",
         "5"
        ],
        [
         "1",
         "KG",
         "6"
        ],
        [
         "2",
         "KG",
         "11"
        ],
        [
         "3",
         "KG",
         "12"
        ],
        [
         "4",
         "KG",
         "1"
        ],
        [
         "5",
         "KG",
         "2"
        ],
        [
         "6",
         "KG",
         "3"
        ],
        [
         "7",
         "KG",
         "5"
        ],
        [
         "8",
         "KG",
         "6"
        ],
        [
         "9",
         "KG",
         "7"
        ],
        [
         "10",
         "KG",
         "8"
        ],
        [
         "11",
         "KG",
         "9"
        ],
        [
         "12",
         "KG",
         "10"
        ],
        [
         "13",
         "KG",
         "11"
        ],
        [
         "14",
         "KG",
         "12"
        ],
        [
         "15",
         "KG",
         "1"
        ],
        [
         "16",
         "KG",
         "2"
        ],
        [
         "17",
         "KG",
         "3"
        ],
        [
         "18",
         "KG",
         "4"
        ],
        [
         "19",
         "KG",
         "5"
        ],
        [
         "20",
         "KG",
         "6"
        ],
        [
         "21",
         "KG",
         "7"
        ],
        [
         "22",
         "KG",
         "8"
        ],
        [
         "23",
         "KG",
         "9"
        ],
        [
         "24",
         "KG",
         "10"
        ],
        [
         "25",
         "KG",
         "11"
        ],
        [
         "26",
         "KG",
         "12"
        ],
        [
         "27",
         "KG",
         "1"
        ],
        [
         "28",
         "KG",
         "2"
        ],
        [
         "29",
         "KG",
         "3"
        ],
        [
         "30",
         "KG",
         "4"
        ],
        [
         "31",
         "KG",
         "5"
        ],
        [
         "32",
         "KG",
         "6"
        ],
        [
         "33",
         "KG",
         "7"
        ],
        [
         "34",
         "KG",
         "8"
        ],
        [
         "35",
         "KG",
         "9"
        ],
        [
         "36",
         "KG",
         "10"
        ],
        [
         "37",
         "KG",
         "11"
        ],
        [
         "38",
         "KG",
         "12"
        ],
        [
         "39",
         "KG",
         "1"
        ],
        [
         "40",
         "KG",
         "2"
        ],
        [
         "41",
         "KG",
         "3"
        ],
        [
         "42",
         "KG",
         "1"
        ],
        [
         "43",
         "KG",
         "2"
        ],
        [
         "44",
         "KG",
         "3"
        ],
        [
         "45",
         "KG",
         "4"
        ],
        [
         "46",
         "KG",
         "5"
        ],
        [
         "47",
         "KG",
         "6"
        ],
        [
         "48",
         "KG",
         "7"
        ],
        [
         "49",
         "KG",
         "8"
        ]
       ],
       "shape": {
        "columns": 2,
        "rows": 7381
       }
      },
      "text/html": [
       "<div>\n",
       "<style scoped>\n",
       "    .dataframe tbody tr th:only-of-type {\n",
       "        vertical-align: middle;\n",
       "    }\n",
       "\n",
       "    .dataframe tbody tr th {\n",
       "        vertical-align: top;\n",
       "    }\n",
       "\n",
       "    .dataframe thead th {\n",
       "        text-align: right;\n",
       "    }\n",
       "</style>\n",
       "<table border=\"1\" class=\"dataframe\">\n",
       "  <thead>\n",
       "    <tr style=\"text-align: right;\">\n",
       "      <th></th>\n",
       "      <th>UmName</th>\n",
       "      <th>Month</th>\n",
       "    </tr>\n",
       "  </thead>\n",
       "  <tbody>\n",
       "    <tr>\n",
       "      <th>0</th>\n",
       "      <td>KG</td>\n",
       "      <td>5</td>\n",
       "    </tr>\n",
       "    <tr>\n",
       "      <th>1</th>\n",
       "      <td>KG</td>\n",
       "      <td>6</td>\n",
       "    </tr>\n",
       "    <tr>\n",
       "      <th>2</th>\n",
       "      <td>KG</td>\n",
       "      <td>11</td>\n",
       "    </tr>\n",
       "    <tr>\n",
       "      <th>3</th>\n",
       "      <td>KG</td>\n",
       "      <td>12</td>\n",
       "    </tr>\n",
       "    <tr>\n",
       "      <th>4</th>\n",
       "      <td>KG</td>\n",
       "      <td>1</td>\n",
       "    </tr>\n",
       "    <tr>\n",
       "      <th>...</th>\n",
       "      <td>...</td>\n",
       "      <td>...</td>\n",
       "    </tr>\n",
       "    <tr>\n",
       "      <th>7376</th>\n",
       "      <td>KG</td>\n",
       "      <td>8</td>\n",
       "    </tr>\n",
       "    <tr>\n",
       "      <th>7377</th>\n",
       "      <td>KG</td>\n",
       "      <td>9</td>\n",
       "    </tr>\n",
       "    <tr>\n",
       "      <th>7378</th>\n",
       "      <td>KG</td>\n",
       "      <td>10</td>\n",
       "    </tr>\n",
       "    <tr>\n",
       "      <th>7379</th>\n",
       "      <td>KG</td>\n",
       "      <td>11</td>\n",
       "    </tr>\n",
       "    <tr>\n",
       "      <th>7380</th>\n",
       "      <td>KG</td>\n",
       "      <td>12</td>\n",
       "    </tr>\n",
       "  </tbody>\n",
       "</table>\n",
       "<p>7381 rows × 2 columns</p>\n",
       "</div>"
      ],
      "text/plain": [
       "     UmName  Month\n",
       "0        KG      5\n",
       "1        KG      6\n",
       "2        KG     11\n",
       "3        KG     12\n",
       "4        KG      1\n",
       "...     ...    ...\n",
       "7376     KG      8\n",
       "7377     KG      9\n",
       "7378     KG     10\n",
       "7379     KG     11\n",
       "7380     KG     12\n",
       "\n",
       "[7381 rows x 2 columns]"
      ]
     },
     "execution_count": 162,
     "metadata": {},
     "output_type": "execute_result"
    }
   ],
   "source": [
    "# Truy cập cột thứ 4,5 của dữ liệu\n",
    "tg = df.loc[:,['UmName','Month']]\n",
    "tg"
   ]
  },
  {
   "cell_type": "code",
   "execution_count": 163,
   "id": "d1f65b2c",
   "metadata": {},
   "outputs": [
    {
     "data": {
      "text/plain": [
       "5.1337"
      ]
     },
     "execution_count": 163,
     "metadata": {},
     "output_type": "execute_result"
    }
   ],
   "source": [
    "# Truy cập tới phần tử tại dòng 3 cột 7 của dữ liệu\n",
    "tg = df.loc[3,'Price']\n",
    "tg"
   ]
  },
  {
   "cell_type": "code",
   "execution_count": 164,
   "id": "2a7e467e",
   "metadata": {},
   "outputs": [
    {
     "data": {
      "application/vnd.microsoft.datawrangler.viewer.v0+json": {
       "columns": [
        {
         "name": "index",
         "rawType": "int64",
         "type": "integer"
        },
        {
         "name": "Place",
         "rawType": "object",
         "type": "string"
        },
        {
         "name": "ProductId",
         "rawType": "int64",
         "type": "integer"
        },
        {
         "name": "ProductName",
         "rawType": "object",
         "type": "string"
        },
        {
         "name": "UmId",
         "rawType": "int64",
         "type": "integer"
        },
        {
         "name": "UmName",
         "rawType": "object",
         "type": "string"
        },
        {
         "name": "Month",
         "rawType": "int64",
         "type": "integer"
        },
        {
         "name": "Year",
         "rawType": "int64",
         "type": "integer"
        },
        {
         "name": "Price",
         "rawType": "float64",
         "type": "float"
        }
       ],
       "ref": "75eca584-6742-46a7-8246-613bd49109b3",
       "rows": [
        [
         "54",
         "National Average",
         "52",
         "Rice - Retail",
         "5",
         "KG",
         "1",
         "2019",
         "8.4275"
        ],
        [
         "55",
         "National Average",
         "52",
         "Rice - Retail",
         "5",
         "KG",
         "2",
         "2019",
         "8.7656"
        ],
        [
         "56",
         "National Average",
         "52",
         "Rice - Retail",
         "5",
         "KG",
         "3",
         "2019",
         "8.8101"
        ],
        [
         "57",
         "National Average",
         "52",
         "Rice - Retail",
         "5",
         "KG",
         "4",
         "2019",
         "8.9266"
        ],
        [
         "58",
         "National Average",
         "52",
         "Rice - Retail",
         "5",
         "KG",
         "5",
         "2019",
         "9.1866"
        ],
        [
         "59",
         "National Average",
         "52",
         "Rice - Retail",
         "5",
         "KG",
         "6",
         "2019",
         "9.2781"
        ],
        [
         "60",
         "National Average",
         "52",
         "Rice - Retail",
         "5",
         "KG",
         "7",
         "2019",
         "9.4634"
        ],
        [
         "61",
         "National Average",
         "52",
         "Rice - Retail",
         "5",
         "KG",
         "8",
         "2019",
         "9.4681"
        ],
        [
         "62",
         "National Average",
         "52",
         "Rice - Retail",
         "5",
         "KG",
         "9",
         "2019",
         "9.5"
        ],
        [
         "63",
         "National Average",
         "52",
         "Rice - Retail",
         "5",
         "KG",
         "10",
         "2019",
         "9.4346"
        ],
        [
         "64",
         "National Average",
         "52",
         "Rice - Retail",
         "5",
         "KG",
         "11",
         "2019",
         "9.4267"
        ],
        [
         "65",
         "National Average",
         "52",
         "Rice - Retail",
         "5",
         "KG",
         "12",
         "2019",
         "9.5616"
        ],
        [
         "120",
         "National Average",
         "58",
         "Wheat flour - Retail",
         "5",
         "KG",
         "1",
         "2019",
         "3.5069"
        ],
        [
         "121",
         "National Average",
         "58",
         "Wheat flour - Retail",
         "5",
         "KG",
         "2",
         "2019",
         "3.4963"
        ],
        [
         "122",
         "National Average",
         "58",
         "Wheat flour - Retail",
         "5",
         "KG",
         "3",
         "2019",
         "3.5575"
        ],
        [
         "123",
         "National Average",
         "58",
         "Wheat flour - Retail",
         "5",
         "KG",
         "4",
         "2019",
         "3.6129"
        ],
        [
         "124",
         "National Average",
         "58",
         "Wheat flour - Retail",
         "5",
         "KG",
         "5",
         "2019",
         "3.5917"
        ],
        [
         "125",
         "National Average",
         "58",
         "Wheat flour - Retail",
         "5",
         "KG",
         "6",
         "2019",
         "3.6199"
        ],
        [
         "126",
         "National Average",
         "58",
         "Wheat flour - Retail",
         "5",
         "KG",
         "7",
         "2019",
         "3.6808"
        ],
        [
         "127",
         "National Average",
         "58",
         "Wheat flour - Retail",
         "5",
         "KG",
         "8",
         "2019",
         "3.7026"
        ],
        [
         "128",
         "National Average",
         "58",
         "Wheat flour - Retail",
         "5",
         "KG",
         "9",
         "2019",
         "3.6793"
        ],
        [
         "129",
         "National Average",
         "58",
         "Wheat flour - Retail",
         "5",
         "KG",
         "10",
         "2019",
         "3.7043"
        ],
        [
         "130",
         "National Average",
         "58",
         "Wheat flour - Retail",
         "5",
         "KG",
         "11",
         "2019",
         "3.7598"
        ],
        [
         "131",
         "National Average",
         "58",
         "Wheat flour - Retail",
         "5",
         "KG",
         "12",
         "2019",
         "3.9411"
        ],
        [
         "186",
         "National Average",
         "66",
         "Beans (white) - Retail",
         "5",
         "KG",
         "1",
         "2019",
         "10.2762"
        ],
        [
         "187",
         "National Average",
         "66",
         "Beans (white) - Retail",
         "5",
         "KG",
         "2",
         "2019",
         "10.4701"
        ],
        [
         "188",
         "National Average",
         "66",
         "Beans (white) - Retail",
         "5",
         "KG",
         "3",
         "2019",
         "10.5293"
        ],
        [
         "189",
         "National Average",
         "66",
         "Beans (white) - Retail",
         "5",
         "KG",
         "4",
         "2019",
         "10.614"
        ],
        [
         "190",
         "National Average",
         "66",
         "Beans (white) - Retail",
         "5",
         "KG",
         "5",
         "2019",
         "10.9775"
        ],
        [
         "191",
         "National Average",
         "66",
         "Beans (white) - Retail",
         "5",
         "KG",
         "6",
         "2019",
         "12.0282"
        ],
        [
         "192",
         "National Average",
         "66",
         "Beans (white) - Retail",
         "5",
         "KG",
         "7",
         "2019",
         "12.096"
        ],
        [
         "193",
         "National Average",
         "66",
         "Beans (white) - Retail",
         "5",
         "KG",
         "8",
         "2019",
         "12.1776"
        ],
        [
         "194",
         "National Average",
         "66",
         "Beans (white) - Retail",
         "5",
         "KG",
         "9",
         "2019",
         "12.0821"
        ],
        [
         "195",
         "National Average",
         "66",
         "Beans (white) - Retail",
         "5",
         "KG",
         "10",
         "2019",
         "11.6221"
        ],
        [
         "196",
         "National Average",
         "66",
         "Beans (white) - Retail",
         "5",
         "KG",
         "11",
         "2019",
         "11.598"
        ],
        [
         "197",
         "National Average",
         "66",
         "Beans (white) - Retail",
         "5",
         "KG",
         "12",
         "2019",
         "12.2076"
        ],
        [
         "232",
         "National Average",
         "83",
         "Potatoes - Retail",
         "5",
         "KG",
         "1",
         "2019",
         "3.6181"
        ],
        [
         "233",
         "National Average",
         "83",
         "Potatoes - Retail",
         "5",
         "KG",
         "2",
         "2019",
         "3.8593"
        ],
        [
         "234",
         "National Average",
         "83",
         "Potatoes - Retail",
         "5",
         "KG",
         "3",
         "2019",
         "4.1696"
        ],
        [
         "235",
         "National Average",
         "83",
         "Potatoes - Retail",
         "5",
         "KG",
         "4",
         "2019",
         "5.1355"
        ],
        [
         "236",
         "National Average",
         "83",
         "Potatoes - Retail",
         "5",
         "KG",
         "5",
         "2019",
         "4.3714"
        ],
        [
         "237",
         "National Average",
         "83",
         "Potatoes - Retail",
         "5",
         "KG",
         "6",
         "2019",
         "2.9433"
        ],
        [
         "238",
         "National Average",
         "83",
         "Potatoes - Retail",
         "5",
         "KG",
         "7",
         "2019",
         "2.7174"
        ],
        [
         "239",
         "National Average",
         "83",
         "Potatoes - Retail",
         "5",
         "KG",
         "8",
         "2019",
         "2.3713"
        ],
        [
         "240",
         "National Average",
         "83",
         "Potatoes - Retail",
         "5",
         "KG",
         "9",
         "2019",
         "2.0816"
        ],
        [
         "241",
         "National Average",
         "83",
         "Potatoes - Retail",
         "5",
         "KG",
         "10",
         "2019",
         "2.0704"
        ],
        [
         "242",
         "National Average",
         "83",
         "Potatoes - Retail",
         "5",
         "KG",
         "11",
         "2019",
         "2.0306"
        ],
        [
         "243",
         "National Average",
         "83",
         "Potatoes - Retail",
         "5",
         "KG",
         "12",
         "2019",
         "2.0691"
        ],
        [
         "298",
         "National Average",
         "92",
         "Eggs - Retail",
         "33",
         "Unit",
         "1",
         "2019",
         "0.639"
        ],
        [
         "299",
         "National Average",
         "92",
         "Eggs - Retail",
         "33",
         "Unit",
         "2",
         "2019",
         "0.6286"
        ]
       ],
       "shape": {
        "columns": 8,
        "rows": 2124
       }
      },
      "text/html": [
       "<div>\n",
       "<style scoped>\n",
       "    .dataframe tbody tr th:only-of-type {\n",
       "        vertical-align: middle;\n",
       "    }\n",
       "\n",
       "    .dataframe tbody tr th {\n",
       "        vertical-align: top;\n",
       "    }\n",
       "\n",
       "    .dataframe thead th {\n",
       "        text-align: right;\n",
       "    }\n",
       "</style>\n",
       "<table border=\"1\" class=\"dataframe\">\n",
       "  <thead>\n",
       "    <tr style=\"text-align: right;\">\n",
       "      <th></th>\n",
       "      <th>Place</th>\n",
       "      <th>ProductId</th>\n",
       "      <th>ProductName</th>\n",
       "      <th>UmId</th>\n",
       "      <th>UmName</th>\n",
       "      <th>Month</th>\n",
       "      <th>Year</th>\n",
       "      <th>Price</th>\n",
       "    </tr>\n",
       "  </thead>\n",
       "  <tbody>\n",
       "    <tr>\n",
       "      <th>54</th>\n",
       "      <td>National Average</td>\n",
       "      <td>52</td>\n",
       "      <td>Rice - Retail</td>\n",
       "      <td>5</td>\n",
       "      <td>KG</td>\n",
       "      <td>1</td>\n",
       "      <td>2019</td>\n",
       "      <td>8.4275</td>\n",
       "    </tr>\n",
       "    <tr>\n",
       "      <th>55</th>\n",
       "      <td>National Average</td>\n",
       "      <td>52</td>\n",
       "      <td>Rice - Retail</td>\n",
       "      <td>5</td>\n",
       "      <td>KG</td>\n",
       "      <td>2</td>\n",
       "      <td>2019</td>\n",
       "      <td>8.7656</td>\n",
       "    </tr>\n",
       "    <tr>\n",
       "      <th>56</th>\n",
       "      <td>National Average</td>\n",
       "      <td>52</td>\n",
       "      <td>Rice - Retail</td>\n",
       "      <td>5</td>\n",
       "      <td>KG</td>\n",
       "      <td>3</td>\n",
       "      <td>2019</td>\n",
       "      <td>8.8101</td>\n",
       "    </tr>\n",
       "    <tr>\n",
       "      <th>57</th>\n",
       "      <td>National Average</td>\n",
       "      <td>52</td>\n",
       "      <td>Rice - Retail</td>\n",
       "      <td>5</td>\n",
       "      <td>KG</td>\n",
       "      <td>4</td>\n",
       "      <td>2019</td>\n",
       "      <td>8.9266</td>\n",
       "    </tr>\n",
       "    <tr>\n",
       "      <th>58</th>\n",
       "      <td>National Average</td>\n",
       "      <td>52</td>\n",
       "      <td>Rice - Retail</td>\n",
       "      <td>5</td>\n",
       "      <td>KG</td>\n",
       "      <td>5</td>\n",
       "      <td>2019</td>\n",
       "      <td>9.1866</td>\n",
       "    </tr>\n",
       "    <tr>\n",
       "      <th>...</th>\n",
       "      <td>...</td>\n",
       "      <td>...</td>\n",
       "      <td>...</td>\n",
       "      <td>...</td>\n",
       "      <td>...</td>\n",
       "      <td>...</td>\n",
       "      <td>...</td>\n",
       "      <td>...</td>\n",
       "    </tr>\n",
       "    <tr>\n",
       "      <th>7376</th>\n",
       "      <td>Izmir</td>\n",
       "      <td>502</td>\n",
       "      <td>Cocoa (powder) - Retail</td>\n",
       "      <td>5</td>\n",
       "      <td>KG</td>\n",
       "      <td>8</td>\n",
       "      <td>2019</td>\n",
       "      <td>47.9040</td>\n",
       "    </tr>\n",
       "    <tr>\n",
       "      <th>7377</th>\n",
       "      <td>Izmir</td>\n",
       "      <td>502</td>\n",
       "      <td>Cocoa (powder) - Retail</td>\n",
       "      <td>5</td>\n",
       "      <td>KG</td>\n",
       "      <td>9</td>\n",
       "      <td>2019</td>\n",
       "      <td>49.1176</td>\n",
       "    </tr>\n",
       "    <tr>\n",
       "      <th>7378</th>\n",
       "      <td>Izmir</td>\n",
       "      <td>502</td>\n",
       "      <td>Cocoa (powder) - Retail</td>\n",
       "      <td>5</td>\n",
       "      <td>KG</td>\n",
       "      <td>10</td>\n",
       "      <td>2019</td>\n",
       "      <td>50.8347</td>\n",
       "    </tr>\n",
       "    <tr>\n",
       "      <th>7379</th>\n",
       "      <td>Izmir</td>\n",
       "      <td>502</td>\n",
       "      <td>Cocoa (powder) - Retail</td>\n",
       "      <td>5</td>\n",
       "      <td>KG</td>\n",
       "      <td>11</td>\n",
       "      <td>2019</td>\n",
       "      <td>51.7985</td>\n",
       "    </tr>\n",
       "    <tr>\n",
       "      <th>7380</th>\n",
       "      <td>Izmir</td>\n",
       "      <td>502</td>\n",
       "      <td>Cocoa (powder) - Retail</td>\n",
       "      <td>5</td>\n",
       "      <td>KG</td>\n",
       "      <td>12</td>\n",
       "      <td>2019</td>\n",
       "      <td>51.6071</td>\n",
       "    </tr>\n",
       "  </tbody>\n",
       "</table>\n",
       "<p>2124 rows × 8 columns</p>\n",
       "</div>"
      ],
      "text/plain": [
       "                 Place  ProductId              ProductName  UmId UmName  \\\n",
       "54    National Average         52            Rice - Retail     5     KG   \n",
       "55    National Average         52            Rice - Retail     5     KG   \n",
       "56    National Average         52            Rice - Retail     5     KG   \n",
       "57    National Average         52            Rice - Retail     5     KG   \n",
       "58    National Average         52            Rice - Retail     5     KG   \n",
       "...                ...        ...                      ...   ...    ...   \n",
       "7376             Izmir        502  Cocoa (powder) - Retail     5     KG   \n",
       "7377             Izmir        502  Cocoa (powder) - Retail     5     KG   \n",
       "7378             Izmir        502  Cocoa (powder) - Retail     5     KG   \n",
       "7379             Izmir        502  Cocoa (powder) - Retail     5     KG   \n",
       "7380             Izmir        502  Cocoa (powder) - Retail     5     KG   \n",
       "\n",
       "      Month  Year    Price  \n",
       "54        1  2019   8.4275  \n",
       "55        2  2019   8.7656  \n",
       "56        3  2019   8.8101  \n",
       "57        4  2019   8.9266  \n",
       "58        5  2019   9.1866  \n",
       "...     ...   ...      ...  \n",
       "7376      8  2019  47.9040  \n",
       "7377      9  2019  49.1176  \n",
       "7378     10  2019  50.8347  \n",
       "7379     11  2019  51.7985  \n",
       "7380     12  2019  51.6071  \n",
       "\n",
       "[2124 rows x 8 columns]"
      ]
     },
     "execution_count": 164,
     "metadata": {},
     "output_type": "execute_result"
    }
   ],
   "source": [
    "# Truy cập tới phần tử có Year >=2019\n",
    "tg = df.loc[df.Year >= 2019]\n",
    "tg"
   ]
  },
  {
   "cell_type": "code",
   "execution_count": 165,
   "id": "61b516d4",
   "metadata": {},
   "outputs": [
    {
     "data": {
      "application/vnd.microsoft.datawrangler.viewer.v0+json": {
       "columns": [
        {
         "name": "index",
         "rawType": "int64",
         "type": "integer"
        },
        {
         "name": "Place",
         "rawType": "object",
         "type": "string"
        },
        {
         "name": "ProductId",
         "rawType": "int64",
         "type": "integer"
        },
        {
         "name": "ProductName",
         "rawType": "object",
         "type": "string"
        },
        {
         "name": "UmId",
         "rawType": "int64",
         "type": "integer"
        },
        {
         "name": "UmName",
         "rawType": "object",
         "type": "string"
        },
        {
         "name": "Month",
         "rawType": "int64",
         "type": "integer"
        },
        {
         "name": "Year",
         "rawType": "int64",
         "type": "integer"
        },
        {
         "name": "Price",
         "rawType": "float64",
         "type": "float"
        }
       ],
       "ref": "881a450a-9993-4bfd-8db1-93967a100888",
       "rows": [
        [
         "0",
         "National Average",
         "52",
         "Rice - Retail",
         "10",
         "KG",
         "10",
         "2013",
         "4.492"
        ],
        [
         "1",
         "National Average",
         "52",
         "Rice - Retail",
         "10",
         "KG",
         "6",
         "2013",
         "4.5786"
        ],
        [
         "2",
         "National Average",
         "52",
         "Rice - Retail",
         "10",
         "KG",
         "11",
         "2013",
         "4.7865"
        ],
        [
         "3",
         "National Average",
         "52",
         "Rice - Retail",
         "10",
         "KG",
         "12",
         "2013",
         "5.1337"
        ],
        [
         "4",
         "National Average",
         "52",
         "Rice - Retail",
         "10",
         "KG",
         "1",
         "2014",
         "5.5099"
        ]
       ],
       "shape": {
        "columns": 8,
        "rows": 5
       }
      },
      "text/html": [
       "<div>\n",
       "<style scoped>\n",
       "    .dataframe tbody tr th:only-of-type {\n",
       "        vertical-align: middle;\n",
       "    }\n",
       "\n",
       "    .dataframe tbody tr th {\n",
       "        vertical-align: top;\n",
       "    }\n",
       "\n",
       "    .dataframe thead th {\n",
       "        text-align: right;\n",
       "    }\n",
       "</style>\n",
       "<table border=\"1\" class=\"dataframe\">\n",
       "  <thead>\n",
       "    <tr style=\"text-align: right;\">\n",
       "      <th></th>\n",
       "      <th>Place</th>\n",
       "      <th>ProductId</th>\n",
       "      <th>ProductName</th>\n",
       "      <th>UmId</th>\n",
       "      <th>UmName</th>\n",
       "      <th>Month</th>\n",
       "      <th>Year</th>\n",
       "      <th>Price</th>\n",
       "    </tr>\n",
       "  </thead>\n",
       "  <tbody>\n",
       "    <tr>\n",
       "      <th>0</th>\n",
       "      <td>National Average</td>\n",
       "      <td>52</td>\n",
       "      <td>Rice - Retail</td>\n",
       "      <td>10</td>\n",
       "      <td>KG</td>\n",
       "      <td>10</td>\n",
       "      <td>2013</td>\n",
       "      <td>4.4920</td>\n",
       "    </tr>\n",
       "    <tr>\n",
       "      <th>1</th>\n",
       "      <td>National Average</td>\n",
       "      <td>52</td>\n",
       "      <td>Rice - Retail</td>\n",
       "      <td>10</td>\n",
       "      <td>KG</td>\n",
       "      <td>6</td>\n",
       "      <td>2013</td>\n",
       "      <td>4.5786</td>\n",
       "    </tr>\n",
       "    <tr>\n",
       "      <th>2</th>\n",
       "      <td>National Average</td>\n",
       "      <td>52</td>\n",
       "      <td>Rice - Retail</td>\n",
       "      <td>10</td>\n",
       "      <td>KG</td>\n",
       "      <td>11</td>\n",
       "      <td>2013</td>\n",
       "      <td>4.7865</td>\n",
       "    </tr>\n",
       "    <tr>\n",
       "      <th>3</th>\n",
       "      <td>National Average</td>\n",
       "      <td>52</td>\n",
       "      <td>Rice - Retail</td>\n",
       "      <td>10</td>\n",
       "      <td>KG</td>\n",
       "      <td>12</td>\n",
       "      <td>2013</td>\n",
       "      <td>5.1337</td>\n",
       "    </tr>\n",
       "    <tr>\n",
       "      <th>4</th>\n",
       "      <td>National Average</td>\n",
       "      <td>52</td>\n",
       "      <td>Rice - Retail</td>\n",
       "      <td>10</td>\n",
       "      <td>KG</td>\n",
       "      <td>1</td>\n",
       "      <td>2014</td>\n",
       "      <td>5.5099</td>\n",
       "    </tr>\n",
       "  </tbody>\n",
       "</table>\n",
       "</div>"
      ],
      "text/plain": [
       "              Place  ProductId    ProductName  UmId UmName  Month  Year  \\\n",
       "0  National Average         52  Rice - Retail    10     KG     10  2013   \n",
       "1  National Average         52  Rice - Retail    10     KG      6  2013   \n",
       "2  National Average         52  Rice - Retail    10     KG     11  2013   \n",
       "3  National Average         52  Rice - Retail    10     KG     12  2013   \n",
       "4  National Average         52  Rice - Retail    10     KG      1  2014   \n",
       "\n",
       "    Price  \n",
       "0  4.4920  \n",
       "1  4.5786  \n",
       "2  4.7865  \n",
       "3  5.1337  \n",
       "4  5.5099  "
      ]
     },
     "execution_count": 165,
     "metadata": {},
     "output_type": "execute_result"
    }
   ],
   "source": [
    "# Thay số 5 bằng số 10 trong toàn bộ dữ liệu\n",
    "df.replace(5,10,inplace = True)\n",
    "df.head()"
   ]
  },
  {
   "cell_type": "code",
   "execution_count": 166,
   "id": "6d90e135",
   "metadata": {},
   "outputs": [
    {
     "data": {
      "application/vnd.microsoft.datawrangler.viewer.v0+json": {
       "columns": [
        {
         "name": "index",
         "rawType": "int64",
         "type": "integer"
        },
        {
         "name": "Place",
         "rawType": "object",
         "type": "string"
        },
        {
         "name": "ProductId",
         "rawType": "object",
         "type": "string"
        },
        {
         "name": "ProductName",
         "rawType": "object",
         "type": "string"
        },
        {
         "name": "UmId",
         "rawType": "int64",
         "type": "integer"
        },
        {
         "name": "UmName",
         "rawType": "object",
         "type": "string"
        },
        {
         "name": "Month",
         "rawType": "int64",
         "type": "integer"
        },
        {
         "name": "Year",
         "rawType": "int64",
         "type": "integer"
        },
        {
         "name": "Price",
         "rawType": "float64",
         "type": "float"
        }
       ],
       "ref": "dd9967c6-e3ee-44ab-bf54-91596949018d",
       "rows": [
        [
         "0",
         "National Average",
         "RR",
         "Rice - Retail",
         "10",
         "KG",
         "10",
         "2013",
         "4.492"
        ],
        [
         "1",
         "National Average",
         "RR",
         "Rice - Retail",
         "10",
         "KG",
         "6",
         "2013",
         "4.5786"
        ],
        [
         "2",
         "National Average",
         "RR",
         "Rice - Retail",
         "10",
         "KG",
         "11",
         "2013",
         "4.7865"
        ],
        [
         "3",
         "National Average",
         "RR",
         "Rice - Retail",
         "10",
         "KG",
         "12",
         "2013",
         "5.1337"
        ],
        [
         "4",
         "National Average",
         "RR",
         "Rice - Retail",
         "10",
         "KG",
         "1",
         "2014",
         "5.5099"
        ]
       ],
       "shape": {
        "columns": 8,
        "rows": 5
       }
      },
      "text/html": [
       "<div>\n",
       "<style scoped>\n",
       "    .dataframe tbody tr th:only-of-type {\n",
       "        vertical-align: middle;\n",
       "    }\n",
       "\n",
       "    .dataframe tbody tr th {\n",
       "        vertical-align: top;\n",
       "    }\n",
       "\n",
       "    .dataframe thead th {\n",
       "        text-align: right;\n",
       "    }\n",
       "</style>\n",
       "<table border=\"1\" class=\"dataframe\">\n",
       "  <thead>\n",
       "    <tr style=\"text-align: right;\">\n",
       "      <th></th>\n",
       "      <th>Place</th>\n",
       "      <th>ProductId</th>\n",
       "      <th>ProductName</th>\n",
       "      <th>UmId</th>\n",
       "      <th>UmName</th>\n",
       "      <th>Month</th>\n",
       "      <th>Year</th>\n",
       "      <th>Price</th>\n",
       "    </tr>\n",
       "  </thead>\n",
       "  <tbody>\n",
       "    <tr>\n",
       "      <th>0</th>\n",
       "      <td>National Average</td>\n",
       "      <td>RR</td>\n",
       "      <td>Rice - Retail</td>\n",
       "      <td>10</td>\n",
       "      <td>KG</td>\n",
       "      <td>10</td>\n",
       "      <td>2013</td>\n",
       "      <td>4.4920</td>\n",
       "    </tr>\n",
       "    <tr>\n",
       "      <th>1</th>\n",
       "      <td>National Average</td>\n",
       "      <td>RR</td>\n",
       "      <td>Rice - Retail</td>\n",
       "      <td>10</td>\n",
       "      <td>KG</td>\n",
       "      <td>6</td>\n",
       "      <td>2013</td>\n",
       "      <td>4.5786</td>\n",
       "    </tr>\n",
       "    <tr>\n",
       "      <th>2</th>\n",
       "      <td>National Average</td>\n",
       "      <td>RR</td>\n",
       "      <td>Rice - Retail</td>\n",
       "      <td>10</td>\n",
       "      <td>KG</td>\n",
       "      <td>11</td>\n",
       "      <td>2013</td>\n",
       "      <td>4.7865</td>\n",
       "    </tr>\n",
       "    <tr>\n",
       "      <th>3</th>\n",
       "      <td>National Average</td>\n",
       "      <td>RR</td>\n",
       "      <td>Rice - Retail</td>\n",
       "      <td>10</td>\n",
       "      <td>KG</td>\n",
       "      <td>12</td>\n",
       "      <td>2013</td>\n",
       "      <td>5.1337</td>\n",
       "    </tr>\n",
       "    <tr>\n",
       "      <th>4</th>\n",
       "      <td>National Average</td>\n",
       "      <td>RR</td>\n",
       "      <td>Rice - Retail</td>\n",
       "      <td>10</td>\n",
       "      <td>KG</td>\n",
       "      <td>1</td>\n",
       "      <td>2014</td>\n",
       "      <td>5.5099</td>\n",
       "    </tr>\n",
       "  </tbody>\n",
       "</table>\n",
       "</div>"
      ],
      "text/plain": [
       "              Place ProductId    ProductName  UmId UmName  Month  Year   Price\n",
       "0  National Average        RR  Rice - Retail    10     KG     10  2013  4.4920\n",
       "1  National Average        RR  Rice - Retail    10     KG      6  2013  4.5786\n",
       "2  National Average        RR  Rice - Retail    10     KG     11  2013  4.7865\n",
       "3  National Average        RR  Rice - Retail    10     KG     12  2013  5.1337\n",
       "4  National Average        RR  Rice - Retail    10     KG      1  2014  5.5099"
      ]
     },
     "execution_count": 166,
     "metadata": {},
     "output_type": "execute_result"
    }
   ],
   "source": [
    "# Thay mã sản phẩm từ giá trị 52 thành RR trong toàn bộ dữ liệu\n",
    "# RR là chuỗi ký tự nên được để trong cặp dấu nháy đơn\n",
    "df.replace(52,'RR',inplace = True)\n",
    "df.head()"
   ]
  },
  {
   "cell_type": "code",
   "execution_count": 167,
   "id": "43ab754c",
   "metadata": {},
   "outputs": [
    {
     "name": "stderr",
     "output_type": "stream",
     "text": [
      "/tmp/ipykernel_3621/4172132383.py:2: FutureWarning: A value is trying to be set on a copy of a DataFrame or Series through chained assignment using an inplace method.\n",
      "The behavior will change in pandas 3.0. This inplace method will never work because the intermediate object on which we are setting values always behaves as a copy.\n",
      "\n",
      "For example, when doing 'df[col].method(value, inplace=True)', try using 'df.method({col: value}, inplace=True)' or df[col] = df[col].method(value) instead, to perform the operation inplace on the original object.\n",
      "\n",
      "\n",
      "  df['Month'].replace(10,5,inplace = True)\n"
     ]
    },
    {
     "data": {
      "application/vnd.microsoft.datawrangler.viewer.v0+json": {
       "columns": [
        {
         "name": "index",
         "rawType": "int64",
         "type": "integer"
        },
        {
         "name": "Place",
         "rawType": "object",
         "type": "string"
        },
        {
         "name": "ProductId",
         "rawType": "object",
         "type": "string"
        },
        {
         "name": "ProductName",
         "rawType": "object",
         "type": "string"
        },
        {
         "name": "UmId",
         "rawType": "int64",
         "type": "integer"
        },
        {
         "name": "UmName",
         "rawType": "object",
         "type": "string"
        },
        {
         "name": "Month",
         "rawType": "int64",
         "type": "integer"
        },
        {
         "name": "Year",
         "rawType": "int64",
         "type": "integer"
        },
        {
         "name": "Price",
         "rawType": "float64",
         "type": "float"
        }
       ],
       "ref": "8e0cbde0-9c50-49b1-9299-7245446e7eee",
       "rows": [
        [
         "0",
         "National Average",
         "RR",
         "Rice - Retail",
         "10",
         "KG",
         "5",
         "2013",
         "4.492"
        ],
        [
         "1",
         "National Average",
         "RR",
         "Rice - Retail",
         "10",
         "KG",
         "6",
         "2013",
         "4.5786"
        ],
        [
         "2",
         "National Average",
         "RR",
         "Rice - Retail",
         "10",
         "KG",
         "11",
         "2013",
         "4.7865"
        ],
        [
         "3",
         "National Average",
         "RR",
         "Rice - Retail",
         "10",
         "KG",
         "12",
         "2013",
         "5.1337"
        ],
        [
         "4",
         "National Average",
         "RR",
         "Rice - Retail",
         "10",
         "KG",
         "1",
         "2014",
         "5.5099"
        ]
       ],
       "shape": {
        "columns": 8,
        "rows": 5
       }
      },
      "text/html": [
       "<div>\n",
       "<style scoped>\n",
       "    .dataframe tbody tr th:only-of-type {\n",
       "        vertical-align: middle;\n",
       "    }\n",
       "\n",
       "    .dataframe tbody tr th {\n",
       "        vertical-align: top;\n",
       "    }\n",
       "\n",
       "    .dataframe thead th {\n",
       "        text-align: right;\n",
       "    }\n",
       "</style>\n",
       "<table border=\"1\" class=\"dataframe\">\n",
       "  <thead>\n",
       "    <tr style=\"text-align: right;\">\n",
       "      <th></th>\n",
       "      <th>Place</th>\n",
       "      <th>ProductId</th>\n",
       "      <th>ProductName</th>\n",
       "      <th>UmId</th>\n",
       "      <th>UmName</th>\n",
       "      <th>Month</th>\n",
       "      <th>Year</th>\n",
       "      <th>Price</th>\n",
       "    </tr>\n",
       "  </thead>\n",
       "  <tbody>\n",
       "    <tr>\n",
       "      <th>0</th>\n",
       "      <td>National Average</td>\n",
       "      <td>RR</td>\n",
       "      <td>Rice - Retail</td>\n",
       "      <td>10</td>\n",
       "      <td>KG</td>\n",
       "      <td>5</td>\n",
       "      <td>2013</td>\n",
       "      <td>4.4920</td>\n",
       "    </tr>\n",
       "    <tr>\n",
       "      <th>1</th>\n",
       "      <td>National Average</td>\n",
       "      <td>RR</td>\n",
       "      <td>Rice - Retail</td>\n",
       "      <td>10</td>\n",
       "      <td>KG</td>\n",
       "      <td>6</td>\n",
       "      <td>2013</td>\n",
       "      <td>4.5786</td>\n",
       "    </tr>\n",
       "    <tr>\n",
       "      <th>2</th>\n",
       "      <td>National Average</td>\n",
       "      <td>RR</td>\n",
       "      <td>Rice - Retail</td>\n",
       "      <td>10</td>\n",
       "      <td>KG</td>\n",
       "      <td>11</td>\n",
       "      <td>2013</td>\n",
       "      <td>4.7865</td>\n",
       "    </tr>\n",
       "    <tr>\n",
       "      <th>3</th>\n",
       "      <td>National Average</td>\n",
       "      <td>RR</td>\n",
       "      <td>Rice - Retail</td>\n",
       "      <td>10</td>\n",
       "      <td>KG</td>\n",
       "      <td>12</td>\n",
       "      <td>2013</td>\n",
       "      <td>5.1337</td>\n",
       "    </tr>\n",
       "    <tr>\n",
       "      <th>4</th>\n",
       "      <td>National Average</td>\n",
       "      <td>RR</td>\n",
       "      <td>Rice - Retail</td>\n",
       "      <td>10</td>\n",
       "      <td>KG</td>\n",
       "      <td>1</td>\n",
       "      <td>2014</td>\n",
       "      <td>5.5099</td>\n",
       "    </tr>\n",
       "  </tbody>\n",
       "</table>\n",
       "</div>"
      ],
      "text/plain": [
       "              Place ProductId    ProductName  UmId UmName  Month  Year   Price\n",
       "0  National Average        RR  Rice - Retail    10     KG      5  2013  4.4920\n",
       "1  National Average        RR  Rice - Retail    10     KG      6  2013  4.5786\n",
       "2  National Average        RR  Rice - Retail    10     KG     11  2013  4.7865\n",
       "3  National Average        RR  Rice - Retail    10     KG     12  2013  5.1337\n",
       "4  National Average        RR  Rice - Retail    10     KG      1  2014  5.5099"
      ]
     },
     "execution_count": 167,
     "metadata": {},
     "output_type": "execute_result"
    }
   ],
   "source": [
    "# Thay giá trị 10 trong cột Month thành giá trị 5\n",
    "df['Month'].replace(10,5,inplace = True)\n",
    "df.head()"
   ]
  },
  {
   "cell_type": "code",
   "execution_count": 168,
   "id": "400a1034",
   "metadata": {},
   "outputs": [
    {
     "data": {
      "application/vnd.microsoft.datawrangler.viewer.v0+json": {
       "columns": [
        {
         "name": "index",
         "rawType": "int64",
         "type": "integer"
        },
        {
         "name": "Place",
         "rawType": "object",
         "type": "string"
        },
        {
         "name": "ProductId",
         "rawType": "int64",
         "type": "integer"
        },
        {
         "name": "ProductName",
         "rawType": "object",
         "type": "string"
        },
        {
         "name": "UmId",
         "rawType": "int64",
         "type": "integer"
        },
        {
         "name": "UmName",
         "rawType": "object",
         "type": "string"
        },
        {
         "name": "Month",
         "rawType": "int64",
         "type": "integer"
        },
        {
         "name": "Year",
         "rawType": "int64",
         "type": "integer"
        },
        {
         "name": "Price",
         "rawType": "float64",
         "type": "float"
        }
       ],
       "ref": "8d647416-5588-46da-8193-e0f017af10ce",
       "rows": [
        [
         "0",
         "National Average",
         "52",
         "Rice - Retail",
         "5",
         "KG",
         "5",
         "2013",
         "4.492"
        ],
        [
         "1",
         "National Average",
         "52",
         "Rice - Retail",
         "5",
         "KG",
         "6",
         "2013",
         "4.5786"
        ],
        [
         "2",
         "National Average",
         "52",
         "Rice - Retail",
         "5",
         "KG",
         "11",
         "2013",
         "4.7865"
        ],
        [
         "3",
         "National Average",
         "52",
         "Rice - Retail",
         "5",
         "KG",
         "12",
         "2013",
         "5.1337"
        ],
        [
         "4",
         "National Average",
         "52",
         "Rice - Retail",
         "5",
         "KG",
         "1",
         "2014",
         "5.5099"
        ],
        [
         "5",
         "National Average",
         "52",
         "Rice - Retail",
         "5",
         "KG",
         "2",
         "2014",
         "5.8146"
        ],
        [
         "6",
         "National Average",
         "52",
         "Rice - Retail",
         "5",
         "KG",
         "3",
         "2014",
         "6.0014"
        ],
        [
         "7",
         "National Average",
         "52",
         "Rice - Retail",
         "5",
         "KG",
         "5",
         "2014",
         "6.3202"
        ],
        [
         "8",
         "National Average",
         "52",
         "Rice - Retail",
         "5",
         "KG",
         "6",
         "2014",
         "6.6019"
        ],
        [
         "9",
         "National Average",
         "52",
         "Rice - Retail",
         "5",
         "KG",
         "7",
         "2014",
         "6.6503"
        ],
        [
         "10",
         "National Average",
         "52",
         "Rice - Retail",
         "5",
         "KG",
         "8",
         "2014",
         "6.6806"
        ],
        [
         "11",
         "National Average",
         "52",
         "Rice - Retail",
         "5",
         "KG",
         "9",
         "2014",
         "6.6035"
        ],
        [
         "12",
         "National Average",
         "52",
         "Rice - Retail",
         "5",
         "KG",
         "10",
         "2014",
         "6.496"
        ],
        [
         "13",
         "National Average",
         "52",
         "Rice - Retail",
         "5",
         "KG",
         "11",
         "2014",
         "6.644"
        ],
        [
         "14",
         "National Average",
         "52",
         "Rice - Retail",
         "5",
         "KG",
         "12",
         "2014",
         "6.724"
        ],
        [
         "15",
         "National Average",
         "52",
         "Rice - Retail",
         "5",
         "KG",
         "1",
         "2015",
         "6.755"
        ],
        [
         "16",
         "National Average",
         "52",
         "Rice - Retail",
         "5",
         "KG",
         "2",
         "2015",
         "6.49"
        ],
        [
         "17",
         "National Average",
         "52",
         "Rice - Retail",
         "5",
         "KG",
         "3",
         "2015",
         "6.517"
        ],
        [
         "18",
         "National Average",
         "52",
         "Rice - Retail",
         "5",
         "KG",
         "4",
         "2015",
         "6.54"
        ],
        [
         "19",
         "National Average",
         "52",
         "Rice - Retail",
         "5",
         "KG",
         "5",
         "2015",
         "6.53"
        ],
        [
         "20",
         "National Average",
         "52",
         "Rice - Retail",
         "5",
         "KG",
         "6",
         "2015",
         "6.44"
        ],
        [
         "21",
         "National Average",
         "52",
         "Rice - Retail",
         "5",
         "KG",
         "7",
         "2015",
         "6.33"
        ],
        [
         "22",
         "National Average",
         "52",
         "Rice - Retail",
         "5",
         "KG",
         "8",
         "2015",
         "6.31"
        ],
        [
         "23",
         "National Average",
         "52",
         "Rice - Retail",
         "5",
         "KG",
         "9",
         "2015",
         "6.33"
        ],
        [
         "24",
         "National Average",
         "52",
         "Rice - Retail",
         "5",
         "KG",
         "10",
         "2015",
         "6.33"
        ],
        [
         "25",
         "National Average",
         "52",
         "Rice - Retail",
         "5",
         "KG",
         "11",
         "2015",
         "6.28"
        ],
        [
         "26",
         "National Average",
         "52",
         "Rice - Retail",
         "5",
         "KG",
         "12",
         "2015",
         "6.27"
        ],
        [
         "27",
         "National Average",
         "52",
         "Rice - Retail",
         "5",
         "KG",
         "1",
         "2016",
         "6.37"
        ],
        [
         "28",
         "National Average",
         "52",
         "Rice - Retail",
         "5",
         "KG",
         "2",
         "2016",
         "6.31"
        ],
        [
         "29",
         "National Average",
         "52",
         "Rice - Retail",
         "5",
         "KG",
         "3",
         "2016",
         "6.26"
        ],
        [
         "30",
         "National Average",
         "52",
         "Rice - Retail",
         "5",
         "KG",
         "4",
         "2016",
         "6.39"
        ],
        [
         "31",
         "National Average",
         "52",
         "Rice - Retail",
         "5",
         "KG",
         "5",
         "2016",
         "6.06"
        ],
        [
         "32",
         "National Average",
         "52",
         "Rice - Retail",
         "5",
         "KG",
         "6",
         "2016",
         "5.92"
        ],
        [
         "33",
         "National Average",
         "52",
         "Rice - Retail",
         "5",
         "KG",
         "7",
         "2016",
         "5.86"
        ],
        [
         "34",
         "National Average",
         "52",
         "Rice - Retail",
         "5",
         "KG",
         "8",
         "2016",
         "5.87"
        ],
        [
         "35",
         "National Average",
         "52",
         "Rice - Retail",
         "5",
         "KG",
         "9",
         "2016",
         "5.82"
        ],
        [
         "36",
         "National Average",
         "52",
         "Rice - Retail",
         "5",
         "KG",
         "10",
         "2016",
         "5.79"
        ],
        [
         "37",
         "National Average",
         "52",
         "Rice - Retail",
         "5",
         "KG",
         "11",
         "2016",
         "5.85"
        ],
        [
         "38",
         "National Average",
         "52",
         "Rice - Retail",
         "5",
         "KG",
         "12",
         "2016",
         "6.07"
        ],
        [
         "39",
         "National Average",
         "52",
         "Rice - Retail",
         "5",
         "KG",
         "1",
         "2017",
         "5.87"
        ],
        [
         "40",
         "National Average",
         "52",
         "Rice - Retail",
         "5",
         "KG",
         "2",
         "2017",
         "6.01"
        ],
        [
         "41",
         "National Average",
         "52",
         "Rice - Retail",
         "5",
         "KG",
         "3",
         "2017",
         "6.28"
        ],
        [
         "42",
         "National Average",
         "52",
         "Rice - Retail",
         "5",
         "KG",
         "1",
         "2018",
         "7.7321"
        ],
        [
         "43",
         "National Average",
         "52",
         "Rice - Retail",
         "5",
         "KG",
         "2",
         "2018",
         "7.7563"
        ],
        [
         "44",
         "National Average",
         "52",
         "Rice - Retail",
         "5",
         "KG",
         "3",
         "2018",
         "7.7952"
        ],
        [
         "45",
         "National Average",
         "52",
         "Rice - Retail",
         "5",
         "KG",
         "4",
         "2018",
         "7.8248"
        ],
        [
         "46",
         "National Average",
         "52",
         "Rice - Retail",
         "5",
         "KG",
         "5",
         "2018",
         "7.8543"
        ],
        [
         "47",
         "National Average",
         "52",
         "Rice - Retail",
         "5",
         "KG",
         "6",
         "2018",
         "8.0722"
        ],
        [
         "48",
         "National Average",
         "52",
         "Rice - Retail",
         "5",
         "KG",
         "7",
         "2018",
         "8.3216"
        ],
        [
         "49",
         "National Average",
         "52",
         "Rice - Retail",
         "5",
         "KG",
         "8",
         "2018",
         "8.4695"
        ]
       ],
       "shape": {
        "columns": 8,
        "rows": 7381
       }
      },
      "text/html": [
       "<div>\n",
       "<style scoped>\n",
       "    .dataframe tbody tr th:only-of-type {\n",
       "        vertical-align: middle;\n",
       "    }\n",
       "\n",
       "    .dataframe tbody tr th {\n",
       "        vertical-align: top;\n",
       "    }\n",
       "\n",
       "    .dataframe thead th {\n",
       "        text-align: right;\n",
       "    }\n",
       "</style>\n",
       "<table border=\"1\" class=\"dataframe\">\n",
       "  <thead>\n",
       "    <tr style=\"text-align: right;\">\n",
       "      <th></th>\n",
       "      <th>Place</th>\n",
       "      <th>ProductId</th>\n",
       "      <th>ProductName</th>\n",
       "      <th>UmId</th>\n",
       "      <th>UmName</th>\n",
       "      <th>Month</th>\n",
       "      <th>Year</th>\n",
       "      <th>Price</th>\n",
       "    </tr>\n",
       "  </thead>\n",
       "  <tbody>\n",
       "    <tr>\n",
       "      <th>0</th>\n",
       "      <td>National Average</td>\n",
       "      <td>52</td>\n",
       "      <td>Rice - Retail</td>\n",
       "      <td>5</td>\n",
       "      <td>KG</td>\n",
       "      <td>5</td>\n",
       "      <td>2013</td>\n",
       "      <td>4.4920</td>\n",
       "    </tr>\n",
       "    <tr>\n",
       "      <th>1</th>\n",
       "      <td>National Average</td>\n",
       "      <td>52</td>\n",
       "      <td>Rice - Retail</td>\n",
       "      <td>5</td>\n",
       "      <td>KG</td>\n",
       "      <td>6</td>\n",
       "      <td>2013</td>\n",
       "      <td>4.5786</td>\n",
       "    </tr>\n",
       "    <tr>\n",
       "      <th>2</th>\n",
       "      <td>National Average</td>\n",
       "      <td>52</td>\n",
       "      <td>Rice - Retail</td>\n",
       "      <td>5</td>\n",
       "      <td>KG</td>\n",
       "      <td>11</td>\n",
       "      <td>2013</td>\n",
       "      <td>4.7865</td>\n",
       "    </tr>\n",
       "    <tr>\n",
       "      <th>3</th>\n",
       "      <td>National Average</td>\n",
       "      <td>52</td>\n",
       "      <td>Rice - Retail</td>\n",
       "      <td>5</td>\n",
       "      <td>KG</td>\n",
       "      <td>12</td>\n",
       "      <td>2013</td>\n",
       "      <td>5.1337</td>\n",
       "    </tr>\n",
       "    <tr>\n",
       "      <th>4</th>\n",
       "      <td>National Average</td>\n",
       "      <td>52</td>\n",
       "      <td>Rice - Retail</td>\n",
       "      <td>5</td>\n",
       "      <td>KG</td>\n",
       "      <td>1</td>\n",
       "      <td>2014</td>\n",
       "      <td>5.5099</td>\n",
       "    </tr>\n",
       "    <tr>\n",
       "      <th>...</th>\n",
       "      <td>...</td>\n",
       "      <td>...</td>\n",
       "      <td>...</td>\n",
       "      <td>...</td>\n",
       "      <td>...</td>\n",
       "      <td>...</td>\n",
       "      <td>...</td>\n",
       "      <td>...</td>\n",
       "    </tr>\n",
       "    <tr>\n",
       "      <th>7376</th>\n",
       "      <td>Izmir</td>\n",
       "      <td>502</td>\n",
       "      <td>Cocoa (powder) - Retail</td>\n",
       "      <td>5</td>\n",
       "      <td>KG</td>\n",
       "      <td>8</td>\n",
       "      <td>2019</td>\n",
       "      <td>47.9040</td>\n",
       "    </tr>\n",
       "    <tr>\n",
       "      <th>7377</th>\n",
       "      <td>Izmir</td>\n",
       "      <td>502</td>\n",
       "      <td>Cocoa (powder) - Retail</td>\n",
       "      <td>5</td>\n",
       "      <td>KG</td>\n",
       "      <td>9</td>\n",
       "      <td>2019</td>\n",
       "      <td>49.1176</td>\n",
       "    </tr>\n",
       "    <tr>\n",
       "      <th>7378</th>\n",
       "      <td>Izmir</td>\n",
       "      <td>502</td>\n",
       "      <td>Cocoa (powder) - Retail</td>\n",
       "      <td>5</td>\n",
       "      <td>KG</td>\n",
       "      <td>10</td>\n",
       "      <td>2019</td>\n",
       "      <td>50.8347</td>\n",
       "    </tr>\n",
       "    <tr>\n",
       "      <th>7379</th>\n",
       "      <td>Izmir</td>\n",
       "      <td>502</td>\n",
       "      <td>Cocoa (powder) - Retail</td>\n",
       "      <td>5</td>\n",
       "      <td>KG</td>\n",
       "      <td>11</td>\n",
       "      <td>2019</td>\n",
       "      <td>51.7985</td>\n",
       "    </tr>\n",
       "    <tr>\n",
       "      <th>7380</th>\n",
       "      <td>Izmir</td>\n",
       "      <td>502</td>\n",
       "      <td>Cocoa (powder) - Retail</td>\n",
       "      <td>5</td>\n",
       "      <td>KG</td>\n",
       "      <td>12</td>\n",
       "      <td>2019</td>\n",
       "      <td>51.6071</td>\n",
       "    </tr>\n",
       "  </tbody>\n",
       "</table>\n",
       "<p>7381 rows × 8 columns</p>\n",
       "</div>"
      ],
      "text/plain": [
       "                 Place  ProductId              ProductName  UmId UmName  \\\n",
       "0     National Average         52            Rice - Retail     5     KG   \n",
       "1     National Average         52            Rice - Retail     5     KG   \n",
       "2     National Average         52            Rice - Retail     5     KG   \n",
       "3     National Average         52            Rice - Retail     5     KG   \n",
       "4     National Average         52            Rice - Retail     5     KG   \n",
       "...                ...        ...                      ...   ...    ...   \n",
       "7376             Izmir        502  Cocoa (powder) - Retail     5     KG   \n",
       "7377             Izmir        502  Cocoa (powder) - Retail     5     KG   \n",
       "7378             Izmir        502  Cocoa (powder) - Retail     5     KG   \n",
       "7379             Izmir        502  Cocoa (powder) - Retail     5     KG   \n",
       "7380             Izmir        502  Cocoa (powder) - Retail     5     KG   \n",
       "\n",
       "      Month  Year    Price  \n",
       "0         5  2013   4.4920  \n",
       "1         6  2013   4.5786  \n",
       "2        11  2013   4.7865  \n",
       "3        12  2013   5.1337  \n",
       "4         1  2014   5.5099  \n",
       "...     ...   ...      ...  \n",
       "7376      8  2019  47.9040  \n",
       "7377      9  2019  49.1176  \n",
       "7378     10  2019  50.8347  \n",
       "7379     11  2019  51.7985  \n",
       "7380     12  2019  51.6071  \n",
       "\n",
       "[7381 rows x 8 columns]"
      ]
     },
     "execution_count": 168,
     "metadata": {},
     "output_type": "execute_result"
    }
   ],
   "source": [
    "#[Thực hành] Hợp nhất các cột dữ liệu từ nhiều data frame\n",
    "# Đọc file dữ liệu 'FoodPrice_in_Turkey.csv'\n",
    "import pandas as pd\n",
    "df=pd.read_csv(r\"/workspaces/Codegym/Dataset/FoodPrice_in_Turkey.csv\", encoding = \"ISO-8859-1\")\n",
    "df\n",
    "\n"
   ]
  },
  {
   "cell_type": "code",
   "execution_count": 169,
   "id": "67024640",
   "metadata": {},
   "outputs": [
    {
     "data": {
      "application/vnd.microsoft.datawrangler.viewer.v0+json": {
       "columns": [
        {
         "name": "index",
         "rawType": "int64",
         "type": "integer"
        },
        {
         "name": "Place",
         "rawType": "object",
         "type": "string"
        },
        {
         "name": "ProductId",
         "rawType": "int64",
         "type": "integer"
        },
        {
         "name": "ProductName",
         "rawType": "object",
         "type": "string"
        },
        {
         "name": "UmId",
         "rawType": "int64",
         "type": "integer"
        },
        {
         "name": "UmName",
         "rawType": "object",
         "type": "string"
        },
        {
         "name": "Month",
         "rawType": "int64",
         "type": "integer"
        },
        {
         "name": "Year",
         "rawType": "int64",
         "type": "integer"
        },
        {
         "name": "Price",
         "rawType": "float64",
         "type": "float"
        }
       ],
       "ref": "83db6ff2-88e0-4b1a-86f1-b596d30ff7d0",
       "rows": [
        [
         "1011",
         "National Average",
         "176",
         "Tea (green) - Retail",
         "33",
         "Unit",
         "3",
         "2017",
         "4.65"
        ],
        [
         "1318",
         "National Average",
         "212",
         "Peas (green, dry) - Retail",
         "5",
         "KG",
         "6",
         "2015",
         "3.29"
        ],
        [
         "1360",
         "National Average",
         "229",
         "Apples (red) - Retail",
         "5",
         "KG",
         "3",
         "2017",
         "2.83"
        ],
        [
         "1436",
         "National Average",
         "233",
         "Cucumbers (greenhouse) - Retail",
         "5",
         "KG",
         "3",
         "2017",
         "4.24"
        ],
        [
         "2064",
         "National Average",
         "384",
         "Bread (pita) - Retail",
         "5",
         "KG",
         "3",
         "2017",
         "2.48"
        ],
        [
         "2494",
         "National Average",
         "465",
         "Wage (non-qualified labour, non-agricultural) - Retail",
         "51",
         "Day",
         "3",
         "2017",
         "46.8"
        ],
        [
         "5833",
         "Izmir",
         "52",
         "Rice - Retail",
         "5",
         "KG",
         "12",
         "2019",
         "10.2803"
        ],
        [
         "5869",
         "Izmir",
         "58",
         "Wheat flour - Retail",
         "5",
         "KG",
         "12",
         "2019",
         "4.2703"
        ],
        [
         "5905",
         "Izmir",
         "66",
         "Beans (white) - Retail",
         "5",
         "KG",
         "12",
         "2019",
         "13.0975"
        ],
        [
         "5941",
         "Izmir",
         "83",
         "Potatoes - Retail",
         "5",
         "KG",
         "12",
         "2019",
         "2.0924"
        ],
        [
         "5977",
         "Izmir",
         "92",
         "Eggs - Retail",
         "33",
         "Unit",
         "12",
         "2019",
         "0.6301"
        ],
        [
         "6013",
         "Izmir",
         "94",
         "Meat (chicken) - Retail",
         "5",
         "KG",
         "12",
         "2019",
         "11.7723"
        ],
        [
         "6049",
         "Izmir",
         "97",
         "Sugar - Retail",
         "5",
         "KG",
         "12",
         "2019",
         "5.5038"
        ],
        [
         "6085",
         "Izmir",
         "105",
         "Garlic - Retail",
         "5",
         "KG",
         "12",
         "2019",
         "38.4497"
        ],
        [
         "6121",
         "Izmir",
         "108",
         "Lentils - Retail",
         "5",
         "KG",
         "12",
         "2019",
         "7.5267"
        ],
        [
         "6157",
         "Izmir",
         "112",
         "Pasta - Retail",
         "5",
         "KG",
         "12",
         "2019",
         "4.9827"
        ],
        [
         "6193",
         "Izmir",
         "114",
         "Tomatoes - Retail",
         "5",
         "KG",
         "12",
         "2019",
         "4.7359"
        ],
        [
         "6229",
         "Izmir",
         "119",
         "Groundnuts (shelled) - Retail",
         "5",
         "KG",
         "12",
         "2019",
         "33.0362"
        ],
        [
         "6265",
         "Izmir",
         "124",
         "Bread (common) - Retail",
         "5",
         "KG",
         "12",
         "2019",
         "5.9795"
        ],
        [
         "6301",
         "Izmir",
         "151",
         "Coffee - Retail",
         "5",
         "KG",
         "12",
         "2019",
         "51.5925"
        ],
        [
         "6337",
         "Izmir",
         "173",
         "Onions - Retail",
         "5",
         "KG",
         "12",
         "2019",
         "2.2126"
        ],
        [
         "6356",
         "Izmir",
         "181",
         "Cabbage - Retail",
         "5",
         "KG",
         "12",
         "2019",
         "1.4376"
        ],
        [
         "6392",
         "Izmir",
         "183",
         "Meat (mutton) - Retail",
         "5",
         "KG",
         "12",
         "2019",
         "59.2274"
        ],
        [
         "6428",
         "Izmir",
         "184",
         "Oil (sunflower) - Retail",
         "15",
         "L",
         "12",
         "2019",
         "10.8694"
        ],
        [
         "6464",
         "Izmir",
         "185",
         "Salt - Retail",
         "5",
         "KG",
         "12",
         "2019",
         "2.7772"
        ],
        [
         "6492",
         "Izmir",
         "209",
         "Coffee (instant) - Retail",
         "33",
         "Unit",
         "12",
         "2019",
         "51.1247"
        ],
        [
         "6509",
         "Izmir",
         "231",
         "Cauliflower - Retail",
         "5",
         "KG",
         "12",
         "2019",
         "2.7437"
        ],
        [
         "6545",
         "Izmir",
         "239",
         "Oil (olive) - Retail",
         "15",
         "L",
         "12",
         "2019",
         "30.1293"
        ],
        [
         "6581",
         "Izmir",
         "244",
         "Chickpeas - Retail",
         "5",
         "KG",
         "12",
         "2019",
         "9.2749"
        ],
        [
         "6617",
         "Izmir",
         "254",
         "Bananas - Retail",
         "5",
         "KG",
         "12",
         "2019",
         "9.8327"
        ],
        [
         "6653",
         "Izmir",
         "258",
         "Bulgur - Retail",
         "5",
         "KG",
         "12",
         "2019",
         "5.064"
        ],
        [
         "6689",
         "Izmir",
         "281",
         "Tea - Retail",
         "5",
         "KG",
         "12",
         "2019",
         "35.1895"
        ],
        [
         "6725",
         "Izmir",
         "285",
         "Fuel (petrol-gasoline) - Retail",
         "15",
         "L",
         "12",
         "2019",
         "6.9867"
        ],
        [
         "6761",
         "Izmir",
         "304",
         "Transport (public) - Retail",
         "55",
         "Course",
         "12",
         "2019",
         "3.6964"
        ],
        [
         "6797",
         "Izmir",
         "317",
         "Tomatoes (paste) - Retail",
         "5",
         "KG",
         "12",
         "2019",
         "10.8901"
        ],
        [
         "6833",
         "Izmir",
         "341",
         "Fuel (gas) - Retail",
         "90",
         "12 KG",
         "12",
         "2019",
         "109.1172"
        ],
        [
         "6869",
         "Izmir",
         "345",
         "Apples - Retail",
         "5",
         "KG",
         "12",
         "2019",
         "4.2447"
        ],
        [
         "6895",
         "Izmir",
         "360",
         "Oranges - Retail",
         "5",
         "KG",
         "12",
         "2019",
         "3.9023"
        ],
        [
         "6931",
         "Izmir",
         "364",
         "Yogurt - Retail",
         "5",
         "KG",
         "12",
         "2019",
         "7.4009"
        ],
        [
         "6967",
         "Izmir",
         "388",
         "Cucumbers - Retail",
         "5",
         "KG",
         "12",
         "2019",
         "5.0299"
        ],
        [
         "7003",
         "Izmir",
         "401",
         "Fish (fresh) - Retail",
         "5",
         "KG",
         "12",
         "2019",
         "27.8747"
        ],
        [
         "7020",
         "Izmir",
         "404",
         "Spinach - Retail",
         "5",
         "KG",
         "12",
         "2019",
         "2.5628"
        ],
        [
         "7056",
         "Izmir",
         "414",
         "Cheese - Retail",
         "5",
         "KG",
         "12",
         "2019",
         "35.5297"
        ],
        [
         "7092",
         "Izmir",
         "433",
         "Meat (veal) - Retail",
         "5",
         "KG",
         "12",
         "2019",
         "48.0534"
        ],
        [
         "7128",
         "Izmir",
         "434",
         "Eggplants - Retail",
         "5",
         "KG",
         "12",
         "2019",
         "3.9435"
        ],
        [
         "7164",
         "Izmir",
         "442",
         "Milk (powder, infant formula) - Retail",
         "5",
         "KG",
         "12",
         "2019",
         "147.1558"
        ],
        [
         "7200",
         "Izmir",
         "450",
         "Zucchini - Retail",
         "5",
         "KG",
         "12",
         "2019",
         "4.3735"
        ],
        [
         "7236",
         "Izmir",
         "463",
         "Milk (pasteurized) - Retail",
         "15",
         "L",
         "12",
         "2019",
         "5.1285"
        ],
        [
         "7272",
         "Izmir",
         "491",
         "Electricity - Retail",
         "101",
         "kWh",
         "12",
         "2019",
         "0.7102"
        ],
        [
         "7308",
         "Izmir",
         "492",
         "Tea (herbal) - Retail",
         "102",
         "Package",
         "12",
         "2019",
         "5.8147"
        ]
       ],
       "shape": {
        "columns": 8,
        "rows": 52
       }
      },
      "text/html": [
       "<div>\n",
       "<style scoped>\n",
       "    .dataframe tbody tr th:only-of-type {\n",
       "        vertical-align: middle;\n",
       "    }\n",
       "\n",
       "    .dataframe tbody tr th {\n",
       "        vertical-align: top;\n",
       "    }\n",
       "\n",
       "    .dataframe thead th {\n",
       "        text-align: right;\n",
       "    }\n",
       "</style>\n",
       "<table border=\"1\" class=\"dataframe\">\n",
       "  <thead>\n",
       "    <tr style=\"text-align: right;\">\n",
       "      <th></th>\n",
       "      <th>Place</th>\n",
       "      <th>ProductId</th>\n",
       "      <th>ProductName</th>\n",
       "      <th>UmId</th>\n",
       "      <th>UmName</th>\n",
       "      <th>Month</th>\n",
       "      <th>Year</th>\n",
       "      <th>Price</th>\n",
       "    </tr>\n",
       "  </thead>\n",
       "  <tbody>\n",
       "    <tr>\n",
       "      <th>1011</th>\n",
       "      <td>National Average</td>\n",
       "      <td>176</td>\n",
       "      <td>Tea (green) - Retail</td>\n",
       "      <td>33</td>\n",
       "      <td>Unit</td>\n",
       "      <td>3</td>\n",
       "      <td>2017</td>\n",
       "      <td>4.6500</td>\n",
       "    </tr>\n",
       "    <tr>\n",
       "      <th>1318</th>\n",
       "      <td>National Average</td>\n",
       "      <td>212</td>\n",
       "      <td>Peas (green, dry) - Retail</td>\n",
       "      <td>5</td>\n",
       "      <td>KG</td>\n",
       "      <td>6</td>\n",
       "      <td>2015</td>\n",
       "      <td>3.2900</td>\n",
       "    </tr>\n",
       "    <tr>\n",
       "      <th>1360</th>\n",
       "      <td>National Average</td>\n",
       "      <td>229</td>\n",
       "      <td>Apples (red) - Retail</td>\n",
       "      <td>5</td>\n",
       "      <td>KG</td>\n",
       "      <td>3</td>\n",
       "      <td>2017</td>\n",
       "      <td>2.8300</td>\n",
       "    </tr>\n",
       "    <tr>\n",
       "      <th>1436</th>\n",
       "      <td>National Average</td>\n",
       "      <td>233</td>\n",
       "      <td>Cucumbers (greenhouse) - Retail</td>\n",
       "      <td>5</td>\n",
       "      <td>KG</td>\n",
       "      <td>3</td>\n",
       "      <td>2017</td>\n",
       "      <td>4.2400</td>\n",
       "    </tr>\n",
       "    <tr>\n",
       "      <th>2064</th>\n",
       "      <td>National Average</td>\n",
       "      <td>384</td>\n",
       "      <td>Bread (pita) - Retail</td>\n",
       "      <td>5</td>\n",
       "      <td>KG</td>\n",
       "      <td>3</td>\n",
       "      <td>2017</td>\n",
       "      <td>2.4800</td>\n",
       "    </tr>\n",
       "    <tr>\n",
       "      <th>2494</th>\n",
       "      <td>National Average</td>\n",
       "      <td>465</td>\n",
       "      <td>Wage (non-qualified labour, non-agricultural) ...</td>\n",
       "      <td>51</td>\n",
       "      <td>Day</td>\n",
       "      <td>3</td>\n",
       "      <td>2017</td>\n",
       "      <td>46.8000</td>\n",
       "    </tr>\n",
       "    <tr>\n",
       "      <th>5833</th>\n",
       "      <td>Izmir</td>\n",
       "      <td>52</td>\n",
       "      <td>Rice - Retail</td>\n",
       "      <td>5</td>\n",
       "      <td>KG</td>\n",
       "      <td>12</td>\n",
       "      <td>2019</td>\n",
       "      <td>10.2803</td>\n",
       "    </tr>\n",
       "    <tr>\n",
       "      <th>5869</th>\n",
       "      <td>Izmir</td>\n",
       "      <td>58</td>\n",
       "      <td>Wheat flour - Retail</td>\n",
       "      <td>5</td>\n",
       "      <td>KG</td>\n",
       "      <td>12</td>\n",
       "      <td>2019</td>\n",
       "      <td>4.2703</td>\n",
       "    </tr>\n",
       "    <tr>\n",
       "      <th>5905</th>\n",
       "      <td>Izmir</td>\n",
       "      <td>66</td>\n",
       "      <td>Beans (white) - Retail</td>\n",
       "      <td>5</td>\n",
       "      <td>KG</td>\n",
       "      <td>12</td>\n",
       "      <td>2019</td>\n",
       "      <td>13.0975</td>\n",
       "    </tr>\n",
       "    <tr>\n",
       "      <th>5941</th>\n",
       "      <td>Izmir</td>\n",
       "      <td>83</td>\n",
       "      <td>Potatoes - Retail</td>\n",
       "      <td>5</td>\n",
       "      <td>KG</td>\n",
       "      <td>12</td>\n",
       "      <td>2019</td>\n",
       "      <td>2.0924</td>\n",
       "    </tr>\n",
       "    <tr>\n",
       "      <th>5977</th>\n",
       "      <td>Izmir</td>\n",
       "      <td>92</td>\n",
       "      <td>Eggs - Retail</td>\n",
       "      <td>33</td>\n",
       "      <td>Unit</td>\n",
       "      <td>12</td>\n",
       "      <td>2019</td>\n",
       "      <td>0.6301</td>\n",
       "    </tr>\n",
       "    <tr>\n",
       "      <th>6013</th>\n",
       "      <td>Izmir</td>\n",
       "      <td>94</td>\n",
       "      <td>Meat (chicken) - Retail</td>\n",
       "      <td>5</td>\n",
       "      <td>KG</td>\n",
       "      <td>12</td>\n",
       "      <td>2019</td>\n",
       "      <td>11.7723</td>\n",
       "    </tr>\n",
       "    <tr>\n",
       "      <th>6049</th>\n",
       "      <td>Izmir</td>\n",
       "      <td>97</td>\n",
       "      <td>Sugar - Retail</td>\n",
       "      <td>5</td>\n",
       "      <td>KG</td>\n",
       "      <td>12</td>\n",
       "      <td>2019</td>\n",
       "      <td>5.5038</td>\n",
       "    </tr>\n",
       "    <tr>\n",
       "      <th>6085</th>\n",
       "      <td>Izmir</td>\n",
       "      <td>105</td>\n",
       "      <td>Garlic - Retail</td>\n",
       "      <td>5</td>\n",
       "      <td>KG</td>\n",
       "      <td>12</td>\n",
       "      <td>2019</td>\n",
       "      <td>38.4497</td>\n",
       "    </tr>\n",
       "    <tr>\n",
       "      <th>6121</th>\n",
       "      <td>Izmir</td>\n",
       "      <td>108</td>\n",
       "      <td>Lentils - Retail</td>\n",
       "      <td>5</td>\n",
       "      <td>KG</td>\n",
       "      <td>12</td>\n",
       "      <td>2019</td>\n",
       "      <td>7.5267</td>\n",
       "    </tr>\n",
       "    <tr>\n",
       "      <th>6157</th>\n",
       "      <td>Izmir</td>\n",
       "      <td>112</td>\n",
       "      <td>Pasta - Retail</td>\n",
       "      <td>5</td>\n",
       "      <td>KG</td>\n",
       "      <td>12</td>\n",
       "      <td>2019</td>\n",
       "      <td>4.9827</td>\n",
       "    </tr>\n",
       "    <tr>\n",
       "      <th>6193</th>\n",
       "      <td>Izmir</td>\n",
       "      <td>114</td>\n",
       "      <td>Tomatoes - Retail</td>\n",
       "      <td>5</td>\n",
       "      <td>KG</td>\n",
       "      <td>12</td>\n",
       "      <td>2019</td>\n",
       "      <td>4.7359</td>\n",
       "    </tr>\n",
       "    <tr>\n",
       "      <th>6229</th>\n",
       "      <td>Izmir</td>\n",
       "      <td>119</td>\n",
       "      <td>Groundnuts (shelled) - Retail</td>\n",
       "      <td>5</td>\n",
       "      <td>KG</td>\n",
       "      <td>12</td>\n",
       "      <td>2019</td>\n",
       "      <td>33.0362</td>\n",
       "    </tr>\n",
       "    <tr>\n",
       "      <th>6265</th>\n",
       "      <td>Izmir</td>\n",
       "      <td>124</td>\n",
       "      <td>Bread (common) - Retail</td>\n",
       "      <td>5</td>\n",
       "      <td>KG</td>\n",
       "      <td>12</td>\n",
       "      <td>2019</td>\n",
       "      <td>5.9795</td>\n",
       "    </tr>\n",
       "    <tr>\n",
       "      <th>6301</th>\n",
       "      <td>Izmir</td>\n",
       "      <td>151</td>\n",
       "      <td>Coffee - Retail</td>\n",
       "      <td>5</td>\n",
       "      <td>KG</td>\n",
       "      <td>12</td>\n",
       "      <td>2019</td>\n",
       "      <td>51.5925</td>\n",
       "    </tr>\n",
       "    <tr>\n",
       "      <th>6337</th>\n",
       "      <td>Izmir</td>\n",
       "      <td>173</td>\n",
       "      <td>Onions - Retail</td>\n",
       "      <td>5</td>\n",
       "      <td>KG</td>\n",
       "      <td>12</td>\n",
       "      <td>2019</td>\n",
       "      <td>2.2126</td>\n",
       "    </tr>\n",
       "    <tr>\n",
       "      <th>6356</th>\n",
       "      <td>Izmir</td>\n",
       "      <td>181</td>\n",
       "      <td>Cabbage - Retail</td>\n",
       "      <td>5</td>\n",
       "      <td>KG</td>\n",
       "      <td>12</td>\n",
       "      <td>2019</td>\n",
       "      <td>1.4376</td>\n",
       "    </tr>\n",
       "    <tr>\n",
       "      <th>6392</th>\n",
       "      <td>Izmir</td>\n",
       "      <td>183</td>\n",
       "      <td>Meat (mutton) - Retail</td>\n",
       "      <td>5</td>\n",
       "      <td>KG</td>\n",
       "      <td>12</td>\n",
       "      <td>2019</td>\n",
       "      <td>59.2274</td>\n",
       "    </tr>\n",
       "    <tr>\n",
       "      <th>6428</th>\n",
       "      <td>Izmir</td>\n",
       "      <td>184</td>\n",
       "      <td>Oil (sunflower) - Retail</td>\n",
       "      <td>15</td>\n",
       "      <td>L</td>\n",
       "      <td>12</td>\n",
       "      <td>2019</td>\n",
       "      <td>10.8694</td>\n",
       "    </tr>\n",
       "    <tr>\n",
       "      <th>6464</th>\n",
       "      <td>Izmir</td>\n",
       "      <td>185</td>\n",
       "      <td>Salt - Retail</td>\n",
       "      <td>5</td>\n",
       "      <td>KG</td>\n",
       "      <td>12</td>\n",
       "      <td>2019</td>\n",
       "      <td>2.7772</td>\n",
       "    </tr>\n",
       "    <tr>\n",
       "      <th>6492</th>\n",
       "      <td>Izmir</td>\n",
       "      <td>209</td>\n",
       "      <td>Coffee (instant) - Retail</td>\n",
       "      <td>33</td>\n",
       "      <td>Unit</td>\n",
       "      <td>12</td>\n",
       "      <td>2019</td>\n",
       "      <td>51.1247</td>\n",
       "    </tr>\n",
       "    <tr>\n",
       "      <th>6509</th>\n",
       "      <td>Izmir</td>\n",
       "      <td>231</td>\n",
       "      <td>Cauliflower - Retail</td>\n",
       "      <td>5</td>\n",
       "      <td>KG</td>\n",
       "      <td>12</td>\n",
       "      <td>2019</td>\n",
       "      <td>2.7437</td>\n",
       "    </tr>\n",
       "    <tr>\n",
       "      <th>6545</th>\n",
       "      <td>Izmir</td>\n",
       "      <td>239</td>\n",
       "      <td>Oil (olive) - Retail</td>\n",
       "      <td>15</td>\n",
       "      <td>L</td>\n",
       "      <td>12</td>\n",
       "      <td>2019</td>\n",
       "      <td>30.1293</td>\n",
       "    </tr>\n",
       "    <tr>\n",
       "      <th>6581</th>\n",
       "      <td>Izmir</td>\n",
       "      <td>244</td>\n",
       "      <td>Chickpeas - Retail</td>\n",
       "      <td>5</td>\n",
       "      <td>KG</td>\n",
       "      <td>12</td>\n",
       "      <td>2019</td>\n",
       "      <td>9.2749</td>\n",
       "    </tr>\n",
       "    <tr>\n",
       "      <th>6617</th>\n",
       "      <td>Izmir</td>\n",
       "      <td>254</td>\n",
       "      <td>Bananas - Retail</td>\n",
       "      <td>5</td>\n",
       "      <td>KG</td>\n",
       "      <td>12</td>\n",
       "      <td>2019</td>\n",
       "      <td>9.8327</td>\n",
       "    </tr>\n",
       "    <tr>\n",
       "      <th>6653</th>\n",
       "      <td>Izmir</td>\n",
       "      <td>258</td>\n",
       "      <td>Bulgur - Retail</td>\n",
       "      <td>5</td>\n",
       "      <td>KG</td>\n",
       "      <td>12</td>\n",
       "      <td>2019</td>\n",
       "      <td>5.0640</td>\n",
       "    </tr>\n",
       "    <tr>\n",
       "      <th>6689</th>\n",
       "      <td>Izmir</td>\n",
       "      <td>281</td>\n",
       "      <td>Tea - Retail</td>\n",
       "      <td>5</td>\n",
       "      <td>KG</td>\n",
       "      <td>12</td>\n",
       "      <td>2019</td>\n",
       "      <td>35.1895</td>\n",
       "    </tr>\n",
       "    <tr>\n",
       "      <th>6725</th>\n",
       "      <td>Izmir</td>\n",
       "      <td>285</td>\n",
       "      <td>Fuel (petrol-gasoline) - Retail</td>\n",
       "      <td>15</td>\n",
       "      <td>L</td>\n",
       "      <td>12</td>\n",
       "      <td>2019</td>\n",
       "      <td>6.9867</td>\n",
       "    </tr>\n",
       "    <tr>\n",
       "      <th>6761</th>\n",
       "      <td>Izmir</td>\n",
       "      <td>304</td>\n",
       "      <td>Transport (public) - Retail</td>\n",
       "      <td>55</td>\n",
       "      <td>Course</td>\n",
       "      <td>12</td>\n",
       "      <td>2019</td>\n",
       "      <td>3.6964</td>\n",
       "    </tr>\n",
       "    <tr>\n",
       "      <th>6797</th>\n",
       "      <td>Izmir</td>\n",
       "      <td>317</td>\n",
       "      <td>Tomatoes (paste) - Retail</td>\n",
       "      <td>5</td>\n",
       "      <td>KG</td>\n",
       "      <td>12</td>\n",
       "      <td>2019</td>\n",
       "      <td>10.8901</td>\n",
       "    </tr>\n",
       "    <tr>\n",
       "      <th>6833</th>\n",
       "      <td>Izmir</td>\n",
       "      <td>341</td>\n",
       "      <td>Fuel (gas) - Retail</td>\n",
       "      <td>90</td>\n",
       "      <td>12 KG</td>\n",
       "      <td>12</td>\n",
       "      <td>2019</td>\n",
       "      <td>109.1172</td>\n",
       "    </tr>\n",
       "    <tr>\n",
       "      <th>6869</th>\n",
       "      <td>Izmir</td>\n",
       "      <td>345</td>\n",
       "      <td>Apples - Retail</td>\n",
       "      <td>5</td>\n",
       "      <td>KG</td>\n",
       "      <td>12</td>\n",
       "      <td>2019</td>\n",
       "      <td>4.2447</td>\n",
       "    </tr>\n",
       "    <tr>\n",
       "      <th>6895</th>\n",
       "      <td>Izmir</td>\n",
       "      <td>360</td>\n",
       "      <td>Oranges - Retail</td>\n",
       "      <td>5</td>\n",
       "      <td>KG</td>\n",
       "      <td>12</td>\n",
       "      <td>2019</td>\n",
       "      <td>3.9023</td>\n",
       "    </tr>\n",
       "    <tr>\n",
       "      <th>6931</th>\n",
       "      <td>Izmir</td>\n",
       "      <td>364</td>\n",
       "      <td>Yogurt - Retail</td>\n",
       "      <td>5</td>\n",
       "      <td>KG</td>\n",
       "      <td>12</td>\n",
       "      <td>2019</td>\n",
       "      <td>7.4009</td>\n",
       "    </tr>\n",
       "    <tr>\n",
       "      <th>6967</th>\n",
       "      <td>Izmir</td>\n",
       "      <td>388</td>\n",
       "      <td>Cucumbers - Retail</td>\n",
       "      <td>5</td>\n",
       "      <td>KG</td>\n",
       "      <td>12</td>\n",
       "      <td>2019</td>\n",
       "      <td>5.0299</td>\n",
       "    </tr>\n",
       "    <tr>\n",
       "      <th>7003</th>\n",
       "      <td>Izmir</td>\n",
       "      <td>401</td>\n",
       "      <td>Fish (fresh) - Retail</td>\n",
       "      <td>5</td>\n",
       "      <td>KG</td>\n",
       "      <td>12</td>\n",
       "      <td>2019</td>\n",
       "      <td>27.8747</td>\n",
       "    </tr>\n",
       "    <tr>\n",
       "      <th>7020</th>\n",
       "      <td>Izmir</td>\n",
       "      <td>404</td>\n",
       "      <td>Spinach - Retail</td>\n",
       "      <td>5</td>\n",
       "      <td>KG</td>\n",
       "      <td>12</td>\n",
       "      <td>2019</td>\n",
       "      <td>2.5628</td>\n",
       "    </tr>\n",
       "    <tr>\n",
       "      <th>7056</th>\n",
       "      <td>Izmir</td>\n",
       "      <td>414</td>\n",
       "      <td>Cheese - Retail</td>\n",
       "      <td>5</td>\n",
       "      <td>KG</td>\n",
       "      <td>12</td>\n",
       "      <td>2019</td>\n",
       "      <td>35.5297</td>\n",
       "    </tr>\n",
       "    <tr>\n",
       "      <th>7092</th>\n",
       "      <td>Izmir</td>\n",
       "      <td>433</td>\n",
       "      <td>Meat (veal) - Retail</td>\n",
       "      <td>5</td>\n",
       "      <td>KG</td>\n",
       "      <td>12</td>\n",
       "      <td>2019</td>\n",
       "      <td>48.0534</td>\n",
       "    </tr>\n",
       "    <tr>\n",
       "      <th>7128</th>\n",
       "      <td>Izmir</td>\n",
       "      <td>434</td>\n",
       "      <td>Eggplants - Retail</td>\n",
       "      <td>5</td>\n",
       "      <td>KG</td>\n",
       "      <td>12</td>\n",
       "      <td>2019</td>\n",
       "      <td>3.9435</td>\n",
       "    </tr>\n",
       "    <tr>\n",
       "      <th>7164</th>\n",
       "      <td>Izmir</td>\n",
       "      <td>442</td>\n",
       "      <td>Milk (powder, infant formula) - Retail</td>\n",
       "      <td>5</td>\n",
       "      <td>KG</td>\n",
       "      <td>12</td>\n",
       "      <td>2019</td>\n",
       "      <td>147.1558</td>\n",
       "    </tr>\n",
       "    <tr>\n",
       "      <th>7200</th>\n",
       "      <td>Izmir</td>\n",
       "      <td>450</td>\n",
       "      <td>Zucchini - Retail</td>\n",
       "      <td>5</td>\n",
       "      <td>KG</td>\n",
       "      <td>12</td>\n",
       "      <td>2019</td>\n",
       "      <td>4.3735</td>\n",
       "    </tr>\n",
       "    <tr>\n",
       "      <th>7236</th>\n",
       "      <td>Izmir</td>\n",
       "      <td>463</td>\n",
       "      <td>Milk (pasteurized) - Retail</td>\n",
       "      <td>15</td>\n",
       "      <td>L</td>\n",
       "      <td>12</td>\n",
       "      <td>2019</td>\n",
       "      <td>5.1285</td>\n",
       "    </tr>\n",
       "    <tr>\n",
       "      <th>7272</th>\n",
       "      <td>Izmir</td>\n",
       "      <td>491</td>\n",
       "      <td>Electricity - Retail</td>\n",
       "      <td>101</td>\n",
       "      <td>kWh</td>\n",
       "      <td>12</td>\n",
       "      <td>2019</td>\n",
       "      <td>0.7102</td>\n",
       "    </tr>\n",
       "    <tr>\n",
       "      <th>7308</th>\n",
       "      <td>Izmir</td>\n",
       "      <td>492</td>\n",
       "      <td>Tea (herbal) - Retail</td>\n",
       "      <td>102</td>\n",
       "      <td>Package</td>\n",
       "      <td>12</td>\n",
       "      <td>2019</td>\n",
       "      <td>5.8147</td>\n",
       "    </tr>\n",
       "    <tr>\n",
       "      <th>7344</th>\n",
       "      <td>Izmir</td>\n",
       "      <td>493</td>\n",
       "      <td>Water - Retail</td>\n",
       "      <td>100</td>\n",
       "      <td>Cubic meter</td>\n",
       "      <td>12</td>\n",
       "      <td>2019</td>\n",
       "      <td>5.0664</td>\n",
       "    </tr>\n",
       "    <tr>\n",
       "      <th>7380</th>\n",
       "      <td>Izmir</td>\n",
       "      <td>502</td>\n",
       "      <td>Cocoa (powder) - Retail</td>\n",
       "      <td>5</td>\n",
       "      <td>KG</td>\n",
       "      <td>12</td>\n",
       "      <td>2019</td>\n",
       "      <td>51.6071</td>\n",
       "    </tr>\n",
       "  </tbody>\n",
       "</table>\n",
       "</div>"
      ],
      "text/plain": [
       "                 Place  ProductId  \\\n",
       "1011  National Average        176   \n",
       "1318  National Average        212   \n",
       "1360  National Average        229   \n",
       "1436  National Average        233   \n",
       "2064  National Average        384   \n",
       "2494  National Average        465   \n",
       "5833             Izmir         52   \n",
       "5869             Izmir         58   \n",
       "5905             Izmir         66   \n",
       "5941             Izmir         83   \n",
       "5977             Izmir         92   \n",
       "6013             Izmir         94   \n",
       "6049             Izmir         97   \n",
       "6085             Izmir        105   \n",
       "6121             Izmir        108   \n",
       "6157             Izmir        112   \n",
       "6193             Izmir        114   \n",
       "6229             Izmir        119   \n",
       "6265             Izmir        124   \n",
       "6301             Izmir        151   \n",
       "6337             Izmir        173   \n",
       "6356             Izmir        181   \n",
       "6392             Izmir        183   \n",
       "6428             Izmir        184   \n",
       "6464             Izmir        185   \n",
       "6492             Izmir        209   \n",
       "6509             Izmir        231   \n",
       "6545             Izmir        239   \n",
       "6581             Izmir        244   \n",
       "6617             Izmir        254   \n",
       "6653             Izmir        258   \n",
       "6689             Izmir        281   \n",
       "6725             Izmir        285   \n",
       "6761             Izmir        304   \n",
       "6797             Izmir        317   \n",
       "6833             Izmir        341   \n",
       "6869             Izmir        345   \n",
       "6895             Izmir        360   \n",
       "6931             Izmir        364   \n",
       "6967             Izmir        388   \n",
       "7003             Izmir        401   \n",
       "7020             Izmir        404   \n",
       "7056             Izmir        414   \n",
       "7092             Izmir        433   \n",
       "7128             Izmir        434   \n",
       "7164             Izmir        442   \n",
       "7200             Izmir        450   \n",
       "7236             Izmir        463   \n",
       "7272             Izmir        491   \n",
       "7308             Izmir        492   \n",
       "7344             Izmir        493   \n",
       "7380             Izmir        502   \n",
       "\n",
       "                                            ProductName  UmId       UmName  \\\n",
       "1011                               Tea (green) - Retail    33         Unit   \n",
       "1318                         Peas (green, dry) - Retail     5           KG   \n",
       "1360                              Apples (red) - Retail     5           KG   \n",
       "1436                    Cucumbers (greenhouse) - Retail     5           KG   \n",
       "2064                              Bread (pita) - Retail     5           KG   \n",
       "2494  Wage (non-qualified labour, non-agricultural) ...    51          Day   \n",
       "5833                                      Rice - Retail     5           KG   \n",
       "5869                               Wheat flour - Retail     5           KG   \n",
       "5905                             Beans (white) - Retail     5           KG   \n",
       "5941                                  Potatoes - Retail     5           KG   \n",
       "5977                                      Eggs - Retail    33         Unit   \n",
       "6013                            Meat (chicken) - Retail     5           KG   \n",
       "6049                                     Sugar - Retail     5           KG   \n",
       "6085                                    Garlic - Retail     5           KG   \n",
       "6121                                   Lentils - Retail     5           KG   \n",
       "6157                                     Pasta - Retail     5           KG   \n",
       "6193                                  Tomatoes - Retail     5           KG   \n",
       "6229                      Groundnuts (shelled) - Retail     5           KG   \n",
       "6265                            Bread (common) - Retail     5           KG   \n",
       "6301                                    Coffee - Retail     5           KG   \n",
       "6337                                    Onions - Retail     5           KG   \n",
       "6356                                   Cabbage - Retail     5           KG   \n",
       "6392                             Meat (mutton) - Retail     5           KG   \n",
       "6428                           Oil (sunflower) - Retail    15            L   \n",
       "6464                                      Salt - Retail     5           KG   \n",
       "6492                          Coffee (instant) - Retail    33         Unit   \n",
       "6509                               Cauliflower - Retail     5           KG   \n",
       "6545                               Oil (olive) - Retail    15            L   \n",
       "6581                                 Chickpeas - Retail     5           KG   \n",
       "6617                                   Bananas - Retail     5           KG   \n",
       "6653                                    Bulgur - Retail     5           KG   \n",
       "6689                                       Tea - Retail     5           KG   \n",
       "6725                    Fuel (petrol-gasoline) - Retail    15            L   \n",
       "6761                        Transport (public) - Retail    55       Course   \n",
       "6797                          Tomatoes (paste) - Retail     5           KG   \n",
       "6833                                Fuel (gas) - Retail    90        12 KG   \n",
       "6869                                    Apples - Retail     5           KG   \n",
       "6895                                   Oranges - Retail     5           KG   \n",
       "6931                                    Yogurt - Retail     5           KG   \n",
       "6967                                 Cucumbers - Retail     5           KG   \n",
       "7003                              Fish (fresh) - Retail     5           KG   \n",
       "7020                                   Spinach - Retail     5           KG   \n",
       "7056                                    Cheese - Retail     5           KG   \n",
       "7092                               Meat (veal) - Retail     5           KG   \n",
       "7128                                 Eggplants - Retail     5           KG   \n",
       "7164             Milk (powder, infant formula) - Retail     5           KG   \n",
       "7200                                  Zucchini - Retail     5           KG   \n",
       "7236                        Milk (pasteurized) - Retail    15            L   \n",
       "7272                               Electricity - Retail   101          kWh   \n",
       "7308                              Tea (herbal) - Retail   102      Package   \n",
       "7344                                     Water - Retail   100  Cubic meter   \n",
       "7380                            Cocoa (powder) - Retail     5           KG   \n",
       "\n",
       "      Month  Year     Price  \n",
       "1011      3  2017    4.6500  \n",
       "1318      6  2015    3.2900  \n",
       "1360      3  2017    2.8300  \n",
       "1436      3  2017    4.2400  \n",
       "2064      3  2017    2.4800  \n",
       "2494      3  2017   46.8000  \n",
       "5833     12  2019   10.2803  \n",
       "5869     12  2019    4.2703  \n",
       "5905     12  2019   13.0975  \n",
       "5941     12  2019    2.0924  \n",
       "5977     12  2019    0.6301  \n",
       "6013     12  2019   11.7723  \n",
       "6049     12  2019    5.5038  \n",
       "6085     12  2019   38.4497  \n",
       "6121     12  2019    7.5267  \n",
       "6157     12  2019    4.9827  \n",
       "6193     12  2019    4.7359  \n",
       "6229     12  2019   33.0362  \n",
       "6265     12  2019    5.9795  \n",
       "6301     12  2019   51.5925  \n",
       "6337     12  2019    2.2126  \n",
       "6356     12  2019    1.4376  \n",
       "6392     12  2019   59.2274  \n",
       "6428     12  2019   10.8694  \n",
       "6464     12  2019    2.7772  \n",
       "6492     12  2019   51.1247  \n",
       "6509     12  2019    2.7437  \n",
       "6545     12  2019   30.1293  \n",
       "6581     12  2019    9.2749  \n",
       "6617     12  2019    9.8327  \n",
       "6653     12  2019    5.0640  \n",
       "6689     12  2019   35.1895  \n",
       "6725     12  2019    6.9867  \n",
       "6761     12  2019    3.6964  \n",
       "6797     12  2019   10.8901  \n",
       "6833     12  2019  109.1172  \n",
       "6869     12  2019    4.2447  \n",
       "6895     12  2019    3.9023  \n",
       "6931     12  2019    7.4009  \n",
       "6967     12  2019    5.0299  \n",
       "7003     12  2019   27.8747  \n",
       "7020     12  2019    2.5628  \n",
       "7056     12  2019   35.5297  \n",
       "7092     12  2019   48.0534  \n",
       "7128     12  2019    3.9435  \n",
       "7164     12  2019  147.1558  \n",
       "7200     12  2019    4.3735  \n",
       "7236     12  2019    5.1285  \n",
       "7272     12  2019    0.7102  \n",
       "7308     12  2019    5.8147  \n",
       "7344     12  2019    5.0664  \n",
       "7380     12  2019   51.6071  "
      ]
     },
     "execution_count": 169,
     "metadata": {},
     "output_type": "execute_result"
    }
   ],
   "source": [
    "# Xóa các dòng có thuộc tính ProductID trùng nhau, giữ lại bản ghi cuối cùng, giữ chỉ số ban đầu của các dòng\n",
    "df=df.drop_duplicates(['ProductId'], keep='last')\n",
    "df"
   ]
  },
  {
   "cell_type": "code",
   "execution_count": 170,
   "id": "e9634421",
   "metadata": {},
   "outputs": [
    {
     "data": {
      "application/vnd.microsoft.datawrangler.viewer.v0+json": {
       "columns": [
        {
         "name": "index",
         "rawType": "int64",
         "type": "integer"
        },
        {
         "name": "Place",
         "rawType": "object",
         "type": "string"
        },
        {
         "name": "ProductId",
         "rawType": "int64",
         "type": "integer"
        },
        {
         "name": "ProductName",
         "rawType": "object",
         "type": "string"
        },
        {
         "name": "UmId",
         "rawType": "int64",
         "type": "integer"
        },
        {
         "name": "UmName",
         "rawType": "object",
         "type": "string"
        },
        {
         "name": "Month",
         "rawType": "int64",
         "type": "integer"
        },
        {
         "name": "Year",
         "rawType": "int64",
         "type": "integer"
        },
        {
         "name": "Price",
         "rawType": "float64",
         "type": "float"
        }
       ],
       "ref": "67b722ff-680b-46df-a108-ee1e676180af",
       "rows": [
        [
         "0",
         "National Average",
         "176",
         "Tea (green) - Retail",
         "33",
         "Unit",
         "3",
         "2017",
         "4.65"
        ],
        [
         "1",
         "National Average",
         "212",
         "Peas (green, dry) - Retail",
         "5",
         "KG",
         "6",
         "2015",
         "3.29"
        ],
        [
         "2",
         "National Average",
         "229",
         "Apples (red) - Retail",
         "5",
         "KG",
         "3",
         "2017",
         "2.83"
        ],
        [
         "3",
         "National Average",
         "233",
         "Cucumbers (greenhouse) - Retail",
         "5",
         "KG",
         "3",
         "2017",
         "4.24"
        ],
        [
         "4",
         "National Average",
         "384",
         "Bread (pita) - Retail",
         "5",
         "KG",
         "3",
         "2017",
         "2.48"
        ],
        [
         "5",
         "National Average",
         "465",
         "Wage (non-qualified labour, non-agricultural) - Retail",
         "51",
         "Day",
         "3",
         "2017",
         "46.8"
        ],
        [
         "6",
         "Izmir",
         "52",
         "Rice - Retail",
         "5",
         "KG",
         "12",
         "2019",
         "10.2803"
        ],
        [
         "7",
         "Izmir",
         "58",
         "Wheat flour - Retail",
         "5",
         "KG",
         "12",
         "2019",
         "4.2703"
        ],
        [
         "8",
         "Izmir",
         "66",
         "Beans (white) - Retail",
         "5",
         "KG",
         "12",
         "2019",
         "13.0975"
        ],
        [
         "9",
         "Izmir",
         "83",
         "Potatoes - Retail",
         "5",
         "KG",
         "12",
         "2019",
         "2.0924"
        ],
        [
         "10",
         "Izmir",
         "92",
         "Eggs - Retail",
         "33",
         "Unit",
         "12",
         "2019",
         "0.6301"
        ],
        [
         "11",
         "Izmir",
         "94",
         "Meat (chicken) - Retail",
         "5",
         "KG",
         "12",
         "2019",
         "11.7723"
        ],
        [
         "12",
         "Izmir",
         "97",
         "Sugar - Retail",
         "5",
         "KG",
         "12",
         "2019",
         "5.5038"
        ],
        [
         "13",
         "Izmir",
         "105",
         "Garlic - Retail",
         "5",
         "KG",
         "12",
         "2019",
         "38.4497"
        ],
        [
         "14",
         "Izmir",
         "108",
         "Lentils - Retail",
         "5",
         "KG",
         "12",
         "2019",
         "7.5267"
        ],
        [
         "15",
         "Izmir",
         "112",
         "Pasta - Retail",
         "5",
         "KG",
         "12",
         "2019",
         "4.9827"
        ],
        [
         "16",
         "Izmir",
         "114",
         "Tomatoes - Retail",
         "5",
         "KG",
         "12",
         "2019",
         "4.7359"
        ],
        [
         "17",
         "Izmir",
         "119",
         "Groundnuts (shelled) - Retail",
         "5",
         "KG",
         "12",
         "2019",
         "33.0362"
        ],
        [
         "18",
         "Izmir",
         "124",
         "Bread (common) - Retail",
         "5",
         "KG",
         "12",
         "2019",
         "5.9795"
        ],
        [
         "19",
         "Izmir",
         "151",
         "Coffee - Retail",
         "5",
         "KG",
         "12",
         "2019",
         "51.5925"
        ],
        [
         "20",
         "Izmir",
         "173",
         "Onions - Retail",
         "5",
         "KG",
         "12",
         "2019",
         "2.2126"
        ],
        [
         "21",
         "Izmir",
         "181",
         "Cabbage - Retail",
         "5",
         "KG",
         "12",
         "2019",
         "1.4376"
        ],
        [
         "22",
         "Izmir",
         "183",
         "Meat (mutton) - Retail",
         "5",
         "KG",
         "12",
         "2019",
         "59.2274"
        ],
        [
         "23",
         "Izmir",
         "184",
         "Oil (sunflower) - Retail",
         "15",
         "L",
         "12",
         "2019",
         "10.8694"
        ],
        [
         "24",
         "Izmir",
         "185",
         "Salt - Retail",
         "5",
         "KG",
         "12",
         "2019",
         "2.7772"
        ],
        [
         "25",
         "Izmir",
         "209",
         "Coffee (instant) - Retail",
         "33",
         "Unit",
         "12",
         "2019",
         "51.1247"
        ],
        [
         "26",
         "Izmir",
         "231",
         "Cauliflower - Retail",
         "5",
         "KG",
         "12",
         "2019",
         "2.7437"
        ],
        [
         "27",
         "Izmir",
         "239",
         "Oil (olive) - Retail",
         "15",
         "L",
         "12",
         "2019",
         "30.1293"
        ],
        [
         "28",
         "Izmir",
         "244",
         "Chickpeas - Retail",
         "5",
         "KG",
         "12",
         "2019",
         "9.2749"
        ],
        [
         "29",
         "Izmir",
         "254",
         "Bananas - Retail",
         "5",
         "KG",
         "12",
         "2019",
         "9.8327"
        ],
        [
         "30",
         "Izmir",
         "258",
         "Bulgur - Retail",
         "5",
         "KG",
         "12",
         "2019",
         "5.064"
        ],
        [
         "31",
         "Izmir",
         "281",
         "Tea - Retail",
         "5",
         "KG",
         "12",
         "2019",
         "35.1895"
        ],
        [
         "32",
         "Izmir",
         "285",
         "Fuel (petrol-gasoline) - Retail",
         "15",
         "L",
         "12",
         "2019",
         "6.9867"
        ],
        [
         "33",
         "Izmir",
         "304",
         "Transport (public) - Retail",
         "55",
         "Course",
         "12",
         "2019",
         "3.6964"
        ],
        [
         "34",
         "Izmir",
         "317",
         "Tomatoes (paste) - Retail",
         "5",
         "KG",
         "12",
         "2019",
         "10.8901"
        ],
        [
         "35",
         "Izmir",
         "341",
         "Fuel (gas) - Retail",
         "90",
         "12 KG",
         "12",
         "2019",
         "109.1172"
        ],
        [
         "36",
         "Izmir",
         "345",
         "Apples - Retail",
         "5",
         "KG",
         "12",
         "2019",
         "4.2447"
        ],
        [
         "37",
         "Izmir",
         "360",
         "Oranges - Retail",
         "5",
         "KG",
         "12",
         "2019",
         "3.9023"
        ],
        [
         "38",
         "Izmir",
         "364",
         "Yogurt - Retail",
         "5",
         "KG",
         "12",
         "2019",
         "7.4009"
        ],
        [
         "39",
         "Izmir",
         "388",
         "Cucumbers - Retail",
         "5",
         "KG",
         "12",
         "2019",
         "5.0299"
        ],
        [
         "40",
         "Izmir",
         "401",
         "Fish (fresh) - Retail",
         "5",
         "KG",
         "12",
         "2019",
         "27.8747"
        ],
        [
         "41",
         "Izmir",
         "404",
         "Spinach - Retail",
         "5",
         "KG",
         "12",
         "2019",
         "2.5628"
        ],
        [
         "42",
         "Izmir",
         "414",
         "Cheese - Retail",
         "5",
         "KG",
         "12",
         "2019",
         "35.5297"
        ],
        [
         "43",
         "Izmir",
         "433",
         "Meat (veal) - Retail",
         "5",
         "KG",
         "12",
         "2019",
         "48.0534"
        ],
        [
         "44",
         "Izmir",
         "434",
         "Eggplants - Retail",
         "5",
         "KG",
         "12",
         "2019",
         "3.9435"
        ],
        [
         "45",
         "Izmir",
         "442",
         "Milk (powder, infant formula) - Retail",
         "5",
         "KG",
         "12",
         "2019",
         "147.1558"
        ],
        [
         "46",
         "Izmir",
         "450",
         "Zucchini - Retail",
         "5",
         "KG",
         "12",
         "2019",
         "4.3735"
        ],
        [
         "47",
         "Izmir",
         "463",
         "Milk (pasteurized) - Retail",
         "15",
         "L",
         "12",
         "2019",
         "5.1285"
        ],
        [
         "48",
         "Izmir",
         "491",
         "Electricity - Retail",
         "101",
         "kWh",
         "12",
         "2019",
         "0.7102"
        ],
        [
         "49",
         "Izmir",
         "492",
         "Tea (herbal) - Retail",
         "102",
         "Package",
         "12",
         "2019",
         "5.8147"
        ]
       ],
       "shape": {
        "columns": 8,
        "rows": 52
       }
      },
      "text/html": [
       "<div>\n",
       "<style scoped>\n",
       "    .dataframe tbody tr th:only-of-type {\n",
       "        vertical-align: middle;\n",
       "    }\n",
       "\n",
       "    .dataframe tbody tr th {\n",
       "        vertical-align: top;\n",
       "    }\n",
       "\n",
       "    .dataframe thead th {\n",
       "        text-align: right;\n",
       "    }\n",
       "</style>\n",
       "<table border=\"1\" class=\"dataframe\">\n",
       "  <thead>\n",
       "    <tr style=\"text-align: right;\">\n",
       "      <th></th>\n",
       "      <th>Place</th>\n",
       "      <th>ProductId</th>\n",
       "      <th>ProductName</th>\n",
       "      <th>UmId</th>\n",
       "      <th>UmName</th>\n",
       "      <th>Month</th>\n",
       "      <th>Year</th>\n",
       "      <th>Price</th>\n",
       "    </tr>\n",
       "  </thead>\n",
       "  <tbody>\n",
       "    <tr>\n",
       "      <th>0</th>\n",
       "      <td>National Average</td>\n",
       "      <td>176</td>\n",
       "      <td>Tea (green) - Retail</td>\n",
       "      <td>33</td>\n",
       "      <td>Unit</td>\n",
       "      <td>3</td>\n",
       "      <td>2017</td>\n",
       "      <td>4.6500</td>\n",
       "    </tr>\n",
       "    <tr>\n",
       "      <th>1</th>\n",
       "      <td>National Average</td>\n",
       "      <td>212</td>\n",
       "      <td>Peas (green, dry) - Retail</td>\n",
       "      <td>5</td>\n",
       "      <td>KG</td>\n",
       "      <td>6</td>\n",
       "      <td>2015</td>\n",
       "      <td>3.2900</td>\n",
       "    </tr>\n",
       "    <tr>\n",
       "      <th>2</th>\n",
       "      <td>National Average</td>\n",
       "      <td>229</td>\n",
       "      <td>Apples (red) - Retail</td>\n",
       "      <td>5</td>\n",
       "      <td>KG</td>\n",
       "      <td>3</td>\n",
       "      <td>2017</td>\n",
       "      <td>2.8300</td>\n",
       "    </tr>\n",
       "    <tr>\n",
       "      <th>3</th>\n",
       "      <td>National Average</td>\n",
       "      <td>233</td>\n",
       "      <td>Cucumbers (greenhouse) - Retail</td>\n",
       "      <td>5</td>\n",
       "      <td>KG</td>\n",
       "      <td>3</td>\n",
       "      <td>2017</td>\n",
       "      <td>4.2400</td>\n",
       "    </tr>\n",
       "    <tr>\n",
       "      <th>4</th>\n",
       "      <td>National Average</td>\n",
       "      <td>384</td>\n",
       "      <td>Bread (pita) - Retail</td>\n",
       "      <td>5</td>\n",
       "      <td>KG</td>\n",
       "      <td>3</td>\n",
       "      <td>2017</td>\n",
       "      <td>2.4800</td>\n",
       "    </tr>\n",
       "    <tr>\n",
       "      <th>5</th>\n",
       "      <td>National Average</td>\n",
       "      <td>465</td>\n",
       "      <td>Wage (non-qualified labour, non-agricultural) ...</td>\n",
       "      <td>51</td>\n",
       "      <td>Day</td>\n",
       "      <td>3</td>\n",
       "      <td>2017</td>\n",
       "      <td>46.8000</td>\n",
       "    </tr>\n",
       "    <tr>\n",
       "      <th>6</th>\n",
       "      <td>Izmir</td>\n",
       "      <td>52</td>\n",
       "      <td>Rice - Retail</td>\n",
       "      <td>5</td>\n",
       "      <td>KG</td>\n",
       "      <td>12</td>\n",
       "      <td>2019</td>\n",
       "      <td>10.2803</td>\n",
       "    </tr>\n",
       "    <tr>\n",
       "      <th>7</th>\n",
       "      <td>Izmir</td>\n",
       "      <td>58</td>\n",
       "      <td>Wheat flour - Retail</td>\n",
       "      <td>5</td>\n",
       "      <td>KG</td>\n",
       "      <td>12</td>\n",
       "      <td>2019</td>\n",
       "      <td>4.2703</td>\n",
       "    </tr>\n",
       "    <tr>\n",
       "      <th>8</th>\n",
       "      <td>Izmir</td>\n",
       "      <td>66</td>\n",
       "      <td>Beans (white) - Retail</td>\n",
       "      <td>5</td>\n",
       "      <td>KG</td>\n",
       "      <td>12</td>\n",
       "      <td>2019</td>\n",
       "      <td>13.0975</td>\n",
       "    </tr>\n",
       "    <tr>\n",
       "      <th>9</th>\n",
       "      <td>Izmir</td>\n",
       "      <td>83</td>\n",
       "      <td>Potatoes - Retail</td>\n",
       "      <td>5</td>\n",
       "      <td>KG</td>\n",
       "      <td>12</td>\n",
       "      <td>2019</td>\n",
       "      <td>2.0924</td>\n",
       "    </tr>\n",
       "    <tr>\n",
       "      <th>10</th>\n",
       "      <td>Izmir</td>\n",
       "      <td>92</td>\n",
       "      <td>Eggs - Retail</td>\n",
       "      <td>33</td>\n",
       "      <td>Unit</td>\n",
       "      <td>12</td>\n",
       "      <td>2019</td>\n",
       "      <td>0.6301</td>\n",
       "    </tr>\n",
       "    <tr>\n",
       "      <th>11</th>\n",
       "      <td>Izmir</td>\n",
       "      <td>94</td>\n",
       "      <td>Meat (chicken) - Retail</td>\n",
       "      <td>5</td>\n",
       "      <td>KG</td>\n",
       "      <td>12</td>\n",
       "      <td>2019</td>\n",
       "      <td>11.7723</td>\n",
       "    </tr>\n",
       "    <tr>\n",
       "      <th>12</th>\n",
       "      <td>Izmir</td>\n",
       "      <td>97</td>\n",
       "      <td>Sugar - Retail</td>\n",
       "      <td>5</td>\n",
       "      <td>KG</td>\n",
       "      <td>12</td>\n",
       "      <td>2019</td>\n",
       "      <td>5.5038</td>\n",
       "    </tr>\n",
       "    <tr>\n",
       "      <th>13</th>\n",
       "      <td>Izmir</td>\n",
       "      <td>105</td>\n",
       "      <td>Garlic - Retail</td>\n",
       "      <td>5</td>\n",
       "      <td>KG</td>\n",
       "      <td>12</td>\n",
       "      <td>2019</td>\n",
       "      <td>38.4497</td>\n",
       "    </tr>\n",
       "    <tr>\n",
       "      <th>14</th>\n",
       "      <td>Izmir</td>\n",
       "      <td>108</td>\n",
       "      <td>Lentils - Retail</td>\n",
       "      <td>5</td>\n",
       "      <td>KG</td>\n",
       "      <td>12</td>\n",
       "      <td>2019</td>\n",
       "      <td>7.5267</td>\n",
       "    </tr>\n",
       "    <tr>\n",
       "      <th>15</th>\n",
       "      <td>Izmir</td>\n",
       "      <td>112</td>\n",
       "      <td>Pasta - Retail</td>\n",
       "      <td>5</td>\n",
       "      <td>KG</td>\n",
       "      <td>12</td>\n",
       "      <td>2019</td>\n",
       "      <td>4.9827</td>\n",
       "    </tr>\n",
       "    <tr>\n",
       "      <th>16</th>\n",
       "      <td>Izmir</td>\n",
       "      <td>114</td>\n",
       "      <td>Tomatoes - Retail</td>\n",
       "      <td>5</td>\n",
       "      <td>KG</td>\n",
       "      <td>12</td>\n",
       "      <td>2019</td>\n",
       "      <td>4.7359</td>\n",
       "    </tr>\n",
       "    <tr>\n",
       "      <th>17</th>\n",
       "      <td>Izmir</td>\n",
       "      <td>119</td>\n",
       "      <td>Groundnuts (shelled) - Retail</td>\n",
       "      <td>5</td>\n",
       "      <td>KG</td>\n",
       "      <td>12</td>\n",
       "      <td>2019</td>\n",
       "      <td>33.0362</td>\n",
       "    </tr>\n",
       "    <tr>\n",
       "      <th>18</th>\n",
       "      <td>Izmir</td>\n",
       "      <td>124</td>\n",
       "      <td>Bread (common) - Retail</td>\n",
       "      <td>5</td>\n",
       "      <td>KG</td>\n",
       "      <td>12</td>\n",
       "      <td>2019</td>\n",
       "      <td>5.9795</td>\n",
       "    </tr>\n",
       "    <tr>\n",
       "      <th>19</th>\n",
       "      <td>Izmir</td>\n",
       "      <td>151</td>\n",
       "      <td>Coffee - Retail</td>\n",
       "      <td>5</td>\n",
       "      <td>KG</td>\n",
       "      <td>12</td>\n",
       "      <td>2019</td>\n",
       "      <td>51.5925</td>\n",
       "    </tr>\n",
       "    <tr>\n",
       "      <th>20</th>\n",
       "      <td>Izmir</td>\n",
       "      <td>173</td>\n",
       "      <td>Onions - Retail</td>\n",
       "      <td>5</td>\n",
       "      <td>KG</td>\n",
       "      <td>12</td>\n",
       "      <td>2019</td>\n",
       "      <td>2.2126</td>\n",
       "    </tr>\n",
       "    <tr>\n",
       "      <th>21</th>\n",
       "      <td>Izmir</td>\n",
       "      <td>181</td>\n",
       "      <td>Cabbage - Retail</td>\n",
       "      <td>5</td>\n",
       "      <td>KG</td>\n",
       "      <td>12</td>\n",
       "      <td>2019</td>\n",
       "      <td>1.4376</td>\n",
       "    </tr>\n",
       "    <tr>\n",
       "      <th>22</th>\n",
       "      <td>Izmir</td>\n",
       "      <td>183</td>\n",
       "      <td>Meat (mutton) - Retail</td>\n",
       "      <td>5</td>\n",
       "      <td>KG</td>\n",
       "      <td>12</td>\n",
       "      <td>2019</td>\n",
       "      <td>59.2274</td>\n",
       "    </tr>\n",
       "    <tr>\n",
       "      <th>23</th>\n",
       "      <td>Izmir</td>\n",
       "      <td>184</td>\n",
       "      <td>Oil (sunflower) - Retail</td>\n",
       "      <td>15</td>\n",
       "      <td>L</td>\n",
       "      <td>12</td>\n",
       "      <td>2019</td>\n",
       "      <td>10.8694</td>\n",
       "    </tr>\n",
       "    <tr>\n",
       "      <th>24</th>\n",
       "      <td>Izmir</td>\n",
       "      <td>185</td>\n",
       "      <td>Salt - Retail</td>\n",
       "      <td>5</td>\n",
       "      <td>KG</td>\n",
       "      <td>12</td>\n",
       "      <td>2019</td>\n",
       "      <td>2.7772</td>\n",
       "    </tr>\n",
       "    <tr>\n",
       "      <th>25</th>\n",
       "      <td>Izmir</td>\n",
       "      <td>209</td>\n",
       "      <td>Coffee (instant) - Retail</td>\n",
       "      <td>33</td>\n",
       "      <td>Unit</td>\n",
       "      <td>12</td>\n",
       "      <td>2019</td>\n",
       "      <td>51.1247</td>\n",
       "    </tr>\n",
       "    <tr>\n",
       "      <th>26</th>\n",
       "      <td>Izmir</td>\n",
       "      <td>231</td>\n",
       "      <td>Cauliflower - Retail</td>\n",
       "      <td>5</td>\n",
       "      <td>KG</td>\n",
       "      <td>12</td>\n",
       "      <td>2019</td>\n",
       "      <td>2.7437</td>\n",
       "    </tr>\n",
       "    <tr>\n",
       "      <th>27</th>\n",
       "      <td>Izmir</td>\n",
       "      <td>239</td>\n",
       "      <td>Oil (olive) - Retail</td>\n",
       "      <td>15</td>\n",
       "      <td>L</td>\n",
       "      <td>12</td>\n",
       "      <td>2019</td>\n",
       "      <td>30.1293</td>\n",
       "    </tr>\n",
       "    <tr>\n",
       "      <th>28</th>\n",
       "      <td>Izmir</td>\n",
       "      <td>244</td>\n",
       "      <td>Chickpeas - Retail</td>\n",
       "      <td>5</td>\n",
       "      <td>KG</td>\n",
       "      <td>12</td>\n",
       "      <td>2019</td>\n",
       "      <td>9.2749</td>\n",
       "    </tr>\n",
       "    <tr>\n",
       "      <th>29</th>\n",
       "      <td>Izmir</td>\n",
       "      <td>254</td>\n",
       "      <td>Bananas - Retail</td>\n",
       "      <td>5</td>\n",
       "      <td>KG</td>\n",
       "      <td>12</td>\n",
       "      <td>2019</td>\n",
       "      <td>9.8327</td>\n",
       "    </tr>\n",
       "    <tr>\n",
       "      <th>30</th>\n",
       "      <td>Izmir</td>\n",
       "      <td>258</td>\n",
       "      <td>Bulgur - Retail</td>\n",
       "      <td>5</td>\n",
       "      <td>KG</td>\n",
       "      <td>12</td>\n",
       "      <td>2019</td>\n",
       "      <td>5.0640</td>\n",
       "    </tr>\n",
       "    <tr>\n",
       "      <th>31</th>\n",
       "      <td>Izmir</td>\n",
       "      <td>281</td>\n",
       "      <td>Tea - Retail</td>\n",
       "      <td>5</td>\n",
       "      <td>KG</td>\n",
       "      <td>12</td>\n",
       "      <td>2019</td>\n",
       "      <td>35.1895</td>\n",
       "    </tr>\n",
       "    <tr>\n",
       "      <th>32</th>\n",
       "      <td>Izmir</td>\n",
       "      <td>285</td>\n",
       "      <td>Fuel (petrol-gasoline) - Retail</td>\n",
       "      <td>15</td>\n",
       "      <td>L</td>\n",
       "      <td>12</td>\n",
       "      <td>2019</td>\n",
       "      <td>6.9867</td>\n",
       "    </tr>\n",
       "    <tr>\n",
       "      <th>33</th>\n",
       "      <td>Izmir</td>\n",
       "      <td>304</td>\n",
       "      <td>Transport (public) - Retail</td>\n",
       "      <td>55</td>\n",
       "      <td>Course</td>\n",
       "      <td>12</td>\n",
       "      <td>2019</td>\n",
       "      <td>3.6964</td>\n",
       "    </tr>\n",
       "    <tr>\n",
       "      <th>34</th>\n",
       "      <td>Izmir</td>\n",
       "      <td>317</td>\n",
       "      <td>Tomatoes (paste) - Retail</td>\n",
       "      <td>5</td>\n",
       "      <td>KG</td>\n",
       "      <td>12</td>\n",
       "      <td>2019</td>\n",
       "      <td>10.8901</td>\n",
       "    </tr>\n",
       "    <tr>\n",
       "      <th>35</th>\n",
       "      <td>Izmir</td>\n",
       "      <td>341</td>\n",
       "      <td>Fuel (gas) - Retail</td>\n",
       "      <td>90</td>\n",
       "      <td>12 KG</td>\n",
       "      <td>12</td>\n",
       "      <td>2019</td>\n",
       "      <td>109.1172</td>\n",
       "    </tr>\n",
       "    <tr>\n",
       "      <th>36</th>\n",
       "      <td>Izmir</td>\n",
       "      <td>345</td>\n",
       "      <td>Apples - Retail</td>\n",
       "      <td>5</td>\n",
       "      <td>KG</td>\n",
       "      <td>12</td>\n",
       "      <td>2019</td>\n",
       "      <td>4.2447</td>\n",
       "    </tr>\n",
       "    <tr>\n",
       "      <th>37</th>\n",
       "      <td>Izmir</td>\n",
       "      <td>360</td>\n",
       "      <td>Oranges - Retail</td>\n",
       "      <td>5</td>\n",
       "      <td>KG</td>\n",
       "      <td>12</td>\n",
       "      <td>2019</td>\n",
       "      <td>3.9023</td>\n",
       "    </tr>\n",
       "    <tr>\n",
       "      <th>38</th>\n",
       "      <td>Izmir</td>\n",
       "      <td>364</td>\n",
       "      <td>Yogurt - Retail</td>\n",
       "      <td>5</td>\n",
       "      <td>KG</td>\n",
       "      <td>12</td>\n",
       "      <td>2019</td>\n",
       "      <td>7.4009</td>\n",
       "    </tr>\n",
       "    <tr>\n",
       "      <th>39</th>\n",
       "      <td>Izmir</td>\n",
       "      <td>388</td>\n",
       "      <td>Cucumbers - Retail</td>\n",
       "      <td>5</td>\n",
       "      <td>KG</td>\n",
       "      <td>12</td>\n",
       "      <td>2019</td>\n",
       "      <td>5.0299</td>\n",
       "    </tr>\n",
       "    <tr>\n",
       "      <th>40</th>\n",
       "      <td>Izmir</td>\n",
       "      <td>401</td>\n",
       "      <td>Fish (fresh) - Retail</td>\n",
       "      <td>5</td>\n",
       "      <td>KG</td>\n",
       "      <td>12</td>\n",
       "      <td>2019</td>\n",
       "      <td>27.8747</td>\n",
       "    </tr>\n",
       "    <tr>\n",
       "      <th>41</th>\n",
       "      <td>Izmir</td>\n",
       "      <td>404</td>\n",
       "      <td>Spinach - Retail</td>\n",
       "      <td>5</td>\n",
       "      <td>KG</td>\n",
       "      <td>12</td>\n",
       "      <td>2019</td>\n",
       "      <td>2.5628</td>\n",
       "    </tr>\n",
       "    <tr>\n",
       "      <th>42</th>\n",
       "      <td>Izmir</td>\n",
       "      <td>414</td>\n",
       "      <td>Cheese - Retail</td>\n",
       "      <td>5</td>\n",
       "      <td>KG</td>\n",
       "      <td>12</td>\n",
       "      <td>2019</td>\n",
       "      <td>35.5297</td>\n",
       "    </tr>\n",
       "    <tr>\n",
       "      <th>43</th>\n",
       "      <td>Izmir</td>\n",
       "      <td>433</td>\n",
       "      <td>Meat (veal) - Retail</td>\n",
       "      <td>5</td>\n",
       "      <td>KG</td>\n",
       "      <td>12</td>\n",
       "      <td>2019</td>\n",
       "      <td>48.0534</td>\n",
       "    </tr>\n",
       "    <tr>\n",
       "      <th>44</th>\n",
       "      <td>Izmir</td>\n",
       "      <td>434</td>\n",
       "      <td>Eggplants - Retail</td>\n",
       "      <td>5</td>\n",
       "      <td>KG</td>\n",
       "      <td>12</td>\n",
       "      <td>2019</td>\n",
       "      <td>3.9435</td>\n",
       "    </tr>\n",
       "    <tr>\n",
       "      <th>45</th>\n",
       "      <td>Izmir</td>\n",
       "      <td>442</td>\n",
       "      <td>Milk (powder, infant formula) - Retail</td>\n",
       "      <td>5</td>\n",
       "      <td>KG</td>\n",
       "      <td>12</td>\n",
       "      <td>2019</td>\n",
       "      <td>147.1558</td>\n",
       "    </tr>\n",
       "    <tr>\n",
       "      <th>46</th>\n",
       "      <td>Izmir</td>\n",
       "      <td>450</td>\n",
       "      <td>Zucchini - Retail</td>\n",
       "      <td>5</td>\n",
       "      <td>KG</td>\n",
       "      <td>12</td>\n",
       "      <td>2019</td>\n",
       "      <td>4.3735</td>\n",
       "    </tr>\n",
       "    <tr>\n",
       "      <th>47</th>\n",
       "      <td>Izmir</td>\n",
       "      <td>463</td>\n",
       "      <td>Milk (pasteurized) - Retail</td>\n",
       "      <td>15</td>\n",
       "      <td>L</td>\n",
       "      <td>12</td>\n",
       "      <td>2019</td>\n",
       "      <td>5.1285</td>\n",
       "    </tr>\n",
       "    <tr>\n",
       "      <th>48</th>\n",
       "      <td>Izmir</td>\n",
       "      <td>491</td>\n",
       "      <td>Electricity - Retail</td>\n",
       "      <td>101</td>\n",
       "      <td>kWh</td>\n",
       "      <td>12</td>\n",
       "      <td>2019</td>\n",
       "      <td>0.7102</td>\n",
       "    </tr>\n",
       "    <tr>\n",
       "      <th>49</th>\n",
       "      <td>Izmir</td>\n",
       "      <td>492</td>\n",
       "      <td>Tea (herbal) - Retail</td>\n",
       "      <td>102</td>\n",
       "      <td>Package</td>\n",
       "      <td>12</td>\n",
       "      <td>2019</td>\n",
       "      <td>5.8147</td>\n",
       "    </tr>\n",
       "    <tr>\n",
       "      <th>50</th>\n",
       "      <td>Izmir</td>\n",
       "      <td>493</td>\n",
       "      <td>Water - Retail</td>\n",
       "      <td>100</td>\n",
       "      <td>Cubic meter</td>\n",
       "      <td>12</td>\n",
       "      <td>2019</td>\n",
       "      <td>5.0664</td>\n",
       "    </tr>\n",
       "    <tr>\n",
       "      <th>51</th>\n",
       "      <td>Izmir</td>\n",
       "      <td>502</td>\n",
       "      <td>Cocoa (powder) - Retail</td>\n",
       "      <td>5</td>\n",
       "      <td>KG</td>\n",
       "      <td>12</td>\n",
       "      <td>2019</td>\n",
       "      <td>51.6071</td>\n",
       "    </tr>\n",
       "  </tbody>\n",
       "</table>\n",
       "</div>"
      ],
      "text/plain": [
       "               Place  ProductId  \\\n",
       "0   National Average        176   \n",
       "1   National Average        212   \n",
       "2   National Average        229   \n",
       "3   National Average        233   \n",
       "4   National Average        384   \n",
       "5   National Average        465   \n",
       "6              Izmir         52   \n",
       "7              Izmir         58   \n",
       "8              Izmir         66   \n",
       "9              Izmir         83   \n",
       "10             Izmir         92   \n",
       "11             Izmir         94   \n",
       "12             Izmir         97   \n",
       "13             Izmir        105   \n",
       "14             Izmir        108   \n",
       "15             Izmir        112   \n",
       "16             Izmir        114   \n",
       "17             Izmir        119   \n",
       "18             Izmir        124   \n",
       "19             Izmir        151   \n",
       "20             Izmir        173   \n",
       "21             Izmir        181   \n",
       "22             Izmir        183   \n",
       "23             Izmir        184   \n",
       "24             Izmir        185   \n",
       "25             Izmir        209   \n",
       "26             Izmir        231   \n",
       "27             Izmir        239   \n",
       "28             Izmir        244   \n",
       "29             Izmir        254   \n",
       "30             Izmir        258   \n",
       "31             Izmir        281   \n",
       "32             Izmir        285   \n",
       "33             Izmir        304   \n",
       "34             Izmir        317   \n",
       "35             Izmir        341   \n",
       "36             Izmir        345   \n",
       "37             Izmir        360   \n",
       "38             Izmir        364   \n",
       "39             Izmir        388   \n",
       "40             Izmir        401   \n",
       "41             Izmir        404   \n",
       "42             Izmir        414   \n",
       "43             Izmir        433   \n",
       "44             Izmir        434   \n",
       "45             Izmir        442   \n",
       "46             Izmir        450   \n",
       "47             Izmir        463   \n",
       "48             Izmir        491   \n",
       "49             Izmir        492   \n",
       "50             Izmir        493   \n",
       "51             Izmir        502   \n",
       "\n",
       "                                          ProductName  UmId       UmName  \\\n",
       "0                                Tea (green) - Retail    33         Unit   \n",
       "1                          Peas (green, dry) - Retail     5           KG   \n",
       "2                               Apples (red) - Retail     5           KG   \n",
       "3                     Cucumbers (greenhouse) - Retail     5           KG   \n",
       "4                               Bread (pita) - Retail     5           KG   \n",
       "5   Wage (non-qualified labour, non-agricultural) ...    51          Day   \n",
       "6                                       Rice - Retail     5           KG   \n",
       "7                                Wheat flour - Retail     5           KG   \n",
       "8                              Beans (white) - Retail     5           KG   \n",
       "9                                   Potatoes - Retail     5           KG   \n",
       "10                                      Eggs - Retail    33         Unit   \n",
       "11                            Meat (chicken) - Retail     5           KG   \n",
       "12                                     Sugar - Retail     5           KG   \n",
       "13                                    Garlic - Retail     5           KG   \n",
       "14                                   Lentils - Retail     5           KG   \n",
       "15                                     Pasta - Retail     5           KG   \n",
       "16                                  Tomatoes - Retail     5           KG   \n",
       "17                      Groundnuts (shelled) - Retail     5           KG   \n",
       "18                            Bread (common) - Retail     5           KG   \n",
       "19                                    Coffee - Retail     5           KG   \n",
       "20                                    Onions - Retail     5           KG   \n",
       "21                                   Cabbage - Retail     5           KG   \n",
       "22                             Meat (mutton) - Retail     5           KG   \n",
       "23                           Oil (sunflower) - Retail    15            L   \n",
       "24                                      Salt - Retail     5           KG   \n",
       "25                          Coffee (instant) - Retail    33         Unit   \n",
       "26                               Cauliflower - Retail     5           KG   \n",
       "27                               Oil (olive) - Retail    15            L   \n",
       "28                                 Chickpeas - Retail     5           KG   \n",
       "29                                   Bananas - Retail     5           KG   \n",
       "30                                    Bulgur - Retail     5           KG   \n",
       "31                                       Tea - Retail     5           KG   \n",
       "32                    Fuel (petrol-gasoline) - Retail    15            L   \n",
       "33                        Transport (public) - Retail    55       Course   \n",
       "34                          Tomatoes (paste) - Retail     5           KG   \n",
       "35                                Fuel (gas) - Retail    90        12 KG   \n",
       "36                                    Apples - Retail     5           KG   \n",
       "37                                   Oranges - Retail     5           KG   \n",
       "38                                    Yogurt - Retail     5           KG   \n",
       "39                                 Cucumbers - Retail     5           KG   \n",
       "40                              Fish (fresh) - Retail     5           KG   \n",
       "41                                   Spinach - Retail     5           KG   \n",
       "42                                    Cheese - Retail     5           KG   \n",
       "43                               Meat (veal) - Retail     5           KG   \n",
       "44                                 Eggplants - Retail     5           KG   \n",
       "45             Milk (powder, infant formula) - Retail     5           KG   \n",
       "46                                  Zucchini - Retail     5           KG   \n",
       "47                        Milk (pasteurized) - Retail    15            L   \n",
       "48                               Electricity - Retail   101          kWh   \n",
       "49                              Tea (herbal) - Retail   102      Package   \n",
       "50                                     Water - Retail   100  Cubic meter   \n",
       "51                            Cocoa (powder) - Retail     5           KG   \n",
       "\n",
       "    Month  Year     Price  \n",
       "0       3  2017    4.6500  \n",
       "1       6  2015    3.2900  \n",
       "2       3  2017    2.8300  \n",
       "3       3  2017    4.2400  \n",
       "4       3  2017    2.4800  \n",
       "5       3  2017   46.8000  \n",
       "6      12  2019   10.2803  \n",
       "7      12  2019    4.2703  \n",
       "8      12  2019   13.0975  \n",
       "9      12  2019    2.0924  \n",
       "10     12  2019    0.6301  \n",
       "11     12  2019   11.7723  \n",
       "12     12  2019    5.5038  \n",
       "13     12  2019   38.4497  \n",
       "14     12  2019    7.5267  \n",
       "15     12  2019    4.9827  \n",
       "16     12  2019    4.7359  \n",
       "17     12  2019   33.0362  \n",
       "18     12  2019    5.9795  \n",
       "19     12  2019   51.5925  \n",
       "20     12  2019    2.2126  \n",
       "21     12  2019    1.4376  \n",
       "22     12  2019   59.2274  \n",
       "23     12  2019   10.8694  \n",
       "24     12  2019    2.7772  \n",
       "25     12  2019   51.1247  \n",
       "26     12  2019    2.7437  \n",
       "27     12  2019   30.1293  \n",
       "28     12  2019    9.2749  \n",
       "29     12  2019    9.8327  \n",
       "30     12  2019    5.0640  \n",
       "31     12  2019   35.1895  \n",
       "32     12  2019    6.9867  \n",
       "33     12  2019    3.6964  \n",
       "34     12  2019   10.8901  \n",
       "35     12  2019  109.1172  \n",
       "36     12  2019    4.2447  \n",
       "37     12  2019    3.9023  \n",
       "38     12  2019    7.4009  \n",
       "39     12  2019    5.0299  \n",
       "40     12  2019   27.8747  \n",
       "41     12  2019    2.5628  \n",
       "42     12  2019   35.5297  \n",
       "43     12  2019   48.0534  \n",
       "44     12  2019    3.9435  \n",
       "45     12  2019  147.1558  \n",
       "46     12  2019    4.3735  \n",
       "47     12  2019    5.1285  \n",
       "48     12  2019    0.7102  \n",
       "49     12  2019    5.8147  \n",
       "50     12  2019    5.0664  \n",
       "51     12  2019   51.6071  "
      ]
     },
     "execution_count": 170,
     "metadata": {},
     "output_type": "execute_result"
    }
   ],
   "source": [
    "# Xóa các dòng có thuộc tính ProductID trùng nhau, giữ lại bản ghi cuối cùng, thiết lập lại chỉ số\n",
    "df=df.drop_duplicates(['ProductId'],keep='last').reset_index(drop=True)\n",
    "df"
   ]
  }
 ],
 "metadata": {
  "kernelspec": {
   "display_name": "Python 3",
   "language": "python",
   "name": "python3"
  },
  "language_info": {
   "codemirror_mode": {
    "name": "ipython",
    "version": 3
   },
   "file_extension": ".py",
   "mimetype": "text/x-python",
   "name": "python",
   "nbconvert_exporter": "python",
   "pygments_lexer": "ipython3",
   "version": "3.10.13"
  }
 },
 "nbformat": 4,
 "nbformat_minor": 5
}
