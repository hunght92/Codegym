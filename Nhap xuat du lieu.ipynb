{
 "cells": [
  {
   "cell_type": "code",
   "execution_count": 4,
   "id": "6bf5a8ff",
   "metadata": {},
   "outputs": [
    {
     "name": "stdout",
     "output_type": "stream",
     "text": [
      "Nhap so n: 5\n",
      "0.03333333\n"
     ]
    }
   ],
   "source": [
    "#Bai 1 - Cach 1\n",
    "n = int(input(\"Nhap so n: \"))\n",
    "y = int(f\"{n}{n}\")\n",
    "z = int(f'{n}{n}{n}')\n",
    "x = n/(y*z)\n",
    "\n",
    "print (f\"{x:.8f}\")\n"
   ]
  },
  {
   "cell_type": "code",
   "execution_count": 11,
   "id": "90ec96c3",
   "metadata": {},
   "outputs": [
    {
     "name": "stdout",
     "output_type": "stream",
     "text": [
      "Nhap so n: 5\n",
      "Gia tri cua bieu thuc 5/(55*555) la: 0.00016380\n"
     ]
    }
   ],
   "source": [
    "#Bai 1 - Cach 2\n",
    "n = input(\"Nhap so n: \")\n",
    "\n",
    "print (f\"Gia tri cua bieu thuc {n}/({n}{n}*{n}{n}{n}) la: {int(n)/(int(n * 2) * int(n * 3)):.8f}\")\n",
    "# print (f\"Gia tri cua bieu thuc {n}/({n + n}*{n + n + n}) la: {int(n)/(int(n * 2) * int(n * 3)):.8f}\")"
   ]
  },
  {
   "cell_type": "code",
   "execution_count": 21,
   "id": "887b93f2",
   "metadata": {},
   "outputs": [
    {
     "name": "stdout",
     "output_type": "stream",
     "text": [
      "Nhap so n: 150\n",
      "\n"
     ]
    }
   ],
   "source": [
    "#Bai 2\n",
    "n = int(input(\"Nhap so n: \"))\n",
    "a = 100 - n\n",
    "b = 200 - n\n",
    "c = ((a >= -10) and (a <= 10)) or ((b >= -10) and (b <= 10))\n",
    "print (c and \"Chenh khong qua 10\" or \"\")"
   ]
  },
  {
   "cell_type": "code",
   "execution_count": 25,
   "id": "5ca33c28",
   "metadata": {},
   "outputs": [
    {
     "name": "stdout",
     "output_type": "stream",
     "text": [
      "Nhap vao so giay: 86405\n",
      "86405 giay tuong duong 1 ngay, 0 gio, 0 phut va 5 giay\n"
     ]
    }
   ],
   "source": [
    "# Bai 3\n",
    "t = int(input(\"Nhap vao so giay: \"))\n",
    "ngay = t // 86400\n",
    "gio = (t - ngay * 86400) // 3600\n",
    "phut = (t - ngay * 86400 - gio * 3600) // 60\n",
    "giay = t - ngay * 86400 - gio * 3600 - phut * 60\n",
    "\n",
    "print(f\"{t} giay tuong duong {ngay} ngay, {gio} gio, {phut} phut va {giay} giay\")"
   ]
  },
  {
   "cell_type": "code",
   "execution_count": 45,
   "id": "d9380685",
   "metadata": {},
   "outputs": [
    {
     "name": "stdout",
     "output_type": "stream",
     "text": [
      "So 1: 11\n",
      "So 2: 22\n",
      "So 3: 33\n"
     ]
    },
    {
     "ename": "TypeError",
     "evalue": "'float' object is not callable",
     "output_type": "error",
     "traceback": [
      "\u001b[1;31m---------------------------------------------------------------------------\u001b[0m",
      "\u001b[1;31mTypeError\u001b[0m                                 Traceback (most recent call last)",
      "Input \u001b[1;32mIn [45]\u001b[0m, in \u001b[0;36m<cell line: 5>\u001b[1;34m()\u001b[0m\n\u001b[0;32m      2\u001b[0m so2 \u001b[38;5;241m=\u001b[39m \u001b[38;5;28mfloat\u001b[39m(\u001b[38;5;28minput\u001b[39m(\u001b[38;5;124m\"\u001b[39m\u001b[38;5;124mSo 2: \u001b[39m\u001b[38;5;124m\"\u001b[39m))\n\u001b[0;32m      3\u001b[0m so3 \u001b[38;5;241m=\u001b[39m \u001b[38;5;28mfloat\u001b[39m(\u001b[38;5;28minput\u001b[39m(\u001b[38;5;124m\"\u001b[39m\u001b[38;5;124mSo 3: \u001b[39m\u001b[38;5;124m\"\u001b[39m))\n\u001b[1;32m----> 5\u001b[0m maxx \u001b[38;5;241m=\u001b[39m \u001b[38;5;28;43mmax\u001b[39;49m\u001b[43m(\u001b[49m\u001b[43mso1\u001b[49m\u001b[43m,\u001b[49m\u001b[43m \u001b[49m\u001b[43mso2\u001b[49m\u001b[43m,\u001b[49m\u001b[43m \u001b[49m\u001b[43mso3\u001b[49m\u001b[43m)\u001b[49m\n\u001b[0;32m      6\u001b[0m minn \u001b[38;5;241m=\u001b[39m \u001b[38;5;28mmin\u001b[39m(so1, so2, so3)\n\u001b[0;32m      7\u001b[0m medium \u001b[38;5;241m=\u001b[39m (so1 \u001b[38;5;241m+\u001b[39m so2 \u001b[38;5;241m+\u001b[39m so3) \u001b[38;5;241m-\u001b[39m maxx \u001b[38;5;241m-\u001b[39m minn\n",
      "\u001b[1;31mTypeError\u001b[0m: 'float' object is not callable"
     ]
    }
   ],
   "source": [
    "so1 = float(input(\"So 1: \"))\n",
    "so2 = float(input(\"So 2: \"))\n",
    "so3 = float(input(\"So 3: \"))\n",
    "\n",
    "maxx = max(so1, so2, so3)\n",
    "minn = min(so1, so2, so3)\n",
    "medium = (so1 + so2 + so3) - maxx - minn\n",
    "\n",
    "print(f\"Thu tu 3 so da nhap la {minn}, {medium}, {maxx}\")"
   ]
  },
  {
   "cell_type": "code",
   "execution_count": null,
   "id": "fa7bf3a1",
   "metadata": {},
   "outputs": [],
   "source": []
  }
 ],
 "metadata": {
  "kernelspec": {
   "display_name": "Python 3 (ipykernel)",
   "language": "python",
   "name": "python3"
  },
  "language_info": {
   "codemirror_mode": {
    "name": "ipython",
    "version": 3
   },
   "file_extension": ".py",
   "mimetype": "text/x-python",
   "name": "python",
   "nbconvert_exporter": "python",
   "pygments_lexer": "ipython3",
   "version": "3.9.12"
  }
 },
 "nbformat": 4,
 "nbformat_minor": 5
}
