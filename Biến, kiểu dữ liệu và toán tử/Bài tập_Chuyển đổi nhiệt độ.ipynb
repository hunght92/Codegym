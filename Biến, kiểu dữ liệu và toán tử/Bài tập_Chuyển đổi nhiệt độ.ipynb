{
 "cells": [
  {
   "cell_type": "code",
   "execution_count": null,
   "id": "f432c20e",
   "metadata": {},
   "outputs": [],
   "source": [
    "nhiet_do_c = input(\"Moi nhap nhiet do theo do C:\")\n",
    "\n",
    "nhiet_do_f = (9*(int(nhiet_do_c))/5)+32\n",
    "\n",
    "print(f\"{nhiet_do_c} do C tuong ung voi {nhiet_do_f} do F\")"
   ]
  },
  {
   "cell_type": "code",
   "execution_count": null,
   "id": "44100ef3",
   "metadata": {},
   "outputs": [],
   "source": []
  }
 ],
 "metadata": {
  "kernelspec": {
   "display_name": "Python 3 (ipykernel)",
   "language": "python",
   "name": "python3"
  },
  "language_info": {
   "codemirror_mode": {
    "name": "ipython",
    "version": 3
   },
   "file_extension": ".py",
   "mimetype": "text/x-python",
   "name": "python",
   "nbconvert_exporter": "python",
   "pygments_lexer": "ipython3",
   "version": "3.9.12"
  }
 },
 "nbformat": 4,
 "nbformat_minor": 5
}
