{
 "cells": [
  {
   "cell_type": "code",
   "execution_count": 1,
   "id": "84a876a6",
   "metadata": {},
   "outputs": [],
   "source": [
    "import pandas as pd\n",
    "import numpy as np"
   ]
  },
  {
   "cell_type": "code",
   "execution_count": 2,
   "id": "fe2459ec",
   "metadata": {},
   "outputs": [
    {
     "data": {
      "text/html": [
       "<div>\n",
       "<style scoped>\n",
       "    .dataframe tbody tr th:only-of-type {\n",
       "        vertical-align: middle;\n",
       "    }\n",
       "\n",
       "    .dataframe tbody tr th {\n",
       "        vertical-align: top;\n",
       "    }\n",
       "\n",
       "    .dataframe thead th {\n",
       "        text-align: right;\n",
       "    }\n",
       "</style>\n",
       "<table border=\"1\" class=\"dataframe\">\n",
       "  <thead>\n",
       "    <tr style=\"text-align: right;\">\n",
       "      <th></th>\n",
       "      <th>Place</th>\n",
       "      <th>ProductId</th>\n",
       "      <th>ProductName</th>\n",
       "      <th>UmId</th>\n",
       "      <th>UmName</th>\n",
       "      <th>Month</th>\n",
       "      <th>Year</th>\n",
       "      <th>Price</th>\n",
       "    </tr>\n",
       "  </thead>\n",
       "  <tbody>\n",
       "    <tr>\n",
       "      <th>0</th>\n",
       "      <td>National Average</td>\n",
       "      <td>52</td>\n",
       "      <td>Rice - Retail</td>\n",
       "      <td>5</td>\n",
       "      <td>KG</td>\n",
       "      <td>5</td>\n",
       "      <td>2013</td>\n",
       "      <td>4.4920</td>\n",
       "    </tr>\n",
       "    <tr>\n",
       "      <th>1</th>\n",
       "      <td>National Average</td>\n",
       "      <td>52</td>\n",
       "      <td>Rice - Retail</td>\n",
       "      <td>5</td>\n",
       "      <td>KG</td>\n",
       "      <td>6</td>\n",
       "      <td>2013</td>\n",
       "      <td>4.5786</td>\n",
       "    </tr>\n",
       "    <tr>\n",
       "      <th>2</th>\n",
       "      <td>National Average</td>\n",
       "      <td>52</td>\n",
       "      <td>Rice - Retail</td>\n",
       "      <td>5</td>\n",
       "      <td>KG</td>\n",
       "      <td>11</td>\n",
       "      <td>2013</td>\n",
       "      <td>4.7865</td>\n",
       "    </tr>\n",
       "    <tr>\n",
       "      <th>3</th>\n",
       "      <td>National Average</td>\n",
       "      <td>52</td>\n",
       "      <td>Rice - Retail</td>\n",
       "      <td>5</td>\n",
       "      <td>KG</td>\n",
       "      <td>12</td>\n",
       "      <td>2013</td>\n",
       "      <td>5.1337</td>\n",
       "    </tr>\n",
       "    <tr>\n",
       "      <th>4</th>\n",
       "      <td>National Average</td>\n",
       "      <td>52</td>\n",
       "      <td>Rice - Retail</td>\n",
       "      <td>5</td>\n",
       "      <td>KG</td>\n",
       "      <td>1</td>\n",
       "      <td>2014</td>\n",
       "      <td>5.5099</td>\n",
       "    </tr>\n",
       "    <tr>\n",
       "      <th>...</th>\n",
       "      <td>...</td>\n",
       "      <td>...</td>\n",
       "      <td>...</td>\n",
       "      <td>...</td>\n",
       "      <td>...</td>\n",
       "      <td>...</td>\n",
       "      <td>...</td>\n",
       "      <td>...</td>\n",
       "    </tr>\n",
       "    <tr>\n",
       "      <th>7376</th>\n",
       "      <td>Izmir</td>\n",
       "      <td>502</td>\n",
       "      <td>Cocoa (powder) - Retail</td>\n",
       "      <td>5</td>\n",
       "      <td>KG</td>\n",
       "      <td>8</td>\n",
       "      <td>2019</td>\n",
       "      <td>47.9040</td>\n",
       "    </tr>\n",
       "    <tr>\n",
       "      <th>7377</th>\n",
       "      <td>Izmir</td>\n",
       "      <td>502</td>\n",
       "      <td>Cocoa (powder) - Retail</td>\n",
       "      <td>5</td>\n",
       "      <td>KG</td>\n",
       "      <td>9</td>\n",
       "      <td>2019</td>\n",
       "      <td>49.1176</td>\n",
       "    </tr>\n",
       "    <tr>\n",
       "      <th>7378</th>\n",
       "      <td>Izmir</td>\n",
       "      <td>502</td>\n",
       "      <td>Cocoa (powder) - Retail</td>\n",
       "      <td>5</td>\n",
       "      <td>KG</td>\n",
       "      <td>10</td>\n",
       "      <td>2019</td>\n",
       "      <td>50.8347</td>\n",
       "    </tr>\n",
       "    <tr>\n",
       "      <th>7379</th>\n",
       "      <td>Izmir</td>\n",
       "      <td>502</td>\n",
       "      <td>Cocoa (powder) - Retail</td>\n",
       "      <td>5</td>\n",
       "      <td>KG</td>\n",
       "      <td>11</td>\n",
       "      <td>2019</td>\n",
       "      <td>51.7985</td>\n",
       "    </tr>\n",
       "    <tr>\n",
       "      <th>7380</th>\n",
       "      <td>Izmir</td>\n",
       "      <td>502</td>\n",
       "      <td>Cocoa (powder) - Retail</td>\n",
       "      <td>5</td>\n",
       "      <td>KG</td>\n",
       "      <td>12</td>\n",
       "      <td>2019</td>\n",
       "      <td>51.6071</td>\n",
       "    </tr>\n",
       "  </tbody>\n",
       "</table>\n",
       "<p>7381 rows × 8 columns</p>\n",
       "</div>"
      ],
      "text/plain": [
       "                 Place  ProductId              ProductName  UmId UmName  \\\n",
       "0     National Average         52            Rice - Retail     5     KG   \n",
       "1     National Average         52            Rice - Retail     5     KG   \n",
       "2     National Average         52            Rice - Retail     5     KG   \n",
       "3     National Average         52            Rice - Retail     5     KG   \n",
       "4     National Average         52            Rice - Retail     5     KG   \n",
       "...                ...        ...                      ...   ...    ...   \n",
       "7376             Izmir        502  Cocoa (powder) - Retail     5     KG   \n",
       "7377             Izmir        502  Cocoa (powder) - Retail     5     KG   \n",
       "7378             Izmir        502  Cocoa (powder) - Retail     5     KG   \n",
       "7379             Izmir        502  Cocoa (powder) - Retail     5     KG   \n",
       "7380             Izmir        502  Cocoa (powder) - Retail     5     KG   \n",
       "\n",
       "      Month  Year    Price  \n",
       "0         5  2013   4.4920  \n",
       "1         6  2013   4.5786  \n",
       "2        11  2013   4.7865  \n",
       "3        12  2013   5.1337  \n",
       "4         1  2014   5.5099  \n",
       "...     ...   ...      ...  \n",
       "7376      8  2019  47.9040  \n",
       "7377      9  2019  49.1176  \n",
       "7378     10  2019  50.8347  \n",
       "7379     11  2019  51.7985  \n",
       "7380     12  2019  51.6071  \n",
       "\n",
       "[7381 rows x 8 columns]"
      ]
     },
     "execution_count": 2,
     "metadata": {},
     "output_type": "execute_result"
    }
   ],
   "source": [
    "data = pd.read_csv(\"FoodPrice_in_Turkey.csv\", header = 0, encoding = \"ISO-8859-1\")\n",
    "data"
   ]
  },
  {
   "cell_type": "code",
   "execution_count": null,
   "id": "23d4d441",
   "metadata": {},
   "outputs": [],
   "source": [
    "# THAO TÁC VỚI Ô"
   ]
  },
  {
   "cell_type": "code",
   "execution_count": null,
   "id": "6f45a0cd",
   "metadata": {},
   "outputs": [],
   "source": [
    "# Thêm 2 dòng có index -1, 2.5 vào bảng\n",
    "data.loc[-1] = ['ThanhHoa', 66, 'Nem chua', 5, 'KG', 6, 2022, 66.1234]\n",
    "data.loc[2.5] = ['DaNang', 77, 'BTCTH', 5, 'KG', 6, 2022, 77.1234]\n",
    "data = data.sort_index()\n",
    "display(data.head(10))"
   ]
  },
  {
   "cell_type": "code",
   "execution_count": null,
   "id": "0d2c6739",
   "metadata": {},
   "outputs": [],
   "source": [
    "# lấy dòng có chứa Đà Nẵng\n",
    "data.loc[2.5]"
   ]
  },
  {
   "cell_type": "code",
   "execution_count": null,
   "id": "88e736ed",
   "metadata": {},
   "outputs": [],
   "source": [
    "# lấy dòng có chứa Đà Nẵng dùng iloc => nên dùng khi lấy dòng đầu tiên iloc[0]\n",
    "data.iloc[4]"
   ]
  },
  {
   "cell_type": "code",
   "execution_count": null,
   "id": "6c9b1a4e",
   "metadata": {},
   "outputs": [],
   "source": [
    "# lấy dòng chứa DN, Thanh Hóa theo thứ tự đó\n",
    "data.loc[[2.5, -1]]"
   ]
  },
  {
   "cell_type": "code",
   "execution_count": null,
   "id": "e0506fd2",
   "metadata": {},
   "outputs": [],
   "source": [
    "# lấy dòng chứa DN, Thanh Hóa theo thứ tự đó dùng iloc\n",
    "data.iloc[[4, 0]]"
   ]
  },
  {
   "cell_type": "code",
   "execution_count": null,
   "id": "ce4a5366",
   "metadata": {},
   "outputs": [],
   "source": [
    "# truy xuất nhiều dòng liền nhau\n",
    "# truy xuất các dòng từ TH đến ĐN dùng loc\n",
    "data.loc[-1:2.5]"
   ]
  },
  {
   "cell_type": "code",
   "execution_count": null,
   "id": "b8083153",
   "metadata": {},
   "outputs": [],
   "source": [
    "# truy xuất nhiều dòng liền nhau\n",
    "# truy xuất các dòng từ TH đến ĐN dùng iloc\n",
    "data.iloc[0:5] #ĐN vị trí 4, cần +1 = 5"
   ]
  },
  {
   "cell_type": "code",
   "execution_count": null,
   "id": "5b22389e",
   "metadata": {},
   "outputs": [],
   "source": [
    "data.iloc[:5] "
   ]
  },
  {
   "cell_type": "code",
   "execution_count": null,
   "id": "1f1b29d8",
   "metadata": {},
   "outputs": [],
   "source": [
    "# nếu index bằng chữ thì chỉ dùng loc, không dùng iloc"
   ]
  },
  {
   "cell_type": "code",
   "execution_count": null,
   "id": "dc4bd2d5",
   "metadata": {},
   "outputs": [],
   "source": [
    "# Truy xuất tới cột\n",
    "# df.loc[:, \"Tên cột\"]\n",
    "# df.iloc[:, \"Chỉ số cột đếm từ 0\"]"
   ]
  },
  {
   "cell_type": "code",
   "execution_count": null,
   "id": "e2ded256",
   "metadata": {},
   "outputs": [],
   "source": [
    "data.loc[:, \"ProductName\"]"
   ]
  },
  {
   "cell_type": "code",
   "execution_count": null,
   "id": "5a12716d",
   "metadata": {},
   "outputs": [],
   "source": [
    "data.iloc[:, 2]"
   ]
  },
  {
   "cell_type": "code",
   "execution_count": null,
   "id": "0aa5c54b",
   "metadata": {},
   "outputs": [],
   "source": [
    "# Truy xuất tới nhiều cột rời rạc\n",
    "data.loc[:, [\"ProductName\", \"Place\"]]"
   ]
  },
  {
   "cell_type": "code",
   "execution_count": null,
   "id": "dc3b8fb3",
   "metadata": {},
   "outputs": [],
   "source": [
    "data.iloc[:, [2,0]]"
   ]
  },
  {
   "cell_type": "code",
   "execution_count": null,
   "id": "64dbd2f1",
   "metadata": {},
   "outputs": [],
   "source": [
    "# Truy xuất nhiều cột liền nhau\n",
    "data.loc[:, \"ProductId\":\"UmName\"]"
   ]
  },
  {
   "cell_type": "code",
   "execution_count": null,
   "id": "8e93b88b",
   "metadata": {},
   "outputs": [],
   "source": [
    "data.iloc[:, 1:5] #nhớ +1 cột cuối"
   ]
  },
  {
   "cell_type": "code",
   "execution_count": null,
   "id": "8a19b2be",
   "metadata": {},
   "outputs": [],
   "source": [
    "data.loc[9] = ['NhaTrang', 88, 'Cá ngựa khô', 5, 'KG', 10, 2022, 77.1234]\n",
    "data.head(15)"
   ]
  },
  {
   "cell_type": "code",
   "execution_count": null,
   "id": "a3823570",
   "metadata": {},
   "outputs": [],
   "source": [
    "# Truy xuất tới một số cột và hàng liên tiếp\n",
    "# lấy cột từ Place đến ProductName, 10 hàng bắt đầu từ ĐN\n",
    "data.loc[2.5:11,\"Place\":\"ProductName\"]"
   ]
  },
  {
   "cell_type": "code",
   "execution_count": null,
   "id": "a40e515b",
   "metadata": {},
   "outputs": [],
   "source": [
    "data.iloc[4:14,0:3]"
   ]
  },
  {
   "cell_type": "code",
   "execution_count": null,
   "id": "91782fc7",
   "metadata": {},
   "outputs": [],
   "source": [
    "data.loc[9, \"ProductName\"]"
   ]
  },
  {
   "cell_type": "code",
   "execution_count": null,
   "id": "abbf86d3",
   "metadata": {},
   "outputs": [],
   "source": [
    "data.iloc[11,2]"
   ]
  },
  {
   "cell_type": "code",
   "execution_count": null,
   "id": "191b7245",
   "metadata": {},
   "outputs": [],
   "source": [
    "# Bonus: Slicer\n",
    "# Cấu trúc selector a:b:c => a: bắt đầu, b: kết thúc + 1 (hoặc bắt đầu + số lượng), c: Khoảng cách\n",
    "# ví dụ: data.iloc[0:100:2,0:7:2]: lấy dòng từ index 0-101 cách nhau 2 vị trí, lấy cột từ 0-8 cách nhau 2 cột"
   ]
  },
  {
   "cell_type": "code",
   "execution_count": null,
   "id": "7d3ea09f",
   "metadata": {},
   "outputs": [],
   "source": [
    "data.iloc[0:100:2,0:7:2]"
   ]
  },
  {
   "cell_type": "code",
   "execution_count": null,
   "id": "8d69900f",
   "metadata": {},
   "outputs": [],
   "source": [
    "# chained indexing (chỉ nên dùng để truy vấn, ko nên dùng để set dữ liệu)\n",
    "# df[Tên cột][index]\n"
   ]
  },
  {
   "cell_type": "code",
   "execution_count": null,
   "id": "27802704",
   "metadata": {},
   "outputs": [],
   "source": [
    "# sử dụng at\n",
    "# df.at[index, \"tên cột\"]\n",
    "data.loc[0, \"Place\"]"
   ]
  },
  {
   "cell_type": "code",
   "execution_count": null,
   "id": "6624e687",
   "metadata": {},
   "outputs": [],
   "source": [
    "# set dữ liệu\n",
    "data.loc[0, \"Place\"] = \"SaiGon\"\n",
    "data\n"
   ]
  },
  {
   "cell_type": "code",
   "execution_count": null,
   "id": "25c83e69",
   "metadata": {},
   "outputs": [],
   "source": [
    "data.replace"
   ]
  }
 ],
 "metadata": {
  "kernelspec": {
   "display_name": "Python 3 (ipykernel)",
   "language": "python",
   "name": "python3"
  },
  "language_info": {
   "codemirror_mode": {
    "name": "ipython",
    "version": 3
   },
   "file_extension": ".py",
   "mimetype": "text/x-python",
   "name": "python",
   "nbconvert_exporter": "python",
   "pygments_lexer": "ipython3",
   "version": "3.9.12"
  }
 },
 "nbformat": 4,
 "nbformat_minor": 5
}
