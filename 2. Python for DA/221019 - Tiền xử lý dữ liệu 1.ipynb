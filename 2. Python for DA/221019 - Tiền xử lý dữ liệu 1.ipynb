{
 "cells": [
  {
   "cell_type": "code",
   "execution_count": 1,
   "id": "48b32b97",
   "metadata": {},
   "outputs": [],
   "source": [
    "import pandas as pd\n",
    "import numpy as np"
   ]
  },
  {
   "cell_type": "code",
   "execution_count": 6,
   "id": "f3b0f8ea",
   "metadata": {},
   "outputs": [
    {
     "data": {
      "text/plain": [
       "0       2\n",
       "1       4\n",
       "2    <NA>\n",
       "3       8\n",
       "dtype: Int64"
      ]
     },
     "execution_count": 6,
     "metadata": {},
     "output_type": "execute_result"
    }
   ],
   "source": [
    "\n",
    "a = pd.Series([2, 4, np.NaN, 8], dtype = pd.Int64Dtype())\n",
    "a"
   ]
  },
  {
   "cell_type": "code",
   "execution_count": 5,
   "id": "c85aabc8",
   "metadata": {},
   "outputs": [
    {
     "data": {
      "text/plain": [
       "0   1970-01-01 01:00:00.000000002+01:00\n",
       "1   1970-01-01 01:00:00.000000004+01:00\n",
       "2                                   NaT\n",
       "3   1970-01-01 01:00:00.000000008+01:00\n",
       "dtype: datetime64[ns, Europe/London]"
      ]
     },
     "execution_count": 5,
     "metadata": {},
     "output_type": "execute_result"
    }
   ],
   "source": [
    "# Tạo dữ liệu khuyết thiếu từ 1 list\n",
    "b = pd.Series([2, 4, np.NaN, 8], dtype = pd.DatetimeTZDtype(tz = \"Europe/London\"))\n",
    "b"
   ]
  },
  {
   "cell_type": "code",
   "execution_count": 7,
   "id": "e605ad42",
   "metadata": {},
   "outputs": [
    {
     "data": {
      "text/plain": [
       "0    False\n",
       "1    False\n",
       "2     True\n",
       "3    False\n",
       "dtype: bool"
      ]
     },
     "execution_count": 7,
     "metadata": {},
     "output_type": "execute_result"
    }
   ],
   "source": [
    "# Kiểm tra giá trị có bị khuyết thiếu không?\n",
    "a.isnull()"
   ]
  },
  {
   "cell_type": "code",
   "execution_count": 8,
   "id": "0ffaa8a9",
   "metadata": {},
   "outputs": [
    {
     "data": {
      "text/plain": [
       "0     True\n",
       "1     True\n",
       "2    False\n",
       "3     True\n",
       "dtype: bool"
      ]
     },
     "execution_count": 8,
     "metadata": {},
     "output_type": "execute_result"
    }
   ],
   "source": [
    "a.notnull()"
   ]
  },
  {
   "cell_type": "code",
   "execution_count": 11,
   "id": "ddb8b3f3",
   "metadata": {},
   "outputs": [],
   "source": [
    "# Xử lý dữ liệu khuyết thiếu: có 3 cách\n",
    "# 1. Bỏ qua\n",
    "# 2. Xóa đi (khi số lượng dữ liệu khuyết thiếu ít, tính chất không quan trọng), bằng 5 cách sau:\n",
    "# 2.1. Xóa dòng chứa ít nhất 1 giá trị khuyết thiếu: dropna(inplace = True/False)\n",
    "# 2.2. Xóa cột chứa ít nhất 1 giá trị khuyết thiếu: dropna(axis = \"columns\") hoặc dropna(axis = 1)\n",
    "# 2.3. Xóa các dòng mà chứa toàn giá trị bị khuyết: dropna(how = \"all\")\n",
    "# 2.4. Chỉ giữ lại những dòng có tối đa n giá trị bị khuyết thiếu: dropna(thresh = n)\n",
    "# 2.5. Xóa những dòng nếu có dữ liệu khuyết thiếu trên một số cột: df.dropna(subset=[danh sách cột])\n",
    "# 3. Thay thế bằng 1 giá trị phù hợp với tổng thể dữ liệu chung, có 4 cách sau:\n",
    "# 3.1. Thay thế giá trị bị khuyết thiếu bằng 1 giá trị vô hướng: fillna(value)\n",
    "# 3.2. Thay thế bằng các giá trị trước đó: fillna(method = \"ffill\")\n",
    "# 3.3. Thay thế bằng các giá trị sau đó: fillna(method = \"bfill\")\n",
    "# 3.4. Thay thế bằng các giá trị xác định trên mỗi cột: fillna(value = {\"Lương\": 0, \"City\": \"Hanoi\", \"C\": 2, \"D\":3}) "
   ]
  },
  {
   "cell_type": "code",
   "execution_count": null,
   "id": "9a8d8e50",
   "metadata": {},
   "outputs": [],
   "source": []
  }
 ],
 "metadata": {
  "kernelspec": {
   "display_name": "Python 3 (ipykernel)",
   "language": "python",
   "name": "python3"
  },
  "language_info": {
   "codemirror_mode": {
    "name": "ipython",
    "version": 3
   },
   "file_extension": ".py",
   "mimetype": "text/x-python",
   "name": "python",
   "nbconvert_exporter": "python",
   "pygments_lexer": "ipython3",
   "version": "3.9.12"
  }
 },
 "nbformat": 4,
 "nbformat_minor": 5
}
