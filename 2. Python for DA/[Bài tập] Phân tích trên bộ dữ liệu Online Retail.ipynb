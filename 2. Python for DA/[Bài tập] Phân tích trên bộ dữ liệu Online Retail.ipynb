{
 "cells": [
  {
   "cell_type": "code",
   "execution_count": null,
   "id": "f9a6c259",
   "metadata": {},
   "outputs": [],
   "source": [
    "import pandas as pd"
   ]
  },
  {
   "cell_type": "code",
   "execution_count": null,
   "id": "ec11724c",
   "metadata": {},
   "outputs": [],
   "source": [
    "# 1. Đọc bộ dữ liệu, cho biết số dòng, số cột và kiểu dữ liệu của các thuộc tính.\n",
    "data = pd.read_csv(\"OnlineRetail.csv\", header = 0, encoding = \"ISO-8859-1\")\n",
    "data"
   ]
  },
  {
   "cell_type": "code",
   "execution_count": null,
   "id": "d1eea22c",
   "metadata": {},
   "outputs": [],
   "source": [
    "data.info()"
   ]
  },
  {
   "cell_type": "code",
   "execution_count": null,
   "id": "cf1e145a",
   "metadata": {},
   "outputs": [],
   "source": [
    "# 2. Trích xuất dữ liệu các cột Description và Quantity lưu vào file OnlineRetail.csv\n",
    "data_csv = data.loc[:, [\"Description\", \"Quantity\"]]\n",
    "data_csv"
   ]
  },
  {
   "cell_type": "code",
   "execution_count": null,
   "id": "ea22febc",
   "metadata": {},
   "outputs": [],
   "source": [
    "data_csv.to_csv(\"OnlineRetail.csv\")"
   ]
  },
  {
   "cell_type": "code",
   "execution_count": null,
   "id": "cebeb342",
   "metadata": {},
   "outputs": [],
   "source": [
    "# 3. Trích xuất dữ liệu 1000 dòng đầu tiên lưu vào file OnlineRetail.xlsx\n",
    "data_xlsx = data.loc[0:999]\n",
    "data_xlsx"
   ]
  },
  {
   "cell_type": "code",
   "execution_count": null,
   "id": "ae4a1d3f",
   "metadata": {},
   "outputs": [],
   "source": [
    "data_xlsx.to_excel(\"OnlineRetail.xlsx\")"
   ]
  },
  {
   "cell_type": "code",
   "execution_count": null,
   "id": "55159c82",
   "metadata": {},
   "outputs": [],
   "source": [
    "data.loc[0:1000].to_excel(\"OnlineRetail2.xlsx\")"
   ]
  },
  {
   "cell_type": "code",
   "execution_count": null,
   "id": "0aabb686",
   "metadata": {},
   "outputs": [],
   "source": [
    "# 4. Trích xuất các bản ghi có số lượng từ 10 trở lên lưu vào file OnlineRetail.h5\n",
    "data_h5 = data.loc[data[\"Quantity\"] >10]\n",
    "data_h5"
   ]
  },
  {
   "cell_type": "code",
   "execution_count": null,
   "id": "57a11a76",
   "metadata": {},
   "outputs": [],
   "source": [
    "data_h5.to_hdf('OnlineRetail.h5', 'table')"
   ]
  },
  {
   "cell_type": "code",
   "execution_count": null,
   "id": "ce8f03db",
   "metadata": {},
   "outputs": [],
   "source": [
    "# 5. Trích xuất dữ liệu các phần tử từ dòng 1000 đến dòng 2000, các cột Quantity, InvoiceDate, UnitPrice lưu vào file OnlineRetail.json\n",
    "data_json = data.loc[1000:2000, [\"Quantity\", \"InvoiceDate\", \"UnitPrice\"]]\n",
    "data_json.to_json('OnlineRetail.json', orient = 'columns')"
   ]
  },
  {
   "cell_type": "code",
   "execution_count": null,
   "id": "b1c68073",
   "metadata": {},
   "outputs": [],
   "source": [
    "# 5. Trích xuất các bản ghi có số hóa đơn ‘536365’ lưu vào file OnlineRetail.html\n",
    "data_html = data.loc[data[\"InvoiceNo\"] == 536365]\n",
    "data_html.to_html('OnlineRetail.html')"
   ]
  },
  {
   "cell_type": "code",
   "execution_count": null,
   "id": "51202b9d",
   "metadata": {},
   "outputs": [],
   "source": []
  }
 ],
 "metadata": {
  "kernelspec": {
   "display_name": "Python 3 (ipykernel)",
   "language": "python",
   "name": "python3"
  },
  "language_info": {
   "codemirror_mode": {
    "name": "ipython",
    "version": 3
   },
   "file_extension": ".py",
   "mimetype": "text/x-python",
   "name": "python",
   "nbconvert_exporter": "python",
   "pygments_lexer": "ipython3",
   "version": "3.9.12"
  }
 },
 "nbformat": 4,
 "nbformat_minor": 5
}
