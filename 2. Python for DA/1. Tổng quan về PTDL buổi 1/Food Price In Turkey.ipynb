{
 "cells": [
  {
   "cell_type": "code",
   "execution_count": 1,
   "id": "d1c2dbc0",
   "metadata": {},
   "outputs": [
    {
     "data": {
      "text/plain": [
       "'C:\\\\Users\\\\Hung\\\\Desktop\\\\Học\\\\Codegym\\\\Codegym\\\\2. Python for DA\\\\1. Tổng quan về PTDL buổi 1'"
      ]
     },
     "execution_count": 1,
     "metadata": {},
     "output_type": "execute_result"
    }
   ],
   "source": [
    "%pwd"
   ]
  },
  {
   "cell_type": "code",
   "execution_count": null,
   "id": "d86cb05f",
   "metadata": {},
   "outputs": [],
   "source": [
    "import pandas as pd\n",
    "data = pd.read_csv(\"C:\\\\Users\\\\Hung\\\\Desktop\\\\Học\\\\Codegym\\\\Codegym\\\\2. Python for DA\\\\1. Khai giảng\\FoodPrice_in_Turkey.csv\", encoding = \"ISO-8859-1\")\n",
    "display(data)"
   ]
  },
  {
   "cell_type": "code",
   "execution_count": null,
   "id": "e5d21e91",
   "metadata": {},
   "outputs": [],
   "source": [
    "data.info()\n"
   ]
  },
  {
   "cell_type": "code",
   "execution_count": null,
   "id": "141ea4ad",
   "metadata": {},
   "outputs": [],
   "source": [
    "data.groupby(\"ProductName\")[\"Price\"].mean()"
   ]
  },
  {
   "cell_type": "code",
   "execution_count": null,
   "id": "30948780",
   "metadata": {},
   "outputs": [],
   "source": [
    "data.groupby(\"ProductName\",)[\"Price\"].mean()"
   ]
  }
 ],
 "metadata": {
  "kernelspec": {
   "display_name": "Python 3 (ipykernel)",
   "language": "python",
   "name": "python3"
  },
  "language_info": {
   "codemirror_mode": {
    "name": "ipython",
    "version": 3
   },
   "file_extension": ".py",
   "mimetype": "text/x-python",
   "name": "python",
   "nbconvert_exporter": "python",
   "pygments_lexer": "ipython3",
   "version": "3.9.12"
  }
 },
 "nbformat": 4,
 "nbformat_minor": 5
}
