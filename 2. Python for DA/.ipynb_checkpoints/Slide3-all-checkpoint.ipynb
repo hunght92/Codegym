{
 "cells": [
  {
   "cell_type": "markdown",
   "id": "9f29f37d-e899-4555-a56e-1ad354ca8310",
   "metadata": {},
   "source": [
    "# Slide 3: Thao tác với dữ liệu"
   ]
  },
  {
   "cell_type": "markdown",
   "id": "b39ed4dd-524c-415f-a28b-40d7d1c495b8",
   "metadata": {
    "tags": []
   },
   "source": [
    "## Khai báo thư viện"
   ]
  },
  {
   "cell_type": "code",
   "execution_count": 1,
   "id": "fd70aad3-9518-45c9-86e1-82fc6a528a8c",
   "metadata": {
    "tags": []
   },
   "outputs": [
    {
     "name": "stdout",
     "output_type": "stream",
     "text": [
      "Khai bao thanh cong\n"
     ]
    }
   ],
   "source": [
    "import pandas as pd\n",
    "import numpy as np\n",
    "print('Khai bao thanh cong')"
   ]
  },
  {
   "cell_type": "markdown",
   "id": "53c3d05e-3dca-4e59-8a60-7c70ace9f6cb",
   "metadata": {
    "tags": []
   },
   "source": [
    "## Nhập dữ liệu"
   ]
  },
  {
   "cell_type": "code",
   "execution_count": 2,
   "id": "06602f68-d962-49eb-a452-2efddf5ef489",
   "metadata": {
    "tags": []
   },
   "outputs": [
    {
     "ename": "FileNotFoundError",
     "evalue": "[Errno 2] No such file or directory: 'shopeep_koreantop_clothing_shop_data.csv'",
     "output_type": "error",
     "traceback": [
      "\u001b[1;31m---------------------------------------------------------------------------\u001b[0m",
      "\u001b[1;31mFileNotFoundError\u001b[0m                         Traceback (most recent call last)",
      "Input \u001b[1;32mIn [2]\u001b[0m, in \u001b[0;36m<cell line: 1>\u001b[1;34m()\u001b[0m\n\u001b[1;32m----> 1\u001b[0m data \u001b[38;5;241m=\u001b[39m \u001b[43mpd\u001b[49m\u001b[38;5;241;43m.\u001b[39;49m\u001b[43mread_csv\u001b[49m\u001b[43m(\u001b[49m\u001b[38;5;124;43m'\u001b[39;49m\u001b[38;5;124;43mshopeep_koreantop_clothing_shop_data.csv\u001b[39;49m\u001b[38;5;124;43m'\u001b[39;49m\u001b[43m,\u001b[49m\u001b[43m \u001b[49m\u001b[43mheader\u001b[49m\u001b[38;5;241;43m=\u001b[39;49m\u001b[38;5;241;43m0\u001b[39;49m\u001b[43m)\u001b[49m\n\u001b[0;32m      2\u001b[0m \u001b[38;5;28mprint\u001b[39m(\u001b[38;5;124m'\u001b[39m\u001b[38;5;124m*\u001b[39m\u001b[38;5;124m'\u001b[39m\u001b[38;5;241m*\u001b[39m\u001b[38;5;241m20\u001b[39m, \u001b[38;5;124m\"\u001b[39m\u001b[38;5;124mNhập dữ liệu thành công\u001b[39m\u001b[38;5;124m\"\u001b[39m, \u001b[38;5;124m'\u001b[39m\u001b[38;5;124m*\u001b[39m\u001b[38;5;124m'\u001b[39m\u001b[38;5;241m*\u001b[39m\u001b[38;5;241m20\u001b[39m)\n\u001b[0;32m      3\u001b[0m display(data)\n",
      "File \u001b[1;32m~\\anaconda3\\lib\\site-packages\\pandas\\util\\_decorators.py:311\u001b[0m, in \u001b[0;36mdeprecate_nonkeyword_arguments.<locals>.decorate.<locals>.wrapper\u001b[1;34m(*args, **kwargs)\u001b[0m\n\u001b[0;32m    305\u001b[0m \u001b[38;5;28;01mif\u001b[39;00m \u001b[38;5;28mlen\u001b[39m(args) \u001b[38;5;241m>\u001b[39m num_allow_args:\n\u001b[0;32m    306\u001b[0m     warnings\u001b[38;5;241m.\u001b[39mwarn(\n\u001b[0;32m    307\u001b[0m         msg\u001b[38;5;241m.\u001b[39mformat(arguments\u001b[38;5;241m=\u001b[39marguments),\n\u001b[0;32m    308\u001b[0m         \u001b[38;5;167;01mFutureWarning\u001b[39;00m,\n\u001b[0;32m    309\u001b[0m         stacklevel\u001b[38;5;241m=\u001b[39mstacklevel,\n\u001b[0;32m    310\u001b[0m     )\n\u001b[1;32m--> 311\u001b[0m \u001b[38;5;28;01mreturn\u001b[39;00m func(\u001b[38;5;241m*\u001b[39margs, \u001b[38;5;241m*\u001b[39m\u001b[38;5;241m*\u001b[39mkwargs)\n",
      "File \u001b[1;32m~\\anaconda3\\lib\\site-packages\\pandas\\io\\parsers\\readers.py:680\u001b[0m, in \u001b[0;36mread_csv\u001b[1;34m(filepath_or_buffer, sep, delimiter, header, names, index_col, usecols, squeeze, prefix, mangle_dupe_cols, dtype, engine, converters, true_values, false_values, skipinitialspace, skiprows, skipfooter, nrows, na_values, keep_default_na, na_filter, verbose, skip_blank_lines, parse_dates, infer_datetime_format, keep_date_col, date_parser, dayfirst, cache_dates, iterator, chunksize, compression, thousands, decimal, lineterminator, quotechar, quoting, doublequote, escapechar, comment, encoding, encoding_errors, dialect, error_bad_lines, warn_bad_lines, on_bad_lines, delim_whitespace, low_memory, memory_map, float_precision, storage_options)\u001b[0m\n\u001b[0;32m    665\u001b[0m kwds_defaults \u001b[38;5;241m=\u001b[39m _refine_defaults_read(\n\u001b[0;32m    666\u001b[0m     dialect,\n\u001b[0;32m    667\u001b[0m     delimiter,\n\u001b[1;32m   (...)\u001b[0m\n\u001b[0;32m    676\u001b[0m     defaults\u001b[38;5;241m=\u001b[39m{\u001b[38;5;124m\"\u001b[39m\u001b[38;5;124mdelimiter\u001b[39m\u001b[38;5;124m\"\u001b[39m: \u001b[38;5;124m\"\u001b[39m\u001b[38;5;124m,\u001b[39m\u001b[38;5;124m\"\u001b[39m},\n\u001b[0;32m    677\u001b[0m )\n\u001b[0;32m    678\u001b[0m kwds\u001b[38;5;241m.\u001b[39mupdate(kwds_defaults)\n\u001b[1;32m--> 680\u001b[0m \u001b[38;5;28;01mreturn\u001b[39;00m \u001b[43m_read\u001b[49m\u001b[43m(\u001b[49m\u001b[43mfilepath_or_buffer\u001b[49m\u001b[43m,\u001b[49m\u001b[43m \u001b[49m\u001b[43mkwds\u001b[49m\u001b[43m)\u001b[49m\n",
      "File \u001b[1;32m~\\anaconda3\\lib\\site-packages\\pandas\\io\\parsers\\readers.py:575\u001b[0m, in \u001b[0;36m_read\u001b[1;34m(filepath_or_buffer, kwds)\u001b[0m\n\u001b[0;32m    572\u001b[0m _validate_names(kwds\u001b[38;5;241m.\u001b[39mget(\u001b[38;5;124m\"\u001b[39m\u001b[38;5;124mnames\u001b[39m\u001b[38;5;124m\"\u001b[39m, \u001b[38;5;28;01mNone\u001b[39;00m))\n\u001b[0;32m    574\u001b[0m \u001b[38;5;66;03m# Create the parser.\u001b[39;00m\n\u001b[1;32m--> 575\u001b[0m parser \u001b[38;5;241m=\u001b[39m TextFileReader(filepath_or_buffer, \u001b[38;5;241m*\u001b[39m\u001b[38;5;241m*\u001b[39mkwds)\n\u001b[0;32m    577\u001b[0m \u001b[38;5;28;01mif\u001b[39;00m chunksize \u001b[38;5;129;01mor\u001b[39;00m iterator:\n\u001b[0;32m    578\u001b[0m     \u001b[38;5;28;01mreturn\u001b[39;00m parser\n",
      "File \u001b[1;32m~\\anaconda3\\lib\\site-packages\\pandas\\io\\parsers\\readers.py:933\u001b[0m, in \u001b[0;36mTextFileReader.__init__\u001b[1;34m(self, f, engine, **kwds)\u001b[0m\n\u001b[0;32m    930\u001b[0m     \u001b[38;5;28mself\u001b[39m\u001b[38;5;241m.\u001b[39moptions[\u001b[38;5;124m\"\u001b[39m\u001b[38;5;124mhas_index_names\u001b[39m\u001b[38;5;124m\"\u001b[39m] \u001b[38;5;241m=\u001b[39m kwds[\u001b[38;5;124m\"\u001b[39m\u001b[38;5;124mhas_index_names\u001b[39m\u001b[38;5;124m\"\u001b[39m]\n\u001b[0;32m    932\u001b[0m \u001b[38;5;28mself\u001b[39m\u001b[38;5;241m.\u001b[39mhandles: IOHandles \u001b[38;5;241m|\u001b[39m \u001b[38;5;28;01mNone\u001b[39;00m \u001b[38;5;241m=\u001b[39m \u001b[38;5;28;01mNone\u001b[39;00m\n\u001b[1;32m--> 933\u001b[0m \u001b[38;5;28mself\u001b[39m\u001b[38;5;241m.\u001b[39m_engine \u001b[38;5;241m=\u001b[39m \u001b[38;5;28;43mself\u001b[39;49m\u001b[38;5;241;43m.\u001b[39;49m\u001b[43m_make_engine\u001b[49m\u001b[43m(\u001b[49m\u001b[43mf\u001b[49m\u001b[43m,\u001b[49m\u001b[43m \u001b[49m\u001b[38;5;28;43mself\u001b[39;49m\u001b[38;5;241;43m.\u001b[39;49m\u001b[43mengine\u001b[49m\u001b[43m)\u001b[49m\n",
      "File \u001b[1;32m~\\anaconda3\\lib\\site-packages\\pandas\\io\\parsers\\readers.py:1217\u001b[0m, in \u001b[0;36mTextFileReader._make_engine\u001b[1;34m(self, f, engine)\u001b[0m\n\u001b[0;32m   1213\u001b[0m     mode \u001b[38;5;241m=\u001b[39m \u001b[38;5;124m\"\u001b[39m\u001b[38;5;124mrb\u001b[39m\u001b[38;5;124m\"\u001b[39m\n\u001b[0;32m   1214\u001b[0m \u001b[38;5;66;03m# error: No overload variant of \"get_handle\" matches argument types\u001b[39;00m\n\u001b[0;32m   1215\u001b[0m \u001b[38;5;66;03m# \"Union[str, PathLike[str], ReadCsvBuffer[bytes], ReadCsvBuffer[str]]\"\u001b[39;00m\n\u001b[0;32m   1216\u001b[0m \u001b[38;5;66;03m# , \"str\", \"bool\", \"Any\", \"Any\", \"Any\", \"Any\", \"Any\"\u001b[39;00m\n\u001b[1;32m-> 1217\u001b[0m \u001b[38;5;28mself\u001b[39m\u001b[38;5;241m.\u001b[39mhandles \u001b[38;5;241m=\u001b[39m \u001b[43mget_handle\u001b[49m\u001b[43m(\u001b[49m\u001b[43m  \u001b[49m\u001b[38;5;66;43;03m# type: ignore[call-overload]\u001b[39;49;00m\n\u001b[0;32m   1218\u001b[0m \u001b[43m    \u001b[49m\u001b[43mf\u001b[49m\u001b[43m,\u001b[49m\n\u001b[0;32m   1219\u001b[0m \u001b[43m    \u001b[49m\u001b[43mmode\u001b[49m\u001b[43m,\u001b[49m\n\u001b[0;32m   1220\u001b[0m \u001b[43m    \u001b[49m\u001b[43mencoding\u001b[49m\u001b[38;5;241;43m=\u001b[39;49m\u001b[38;5;28;43mself\u001b[39;49m\u001b[38;5;241;43m.\u001b[39;49m\u001b[43moptions\u001b[49m\u001b[38;5;241;43m.\u001b[39;49m\u001b[43mget\u001b[49m\u001b[43m(\u001b[49m\u001b[38;5;124;43m\"\u001b[39;49m\u001b[38;5;124;43mencoding\u001b[39;49m\u001b[38;5;124;43m\"\u001b[39;49m\u001b[43m,\u001b[49m\u001b[43m \u001b[49m\u001b[38;5;28;43;01mNone\u001b[39;49;00m\u001b[43m)\u001b[49m\u001b[43m,\u001b[49m\n\u001b[0;32m   1221\u001b[0m \u001b[43m    \u001b[49m\u001b[43mcompression\u001b[49m\u001b[38;5;241;43m=\u001b[39;49m\u001b[38;5;28;43mself\u001b[39;49m\u001b[38;5;241;43m.\u001b[39;49m\u001b[43moptions\u001b[49m\u001b[38;5;241;43m.\u001b[39;49m\u001b[43mget\u001b[49m\u001b[43m(\u001b[49m\u001b[38;5;124;43m\"\u001b[39;49m\u001b[38;5;124;43mcompression\u001b[39;49m\u001b[38;5;124;43m\"\u001b[39;49m\u001b[43m,\u001b[49m\u001b[43m \u001b[49m\u001b[38;5;28;43;01mNone\u001b[39;49;00m\u001b[43m)\u001b[49m\u001b[43m,\u001b[49m\n\u001b[0;32m   1222\u001b[0m \u001b[43m    \u001b[49m\u001b[43mmemory_map\u001b[49m\u001b[38;5;241;43m=\u001b[39;49m\u001b[38;5;28;43mself\u001b[39;49m\u001b[38;5;241;43m.\u001b[39;49m\u001b[43moptions\u001b[49m\u001b[38;5;241;43m.\u001b[39;49m\u001b[43mget\u001b[49m\u001b[43m(\u001b[49m\u001b[38;5;124;43m\"\u001b[39;49m\u001b[38;5;124;43mmemory_map\u001b[39;49m\u001b[38;5;124;43m\"\u001b[39;49m\u001b[43m,\u001b[49m\u001b[43m \u001b[49m\u001b[38;5;28;43;01mFalse\u001b[39;49;00m\u001b[43m)\u001b[49m\u001b[43m,\u001b[49m\n\u001b[0;32m   1223\u001b[0m \u001b[43m    \u001b[49m\u001b[43mis_text\u001b[49m\u001b[38;5;241;43m=\u001b[39;49m\u001b[43mis_text\u001b[49m\u001b[43m,\u001b[49m\n\u001b[0;32m   1224\u001b[0m \u001b[43m    \u001b[49m\u001b[43merrors\u001b[49m\u001b[38;5;241;43m=\u001b[39;49m\u001b[38;5;28;43mself\u001b[39;49m\u001b[38;5;241;43m.\u001b[39;49m\u001b[43moptions\u001b[49m\u001b[38;5;241;43m.\u001b[39;49m\u001b[43mget\u001b[49m\u001b[43m(\u001b[49m\u001b[38;5;124;43m\"\u001b[39;49m\u001b[38;5;124;43mencoding_errors\u001b[39;49m\u001b[38;5;124;43m\"\u001b[39;49m\u001b[43m,\u001b[49m\u001b[43m \u001b[49m\u001b[38;5;124;43m\"\u001b[39;49m\u001b[38;5;124;43mstrict\u001b[39;49m\u001b[38;5;124;43m\"\u001b[39;49m\u001b[43m)\u001b[49m\u001b[43m,\u001b[49m\n\u001b[0;32m   1225\u001b[0m \u001b[43m    \u001b[49m\u001b[43mstorage_options\u001b[49m\u001b[38;5;241;43m=\u001b[39;49m\u001b[38;5;28;43mself\u001b[39;49m\u001b[38;5;241;43m.\u001b[39;49m\u001b[43moptions\u001b[49m\u001b[38;5;241;43m.\u001b[39;49m\u001b[43mget\u001b[49m\u001b[43m(\u001b[49m\u001b[38;5;124;43m\"\u001b[39;49m\u001b[38;5;124;43mstorage_options\u001b[39;49m\u001b[38;5;124;43m\"\u001b[39;49m\u001b[43m,\u001b[49m\u001b[43m \u001b[49m\u001b[38;5;28;43;01mNone\u001b[39;49;00m\u001b[43m)\u001b[49m\u001b[43m,\u001b[49m\n\u001b[0;32m   1226\u001b[0m \u001b[43m\u001b[49m\u001b[43m)\u001b[49m\n\u001b[0;32m   1227\u001b[0m \u001b[38;5;28;01massert\u001b[39;00m \u001b[38;5;28mself\u001b[39m\u001b[38;5;241m.\u001b[39mhandles \u001b[38;5;129;01mis\u001b[39;00m \u001b[38;5;129;01mnot\u001b[39;00m \u001b[38;5;28;01mNone\u001b[39;00m\n\u001b[0;32m   1228\u001b[0m f \u001b[38;5;241m=\u001b[39m \u001b[38;5;28mself\u001b[39m\u001b[38;5;241m.\u001b[39mhandles\u001b[38;5;241m.\u001b[39mhandle\n",
      "File \u001b[1;32m~\\anaconda3\\lib\\site-packages\\pandas\\io\\common.py:789\u001b[0m, in \u001b[0;36mget_handle\u001b[1;34m(path_or_buf, mode, encoding, compression, memory_map, is_text, errors, storage_options)\u001b[0m\n\u001b[0;32m    784\u001b[0m \u001b[38;5;28;01melif\u001b[39;00m \u001b[38;5;28misinstance\u001b[39m(handle, \u001b[38;5;28mstr\u001b[39m):\n\u001b[0;32m    785\u001b[0m     \u001b[38;5;66;03m# Check whether the filename is to be opened in binary mode.\u001b[39;00m\n\u001b[0;32m    786\u001b[0m     \u001b[38;5;66;03m# Binary mode does not support 'encoding' and 'newline'.\u001b[39;00m\n\u001b[0;32m    787\u001b[0m     \u001b[38;5;28;01mif\u001b[39;00m ioargs\u001b[38;5;241m.\u001b[39mencoding \u001b[38;5;129;01mand\u001b[39;00m \u001b[38;5;124m\"\u001b[39m\u001b[38;5;124mb\u001b[39m\u001b[38;5;124m\"\u001b[39m \u001b[38;5;129;01mnot\u001b[39;00m \u001b[38;5;129;01min\u001b[39;00m ioargs\u001b[38;5;241m.\u001b[39mmode:\n\u001b[0;32m    788\u001b[0m         \u001b[38;5;66;03m# Encoding\u001b[39;00m\n\u001b[1;32m--> 789\u001b[0m         handle \u001b[38;5;241m=\u001b[39m \u001b[38;5;28;43mopen\u001b[39;49m\u001b[43m(\u001b[49m\n\u001b[0;32m    790\u001b[0m \u001b[43m            \u001b[49m\u001b[43mhandle\u001b[49m\u001b[43m,\u001b[49m\n\u001b[0;32m    791\u001b[0m \u001b[43m            \u001b[49m\u001b[43mioargs\u001b[49m\u001b[38;5;241;43m.\u001b[39;49m\u001b[43mmode\u001b[49m\u001b[43m,\u001b[49m\n\u001b[0;32m    792\u001b[0m \u001b[43m            \u001b[49m\u001b[43mencoding\u001b[49m\u001b[38;5;241;43m=\u001b[39;49m\u001b[43mioargs\u001b[49m\u001b[38;5;241;43m.\u001b[39;49m\u001b[43mencoding\u001b[49m\u001b[43m,\u001b[49m\n\u001b[0;32m    793\u001b[0m \u001b[43m            \u001b[49m\u001b[43merrors\u001b[49m\u001b[38;5;241;43m=\u001b[39;49m\u001b[43merrors\u001b[49m\u001b[43m,\u001b[49m\n\u001b[0;32m    794\u001b[0m \u001b[43m            \u001b[49m\u001b[43mnewline\u001b[49m\u001b[38;5;241;43m=\u001b[39;49m\u001b[38;5;124;43m\"\u001b[39;49m\u001b[38;5;124;43m\"\u001b[39;49m\u001b[43m,\u001b[49m\n\u001b[0;32m    795\u001b[0m \u001b[43m        \u001b[49m\u001b[43m)\u001b[49m\n\u001b[0;32m    796\u001b[0m     \u001b[38;5;28;01melse\u001b[39;00m:\n\u001b[0;32m    797\u001b[0m         \u001b[38;5;66;03m# Binary mode\u001b[39;00m\n\u001b[0;32m    798\u001b[0m         handle \u001b[38;5;241m=\u001b[39m \u001b[38;5;28mopen\u001b[39m(handle, ioargs\u001b[38;5;241m.\u001b[39mmode)\n",
      "\u001b[1;31mFileNotFoundError\u001b[0m: [Errno 2] No such file or directory: 'shopeep_koreantop_clothing_shop_data.csv'"
     ]
    }
   ],
   "source": [
    "data = pd.read_csv('shopeep_koreantop_clothing_shop_data.csv', header=0)\n",
    "print('*'*20, \"Nhập dữ liệu thành công\", '*'*20)\n",
    "display(data)\n",
    "data.info()"
   ]
  },
  {
   "cell_type": "markdown",
   "id": "afa19750-650a-42ac-aabe-802e4f6eb9bf",
   "metadata": {
    "tags": []
   },
   "source": [
    "## 1. Lọc dữ liệu"
   ]
  },
  {
   "cell_type": "markdown",
   "id": "111d07e4-1c09-4097-a8db-64c1302cc5b5",
   "metadata": {},
   "source": [
    "**Quy mô dữ liệu của doanh nghiệp ngày càng tăng do xu hướng số hóa doanh nghiệp:**  \n",
    "- **làm gia tăng quy mô dữ liệu** \n",
    "- **sự thiếu nhất quán**  \n",
    "- **nhiều thông tin nhiễu**  \n",
    "**-> Lọc dữ liệu trả về bộ dữ liệu phù hợp với nhu cầu người dùng.**"
   ]
  },
  {
   "cell_type": "markdown",
   "id": "2c2a52a3-0c67-43c9-b4a9-f292ea3a9dd2",
   "metadata": {
    "jp-MarkdownHeadingCollapsed": true,
    "tags": []
   },
   "source": [
    "### 1.1 Lọc sử dụng .loc[], .iloc[]"
   ]
  },
  {
   "cell_type": "markdown",
   "id": "e533b8f6-63d8-4eab-9984-7cf36e3b3ed8",
   "metadata": {},
   "source": [
    "<font color='red' size=\"5\" >**df.loc[thông tin hàng, thông tin cột]**</font>  "
   ]
  },
  {
   "cell_type": "markdown",
   "id": "1b59d5f8-2ad0-4523-bf7a-b590e2893e04",
   "metadata": {},
   "source": [
    "**Ví dụ 1: Lọc lấy cột 'name'**  "
   ]
  },
  {
   "cell_type": "code",
   "execution_count": null,
   "id": "bbcc4189-e641-4656-b313-8b818c5798a6",
   "metadata": {
    "tags": []
   },
   "outputs": [],
   "source": [
    "data.loc[:,'name']"
   ]
  },
  {
   "cell_type": "markdown",
   "id": "42ba106d-70fb-4dab-af22-e3a34bfbb775",
   "metadata": {},
   "source": [
    "**Ví dụ 2: Lọc lấy cột 'name' và 'shop_location'**  "
   ]
  },
  {
   "cell_type": "code",
   "execution_count": null,
   "id": "a95dc02c-1ed7-471a-a2a2-dae416f2a9c2",
   "metadata": {
    "tags": []
   },
   "outputs": [],
   "source": [
    "data.loc[:,['name','shop_location']] #Danh sách (list) các cột đơn lẻ thì phải để trong [...]"
   ]
  },
  {
   "cell_type": "code",
   "execution_count": null,
   "id": "b2006531-53e4-47a9-b9b1-e50e0e6f7aef",
   "metadata": {
    "tags": []
   },
   "outputs": [],
   "source": [
    "data.filter(['name','shop_location'])"
   ]
  },
  {
   "cell_type": "markdown",
   "id": "9d5fad63-7d90-47bd-afd3-6b273fd90ed9",
   "metadata": {},
   "source": [
    "**Ví dụ 3: Lọc lấy cột từ 'name' tới 'shop_location'**  "
   ]
  },
  {
   "cell_type": "code",
   "execution_count": null,
   "id": "af99a86f-ab9b-4c78-8432-05735f4169bb",
   "metadata": {
    "tags": []
   },
   "outputs": [],
   "source": [
    "data.loc[:,'name':'shop_location'] "
   ]
  },
  {
   "cell_type": "code",
   "execution_count": null,
   "id": "28c33c29-8e54-473c-99ba-89fea462b8c3",
   "metadata": {
    "tags": []
   },
   "outputs": [],
   "source": [
    "# data.filter(['name':'shop_location']) # Filter() không dùng được slice xx:yy\n",
    "# gõ danh sách các tên thủ công\n",
    "data.filter(['name', 'join_month', 'join_day', 'join_year',\n",
    "             'item_count', 'follower_count', 'response_time',\n",
    "             'response_rate', 'shop_location', 'shop_location'])"
   ]
  },
  {
   "cell_type": "markdown",
   "id": "fbb30668-29e1-45bb-bb25-9fbe4c4ebf2e",
   "metadata": {},
   "source": [
    "**Ví dụ 4: Lọc lấy hàng có index = 222**  "
   ]
  },
  {
   "cell_type": "code",
   "execution_count": null,
   "id": "6201b9ae-1703-44a1-a811-ecce8a0c32c9",
   "metadata": {
    "jupyter": {
     "outputs_hidden": true
    },
    "tags": []
   },
   "outputs": [],
   "source": [
    "data.loc[222,:] "
   ]
  },
  {
   "cell_type": "code",
   "execution_count": null,
   "id": "ef95ba98-4a6d-47a8-97f1-38d099e823cb",
   "metadata": {},
   "outputs": [],
   "source": [
    "data.filter([222], axis = 0) #Ví dụ đúng"
   ]
  },
  {
   "cell_type": "code",
   "execution_count": null,
   "id": "ebfd6df5-c41c-424f-8438-8ba45432b834",
   "metadata": {
    "jupyter": {
     "outputs_hidden": true
    },
    "tags": []
   },
   "outputs": [],
   "source": [
    "data.filter([:])[222] #Không được (ví dụ sai)"
   ]
  },
  {
   "cell_type": "markdown",
   "id": "c4d57630-a46f-42df-ad91-0a526a040aca",
   "metadata": {},
   "source": [
    "**Ví dụ 5: Lọc lấy hàng có index = 222, 444 và 666**  "
   ]
  },
  {
   "cell_type": "code",
   "execution_count": null,
   "id": "c680016c-4c84-4f27-9f3e-2e18c3d3c7ec",
   "metadata": {
    "tags": []
   },
   "outputs": [],
   "source": [
    "data.loc[[222, 444, 666],:] #Danh sách các hàng đơn lẻ thì phải để trong [...]"
   ]
  },
  {
   "cell_type": "code",
   "execution_count": null,
   "id": "a04ce2e3-e63f-46e0-8ec7-e5b815ebf3d9",
   "metadata": {},
   "outputs": [],
   "source": [
    "data.filter([222, 444, 666], axis = 0)"
   ]
  },
  {
   "cell_type": "markdown",
   "id": "3b7b8a8c-1c7c-419d-ae82-ba15231927e8",
   "metadata": {},
   "source": [
    "**Ví dụ 6: Lọc lấy hàng có index từ 100 tới 200**  "
   ]
  },
  {
   "cell_type": "code",
   "execution_count": null,
   "id": "944a76bf-ede0-45bf-bd14-60d238a704c1",
   "metadata": {
    "jupyter": {
     "outputs_hidden": true
    },
    "tags": []
   },
   "outputs": [],
   "source": [
    "data.loc[100:200,:] "
   ]
  },
  {
   "cell_type": "code",
   "execution_count": null,
   "id": "9145779c-cc3a-4e6a-aedd-fa2f0a93c780",
   "metadata": {},
   "outputs": [],
   "source": [
    "data.filter(['name', 'join_month', 'join_day', 'join_year',\n",
    "             'item_count', 'follower_count', 'response_time',\n",
    "             'response_rate', 'shop_location', 'shop_location'])[100:201]"
   ]
  },
  {
   "cell_type": "markdown",
   "id": "7b01ab82-3df9-486a-9544-8026d2b83347",
   "metadata": {},
   "source": [
    "**Ví dụ 7: Lọc lấy bảng có index từ 300 tới 400 chỉ chứa cột từ 'rating_bad' tới 'rating_star'**  "
   ]
  },
  {
   "cell_type": "code",
   "execution_count": null,
   "id": "a47b64f1-84ad-4f26-aaee-48de5cae53cd",
   "metadata": {
    "jupyter": {
     "outputs_hidden": true
    },
    "tags": []
   },
   "outputs": [],
   "source": [
    "data.loc[300:400,'rating_bad':'rating_star']"
   ]
  },
  {
   "cell_type": "code",
   "execution_count": null,
   "id": "a3b85828-8ef8-4183-95d2-14e193b44b37",
   "metadata": {
    "jupyter": {
     "outputs_hidden": true
    },
    "tags": []
   },
   "outputs": [],
   "source": [
    "data.iloc[300:401,12:16]"
   ]
  },
  {
   "cell_type": "code",
   "execution_count": null,
   "id": "56197805-a11c-48af-acf2-b54e2b5a848d",
   "metadata": {},
   "outputs": [],
   "source": [
    "data.filter(['rating_bad', 'rating_good', 'rating_normal', 'rating_star'])[300:401]"
   ]
  },
  {
   "cell_type": "markdown",
   "id": "9da617f7-d383-4f92-a97c-7474923cf6d2",
   "metadata": {
    "jp-MarkdownHeadingCollapsed": true,
    "tags": []
   },
   "source": [
    "### 1.2 Lọc bằng hàm filter()"
   ]
  },
  {
   "cell_type": "markdown",
   "id": "b810c99e-a54d-492f-aac9-da56eb2619e0",
   "metadata": {},
   "source": [
    "<font color='red' size=\"5\" >**df.filter([‘Tên_cột_1', …,‘Tên_cột_n']) [chỉ_số_dòng_đầu : chỉ_số_dòng_cuối+1]**</font>  \n",
    "**Chủ yếu là để lọc lấy cột**  "
   ]
  },
  {
   "cell_type": "markdown",
   "id": "faa0e0a3-f1e5-4c75-85d4-76fe58425047",
   "metadata": {},
   "source": [
    "**Ví dụ 1: Lọc lấy cột 'name'**  "
   ]
  },
  {
   "cell_type": "code",
   "execution_count": null,
   "id": "ff0effff-5f83-4505-ab9a-7a02f1a8e0a8",
   "metadata": {
    "tags": []
   },
   "outputs": [],
   "source": [
    "data.filter(['name'])"
   ]
  },
  {
   "cell_type": "markdown",
   "id": "183a308f-3ae9-4778-a54e-39555b8c0c53",
   "metadata": {
    "tags": []
   },
   "source": [
    "### 1.3 Lọc sử dụng điều kiện"
   ]
  },
  {
   "cell_type": "markdown",
   "id": "56f71bcd-8b49-42e0-a311-7570558242dc",
   "metadata": {},
   "source": [
    "#### **1.3.1 Lọc theo điều kiện đơn**  \n",
    "<font color='red' size=\"5\" >**df[df[‘Tên_cột’] PTSS giá_trị]**</font>  \n",
    "**Trong đó phép toán so sánh PTSS sử dụng các phép toán so sánh gồm: ==, <, <=, >, >=, !=**  \n",
    "**(giá_trị cần so sánh được để trong cặp dấu nháy đơn nếu có kiểu chuỗi ký tự)**  "
   ]
  },
  {
   "cell_type": "code",
   "execution_count": null,
   "id": "9b811349-2a8d-4a13-b116-3d19567e7b34",
   "metadata": {},
   "outputs": [],
   "source": [
    "data.head(8)"
   ]
  },
  {
   "cell_type": "markdown",
   "id": "b0be5d42-cf84-4910-9452-f22f138821dc",
   "metadata": {
    "tags": []
   },
   "source": [
    "**Ví dụ 1: Lọc lấy dữ liệu có tháng tham gia là tháng 6**  "
   ]
  },
  {
   "cell_type": "code",
   "execution_count": null,
   "id": "6fe1cff2-ff72-4eca-aa04-84e567a61704",
   "metadata": {
    "jupyter": {
     "outputs_hidden": true
    },
    "tags": []
   },
   "outputs": [],
   "source": [
    "data[data['join_month']=='June']\n",
    "# data[data.loc[:,'join_month']=='June'] #Hơi dài"
   ]
  },
  {
   "cell_type": "markdown",
   "id": "952cae22-ca2f-44f3-ab6d-d2e8d5f7263e",
   "metadata": {},
   "source": [
    "**Ví dụ 2: Lọc lấy dữ liệu có trên 500 đánh giá tốt**  "
   ]
  },
  {
   "cell_type": "code",
   "execution_count": null,
   "id": "1cf5e405-b2a9-49d2-966b-74395ccb5053",
   "metadata": {
    "tags": []
   },
   "outputs": [],
   "source": [
    "data[data['rating_good']>=500]"
   ]
  },
  {
   "cell_type": "markdown",
   "id": "360df51b-d316-44ae-8075-c44cc2279df2",
   "metadata": {},
   "source": [
    "**Ví dụ 3: Lọc lấy tên các shop và địa chỉ có trên 1000 đánh giá tốt**  "
   ]
  },
  {
   "cell_type": "code",
   "execution_count": null,
   "id": "0a00fb8e-ccc3-488e-bbca-52804c82bcec",
   "metadata": {
    "jupyter": {
     "outputs_hidden": true
    },
    "tags": []
   },
   "outputs": [],
   "source": [
    "data[['name','shop_location']][data['rating_good']>1000] #Chained index"
   ]
  },
  {
   "cell_type": "code",
   "execution_count": null,
   "id": "7877506a-731e-4072-a51e-15b13e1bbdb8",
   "metadata": {
    "jupyter": {
     "outputs_hidden": true
    },
    "tags": []
   },
   "outputs": [],
   "source": [
    "data.loc[:,['name','shop_location']][data['rating_good']>1000] #Dùng loc, chọn trước, điều kiện sau"
   ]
  },
  {
   "cell_type": "code",
   "execution_count": null,
   "id": "ef07f183-6866-475e-9e32-75e3cb1b6c3f",
   "metadata": {
    "jupyter": {
     "outputs_hidden": true
    },
    "tags": []
   },
   "outputs": [],
   "source": [
    "data[data['rating_good'] > 1000].loc[:,['name','shop_location']] #Điều kiện trước, chọn cột sau"
   ]
  },
  {
   "cell_type": "code",
   "execution_count": null,
   "id": "00d89d3c-8735-4c7f-9eb8-3d98b5d7c7cf",
   "metadata": {
    "jupyter": {
     "outputs_hidden": true
    },
    "tags": []
   },
   "outputs": [],
   "source": [
    "data[data['rating_good'] > 1000].filter(['name','shop_location']) #Dùng filter()"
   ]
  },
  {
   "cell_type": "markdown",
   "id": "4ad53d53-500b-42e5-a901-461d27d9b084",
   "metadata": {},
   "source": [
    "**Lọc theo điều kiện phức**  \n",
    "<font color='red' size=\"5\" >**df[(df[‘Tên_cột_1’] PTSS giá_trị) PTLG (df[‘Tên_cột_n’] PTSS giá_trị_n)]**</font>  \n",
    "<font color='red' size=\"5\" >**df[(so sánh 1) PTLG (so sanh 2)]**</font>\n",
    "**Các điều kiện được nối với nhau bởi phép toán logic PTLG gồm: & (và), | (hoặc), ~ (phủ định)**  "
   ]
  },
  {
   "cell_type": "markdown",
   "id": "bd372f01-262b-49d1-98b3-02e6d9ca700e",
   "metadata": {},
   "source": [
    "**Ví dụ 4: Lọc lấy tên các shop và địa chỉ có trên 1000 đánh giá tốt và trung bình đánh giá trên 4.8 sao**  "
   ]
  },
  {
   "cell_type": "code",
   "execution_count": null,
   "id": "972d0be3-d3da-45f3-9ace-452eea0e498e",
   "metadata": {},
   "outputs": [],
   "source": [
    "data[['name','shop_location']][(data['rating_good'] > 1000) & (data['rating_star']>4.8)]"
   ]
  },
  {
   "cell_type": "code",
   "execution_count": null,
   "id": "8b0df2b5-94bc-4097-a004-8160521cb4a7",
   "metadata": {
    "tags": []
   },
   "outputs": [],
   "source": [
    "data[(data['rating_good'] > 1000) & (data['rating_star'] > 4.8)]\\\n",
    ".filter(['name','shop_location'])"
   ]
  },
  {
   "cell_type": "code",
   "execution_count": null,
   "id": "f7b5ceb6-1e6c-4c4e-b13a-a7b24e68ae50",
   "metadata": {},
   "outputs": [],
   "source": [
    "data.loc[:, ['name', 'shop_location']]\\\n",
    "[(data['rating_good']>1000) & (data['rating_star']>4.8)]"
   ]
  },
  {
   "cell_type": "markdown",
   "id": "c291f16d-b5df-4ccf-8065-d290c7cebc25",
   "metadata": {},
   "source": [
    "**Ví dụ 5: Lọc lấy các dữ liệu của các shop có trên 4 năm tồn tại, được shoppe verify, và không có quá 200 đánh giá xấu**  "
   ]
  },
  {
   "cell_type": "code",
   "execution_count": null,
   "id": "8521e580-307b-44f1-bf95-fe1f87bbc075",
   "metadata": {},
   "outputs": [],
   "source": [
    "data[(data['join_year']<=2017) \n",
    "     & (data['is_shopee_verified']==1) \n",
    "     & (data['rating_bad'] < 200)]"
   ]
  },
  {
   "cell_type": "markdown",
   "id": "eea7175f-5de8-415e-a340-82f57824f402",
   "metadata": {},
   "source": [
    "**Ví dụ 6: Lọc lấy các dữ liệu của các shop có địa chỉ ở Manila**  \n",
    "xxx.str.contains('string')==True"
   ]
  },
  {
   "cell_type": "code",
   "execution_count": null,
   "id": "fe7c2ca7-a453-4d04-b02c-ffb3a2d34539",
   "metadata": {
    "tags": []
   },
   "outputs": [],
   "source": [
    "data[data['shop_location'].str.contains('Manila')==True]"
   ]
  },
  {
   "cell_type": "markdown",
   "id": "8e48b300-83d3-4ed4-b46e-273dd23884ff",
   "metadata": {},
   "source": [
    "**Ví dụ 7: Tên cột có chứa dấu cách.**  \n",
    "**shop_location -> shop location**  "
   ]
  },
  {
   "cell_type": "markdown",
   "id": "c67ebcba-7359-4f42-ab0b-4d3dc43cb3ba",
   "metadata": {
    "jp-MarkdownHeadingCollapsed": true,
    "tags": []
   },
   "source": [
    "### 1.4 Lọc bằng hàm query()"
   ]
  },
  {
   "cell_type": "markdown",
   "id": "b8b3fb5b-d868-40cc-ba47-5ba89d7248cd",
   "metadata": {},
   "source": [
    "**Phương thức truy vấn query giúp câu lệnh truy vấn chạy nhanh hơn**  \n",
    "**Các điều kiện được nối với nhau bởi các phép toán logic như: and (và), or (hoặc), not (phủ định) và được để trong một cặp dấu nháy kép.**  \n",
    "<font color='red' size=\"5\" >**df.query(\"(Tên_cột_1 PTSS giá_trị_1) PTLG (Tên_cột_n PTSS giá_trị_n)\")**</font>  \n",
    "<font color='red' size=\"5\" >**df.query(\"(so sanh 1) PTLG (so sanh 2)\")**</font>  "
   ]
  },
  {
   "cell_type": "markdown",
   "id": "9f579b38-0166-4c37-adf0-25a37b489cff",
   "metadata": {},
   "source": [
    "**Ví dụ 1: Lọc lấy tên các shop và địa chỉ có trên 1000 đánh giá tốt và trung bình đánh giá trên 4.8 sao**  "
   ]
  },
  {
   "cell_type": "code",
   "execution_count": null,
   "id": "38438171-24f6-49ae-92c0-371651044942",
   "metadata": {
    "tags": []
   },
   "outputs": [],
   "source": [
    "data[(data['rating_good'] > 1000) & (data['rating_star'] > 4.8)]\\\n",
    ".filter(['name','shop_location','rating_good','rating_star'])"
   ]
  },
  {
   "cell_type": "code",
   "execution_count": null,
   "id": "ea4197de-f751-4729-9df4-804445cdc227",
   "metadata": {
    "tags": []
   },
   "outputs": [],
   "source": [
    "data.query(\"(rating_good > 1000) and (rating_star > 4.8)\")\\\n",
    ".filter(['name','shop_location', 'rating_good','rating_star'])"
   ]
  },
  {
   "cell_type": "markdown",
   "id": "f273c0ad-156b-40e2-bcdb-aa98d1117f75",
   "metadata": {},
   "source": [
    "**Ví dụ 2: Lọc lấy các dữ liệu của các shop có từ 5 năm tồn tại, được shoppe verify, và không có quá 200 đánh giá xấu**  "
   ]
  },
  {
   "cell_type": "code",
   "execution_count": null,
   "id": "51efba3d-e6ea-4cd3-a6cf-942e677af6b0",
   "metadata": {
    "tags": []
   },
   "outputs": [],
   "source": [
    "data.query(\"join_year <= 2017 and is_shopee_verified == 1 and rating_bad <200\")\\\n",
    ".filter(['name','shop_location'])"
   ]
  },
  {
   "cell_type": "code",
   "execution_count": null,
   "id": "52e218e8-3f1e-44e2-81ab-ae4f01e307ea",
   "metadata": {},
   "outputs": [],
   "source": [
    "data.query(\"() and () and ()\")"
   ]
  },
  {
   "cell_type": "markdown",
   "id": "7d9adb9f-d9a2-4842-95d9-0b31608d7e48",
   "metadata": {},
   "source": [
    "**Ví dụ 3: Lọc lấy các dữ liệu của các shop có địa chỉ ở Manila**  \n",
    "xxx.str.contains('string')==True"
   ]
  },
  {
   "cell_type": "code",
   "execution_count": null,
   "id": "640734a7-8d9f-44b8-86f5-20febe9ad475",
   "metadata": {
    "jupyter": {
     "outputs_hidden": true
    },
    "tags": []
   },
   "outputs": [],
   "source": [
    "data.query(\"shop_location.str.contains('Manila')==True\")"
   ]
  },
  {
   "cell_type": "markdown",
   "id": "e9bdb634-bb26-48fb-b139-a352877b28ec",
   "metadata": {},
   "source": [
    "**Chú ý: Các trường hợp trong tên cột có ký tự đặc biệt, ví dụ dấu cách**  \n",
    "**Sử dụng dấu 'huyền' để ghi tên cột**"
   ]
  },
  {
   "cell_type": "code",
   "execution_count": null,
   "id": "d461075b-f0b9-41d3-9739-13e747427629",
   "metadata": {
    "jupyter": {
     "outputs_hidden": true
    },
    "tags": []
   },
   "outputs": [],
   "source": [
    "data.rename(columns= {'shop_location':'shop location'}, inplace=True)\n",
    "data"
   ]
  },
  {
   "cell_type": "code",
   "execution_count": null,
   "id": "10950d72-e45d-40dc-a3f0-6ca1f6a7d46a",
   "metadata": {
    "jupyter": {
     "outputs_hidden": true
    },
    "tags": []
   },
   "outputs": [],
   "source": [
    "data.query(\"`shop location`.str.contains('Manila')==True\")"
   ]
  },
  {
   "cell_type": "markdown",
   "id": "53877179-34be-46b7-b6a7-d5c706433cd0",
   "metadata": {
    "tags": []
   },
   "source": [
    "## 2. Gom nhóm dữ liệu"
   ]
  },
  {
   "cell_type": "markdown",
   "id": "d31ab28b-1003-4345-aa99-5663ccdfca6d",
   "metadata": {},
   "source": [
    "**Nhóm – groupby là một hình thức tổng hợp dữ liệu theo chiến lược tách-áp dụng-kết hợp. Đầu tiên dữ liệu được chia thành các nhóm giống nhau rồi áp dụng các phép toán tổng hợp như mean, min, max, count, sum… trên mỗi nhóm và kết hợp các kết quả từ mỗi nhóm.**  \n",
    "<font color='red' size=\"5\" >**df.groupby(‘Thuộc tính cần phân nhóm’)[‘Thuộc tính cần tính giá trị’].phép toán()**</font>  "
   ]
  },
  {
   "cell_type": "code",
   "execution_count": null,
   "id": "bf7bd2a8-0b20-4082-bc79-e54533019cab",
   "metadata": {},
   "outputs": [],
   "source": [
    "data.head()"
   ]
  },
  {
   "cell_type": "markdown",
   "id": "bc05ca02-dc31-4635-bcd0-2f16e85cdcd9",
   "metadata": {},
   "source": [
    "**Ví dụ 1: Lập bảng số lượng sản phẩm theo tên của shop**  "
   ]
  },
  {
   "cell_type": "code",
   "execution_count": null,
   "id": "6b48d1a0-8592-423b-a4a6-9fdc54488582",
   "metadata": {
    "tags": []
   },
   "outputs": [],
   "source": [
    "aaa = data.groupby('name')['item_count'].sum() #.to_frame()\n",
    "aaa"
   ]
  },
  {
   "cell_type": "code",
   "execution_count": null,
   "id": "e61e1d36-bd12-4320-89b5-5314c02b843e",
   "metadata": {
    "tags": []
   },
   "outputs": [],
   "source": [
    "type(aaa)"
   ]
  },
  {
   "cell_type": "code",
   "execution_count": null,
   "id": "85728717-c6b4-4c27-8924-afa1eacea9df",
   "metadata": {
    "tags": []
   },
   "outputs": [],
   "source": [
    "bbb = data.pivot_table(values='item_count', index='name', aggfunc='sum')\n",
    "bbb"
   ]
  },
  {
   "cell_type": "code",
   "execution_count": null,
   "id": "8c3f87ec-475f-4064-87c4-febdfecfbaf7",
   "metadata": {
    "tags": []
   },
   "outputs": [],
   "source": [
    "type(bbb)"
   ]
  },
  {
   "cell_type": "markdown",
   "id": "e4d6e0e2-037b-4074-8809-03795bb07038",
   "metadata": {},
   "source": [
    "**Ví dụ 2: Lập bảng tính tổng số lượng đánh giá của shop**  \n",
    "<font color='red' size=\"5\" >**df.groupby(‘Thuộc tính cần phân nhóm’)[‘Thuộc tính cần tính giá trị’].phép toán()**</font> "
   ]
  },
  {
   "cell_type": "code",
   "execution_count": null,
   "id": "b51e642a-65f4-453d-9afe-e3ca79d717c3",
   "metadata": {
    "scrolled": true
   },
   "outputs": [],
   "source": [
    "data.head()"
   ]
  },
  {
   "cell_type": "code",
   "execution_count": null,
   "id": "e6cc3845-0334-4355-99db-b4f28d56c0f3",
   "metadata": {
    "tags": []
   },
   "outputs": [],
   "source": [
    "data.groupby('name')[['rating_bad','rating_good','rating_normal']].sum()"
   ]
  },
  {
   "cell_type": "code",
   "execution_count": null,
   "id": "4e846b77-eb5a-4627-84d9-a0b525fc7834",
   "metadata": {
    "tags": []
   },
   "outputs": [],
   "source": [
    "data.pivot_table(values=['rating_bad','rating_good','rating_normal'],\n",
    "                 index= 'name', \n",
    "                 aggfunc= 'sum')"
   ]
  },
  {
   "cell_type": "markdown",
   "id": "24a31298-9343-48fe-8b81-3f8e4f507ff6",
   "metadata": {},
   "source": [
    "**Ví dụ 3: Xuất ra số lượng các shop thành lập theo năm**  \n",
    "<font color='red' size=\"5\" >**df.groupby(‘Thuộc tính cần phân nhóm’)[‘Thuộc tính cần tính giá trị’].phép toán()**</font> "
   ]
  },
  {
   "cell_type": "code",
   "execution_count": null,
   "id": "b552cd20-07c5-412b-804c-9ddab45dded0",
   "metadata": {
    "tags": []
   },
   "outputs": [],
   "source": [
    "data.groupby('join_year')['shopid'].count()"
   ]
  },
  {
   "cell_type": "code",
   "execution_count": null,
   "id": "3a140038-05e1-4ef8-8f63-f5db39c6005d",
   "metadata": {
    "tags": []
   },
   "outputs": [],
   "source": [
    "data.pivot_table(values= 'shopid', index= 'join_year', aggfunc= 'count')"
   ]
  },
  {
   "cell_type": "markdown",
   "id": "ff808fc1-b154-4a9d-b26d-8768f886017a",
   "metadata": {},
   "source": [
    "**Có thể dùng hàm pivot_table() thay thế cho hàm groupby()**  \n",
    "**Trong đó values = thuộc tính cần tính giá trị, index = thuộc tính cần phân nhóm**  \n",
    "<font color='red' size=\"5\" >**df.pivot_table(values=’a’, index=’b’, columns=’c’, aggfunc=‘hàm’)**</font>"
   ]
  },
  {
   "cell_type": "markdown",
   "id": "4a92469d-005e-4dd3-8368-c0c192c330f1",
   "metadata": {
    "tags": []
   },
   "source": [
    "## 3. Sinh dữ liệu từ các cột đã có"
   ]
  },
  {
   "cell_type": "markdown",
   "id": "900d6f0d-9326-4658-8df8-d17710e964e8",
   "metadata": {
    "tags": []
   },
   "source": [
    "### 3.1 Sinh/sửa cột từ các phép toán số học"
   ]
  },
  {
   "cell_type": "markdown",
   "id": "be2ff379-bc07-407c-9373-2a55c11e7274",
   "metadata": {},
   "source": [
    "<font color='red' size=\"5\" >**df.loc[:,'cotmoi']=df.loc[:,'cot1'] phép-toán df.loc[:,'cot2']**</font>  \n",
    "**Trong đó phép-toán là +, -, `*`, /, %, etc**  "
   ]
  },
  {
   "cell_type": "markdown",
   "id": "a9dc85a6-09d2-4d80-b738-3bb09279c6f9",
   "metadata": {},
   "source": [
    "**Ví dụ 1: Thêm cột 'rating', công thức là rating = rating_good `*`2 + rating_normal - rating_bad`*`3**"
   ]
  },
  {
   "cell_type": "code",
   "execution_count": null,
   "id": "12478d6e-b710-4dd0-af87-54c0682db0a5",
   "metadata": {
    "tags": []
   },
   "outputs": [],
   "source": [
    "data.loc[:,['rating_good', 'rating_normal', 'rating_bad']]"
   ]
  },
  {
   "cell_type": "code",
   "execution_count": null,
   "id": "193ebe98-7847-4d6a-816a-984cc5c4cb5f",
   "metadata": {
    "tags": []
   },
   "outputs": [],
   "source": [
    "data.loc[:,'rating']= data.loc[:,'rating_good']*2 \\\n",
    "                        + data.loc[:,'rating_normal'] \\\n",
    "                        - data.loc[:,'rating_bad']*3\n",
    "data.loc[:,['rating_good', 'rating_normal', 'rating_bad','rating']]"
   ]
  },
  {
   "cell_type": "code",
   "execution_count": null,
   "id": "f2009e1b-20ed-452f-8076-c746009a9fcf",
   "metadata": {
    "tags": []
   },
   "outputs": [],
   "source": [
    "data['rating'] = data['rating_good']*2 + data['rating_normal'] - data['rating_bad']*3\n",
    "data.loc[:,['rating_good', 'rating_normal', 'rating_bad','rating']]"
   ]
  },
  {
   "cell_type": "markdown",
   "id": "1be76b8c-ef2a-4ea7-a868-309f26402c46",
   "metadata": {},
   "source": [
    "**Ví dụ 2: Thêm cột 'location' có cấu trúc như sau: 'shop_location, Philippine'** "
   ]
  },
  {
   "cell_type": "code",
   "execution_count": null,
   "id": "11c73e51-7c07-4994-ac02-9f55d380e112",
   "metadata": {
    "tags": []
   },
   "outputs": [],
   "source": [
    "a = 'Hanoi'\n",
    "b ='SaiGon'\n",
    "a + b"
   ]
  },
  {
   "cell_type": "code",
   "execution_count": null,
   "id": "570c00d2-b471-4412-8797-ad21624af3e3",
   "metadata": {
    "tags": []
   },
   "outputs": [],
   "source": [
    "data.loc[:,'location']= data.loc[:,'shop_location'] + ', Philippine'\n",
    "data.loc[:,['shop_location','location']]"
   ]
  },
  {
   "cell_type": "markdown",
   "id": "a3f36b59-28f5-4d48-ad44-121e8404941d",
   "metadata": {},
   "source": [
    "**Ví dụ 3: Thêm cột 'join' có cấu trúc: 'Month day, year' với dữ liệu từ 'join_month', 'join_day', 'join_year'**  \n",
    "**Gợi ý: dùng astype(str) để chuyển đổi số thành str**  "
   ]
  },
  {
   "cell_type": "code",
   "execution_count": null,
   "id": "be65c9da-9bad-485d-8911-9f4db9b6b79b",
   "metadata": {
    "tags": []
   },
   "outputs": [],
   "source": [
    "data.loc[:,'join_year'] #.astype(str)"
   ]
  },
  {
   "cell_type": "code",
   "execution_count": null,
   "id": "d67b225c-57f6-466c-b434-6fbb093f244d",
   "metadata": {
    "tags": []
   },
   "outputs": [],
   "source": [
    "data.loc[:, 'join']= data.loc[:,'join_month'] + ' ' + data.loc[:, 'join_day'].astype(str) + ', '+ data.loc[:, 'join_year'].astype(str)\n",
    "data.loc[:,['join_month','join_day','join_year','join']]"
   ]
  },
  {
   "cell_type": "markdown",
   "id": "be2a274d-ab1f-4c47-b6d1-17e614ae98fa",
   "metadata": {
    "tags": []
   },
   "source": [
    "### 3.2 Sinh/sửa cột từ các phép toán logic"
   ]
  },
  {
   "cell_type": "markdown",
   "id": "3008181f-5aba-4c58-8d74-b32372f0590e",
   "metadata": {},
   "source": [
    "**Sinh ra giá trị True/False theo điều kiện**  \n",
    "<font color='red' size=\"5\" >**df.loc[:,'cotmoi']=df.loc[:,'cot1'] so-sánh xxx**</font>  \n",
    "**Trong đó so-sánh là ==, >, <, >=, <=, ~**  "
   ]
  },
  {
   "cell_type": "markdown",
   "id": "1aada176-38ea-4219-bb54-04eb339376d0",
   "metadata": {},
   "source": [
    "**Ví dụ 1: Thêm cột 'test1' với giá trị logic là 'shop mở sau năm 2020'**  "
   ]
  },
  {
   "cell_type": "code",
   "execution_count": null,
   "id": "6b3b6040-561c-464a-9289-e96089b0e778",
   "metadata": {
    "tags": []
   },
   "outputs": [],
   "source": [
    "data.loc[:,'test1'] = data.loc[:,'join_year'] > 2020\n",
    "data.loc[:,['name','join_year','test1']]"
   ]
  },
  {
   "cell_type": "markdown",
   "id": "c69dd610-9d1f-4f72-a55f-ee5f88647d8b",
   "metadata": {},
   "source": [
    "**Gán giá trị theo kiểu if...then...else...**  \n",
    "<font color='red' size=\"5\" >**df.loc[:,'cotmoi'] = np.where(df.loc[:,'cot1'] so-sánh xxx, giá-trị-1, giá-trị-2)**</font>  \n",
    "**Trong đó so-sánh là ==, >, <, >=, <=, ~**  \n",
    "**giá-trị-1 là giá trị được điền vào nếu so sánh là đúng, giá-trị-2 là giá trị được điền vào nếu so sánh là sai**  "
   ]
  },
  {
   "cell_type": "markdown",
   "id": "04d4180b-31c2-4964-9db0-b681e98b1d56",
   "metadata": {},
   "source": [
    "**Ví dụ 2: Thêm cột 'medal' với giá trị là 'gold' nếu có điểm rating >10000 và 'silver' nếu <=10000**  "
   ]
  },
  {
   "cell_type": "code",
   "execution_count": null,
   "id": "1ee27c57-49df-4efa-ba3f-365ed03696b0",
   "metadata": {
    "tags": []
   },
   "outputs": [],
   "source": [
    "data.loc[] = np.where(mask, ..., ...)"
   ]
  },
  {
   "cell_type": "code",
   "execution_count": null,
   "id": "486c264c-7978-4ea7-b24b-9acda7a3e815",
   "metadata": {
    "tags": []
   },
   "outputs": [],
   "source": [
    "data.loc[:,'medal'] = np.where(data.loc[:,'rating']>10000,'gold','silver')\n",
    "data.loc[:,['name','rating','medal']]"
   ]
  },
  {
   "cell_type": "code",
   "execution_count": null,
   "id": "e7b33fdb-68f0-4513-b6e8-0747f8ec22e4",
   "metadata": {
    "tags": []
   },
   "outputs": [],
   "source": [
    "data.loc[:,'medal2']=np.where(data.loc[:,'test1'], 'gold', 'silver')\n",
    "data.loc[:,['name','test1','medal2']]"
   ]
  },
  {
   "cell_type": "markdown",
   "id": "8b1c7fdb-05b5-4fde-ac05-1731e61d6c8c",
   "metadata": {},
   "source": [
    "**Gán giá trị theo kiểu switch...case...**  \n",
    "<font color='red' size=\"5\" >**df.loc[:,'cotmoi']=np.select(các-điều-kiện, các-giá-trị, default)**</font>  \n",
    "**Trong đó các-điều-kiện là các so sánh, có thể được đặt ở 1 biến riêng**  \n",
    "**các-giá-trị là các giá trị gán vào với các so sánh tương ứng**  "
   ]
  },
  {
   "cell_type": "markdown",
   "id": "e2023610-a0ce-4b45-8b9f-0393da6d2379",
   "metadata": {},
   "source": [
    "**Ví dụ 3: Sửa cột 'medal' với giá trị là 'gold' nếu có điểm rating =>100000 và 'silver' nếu 50000<=rating<100000 và 'bronze' nếu 10000<=rating<50000 và 'iron' nếu rating <10000**  "
   ]
  },
  {
   "cell_type": "code",
   "execution_count": null,
   "id": "4a4019c8-cb8c-46b2-972b-61c8cea8ab15",
   "metadata": {
    "tags": []
   },
   "outputs": [],
   "source": [
    "conditions = [(data.loc[:,'rating']>=100000),\n",
    "              (data.loc[:,'rating']>=50000) & (data.loc[:,'rating']<100000),\n",
    "              (data.loc[:,'rating']>=10000) & (data.loc[:,'rating']<50000)]\n",
    "values = ['gold','silver','bronze']\n",
    "data.loc[:,'medal']=np.select(conditions, values, default='iron')\n",
    "data.loc[:,['name','rating','medal']]"
   ]
  },
  {
   "cell_type": "markdown",
   "id": "d08c8835-0f83-4c0f-91a0-4b053ea72d49",
   "metadata": {
    "tags": []
   },
   "source": [
    "### 3.3 Tách cột thành các cột nhỏ hơn"
   ]
  },
  {
   "cell_type": "markdown",
   "id": "1caa20b3-e5a2-4b21-85b8-c479006b9c74",
   "metadata": {},
   "source": [
    "**Thông thường tách 1 cột chứa nhiều dữ liệu thành các cột chứa từng loại dữ liệu cần thiết**  \n",
    "**Ví dụ, tách cột chứa thông tin dạng string thành các phần nhỏ.**  \n",
    "**Hoặc tách ngày tháng năm**  "
   ]
  },
  {
   "cell_type": "markdown",
   "id": "ccd1e5be-f4da-4d67-9a9e-68dd9c4663bf",
   "metadata": {},
   "source": [
    "**Ví dụ 1: Tách cột 'shop_location' thành 2 cột 'distric' và 'city'**  \n",
    "**Gợi ý: dùng hàm str.split('separator') để phân tách nội dung của str**  \n",
    "**Trong đó 'separator' là ký tự phân chia nội dung, thường là dấu cách ' ' hoặc dấu ','** "
   ]
  },
  {
   "cell_type": "code",
   "execution_count": null,
   "id": "03d447b4-0376-484b-a1e6-78964637d135",
   "metadata": {
    "jupyter": {
     "outputs_hidden": true,
     "source_hidden": true
    }
   },
   "outputs": [],
   "source": [
    "data.loc[:,'shop_location']"
   ]
  },
  {
   "cell_type": "code",
   "execution_count": null,
   "id": "3e859826-c75b-4e33-9d23-2292cf52ddfc",
   "metadata": {
    "jupyter": {
     "outputs_hidden": true,
     "source_hidden": true
    },
    "tags": []
   },
   "outputs": [],
   "source": [
    "temp = data.loc[:,'shop_location'].str.split(',')\n",
    "data.loc[:,'distric']= temp.str[0]\n",
    "data.loc[:,'city']= temp.str[1]\n",
    "data.loc[:,['shop_location','distric','city']]"
   ]
  },
  {
   "cell_type": "markdown",
   "id": "0d261b37-1cb0-4554-9b35-b5e8ca033488",
   "metadata": {},
   "source": [
    "**Ví dụ 2: Tách cột date_collected thành 3 cột Day, Month, Year**  \n",
    "**Gợi ý: dùng hàm <font color='red' size=\"5\" >pandas.to_datetime(dữ-liệu, format).dt.thông-tin</font> để phân tách thời gian**  \n",
    "**Trong đó 'format' là bố cục của thời gian** \n",
    "**thông-tin là loại thông tin muốn lấy, ví dụ hour, minute, day, month, etc.**   "
   ]
  },
  {
   "cell_type": "code",
   "execution_count": 3,
   "id": "f5eef311-e64e-4c25-9cc2-c1ec29b4b55a",
   "metadata": {
    "jupyter": {
     "outputs_hidden": true,
     "source_hidden": true
    }
   },
   "outputs": [
    {
     "ename": "NameError",
     "evalue": "name 'data' is not defined",
     "output_type": "error",
     "traceback": [
      "\u001b[1;31m---------------------------------------------------------------------------\u001b[0m",
      "\u001b[1;31mNameError\u001b[0m                                 Traceback (most recent call last)",
      "Input \u001b[1;32mIn [3]\u001b[0m, in \u001b[0;36m<cell line: 1>\u001b[1;34m()\u001b[0m\n\u001b[1;32m----> 1\u001b[0m \u001b[43mdata\u001b[49m\u001b[38;5;241m.\u001b[39mloc[:,\u001b[38;5;124m'\u001b[39m\u001b[38;5;124mdate_collected\u001b[39m\u001b[38;5;124m'\u001b[39m]\n",
      "\u001b[1;31mNameError\u001b[0m: name 'data' is not defined"
     ]
    }
   ],
   "source": [
    "data.loc[:,'date_collected']"
   ]
  },
  {
   "cell_type": "code",
   "execution_count": null,
   "id": "bf696d49-fc80-4baa-8039-972ffe146691",
   "metadata": {
    "jupyter": {
     "outputs_hidden": true,
     "source_hidden": true
    },
    "tags": []
   },
   "outputs": [],
   "source": [
    "data.loc[:,'Day']=pd.to_datetime(data.loc[:,'date_collected'],format='%Y-%m-%d').dt.day\n",
    "data.loc[:,'Month']=pd.to_datetime(data.loc[:,'date_collected'],format='%Y-%m-%d').dt.month\n",
    "data.loc[:,'Year']=pd.to_datetime(data.loc[:,'date_collected'],format='%Y-%m-%d').dt.year\n",
    "data.loc[:,['date_collected','Day', 'Month', 'Year']]"
   ]
  },
  {
   "cell_type": "markdown",
   "id": "733927b2-3cfa-4dbf-b787-c1c16304f3ab",
   "metadata": {},
   "source": [
    "**Ví dụ 3: Tách cột response_time thành 3 cột Hour, Minute, Second**  \n",
    "**<font color='red' size=\"5\" >pandas.to_datetime(dữ-liệu, format).dt.thông-tin</font>**  \n",
    "**Chú ý: trong ví dụ này, dữ liệu có thêm dấu cách trước thông tin thời gian**  "
   ]
  },
  {
   "cell_type": "code",
   "execution_count": null,
   "id": "ba02ab51-657a-460a-acb7-45d5e44b1223",
   "metadata": {
    "jupyter": {
     "outputs_hidden": true,
     "source_hidden": true
    }
   },
   "outputs": [],
   "source": [
    "data.loc[:,'response_time']"
   ]
  },
  {
   "cell_type": "code",
   "execution_count": null,
   "id": "13c985d6-a753-4896-9ec9-49735fc5e891",
   "metadata": {
    "jupyter": {
     "outputs_hidden": true,
     "source_hidden": true
    },
    "tags": []
   },
   "outputs": [],
   "source": [
    "data.loc[:,'Hour']=pd.to_datetime(data.loc[:,'response_time'],format=' %H:%M:%S').dt.hour\n",
    "data.loc[:,'Minute']=pd.to_datetime(data.loc[:,'response_time'],format=' %H:%M:%S').dt.minute\n",
    "data.loc[:,'Second']=pd.to_datetime(data.loc[:,'response_time'],format=' %H:%M:%S').dt.second\n",
    "data.loc[:,['response_time','Hour', 'Minute', 'Second']]"
   ]
  }
 ],
 "metadata": {
  "kernelspec": {
   "display_name": "Python 3 (ipykernel)",
   "language": "python",
   "name": "python3"
  },
  "language_info": {
   "codemirror_mode": {
    "name": "ipython",
    "version": 3
   },
   "file_extension": ".py",
   "mimetype": "text/x-python",
   "name": "python",
   "nbconvert_exporter": "python",
   "pygments_lexer": "ipython3",
   "version": "3.9.12"
  },
  "toc-autonumbering": false
 },
 "nbformat": 4,
 "nbformat_minor": 5
}
