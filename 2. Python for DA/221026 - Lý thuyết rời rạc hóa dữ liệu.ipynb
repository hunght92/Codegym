{
 "cells": [
  {
   "cell_type": "code",
   "execution_count": 1,
   "id": "03a7b933",
   "metadata": {},
   "outputs": [],
   "source": [
    "import pandas as pd"
   ]
  },
  {
   "cell_type": "code",
   "execution_count": 6,
   "id": "81bf5309",
   "metadata": {},
   "outputs": [
    {
     "data": {
      "text/plain": [
       "[NaN, NaN, (18.0, 25.0], (18.0, 25.0], (18.0, 25.0], ..., (60.0, 100.0], (35.0, 60.0], (35.0, 60.0], (25.0, 35.0], NaN]\n",
       "Length: 15\n",
       "Categories (4, interval[int64, right]): [(18, 25] < (25, 35] < (35, 60] < (60, 100]]"
      ]
     },
     "execution_count": 6,
     "metadata": {},
     "output_type": "execute_result"
    }
   ],
   "source": [
    "ages = [16, 18, 20, 22, 25, 27, 21, 23 , 37, 31, 61, 45, 41, 32, 101]\n",
    "\n",
    "# chia theo nhóm định sẵn\n",
    "bins = [18, 25, 35, 60, 100] #định nghĩa khoảng giá trị các nhóm\n",
    "\n",
    "cats = pd.cut(ages, bins) # rời rạc hóa ages theo các khoảng trong bins\n",
    "cats\n",
    "\n",
    "# dữ liệu không nằm trong khoảng sẽ hiện ra NaN"
   ]
  },
  {
   "cell_type": "code",
   "execution_count": 10,
   "id": "f6ef69a5",
   "metadata": {},
   "outputs": [
    {
     "data": {
      "text/plain": [
       "pandas.core.arrays.categorical.Categorical"
      ]
     },
     "execution_count": 10,
     "metadata": {},
     "output_type": "execute_result"
    }
   ],
   "source": [
    "type(cats)"
   ]
  },
  {
   "cell_type": "code",
   "execution_count": 11,
   "id": "c9b0bcc7",
   "metadata": {},
   "outputs": [
    {
     "data": {
      "text/plain": [
       "array([-1, -1,  0,  0,  0,  1,  0,  0,  2,  1,  3,  2,  2,  1, -1],\n",
       "      dtype=int8)"
      ]
     },
     "execution_count": 11,
     "metadata": {},
     "output_type": "execute_result"
    }
   ],
   "source": [
    "# lấy ra index của nhóm tương ứng với các phần tử\n",
    "cats.codes"
   ]
  },
  {
   "cell_type": "code",
   "execution_count": 9,
   "id": "dc886cc2",
   "metadata": {},
   "outputs": [
    {
     "data": {
      "text/plain": [
       "IntervalIndex([(18, 25], (25, 35], (35, 60], (60, 100]], dtype='interval[int64, right]')"
      ]
     },
     "execution_count": 9,
     "metadata": {},
     "output_type": "execute_result"
    }
   ],
   "source": [
    "# lấy ra các nhóm\n",
    "cats.categories"
   ]
  },
  {
   "cell_type": "code",
   "execution_count": 12,
   "id": "a587587f",
   "metadata": {},
   "outputs": [
    {
     "data": {
      "text/plain": [
       "(18, 25]     5\n",
       "(25, 35]     3\n",
       "(35, 60]     3\n",
       "(60, 100]    1\n",
       "dtype: int64"
      ]
     },
     "execution_count": 12,
     "metadata": {},
     "output_type": "execute_result"
    }
   ],
   "source": [
    "# thống kê số lượng phần tử ở mỗi nhóm\n",
    "pd.value_counts(cats)"
   ]
  },
  {
   "cell_type": "code",
   "execution_count": 14,
   "id": "c9dc239b",
   "metadata": {},
   "outputs": [
    {
     "data": {
      "text/plain": [
       "[NaN, NaN, 'Youth', 'Youth', 'Youth', ..., 'Senior', 'MiddleAged', 'MiddleAged', 'YoungAdult', NaN]\n",
       "Length: 15\n",
       "Categories (4, object): ['Youth' < 'YoungAdult' < 'MiddleAged' < 'Senior']"
      ]
     },
     "execution_count": 14,
     "metadata": {},
     "output_type": "execute_result"
    }
   ],
   "source": [
    "# dán nhãn cho các nhóm\n",
    "# danh sách nhãn\n",
    "group_names = [\"Youth\", \"YoungAdult\", \"MiddleAged\", \"Senior\"]\n",
    "cats = pd.cut(ages,bins, labels = group_names)\n",
    "cats"
   ]
  },
  {
   "cell_type": "code",
   "execution_count": 15,
   "id": "4c96d6ab",
   "metadata": {},
   "outputs": [
    {
     "data": {
      "text/plain": [
       "array([-1, -1,  0,  0,  0,  1,  0,  0,  2,  1,  3,  2,  2,  1, -1],\n",
       "      dtype=int8)"
      ]
     },
     "execution_count": 15,
     "metadata": {},
     "output_type": "execute_result"
    }
   ],
   "source": [
    "cats.codes"
   ]
  },
  {
   "cell_type": "code",
   "execution_count": 16,
   "id": "684c762f",
   "metadata": {},
   "outputs": [
    {
     "data": {
      "text/plain": [
       "[(15.915, 37.25], (15.915, 37.25], (15.915, 37.25], (15.915, 37.25], (15.915, 37.25], ..., (58.5, 79.75], (37.25, 58.5], (37.25, 58.5], (15.915, 37.25], (79.75, 101.0]]\n",
       "Length: 15\n",
       "Categories (4, interval[float64, right]): [(15.915, 37.25] < (37.25, 58.5] < (58.5, 79.75] < (79.75, 101.0]]"
      ]
     },
     "execution_count": 16,
     "metadata": {},
     "output_type": "execute_result"
    }
   ],
   "source": [
    "# chia thành n nhóm có độ dài bằng nhau\n",
    "cats = pd.cut(ages, 4)\n",
    "cats"
   ]
  },
  {
   "cell_type": "code",
   "execution_count": 17,
   "id": "b10492d4",
   "metadata": {},
   "outputs": [
    {
     "data": {
      "text/plain": [
       "(15.915, 37.25]    11\n",
       "(37.25, 58.5]       2\n",
       "(58.5, 79.75]       1\n",
       "(79.75, 101.0]      1\n",
       "dtype: int64"
      ]
     },
     "execution_count": 17,
     "metadata": {},
     "output_type": "execute_result"
    }
   ],
   "source": [
    "cats.value_counts()"
   ]
  },
  {
   "cell_type": "code",
   "execution_count": 23,
   "id": "e13d519c",
   "metadata": {},
   "outputs": [],
   "source": [
    "# hàm pandas.qcut()\n",
    "# chia dữ liệu dựa trên các điểm phân vị (quantile)\n",
    "# dùng trong các trường hợp: chia nhóm khách hàng, sản phẩm theo mức giá, số lượng, doanh số"
   ]
  },
  {
   "cell_type": "code",
   "execution_count": 21,
   "id": "d968d9d5",
   "metadata": {},
   "outputs": [
    {
     "data": {
      "text/plain": [
       "[(15.999, 21.5], (15.999, 21.5], (15.999, 21.5], (21.5, 27.0], (21.5, 27.0], ..., (39.0, 101.0], (39.0, 101.0], (39.0, 101.0], (27.0, 39.0], (39.0, 101.0]]\n",
       "Length: 15\n",
       "Categories (4, interval[float64, right]): [(15.999, 21.5] < (21.5, 27.0] < (27.0, 39.0] < (39.0, 101.0]]"
      ]
     },
     "execution_count": 21,
     "metadata": {},
     "output_type": "execute_result"
    }
   ],
   "source": [
    "ages = [16, 18, 20, 22, 25, 27, 21, 23 , 37, 31, 61, 45, 41, 32, 101]\n",
    "cats = pd.qcut(ages, 4)\n",
    "cats"
   ]
  },
  {
   "cell_type": "code",
   "execution_count": 22,
   "id": "279f5976",
   "metadata": {},
   "outputs": [
    {
     "data": {
      "text/plain": [
       "(15.999, 21.5]    4\n",
       "(21.5, 27.0]      4\n",
       "(27.0, 39.0]      3\n",
       "(39.0, 101.0]     4\n",
       "dtype: int64"
      ]
     },
     "execution_count": 22,
     "metadata": {},
     "output_type": "execute_result"
    }
   ],
   "source": [
    "cats.value_counts()"
   ]
  },
  {
   "cell_type": "code",
   "execution_count": null,
   "id": "245630d3",
   "metadata": {},
   "outputs": [],
   "source": []
  }
 ],
 "metadata": {
  "kernelspec": {
   "display_name": "Python 3 (ipykernel)",
   "language": "python",
   "name": "python3"
  },
  "language_info": {
   "codemirror_mode": {
    "name": "ipython",
    "version": 3
   },
   "file_extension": ".py",
   "mimetype": "text/x-python",
   "name": "python",
   "nbconvert_exporter": "python",
   "pygments_lexer": "ipython3",
   "version": "3.9.12"
  }
 },
 "nbformat": 4,
 "nbformat_minor": 5
}
