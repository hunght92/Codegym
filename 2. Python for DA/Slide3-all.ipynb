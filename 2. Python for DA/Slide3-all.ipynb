{
 "cells": [
  {
   "cell_type": "markdown",
   "id": "9f29f37d-e899-4555-a56e-1ad354ca8310",
   "metadata": {},
   "source": [
    "# Slide 3: Thao tác với dữ liệu"
   ]
  },
  {
   "cell_type": "markdown",
   "id": "b39ed4dd-524c-415f-a28b-40d7d1c495b8",
   "metadata": {
    "tags": []
   },
   "source": [
    "## Khai báo thư viện"
   ]
  },
  {
   "cell_type": "code",
   "execution_count": 1,
   "id": "fd70aad3-9518-45c9-86e1-82fc6a528a8c",
   "metadata": {
    "tags": []
   },
   "outputs": [
    {
     "name": "stdout",
     "output_type": "stream",
     "text": [
      "Khai bao thanh cong\n"
     ]
    }
   ],
   "source": [
    "import pandas as pd\n",
    "import numpy as np\n",
    "print('Khai bao thanh cong')"
   ]
  },
  {
   "cell_type": "code",
   "execution_count": 2,
   "id": "dace103f",
   "metadata": {},
   "outputs": [
    {
     "data": {
      "text/plain": [
       "'C:\\\\Users\\\\Hung\\\\Desktop\\\\Học\\\\Codegym\\\\Codegym\\\\2. Python for DA'"
      ]
     },
     "execution_count": 2,
     "metadata": {},
     "output_type": "execute_result"
    }
   ],
   "source": [
    "%pwd"
   ]
  },
  {
   "cell_type": "markdown",
   "id": "53c3d05e-3dca-4e59-8a60-7c70ace9f6cb",
   "metadata": {
    "tags": []
   },
   "source": [
    "## Nhập dữ liệu"
   ]
  },
  {
   "cell_type": "code",
   "execution_count": 3,
   "id": "06602f68-d962-49eb-a452-2efddf5ef489",
   "metadata": {
    "tags": []
   },
   "outputs": [
    {
     "name": "stdout",
     "output_type": "stream",
     "text": [
      "******************** Nhập dữ liệu thành công ********************\n"
     ]
    },
    {
     "data": {
      "text/html": [
       "<div>\n",
       "<style scoped>\n",
       "    .dataframe tbody tr th:only-of-type {\n",
       "        vertical-align: middle;\n",
       "    }\n",
       "\n",
       "    .dataframe tbody tr th {\n",
       "        vertical-align: top;\n",
       "    }\n",
       "\n",
       "    .dataframe thead th {\n",
       "        text-align: right;\n",
       "    }\n",
       "</style>\n",
       "<table border=\"1\" class=\"dataframe\">\n",
       "  <thead>\n",
       "    <tr style=\"text-align: right;\">\n",
       "      <th></th>\n",
       "      <th>pk_shop</th>\n",
       "      <th>date_collected</th>\n",
       "      <th>shopid</th>\n",
       "      <th>name</th>\n",
       "      <th>join_month</th>\n",
       "      <th>join_day</th>\n",
       "      <th>join_year</th>\n",
       "      <th>item_count</th>\n",
       "      <th>follower_count</th>\n",
       "      <th>response_time</th>\n",
       "      <th>response_rate</th>\n",
       "      <th>shop_location</th>\n",
       "      <th>rating_bad</th>\n",
       "      <th>rating_good</th>\n",
       "      <th>rating_normal</th>\n",
       "      <th>rating_star</th>\n",
       "      <th>is_shopee_verified</th>\n",
       "      <th>is_official_shop</th>\n",
       "    </tr>\n",
       "  </thead>\n",
       "  <tbody>\n",
       "    <tr>\n",
       "      <th>0</th>\n",
       "      <td>20210613254711738</td>\n",
       "      <td>2021-06-13</td>\n",
       "      <td>254711738</td>\n",
       "      <td>hello.may.ph</td>\n",
       "      <td>April</td>\n",
       "      <td>27</td>\n",
       "      <td>2020</td>\n",
       "      <td>446</td>\n",
       "      <td>17487</td>\n",
       "      <td>10:13:55</td>\n",
       "      <td>96</td>\n",
       "      <td>NaN</td>\n",
       "      <td>181</td>\n",
       "      <td>17510</td>\n",
       "      <td>729</td>\n",
       "      <td>4.81</td>\n",
       "      <td>1</td>\n",
       "      <td>0</td>\n",
       "    </tr>\n",
       "    <tr>\n",
       "      <th>1</th>\n",
       "      <td>20210613314198143</td>\n",
       "      <td>2021-06-13</td>\n",
       "      <td>314198143</td>\n",
       "      <td>love.women.shop</td>\n",
       "      <td>September</td>\n",
       "      <td>25</td>\n",
       "      <td>2020</td>\n",
       "      <td>263</td>\n",
       "      <td>8574</td>\n",
       "      <td>10:43:05</td>\n",
       "      <td>73</td>\n",
       "      <td>San Nicolas,Metro Manila</td>\n",
       "      <td>78</td>\n",
       "      <td>2656</td>\n",
       "      <td>198</td>\n",
       "      <td>4.68</td>\n",
       "      <td>0</td>\n",
       "      <td>0</td>\n",
       "    </tr>\n",
       "    <tr>\n",
       "      <th>2</th>\n",
       "      <td>2021061310377223</td>\n",
       "      <td>2021-06-13</td>\n",
       "      <td>10377223</td>\n",
       "      <td>R&amp;O RedOrange</td>\n",
       "      <td>September</td>\n",
       "      <td>27</td>\n",
       "      <td>2016</td>\n",
       "      <td>209</td>\n",
       "      <td>660417</td>\n",
       "      <td>08:32:07</td>\n",
       "      <td>90</td>\n",
       "      <td>Pasay City,Metro Manila</td>\n",
       "      <td>4647</td>\n",
       "      <td>1071829</td>\n",
       "      <td>18073</td>\n",
       "      <td>4.91</td>\n",
       "      <td>1</td>\n",
       "      <td>0</td>\n",
       "    </tr>\n",
       "    <tr>\n",
       "      <th>3</th>\n",
       "      <td>2021061321407329</td>\n",
       "      <td>2021-06-13</td>\n",
       "      <td>21407329</td>\n",
       "      <td>patriciacai</td>\n",
       "      <td>April</td>\n",
       "      <td>30</td>\n",
       "      <td>2017</td>\n",
       "      <td>165</td>\n",
       "      <td>18787</td>\n",
       "      <td>09:10:38</td>\n",
       "      <td>94</td>\n",
       "      <td>Binondo,Metro Manila</td>\n",
       "      <td>44</td>\n",
       "      <td>18959</td>\n",
       "      <td>215</td>\n",
       "      <td>4.94</td>\n",
       "      <td>1</td>\n",
       "      <td>0</td>\n",
       "    </tr>\n",
       "    <tr>\n",
       "      <th>4</th>\n",
       "      <td>2021061311187885</td>\n",
       "      <td>2021-06-13</td>\n",
       "      <td>11187885</td>\n",
       "      <td>Little Market Manila</td>\n",
       "      <td>October</td>\n",
       "      <td>18</td>\n",
       "      <td>2016</td>\n",
       "      <td>467</td>\n",
       "      <td>67371</td>\n",
       "      <td>11:40:59</td>\n",
       "      <td>89</td>\n",
       "      <td>Caloocan City,Metro Manila</td>\n",
       "      <td>680</td>\n",
       "      <td>39252</td>\n",
       "      <td>2383</td>\n",
       "      <td>4.73</td>\n",
       "      <td>1</td>\n",
       "      <td>0</td>\n",
       "    </tr>\n",
       "    <tr>\n",
       "      <th>...</th>\n",
       "      <td>...</td>\n",
       "      <td>...</td>\n",
       "      <td>...</td>\n",
       "      <td>...</td>\n",
       "      <td>...</td>\n",
       "      <td>...</td>\n",
       "      <td>...</td>\n",
       "      <td>...</td>\n",
       "      <td>...</td>\n",
       "      <td>...</td>\n",
       "      <td>...</td>\n",
       "      <td>...</td>\n",
       "      <td>...</td>\n",
       "      <td>...</td>\n",
       "      <td>...</td>\n",
       "      <td>...</td>\n",
       "      <td>...</td>\n",
       "      <td>...</td>\n",
       "    </tr>\n",
       "    <tr>\n",
       "      <th>741</th>\n",
       "      <td>20210706449182992</td>\n",
       "      <td>2021-07-06</td>\n",
       "      <td>449182992</td>\n",
       "      <td>Yacent_thrift_Clo</td>\n",
       "      <td>May</td>\n",
       "      <td>22</td>\n",
       "      <td>2021</td>\n",
       "      <td>16</td>\n",
       "      <td>115</td>\n",
       "      <td>08:45:30</td>\n",
       "      <td>86</td>\n",
       "      <td>Legazpi City,Albay</td>\n",
       "      <td>0</td>\n",
       "      <td>32</td>\n",
       "      <td>0</td>\n",
       "      <td>5.00</td>\n",
       "      <td>0</td>\n",
       "      <td>0</td>\n",
       "    </tr>\n",
       "    <tr>\n",
       "      <th>742</th>\n",
       "      <td>20210706396605392</td>\n",
       "      <td>2021-07-06</td>\n",
       "      <td>396605392</td>\n",
       "      <td>Akistore.ph</td>\n",
       "      <td>March</td>\n",
       "      <td>3</td>\n",
       "      <td>2021</td>\n",
       "      <td>84</td>\n",
       "      <td>84</td>\n",
       "      <td>08:01:23</td>\n",
       "      <td>91</td>\n",
       "      <td>NaN</td>\n",
       "      <td>1</td>\n",
       "      <td>9</td>\n",
       "      <td>0</td>\n",
       "      <td>4.60</td>\n",
       "      <td>0</td>\n",
       "      <td>0</td>\n",
       "    </tr>\n",
       "    <tr>\n",
       "      <th>743</th>\n",
       "      <td>20210706360379308</td>\n",
       "      <td>2021-07-06</td>\n",
       "      <td>360379308</td>\n",
       "      <td>Yzanice Shop</td>\n",
       "      <td>December</td>\n",
       "      <td>20</td>\n",
       "      <td>2020</td>\n",
       "      <td>78</td>\n",
       "      <td>5982</td>\n",
       "      <td>08:46:30</td>\n",
       "      <td>96</td>\n",
       "      <td>NaN</td>\n",
       "      <td>16</td>\n",
       "      <td>463</td>\n",
       "      <td>16</td>\n",
       "      <td>4.75</td>\n",
       "      <td>1</td>\n",
       "      <td>0</td>\n",
       "    </tr>\n",
       "    <tr>\n",
       "      <th>744</th>\n",
       "      <td>2021070629392066</td>\n",
       "      <td>2021-07-06</td>\n",
       "      <td>29392066</td>\n",
       "      <td>Clairecvc Shop</td>\n",
       "      <td>August</td>\n",
       "      <td>2</td>\n",
       "      <td>2017</td>\n",
       "      <td>964</td>\n",
       "      <td>44029</td>\n",
       "      <td>12:19:44</td>\n",
       "      <td>73</td>\n",
       "      <td>Binondo,Metro Manila</td>\n",
       "      <td>1960</td>\n",
       "      <td>103289</td>\n",
       "      <td>3982</td>\n",
       "      <td>4.78</td>\n",
       "      <td>0</td>\n",
       "      <td>0</td>\n",
       "    </tr>\n",
       "    <tr>\n",
       "      <th>745</th>\n",
       "      <td>2021070625811092</td>\n",
       "      <td>2021-07-06</td>\n",
       "      <td>25811092</td>\n",
       "      <td>angelcity.💋</td>\n",
       "      <td>June</td>\n",
       "      <td>17</td>\n",
       "      <td>2017</td>\n",
       "      <td>272</td>\n",
       "      <td>868370</td>\n",
       "      <td>10:02:42</td>\n",
       "      <td>36</td>\n",
       "      <td>Pasay City,Metro Manila</td>\n",
       "      <td>13401</td>\n",
       "      <td>708666</td>\n",
       "      <td>30799</td>\n",
       "      <td>4.77</td>\n",
       "      <td>0</td>\n",
       "      <td>0</td>\n",
       "    </tr>\n",
       "  </tbody>\n",
       "</table>\n",
       "<p>746 rows × 18 columns</p>\n",
       "</div>"
      ],
      "text/plain": [
       "               pk_shop date_collected     shopid                  name  \\\n",
       "0    20210613254711738     2021-06-13  254711738          hello.may.ph   \n",
       "1    20210613314198143     2021-06-13  314198143       love.women.shop   \n",
       "2     2021061310377223     2021-06-13   10377223         R&O RedOrange   \n",
       "3     2021061321407329     2021-06-13   21407329           patriciacai   \n",
       "4     2021061311187885     2021-06-13   11187885  Little Market Manila   \n",
       "..                 ...            ...        ...                   ...   \n",
       "741  20210706449182992     2021-07-06  449182992     Yacent_thrift_Clo   \n",
       "742  20210706396605392     2021-07-06  396605392           Akistore.ph   \n",
       "743  20210706360379308     2021-07-06  360379308          Yzanice Shop   \n",
       "744   2021070629392066     2021-07-06   29392066        Clairecvc Shop   \n",
       "745   2021070625811092     2021-07-06   25811092           angelcity.💋   \n",
       "\n",
       "    join_month  join_day  join_year  item_count  follower_count response_time  \\\n",
       "0        April        27       2020         446           17487      10:13:55   \n",
       "1    September        25       2020         263            8574      10:43:05   \n",
       "2    September        27       2016         209          660417      08:32:07   \n",
       "3        April        30       2017         165           18787      09:10:38   \n",
       "4      October        18       2016         467           67371      11:40:59   \n",
       "..         ...       ...        ...         ...             ...           ...   \n",
       "741        May        22       2021          16             115      08:45:30   \n",
       "742      March         3       2021          84              84      08:01:23   \n",
       "743   December        20       2020          78            5982      08:46:30   \n",
       "744     August         2       2017         964           44029      12:19:44   \n",
       "745       June        17       2017         272          868370      10:02:42   \n",
       "\n",
       "     response_rate               shop_location  rating_bad  rating_good  \\\n",
       "0               96                         NaN         181        17510   \n",
       "1               73    San Nicolas,Metro Manila          78         2656   \n",
       "2               90     Pasay City,Metro Manila        4647      1071829   \n",
       "3               94        Binondo,Metro Manila          44        18959   \n",
       "4               89  Caloocan City,Metro Manila         680        39252   \n",
       "..             ...                         ...         ...          ...   \n",
       "741             86          Legazpi City,Albay           0           32   \n",
       "742             91                         NaN           1            9   \n",
       "743             96                         NaN          16          463   \n",
       "744             73        Binondo,Metro Manila        1960       103289   \n",
       "745             36     Pasay City,Metro Manila       13401       708666   \n",
       "\n",
       "     rating_normal  rating_star  is_shopee_verified  is_official_shop  \n",
       "0              729         4.81                   1                 0  \n",
       "1              198         4.68                   0                 0  \n",
       "2            18073         4.91                   1                 0  \n",
       "3              215         4.94                   1                 0  \n",
       "4             2383         4.73                   1                 0  \n",
       "..             ...          ...                 ...               ...  \n",
       "741              0         5.00                   0                 0  \n",
       "742              0         4.60                   0                 0  \n",
       "743             16         4.75                   1                 0  \n",
       "744           3982         4.78                   0                 0  \n",
       "745          30799         4.77                   0                 0  \n",
       "\n",
       "[746 rows x 18 columns]"
      ]
     },
     "metadata": {},
     "output_type": "display_data"
    },
    {
     "name": "stdout",
     "output_type": "stream",
     "text": [
      "<class 'pandas.core.frame.DataFrame'>\n",
      "RangeIndex: 746 entries, 0 to 745\n",
      "Data columns (total 18 columns):\n",
      " #   Column              Non-Null Count  Dtype  \n",
      "---  ------              --------------  -----  \n",
      " 0   pk_shop             746 non-null    int64  \n",
      " 1   date_collected      746 non-null    object \n",
      " 2   shopid              746 non-null    int64  \n",
      " 3   name                746 non-null    object \n",
      " 4   join_month          746 non-null    object \n",
      " 5   join_day            746 non-null    int64  \n",
      " 6   join_year           746 non-null    int64  \n",
      " 7   item_count          746 non-null    int64  \n",
      " 8   follower_count      746 non-null    int64  \n",
      " 9   response_time       746 non-null    object \n",
      " 10  response_rate       746 non-null    int64  \n",
      " 11  shop_location       428 non-null    object \n",
      " 12  rating_bad          746 non-null    int64  \n",
      " 13  rating_good         746 non-null    int64  \n",
      " 14  rating_normal       746 non-null    int64  \n",
      " 15  rating_star         740 non-null    float64\n",
      " 16  is_shopee_verified  746 non-null    int64  \n",
      " 17  is_official_shop    746 non-null    int64  \n",
      "dtypes: float64(1), int64(12), object(5)\n",
      "memory usage: 105.0+ KB\n"
     ]
    }
   ],
   "source": [
    "data = pd.read_csv('shopeep_koreantop_clothing_shop_data.csv', header=0)\n",
    "print('*'*20, \"Nhập dữ liệu thành công\", '*'*20)\n",
    "display(data)\n",
    "data.info()"
   ]
  },
  {
   "cell_type": "markdown",
   "id": "afa19750-650a-42ac-aabe-802e4f6eb9bf",
   "metadata": {
    "tags": []
   },
   "source": [
    "## 1. Lọc dữ liệu"
   ]
  },
  {
   "cell_type": "markdown",
   "id": "111d07e4-1c09-4097-a8db-64c1302cc5b5",
   "metadata": {},
   "source": [
    "**Quy mô dữ liệu của doanh nghiệp ngày càng tăng do xu hướng số hóa doanh nghiệp:**  \n",
    "- **làm gia tăng quy mô dữ liệu** \n",
    "- **sự thiếu nhất quán**  \n",
    "- **nhiều thông tin nhiễu**  \n",
    "**-> Lọc dữ liệu trả về bộ dữ liệu phù hợp với nhu cầu người dùng.**"
   ]
  },
  {
   "cell_type": "markdown",
   "id": "2c2a52a3-0c67-43c9-b4a9-f292ea3a9dd2",
   "metadata": {
    "jp-MarkdownHeadingCollapsed": true,
    "tags": []
   },
   "source": [
    "### 1.1 Lọc sử dụng .loc[], .iloc[]"
   ]
  },
  {
   "cell_type": "markdown",
   "id": "e533b8f6-63d8-4eab-9984-7cf36e3b3ed8",
   "metadata": {},
   "source": [
    "<font color='red' size=\"5\" >**df.loc[thông tin hàng, thông tin cột]**</font>  "
   ]
  },
  {
   "cell_type": "markdown",
   "id": "1b59d5f8-2ad0-4523-bf7a-b590e2893e04",
   "metadata": {},
   "source": [
    "**Ví dụ 1: Lọc lấy cột 'name'**  "
   ]
  },
  {
   "cell_type": "code",
   "execution_count": 4,
   "id": "bbcc4189-e641-4656-b313-8b818c5798a6",
   "metadata": {
    "tags": []
   },
   "outputs": [
    {
     "data": {
      "text/plain": [
       "0              hello.may.ph\n",
       "1           love.women.shop\n",
       "2             R&O RedOrange\n",
       "3               patriciacai\n",
       "4      Little Market Manila\n",
       "               ...         \n",
       "741       Yacent_thrift_Clo\n",
       "742             Akistore.ph\n",
       "743            Yzanice Shop\n",
       "744          Clairecvc Shop\n",
       "745             angelcity.💋\n",
       "Name: name, Length: 746, dtype: object"
      ]
     },
     "execution_count": 4,
     "metadata": {},
     "output_type": "execute_result"
    }
   ],
   "source": [
    "data.loc[:,'name']"
   ]
  },
  {
   "cell_type": "markdown",
   "id": "42ba106d-70fb-4dab-af22-e3a34bfbb775",
   "metadata": {},
   "source": [
    "**Ví dụ 2: Lọc lấy cột 'name' và 'shop_location'**  "
   ]
  },
  {
   "cell_type": "code",
   "execution_count": 5,
   "id": "a95dc02c-1ed7-471a-a2a2-dae416f2a9c2",
   "metadata": {
    "tags": []
   },
   "outputs": [
    {
     "data": {
      "text/html": [
       "<div>\n",
       "<style scoped>\n",
       "    .dataframe tbody tr th:only-of-type {\n",
       "        vertical-align: middle;\n",
       "    }\n",
       "\n",
       "    .dataframe tbody tr th {\n",
       "        vertical-align: top;\n",
       "    }\n",
       "\n",
       "    .dataframe thead th {\n",
       "        text-align: right;\n",
       "    }\n",
       "</style>\n",
       "<table border=\"1\" class=\"dataframe\">\n",
       "  <thead>\n",
       "    <tr style=\"text-align: right;\">\n",
       "      <th></th>\n",
       "      <th>name</th>\n",
       "      <th>shop_location</th>\n",
       "    </tr>\n",
       "  </thead>\n",
       "  <tbody>\n",
       "    <tr>\n",
       "      <th>0</th>\n",
       "      <td>hello.may.ph</td>\n",
       "      <td>NaN</td>\n",
       "    </tr>\n",
       "    <tr>\n",
       "      <th>1</th>\n",
       "      <td>love.women.shop</td>\n",
       "      <td>San Nicolas,Metro Manila</td>\n",
       "    </tr>\n",
       "    <tr>\n",
       "      <th>2</th>\n",
       "      <td>R&amp;O RedOrange</td>\n",
       "      <td>Pasay City,Metro Manila</td>\n",
       "    </tr>\n",
       "    <tr>\n",
       "      <th>3</th>\n",
       "      <td>patriciacai</td>\n",
       "      <td>Binondo,Metro Manila</td>\n",
       "    </tr>\n",
       "    <tr>\n",
       "      <th>4</th>\n",
       "      <td>Little Market Manila</td>\n",
       "      <td>Caloocan City,Metro Manila</td>\n",
       "    </tr>\n",
       "    <tr>\n",
       "      <th>...</th>\n",
       "      <td>...</td>\n",
       "      <td>...</td>\n",
       "    </tr>\n",
       "    <tr>\n",
       "      <th>741</th>\n",
       "      <td>Yacent_thrift_Clo</td>\n",
       "      <td>Legazpi City,Albay</td>\n",
       "    </tr>\n",
       "    <tr>\n",
       "      <th>742</th>\n",
       "      <td>Akistore.ph</td>\n",
       "      <td>NaN</td>\n",
       "    </tr>\n",
       "    <tr>\n",
       "      <th>743</th>\n",
       "      <td>Yzanice Shop</td>\n",
       "      <td>NaN</td>\n",
       "    </tr>\n",
       "    <tr>\n",
       "      <th>744</th>\n",
       "      <td>Clairecvc Shop</td>\n",
       "      <td>Binondo,Metro Manila</td>\n",
       "    </tr>\n",
       "    <tr>\n",
       "      <th>745</th>\n",
       "      <td>angelcity.💋</td>\n",
       "      <td>Pasay City,Metro Manila</td>\n",
       "    </tr>\n",
       "  </tbody>\n",
       "</table>\n",
       "<p>746 rows × 2 columns</p>\n",
       "</div>"
      ],
      "text/plain": [
       "                     name               shop_location\n",
       "0            hello.may.ph                         NaN\n",
       "1         love.women.shop    San Nicolas,Metro Manila\n",
       "2           R&O RedOrange     Pasay City,Metro Manila\n",
       "3             patriciacai        Binondo,Metro Manila\n",
       "4    Little Market Manila  Caloocan City,Metro Manila\n",
       "..                    ...                         ...\n",
       "741     Yacent_thrift_Clo          Legazpi City,Albay\n",
       "742           Akistore.ph                         NaN\n",
       "743          Yzanice Shop                         NaN\n",
       "744        Clairecvc Shop        Binondo,Metro Manila\n",
       "745           angelcity.💋     Pasay City,Metro Manila\n",
       "\n",
       "[746 rows x 2 columns]"
      ]
     },
     "execution_count": 5,
     "metadata": {},
     "output_type": "execute_result"
    }
   ],
   "source": [
    "data.loc[:,['name','shop_location']] #Danh sách (list) các cột đơn lẻ thì phải để trong [...]"
   ]
  },
  {
   "cell_type": "code",
   "execution_count": 6,
   "id": "b2006531-53e4-47a9-b9b1-e50e0e6f7aef",
   "metadata": {
    "tags": []
   },
   "outputs": [
    {
     "data": {
      "text/html": [
       "<div>\n",
       "<style scoped>\n",
       "    .dataframe tbody tr th:only-of-type {\n",
       "        vertical-align: middle;\n",
       "    }\n",
       "\n",
       "    .dataframe tbody tr th {\n",
       "        vertical-align: top;\n",
       "    }\n",
       "\n",
       "    .dataframe thead th {\n",
       "        text-align: right;\n",
       "    }\n",
       "</style>\n",
       "<table border=\"1\" class=\"dataframe\">\n",
       "  <thead>\n",
       "    <tr style=\"text-align: right;\">\n",
       "      <th></th>\n",
       "      <th>name</th>\n",
       "      <th>shop_location</th>\n",
       "    </tr>\n",
       "  </thead>\n",
       "  <tbody>\n",
       "    <tr>\n",
       "      <th>0</th>\n",
       "      <td>hello.may.ph</td>\n",
       "      <td>NaN</td>\n",
       "    </tr>\n",
       "    <tr>\n",
       "      <th>1</th>\n",
       "      <td>love.women.shop</td>\n",
       "      <td>San Nicolas,Metro Manila</td>\n",
       "    </tr>\n",
       "    <tr>\n",
       "      <th>2</th>\n",
       "      <td>R&amp;O RedOrange</td>\n",
       "      <td>Pasay City,Metro Manila</td>\n",
       "    </tr>\n",
       "    <tr>\n",
       "      <th>3</th>\n",
       "      <td>patriciacai</td>\n",
       "      <td>Binondo,Metro Manila</td>\n",
       "    </tr>\n",
       "    <tr>\n",
       "      <th>4</th>\n",
       "      <td>Little Market Manila</td>\n",
       "      <td>Caloocan City,Metro Manila</td>\n",
       "    </tr>\n",
       "    <tr>\n",
       "      <th>...</th>\n",
       "      <td>...</td>\n",
       "      <td>...</td>\n",
       "    </tr>\n",
       "    <tr>\n",
       "      <th>741</th>\n",
       "      <td>Yacent_thrift_Clo</td>\n",
       "      <td>Legazpi City,Albay</td>\n",
       "    </tr>\n",
       "    <tr>\n",
       "      <th>742</th>\n",
       "      <td>Akistore.ph</td>\n",
       "      <td>NaN</td>\n",
       "    </tr>\n",
       "    <tr>\n",
       "      <th>743</th>\n",
       "      <td>Yzanice Shop</td>\n",
       "      <td>NaN</td>\n",
       "    </tr>\n",
       "    <tr>\n",
       "      <th>744</th>\n",
       "      <td>Clairecvc Shop</td>\n",
       "      <td>Binondo,Metro Manila</td>\n",
       "    </tr>\n",
       "    <tr>\n",
       "      <th>745</th>\n",
       "      <td>angelcity.💋</td>\n",
       "      <td>Pasay City,Metro Manila</td>\n",
       "    </tr>\n",
       "  </tbody>\n",
       "</table>\n",
       "<p>746 rows × 2 columns</p>\n",
       "</div>"
      ],
      "text/plain": [
       "                     name               shop_location\n",
       "0            hello.may.ph                         NaN\n",
       "1         love.women.shop    San Nicolas,Metro Manila\n",
       "2           R&O RedOrange     Pasay City,Metro Manila\n",
       "3             patriciacai        Binondo,Metro Manila\n",
       "4    Little Market Manila  Caloocan City,Metro Manila\n",
       "..                    ...                         ...\n",
       "741     Yacent_thrift_Clo          Legazpi City,Albay\n",
       "742           Akistore.ph                         NaN\n",
       "743          Yzanice Shop                         NaN\n",
       "744        Clairecvc Shop        Binondo,Metro Manila\n",
       "745           angelcity.💋     Pasay City,Metro Manila\n",
       "\n",
       "[746 rows x 2 columns]"
      ]
     },
     "execution_count": 6,
     "metadata": {},
     "output_type": "execute_result"
    }
   ],
   "source": [
    "data.filter(['name','shop_location'])"
   ]
  },
  {
   "cell_type": "markdown",
   "id": "9d5fad63-7d90-47bd-afd3-6b273fd90ed9",
   "metadata": {},
   "source": [
    "**Ví dụ 3: Lọc lấy cột từ 'name' tới 'shop_location'**  "
   ]
  },
  {
   "cell_type": "code",
   "execution_count": 7,
   "id": "af99a86f-ab9b-4c78-8432-05735f4169bb",
   "metadata": {
    "tags": []
   },
   "outputs": [
    {
     "data": {
      "text/html": [
       "<div>\n",
       "<style scoped>\n",
       "    .dataframe tbody tr th:only-of-type {\n",
       "        vertical-align: middle;\n",
       "    }\n",
       "\n",
       "    .dataframe tbody tr th {\n",
       "        vertical-align: top;\n",
       "    }\n",
       "\n",
       "    .dataframe thead th {\n",
       "        text-align: right;\n",
       "    }\n",
       "</style>\n",
       "<table border=\"1\" class=\"dataframe\">\n",
       "  <thead>\n",
       "    <tr style=\"text-align: right;\">\n",
       "      <th></th>\n",
       "      <th>name</th>\n",
       "      <th>join_month</th>\n",
       "      <th>join_day</th>\n",
       "      <th>join_year</th>\n",
       "      <th>item_count</th>\n",
       "      <th>follower_count</th>\n",
       "      <th>response_time</th>\n",
       "      <th>response_rate</th>\n",
       "      <th>shop_location</th>\n",
       "    </tr>\n",
       "  </thead>\n",
       "  <tbody>\n",
       "    <tr>\n",
       "      <th>0</th>\n",
       "      <td>hello.may.ph</td>\n",
       "      <td>April</td>\n",
       "      <td>27</td>\n",
       "      <td>2020</td>\n",
       "      <td>446</td>\n",
       "      <td>17487</td>\n",
       "      <td>10:13:55</td>\n",
       "      <td>96</td>\n",
       "      <td>NaN</td>\n",
       "    </tr>\n",
       "    <tr>\n",
       "      <th>1</th>\n",
       "      <td>love.women.shop</td>\n",
       "      <td>September</td>\n",
       "      <td>25</td>\n",
       "      <td>2020</td>\n",
       "      <td>263</td>\n",
       "      <td>8574</td>\n",
       "      <td>10:43:05</td>\n",
       "      <td>73</td>\n",
       "      <td>San Nicolas,Metro Manila</td>\n",
       "    </tr>\n",
       "    <tr>\n",
       "      <th>2</th>\n",
       "      <td>R&amp;O RedOrange</td>\n",
       "      <td>September</td>\n",
       "      <td>27</td>\n",
       "      <td>2016</td>\n",
       "      <td>209</td>\n",
       "      <td>660417</td>\n",
       "      <td>08:32:07</td>\n",
       "      <td>90</td>\n",
       "      <td>Pasay City,Metro Manila</td>\n",
       "    </tr>\n",
       "    <tr>\n",
       "      <th>3</th>\n",
       "      <td>patriciacai</td>\n",
       "      <td>April</td>\n",
       "      <td>30</td>\n",
       "      <td>2017</td>\n",
       "      <td>165</td>\n",
       "      <td>18787</td>\n",
       "      <td>09:10:38</td>\n",
       "      <td>94</td>\n",
       "      <td>Binondo,Metro Manila</td>\n",
       "    </tr>\n",
       "    <tr>\n",
       "      <th>4</th>\n",
       "      <td>Little Market Manila</td>\n",
       "      <td>October</td>\n",
       "      <td>18</td>\n",
       "      <td>2016</td>\n",
       "      <td>467</td>\n",
       "      <td>67371</td>\n",
       "      <td>11:40:59</td>\n",
       "      <td>89</td>\n",
       "      <td>Caloocan City,Metro Manila</td>\n",
       "    </tr>\n",
       "    <tr>\n",
       "      <th>...</th>\n",
       "      <td>...</td>\n",
       "      <td>...</td>\n",
       "      <td>...</td>\n",
       "      <td>...</td>\n",
       "      <td>...</td>\n",
       "      <td>...</td>\n",
       "      <td>...</td>\n",
       "      <td>...</td>\n",
       "      <td>...</td>\n",
       "    </tr>\n",
       "    <tr>\n",
       "      <th>741</th>\n",
       "      <td>Yacent_thrift_Clo</td>\n",
       "      <td>May</td>\n",
       "      <td>22</td>\n",
       "      <td>2021</td>\n",
       "      <td>16</td>\n",
       "      <td>115</td>\n",
       "      <td>08:45:30</td>\n",
       "      <td>86</td>\n",
       "      <td>Legazpi City,Albay</td>\n",
       "    </tr>\n",
       "    <tr>\n",
       "      <th>742</th>\n",
       "      <td>Akistore.ph</td>\n",
       "      <td>March</td>\n",
       "      <td>3</td>\n",
       "      <td>2021</td>\n",
       "      <td>84</td>\n",
       "      <td>84</td>\n",
       "      <td>08:01:23</td>\n",
       "      <td>91</td>\n",
       "      <td>NaN</td>\n",
       "    </tr>\n",
       "    <tr>\n",
       "      <th>743</th>\n",
       "      <td>Yzanice Shop</td>\n",
       "      <td>December</td>\n",
       "      <td>20</td>\n",
       "      <td>2020</td>\n",
       "      <td>78</td>\n",
       "      <td>5982</td>\n",
       "      <td>08:46:30</td>\n",
       "      <td>96</td>\n",
       "      <td>NaN</td>\n",
       "    </tr>\n",
       "    <tr>\n",
       "      <th>744</th>\n",
       "      <td>Clairecvc Shop</td>\n",
       "      <td>August</td>\n",
       "      <td>2</td>\n",
       "      <td>2017</td>\n",
       "      <td>964</td>\n",
       "      <td>44029</td>\n",
       "      <td>12:19:44</td>\n",
       "      <td>73</td>\n",
       "      <td>Binondo,Metro Manila</td>\n",
       "    </tr>\n",
       "    <tr>\n",
       "      <th>745</th>\n",
       "      <td>angelcity.💋</td>\n",
       "      <td>June</td>\n",
       "      <td>17</td>\n",
       "      <td>2017</td>\n",
       "      <td>272</td>\n",
       "      <td>868370</td>\n",
       "      <td>10:02:42</td>\n",
       "      <td>36</td>\n",
       "      <td>Pasay City,Metro Manila</td>\n",
       "    </tr>\n",
       "  </tbody>\n",
       "</table>\n",
       "<p>746 rows × 9 columns</p>\n",
       "</div>"
      ],
      "text/plain": [
       "                     name join_month  join_day  join_year  item_count  \\\n",
       "0            hello.may.ph      April        27       2020         446   \n",
       "1         love.women.shop  September        25       2020         263   \n",
       "2           R&O RedOrange  September        27       2016         209   \n",
       "3             patriciacai      April        30       2017         165   \n",
       "4    Little Market Manila    October        18       2016         467   \n",
       "..                    ...        ...       ...        ...         ...   \n",
       "741     Yacent_thrift_Clo        May        22       2021          16   \n",
       "742           Akistore.ph      March         3       2021          84   \n",
       "743          Yzanice Shop   December        20       2020          78   \n",
       "744        Clairecvc Shop     August         2       2017         964   \n",
       "745           angelcity.💋       June        17       2017         272   \n",
       "\n",
       "     follower_count response_time  response_rate               shop_location  \n",
       "0             17487      10:13:55             96                         NaN  \n",
       "1              8574      10:43:05             73    San Nicolas,Metro Manila  \n",
       "2            660417      08:32:07             90     Pasay City,Metro Manila  \n",
       "3             18787      09:10:38             94        Binondo,Metro Manila  \n",
       "4             67371      11:40:59             89  Caloocan City,Metro Manila  \n",
       "..              ...           ...            ...                         ...  \n",
       "741             115      08:45:30             86          Legazpi City,Albay  \n",
       "742              84      08:01:23             91                         NaN  \n",
       "743            5982      08:46:30             96                         NaN  \n",
       "744           44029      12:19:44             73        Binondo,Metro Manila  \n",
       "745          868370      10:02:42             36     Pasay City,Metro Manila  \n",
       "\n",
       "[746 rows x 9 columns]"
      ]
     },
     "execution_count": 7,
     "metadata": {},
     "output_type": "execute_result"
    }
   ],
   "source": [
    "data.loc[:,'name':'shop_location'] "
   ]
  },
  {
   "cell_type": "code",
   "execution_count": 8,
   "id": "28c33c29-8e54-473c-99ba-89fea462b8c3",
   "metadata": {
    "tags": []
   },
   "outputs": [
    {
     "data": {
      "text/html": [
       "<div>\n",
       "<style scoped>\n",
       "    .dataframe tbody tr th:only-of-type {\n",
       "        vertical-align: middle;\n",
       "    }\n",
       "\n",
       "    .dataframe tbody tr th {\n",
       "        vertical-align: top;\n",
       "    }\n",
       "\n",
       "    .dataframe thead th {\n",
       "        text-align: right;\n",
       "    }\n",
       "</style>\n",
       "<table border=\"1\" class=\"dataframe\">\n",
       "  <thead>\n",
       "    <tr style=\"text-align: right;\">\n",
       "      <th></th>\n",
       "      <th>name</th>\n",
       "      <th>join_month</th>\n",
       "      <th>join_day</th>\n",
       "      <th>join_year</th>\n",
       "      <th>item_count</th>\n",
       "      <th>follower_count</th>\n",
       "      <th>response_time</th>\n",
       "      <th>response_rate</th>\n",
       "      <th>shop_location</th>\n",
       "      <th>shop_location</th>\n",
       "    </tr>\n",
       "  </thead>\n",
       "  <tbody>\n",
       "    <tr>\n",
       "      <th>0</th>\n",
       "      <td>hello.may.ph</td>\n",
       "      <td>April</td>\n",
       "      <td>27</td>\n",
       "      <td>2020</td>\n",
       "      <td>446</td>\n",
       "      <td>17487</td>\n",
       "      <td>10:13:55</td>\n",
       "      <td>96</td>\n",
       "      <td>NaN</td>\n",
       "      <td>NaN</td>\n",
       "    </tr>\n",
       "    <tr>\n",
       "      <th>1</th>\n",
       "      <td>love.women.shop</td>\n",
       "      <td>September</td>\n",
       "      <td>25</td>\n",
       "      <td>2020</td>\n",
       "      <td>263</td>\n",
       "      <td>8574</td>\n",
       "      <td>10:43:05</td>\n",
       "      <td>73</td>\n",
       "      <td>San Nicolas,Metro Manila</td>\n",
       "      <td>San Nicolas,Metro Manila</td>\n",
       "    </tr>\n",
       "    <tr>\n",
       "      <th>2</th>\n",
       "      <td>R&amp;O RedOrange</td>\n",
       "      <td>September</td>\n",
       "      <td>27</td>\n",
       "      <td>2016</td>\n",
       "      <td>209</td>\n",
       "      <td>660417</td>\n",
       "      <td>08:32:07</td>\n",
       "      <td>90</td>\n",
       "      <td>Pasay City,Metro Manila</td>\n",
       "      <td>Pasay City,Metro Manila</td>\n",
       "    </tr>\n",
       "    <tr>\n",
       "      <th>3</th>\n",
       "      <td>patriciacai</td>\n",
       "      <td>April</td>\n",
       "      <td>30</td>\n",
       "      <td>2017</td>\n",
       "      <td>165</td>\n",
       "      <td>18787</td>\n",
       "      <td>09:10:38</td>\n",
       "      <td>94</td>\n",
       "      <td>Binondo,Metro Manila</td>\n",
       "      <td>Binondo,Metro Manila</td>\n",
       "    </tr>\n",
       "    <tr>\n",
       "      <th>4</th>\n",
       "      <td>Little Market Manila</td>\n",
       "      <td>October</td>\n",
       "      <td>18</td>\n",
       "      <td>2016</td>\n",
       "      <td>467</td>\n",
       "      <td>67371</td>\n",
       "      <td>11:40:59</td>\n",
       "      <td>89</td>\n",
       "      <td>Caloocan City,Metro Manila</td>\n",
       "      <td>Caloocan City,Metro Manila</td>\n",
       "    </tr>\n",
       "    <tr>\n",
       "      <th>...</th>\n",
       "      <td>...</td>\n",
       "      <td>...</td>\n",
       "      <td>...</td>\n",
       "      <td>...</td>\n",
       "      <td>...</td>\n",
       "      <td>...</td>\n",
       "      <td>...</td>\n",
       "      <td>...</td>\n",
       "      <td>...</td>\n",
       "      <td>...</td>\n",
       "    </tr>\n",
       "    <tr>\n",
       "      <th>741</th>\n",
       "      <td>Yacent_thrift_Clo</td>\n",
       "      <td>May</td>\n",
       "      <td>22</td>\n",
       "      <td>2021</td>\n",
       "      <td>16</td>\n",
       "      <td>115</td>\n",
       "      <td>08:45:30</td>\n",
       "      <td>86</td>\n",
       "      <td>Legazpi City,Albay</td>\n",
       "      <td>Legazpi City,Albay</td>\n",
       "    </tr>\n",
       "    <tr>\n",
       "      <th>742</th>\n",
       "      <td>Akistore.ph</td>\n",
       "      <td>March</td>\n",
       "      <td>3</td>\n",
       "      <td>2021</td>\n",
       "      <td>84</td>\n",
       "      <td>84</td>\n",
       "      <td>08:01:23</td>\n",
       "      <td>91</td>\n",
       "      <td>NaN</td>\n",
       "      <td>NaN</td>\n",
       "    </tr>\n",
       "    <tr>\n",
       "      <th>743</th>\n",
       "      <td>Yzanice Shop</td>\n",
       "      <td>December</td>\n",
       "      <td>20</td>\n",
       "      <td>2020</td>\n",
       "      <td>78</td>\n",
       "      <td>5982</td>\n",
       "      <td>08:46:30</td>\n",
       "      <td>96</td>\n",
       "      <td>NaN</td>\n",
       "      <td>NaN</td>\n",
       "    </tr>\n",
       "    <tr>\n",
       "      <th>744</th>\n",
       "      <td>Clairecvc Shop</td>\n",
       "      <td>August</td>\n",
       "      <td>2</td>\n",
       "      <td>2017</td>\n",
       "      <td>964</td>\n",
       "      <td>44029</td>\n",
       "      <td>12:19:44</td>\n",
       "      <td>73</td>\n",
       "      <td>Binondo,Metro Manila</td>\n",
       "      <td>Binondo,Metro Manila</td>\n",
       "    </tr>\n",
       "    <tr>\n",
       "      <th>745</th>\n",
       "      <td>angelcity.💋</td>\n",
       "      <td>June</td>\n",
       "      <td>17</td>\n",
       "      <td>2017</td>\n",
       "      <td>272</td>\n",
       "      <td>868370</td>\n",
       "      <td>10:02:42</td>\n",
       "      <td>36</td>\n",
       "      <td>Pasay City,Metro Manila</td>\n",
       "      <td>Pasay City,Metro Manila</td>\n",
       "    </tr>\n",
       "  </tbody>\n",
       "</table>\n",
       "<p>746 rows × 10 columns</p>\n",
       "</div>"
      ],
      "text/plain": [
       "                     name join_month  join_day  join_year  item_count  \\\n",
       "0            hello.may.ph      April        27       2020         446   \n",
       "1         love.women.shop  September        25       2020         263   \n",
       "2           R&O RedOrange  September        27       2016         209   \n",
       "3             patriciacai      April        30       2017         165   \n",
       "4    Little Market Manila    October        18       2016         467   \n",
       "..                    ...        ...       ...        ...         ...   \n",
       "741     Yacent_thrift_Clo        May        22       2021          16   \n",
       "742           Akistore.ph      March         3       2021          84   \n",
       "743          Yzanice Shop   December        20       2020          78   \n",
       "744        Clairecvc Shop     August         2       2017         964   \n",
       "745           angelcity.💋       June        17       2017         272   \n",
       "\n",
       "     follower_count response_time  response_rate               shop_location  \\\n",
       "0             17487      10:13:55             96                         NaN   \n",
       "1              8574      10:43:05             73    San Nicolas,Metro Manila   \n",
       "2            660417      08:32:07             90     Pasay City,Metro Manila   \n",
       "3             18787      09:10:38             94        Binondo,Metro Manila   \n",
       "4             67371      11:40:59             89  Caloocan City,Metro Manila   \n",
       "..              ...           ...            ...                         ...   \n",
       "741             115      08:45:30             86          Legazpi City,Albay   \n",
       "742              84      08:01:23             91                         NaN   \n",
       "743            5982      08:46:30             96                         NaN   \n",
       "744           44029      12:19:44             73        Binondo,Metro Manila   \n",
       "745          868370      10:02:42             36     Pasay City,Metro Manila   \n",
       "\n",
       "                  shop_location  \n",
       "0                           NaN  \n",
       "1      San Nicolas,Metro Manila  \n",
       "2       Pasay City,Metro Manila  \n",
       "3          Binondo,Metro Manila  \n",
       "4    Caloocan City,Metro Manila  \n",
       "..                          ...  \n",
       "741          Legazpi City,Albay  \n",
       "742                         NaN  \n",
       "743                         NaN  \n",
       "744        Binondo,Metro Manila  \n",
       "745     Pasay City,Metro Manila  \n",
       "\n",
       "[746 rows x 10 columns]"
      ]
     },
     "execution_count": 8,
     "metadata": {},
     "output_type": "execute_result"
    }
   ],
   "source": [
    "# data.filter(['name':'shop_location']) # Filter() không dùng được slice xx:yy\n",
    "# gõ danh sách các tên thủ công\n",
    "data.filter(['name', 'join_month', 'join_day', 'join_year',\n",
    "             'item_count', 'follower_count', 'response_time',\n",
    "             'response_rate', 'shop_location', 'shop_location'])"
   ]
  },
  {
   "cell_type": "markdown",
   "id": "fbb30668-29e1-45bb-bb25-9fbe4c4ebf2e",
   "metadata": {},
   "source": [
    "**Ví dụ 4: Lọc lấy hàng có index = 222**  "
   ]
  },
  {
   "cell_type": "code",
   "execution_count": 9,
   "id": "6201b9ae-1703-44a1-a811-ecce8a0c32c9",
   "metadata": {
    "jupyter": {
     "outputs_hidden": true
    },
    "tags": []
   },
   "outputs": [
    {
     "data": {
      "text/plain": [
       "pk_shop               20210621417317962\n",
       "date_collected               2021-06-21\n",
       "shopid                        417317962\n",
       "name                         MEIMEITALL\n",
       "join_month                        April\n",
       "join_day                              5\n",
       "join_year                          2021\n",
       "item_count                          477\n",
       "follower_count                     1430\n",
       "response_time                  09:20:04\n",
       "response_rate                        96\n",
       "shop_location                       NaN\n",
       "rating_bad                            7\n",
       "rating_good                         471\n",
       "rating_normal                        19\n",
       "rating_star                        4.82\n",
       "is_shopee_verified                    1\n",
       "is_official_shop                      0\n",
       "Name: 222, dtype: object"
      ]
     },
     "execution_count": 9,
     "metadata": {},
     "output_type": "execute_result"
    }
   ],
   "source": [
    "data.loc[222,:] "
   ]
  },
  {
   "cell_type": "code",
   "execution_count": 10,
   "id": "ef95ba98-4a6d-47a8-97f1-38d099e823cb",
   "metadata": {},
   "outputs": [
    {
     "data": {
      "text/html": [
       "<div>\n",
       "<style scoped>\n",
       "    .dataframe tbody tr th:only-of-type {\n",
       "        vertical-align: middle;\n",
       "    }\n",
       "\n",
       "    .dataframe tbody tr th {\n",
       "        vertical-align: top;\n",
       "    }\n",
       "\n",
       "    .dataframe thead th {\n",
       "        text-align: right;\n",
       "    }\n",
       "</style>\n",
       "<table border=\"1\" class=\"dataframe\">\n",
       "  <thead>\n",
       "    <tr style=\"text-align: right;\">\n",
       "      <th></th>\n",
       "      <th>pk_shop</th>\n",
       "      <th>date_collected</th>\n",
       "      <th>shopid</th>\n",
       "      <th>name</th>\n",
       "      <th>join_month</th>\n",
       "      <th>join_day</th>\n",
       "      <th>join_year</th>\n",
       "      <th>item_count</th>\n",
       "      <th>follower_count</th>\n",
       "      <th>response_time</th>\n",
       "      <th>response_rate</th>\n",
       "      <th>shop_location</th>\n",
       "      <th>rating_bad</th>\n",
       "      <th>rating_good</th>\n",
       "      <th>rating_normal</th>\n",
       "      <th>rating_star</th>\n",
       "      <th>is_shopee_verified</th>\n",
       "      <th>is_official_shop</th>\n",
       "    </tr>\n",
       "  </thead>\n",
       "  <tbody>\n",
       "    <tr>\n",
       "      <th>222</th>\n",
       "      <td>20210621417317962</td>\n",
       "      <td>2021-06-21</td>\n",
       "      <td>417317962</td>\n",
       "      <td>MEIMEITALL</td>\n",
       "      <td>April</td>\n",
       "      <td>5</td>\n",
       "      <td>2021</td>\n",
       "      <td>477</td>\n",
       "      <td>1430</td>\n",
       "      <td>09:20:04</td>\n",
       "      <td>96</td>\n",
       "      <td>NaN</td>\n",
       "      <td>7</td>\n",
       "      <td>471</td>\n",
       "      <td>19</td>\n",
       "      <td>4.82</td>\n",
       "      <td>1</td>\n",
       "      <td>0</td>\n",
       "    </tr>\n",
       "  </tbody>\n",
       "</table>\n",
       "</div>"
      ],
      "text/plain": [
       "               pk_shop date_collected     shopid        name join_month  \\\n",
       "222  20210621417317962     2021-06-21  417317962  MEIMEITALL      April   \n",
       "\n",
       "     join_day  join_year  item_count  follower_count response_time  \\\n",
       "222         5       2021         477            1430      09:20:04   \n",
       "\n",
       "     response_rate shop_location  rating_bad  rating_good  rating_normal  \\\n",
       "222             96           NaN           7          471             19   \n",
       "\n",
       "     rating_star  is_shopee_verified  is_official_shop  \n",
       "222         4.82                   1                 0  "
      ]
     },
     "execution_count": 10,
     "metadata": {},
     "output_type": "execute_result"
    }
   ],
   "source": [
    "data.filter([222], axis = 0) #Ví dụ đúng"
   ]
  },
  {
   "cell_type": "code",
   "execution_count": 11,
   "id": "ebfd6df5-c41c-424f-8438-8ba45432b834",
   "metadata": {
    "jupyter": {
     "outputs_hidden": true
    },
    "tags": []
   },
   "outputs": [
    {
     "ename": "SyntaxError",
     "evalue": "invalid syntax (4257133879.py, line 1)",
     "output_type": "error",
     "traceback": [
      "\u001b[1;36m  Input \u001b[1;32mIn [11]\u001b[1;36m\u001b[0m\n\u001b[1;33m    data.filter([:])[222] #Không được (ví dụ sai)\u001b[0m\n\u001b[1;37m                 ^\u001b[0m\n\u001b[1;31mSyntaxError\u001b[0m\u001b[1;31m:\u001b[0m invalid syntax\n"
     ]
    }
   ],
   "source": [
    "data.filter([:])[222] #Không được (ví dụ sai)"
   ]
  },
  {
   "cell_type": "markdown",
   "id": "c4d57630-a46f-42df-ad91-0a526a040aca",
   "metadata": {},
   "source": [
    "**Ví dụ 5: Lọc lấy hàng có index = 222, 444 và 666**  "
   ]
  },
  {
   "cell_type": "code",
   "execution_count": null,
   "id": "c680016c-4c84-4f27-9f3e-2e18c3d3c7ec",
   "metadata": {
    "tags": []
   },
   "outputs": [],
   "source": [
    "data.loc[[222, 444, 666],:] #Danh sách các hàng đơn lẻ thì phải để trong [...]"
   ]
  },
  {
   "cell_type": "code",
   "execution_count": null,
   "id": "a04ce2e3-e63f-46e0-8ec7-e5b815ebf3d9",
   "metadata": {},
   "outputs": [],
   "source": [
    "data.filter([222, 444, 666], axis = 0)"
   ]
  },
  {
   "cell_type": "markdown",
   "id": "3b7b8a8c-1c7c-419d-ae82-ba15231927e8",
   "metadata": {},
   "source": [
    "**Ví dụ 6: Lọc lấy hàng có index từ 100 tới 200**  "
   ]
  },
  {
   "cell_type": "code",
   "execution_count": null,
   "id": "944a76bf-ede0-45bf-bd14-60d238a704c1",
   "metadata": {
    "jupyter": {
     "outputs_hidden": true
    },
    "tags": []
   },
   "outputs": [],
   "source": [
    "data.loc[100:200,:] "
   ]
  },
  {
   "cell_type": "code",
   "execution_count": null,
   "id": "9145779c-cc3a-4e6a-aedd-fa2f0a93c780",
   "metadata": {},
   "outputs": [],
   "source": [
    "data.filter(['name', 'join_month', 'join_day', 'join_year',\n",
    "             'item_count', 'follower_count', 'response_time',\n",
    "             'response_rate', 'shop_location', 'shop_location'])[100:201]"
   ]
  },
  {
   "cell_type": "markdown",
   "id": "7b01ab82-3df9-486a-9544-8026d2b83347",
   "metadata": {},
   "source": [
    "**Ví dụ 7: Lọc lấy bảng có index từ 300 tới 400 chỉ chứa cột từ 'rating_bad' tới 'rating_star'**  "
   ]
  },
  {
   "cell_type": "code",
   "execution_count": null,
   "id": "a47b64f1-84ad-4f26-aaee-48de5cae53cd",
   "metadata": {
    "jupyter": {
     "outputs_hidden": true
    },
    "tags": []
   },
   "outputs": [],
   "source": [
    "data.loc[300:400,'rating_bad':'rating_star']"
   ]
  },
  {
   "cell_type": "code",
   "execution_count": null,
   "id": "a3b85828-8ef8-4183-95d2-14e193b44b37",
   "metadata": {
    "jupyter": {
     "outputs_hidden": true
    },
    "tags": []
   },
   "outputs": [],
   "source": [
    "data.iloc[300:401,12:16]"
   ]
  },
  {
   "cell_type": "code",
   "execution_count": null,
   "id": "56197805-a11c-48af-acf2-b54e2b5a848d",
   "metadata": {},
   "outputs": [],
   "source": [
    "data.filter(['rating_bad', 'rating_good', 'rating_normal', 'rating_star'])[300:401]"
   ]
  },
  {
   "cell_type": "markdown",
   "id": "9da617f7-d383-4f92-a97c-7474923cf6d2",
   "metadata": {
    "jp-MarkdownHeadingCollapsed": true,
    "tags": []
   },
   "source": [
    "### 1.2 Lọc bằng hàm filter()"
   ]
  },
  {
   "cell_type": "markdown",
   "id": "b810c99e-a54d-492f-aac9-da56eb2619e0",
   "metadata": {},
   "source": [
    "<font color='red' size=\"5\" >**df.filter([‘Tên_cột_1', …,‘Tên_cột_n']) [chỉ_số_dòng_đầu : chỉ_số_dòng_cuối+1]**</font>  \n",
    "**Chủ yếu là để lọc lấy cột**  "
   ]
  },
  {
   "cell_type": "markdown",
   "id": "faa0e0a3-f1e5-4c75-85d4-76fe58425047",
   "metadata": {},
   "source": [
    "**Ví dụ 1: Lọc lấy cột 'name'**  "
   ]
  },
  {
   "cell_type": "code",
   "execution_count": null,
   "id": "ff0effff-5f83-4505-ab9a-7a02f1a8e0a8",
   "metadata": {
    "tags": []
   },
   "outputs": [],
   "source": [
    "data.filter(['name'])"
   ]
  },
  {
   "cell_type": "markdown",
   "id": "183a308f-3ae9-4778-a54e-39555b8c0c53",
   "metadata": {
    "tags": []
   },
   "source": [
    "### 1.3 Lọc sử dụng điều kiện"
   ]
  },
  {
   "cell_type": "markdown",
   "id": "56f71bcd-8b49-42e0-a311-7570558242dc",
   "metadata": {},
   "source": [
    "#### **1.3.1 Lọc theo điều kiện đơn**  \n",
    "<font color='red' size=\"5\" >**df[df[‘Tên_cột’] PTSS giá_trị]**</font>  \n",
    "**Trong đó phép toán so sánh PTSS sử dụng các phép toán so sánh gồm: ==, <, <=, >, >=, !=**  \n",
    "**(giá_trị cần so sánh được để trong cặp dấu nháy đơn nếu có kiểu chuỗi ký tự)**  "
   ]
  },
  {
   "cell_type": "code",
   "execution_count": null,
   "id": "9b811349-2a8d-4a13-b116-3d19567e7b34",
   "metadata": {},
   "outputs": [],
   "source": [
    "data.head(8)"
   ]
  },
  {
   "cell_type": "markdown",
   "id": "b0be5d42-cf84-4910-9452-f22f138821dc",
   "metadata": {
    "tags": []
   },
   "source": [
    "**Ví dụ 1: Lọc lấy dữ liệu có tháng tham gia là tháng 6**  "
   ]
  },
  {
   "cell_type": "code",
   "execution_count": null,
   "id": "6fe1cff2-ff72-4eca-aa04-84e567a61704",
   "metadata": {
    "jupyter": {
     "outputs_hidden": true
    },
    "tags": []
   },
   "outputs": [],
   "source": [
    "data[data['join_month']=='June']\n",
    "# data[data.loc[:,'join_month']=='June'] #Hơi dài"
   ]
  },
  {
   "cell_type": "markdown",
   "id": "952cae22-ca2f-44f3-ab6d-d2e8d5f7263e",
   "metadata": {},
   "source": [
    "**Ví dụ 2: Lọc lấy dữ liệu có trên 500 đánh giá tốt**  "
   ]
  },
  {
   "cell_type": "code",
   "execution_count": null,
   "id": "1cf5e405-b2a9-49d2-966b-74395ccb5053",
   "metadata": {
    "tags": []
   },
   "outputs": [],
   "source": [
    "data[data['rating_good']>=500]"
   ]
  },
  {
   "cell_type": "markdown",
   "id": "360df51b-d316-44ae-8075-c44cc2279df2",
   "metadata": {},
   "source": [
    "**Ví dụ 3: Lọc lấy tên các shop và địa chỉ có trên 1000 đánh giá tốt**  "
   ]
  },
  {
   "cell_type": "code",
   "execution_count": null,
   "id": "0a00fb8e-ccc3-488e-bbca-52804c82bcec",
   "metadata": {
    "jupyter": {
     "outputs_hidden": true
    },
    "tags": []
   },
   "outputs": [],
   "source": [
    "data[['name','shop_location']][data['rating_good']>1000] #Chained index"
   ]
  },
  {
   "cell_type": "code",
   "execution_count": null,
   "id": "7877506a-731e-4072-a51e-15b13e1bbdb8",
   "metadata": {
    "jupyter": {
     "outputs_hidden": true
    },
    "tags": []
   },
   "outputs": [],
   "source": [
    "data.loc[:,['name','shop_location']][data['rating_good']>1000] #Dùng loc, chọn trước, điều kiện sau"
   ]
  },
  {
   "cell_type": "code",
   "execution_count": null,
   "id": "ef07f183-6866-475e-9e32-75e3cb1b6c3f",
   "metadata": {
    "jupyter": {
     "outputs_hidden": true
    },
    "tags": []
   },
   "outputs": [],
   "source": [
    "data[data['rating_good'] > 1000].loc[:,['name','shop_location']] #Điều kiện trước, chọn cột sau"
   ]
  },
  {
   "cell_type": "code",
   "execution_count": null,
   "id": "00d89d3c-8735-4c7f-9eb8-3d98b5d7c7cf",
   "metadata": {
    "jupyter": {
     "outputs_hidden": true
    },
    "tags": []
   },
   "outputs": [],
   "source": [
    "data[data['rating_good'] > 1000].filter(['name','shop_location']) #Dùng filter()"
   ]
  },
  {
   "cell_type": "markdown",
   "id": "4ad53d53-500b-42e5-a901-461d27d9b084",
   "metadata": {},
   "source": [
    "**Lọc theo điều kiện phức**  \n",
    "<font color='red' size=\"5\" >**df[(df[‘Tên_cột_1’] PTSS giá_trị) PTLG (df[‘Tên_cột_n’] PTSS giá_trị_n)]**</font>  \n",
    "<font color='red' size=\"5\" >**df[(so sánh 1) PTLG (so sanh 2)]**</font>\n",
    "**Các điều kiện được nối với nhau bởi phép toán logic PTLG gồm: & (và), | (hoặc), ~ (phủ định)**  "
   ]
  },
  {
   "cell_type": "markdown",
   "id": "bd372f01-262b-49d1-98b3-02e6d9ca700e",
   "metadata": {},
   "source": [
    "**Ví dụ 4: Lọc lấy tên các shop và địa chỉ có trên 1000 đánh giá tốt và trung bình đánh giá trên 4.8 sao**  "
   ]
  },
  {
   "cell_type": "code",
   "execution_count": null,
   "id": "972d0be3-d3da-45f3-9ace-452eea0e498e",
   "metadata": {},
   "outputs": [],
   "source": [
    "data[['name','shop_location']][(data['rating_good'] > 1000) & (data['rating_star']>4.8)]"
   ]
  },
  {
   "cell_type": "code",
   "execution_count": null,
   "id": "8b0df2b5-94bc-4097-a004-8160521cb4a7",
   "metadata": {
    "tags": []
   },
   "outputs": [],
   "source": [
    "data[(data['rating_good'] > 1000) & (data['rating_star'] > 4.8)]\\\n",
    ".filter(['name','shop_location'])"
   ]
  },
  {
   "cell_type": "code",
   "execution_count": null,
   "id": "f7b5ceb6-1e6c-4c4e-b13a-a7b24e68ae50",
   "metadata": {},
   "outputs": [],
   "source": [
    "data.loc[:, ['name', 'shop_location']]\\\n",
    "[(data['rating_good']>1000) & (data['rating_star']>4.8)]"
   ]
  },
  {
   "cell_type": "markdown",
   "id": "c291f16d-b5df-4ccf-8065-d290c7cebc25",
   "metadata": {},
   "source": [
    "**Ví dụ 5: Lọc lấy các dữ liệu của các shop có trên 4 năm tồn tại, được shoppe verify, và không có quá 200 đánh giá xấu**  "
   ]
  },
  {
   "cell_type": "code",
   "execution_count": null,
   "id": "8521e580-307b-44f1-bf95-fe1f87bbc075",
   "metadata": {},
   "outputs": [],
   "source": [
    "data[(data['join_year']<=2017) \n",
    "     & (data['is_shopee_verified']==1) \n",
    "     & (data['rating_bad'] < 200)]"
   ]
  },
  {
   "cell_type": "markdown",
   "id": "eea7175f-5de8-415e-a340-82f57824f402",
   "metadata": {},
   "source": [
    "**Ví dụ 6: Lọc lấy các dữ liệu của các shop có địa chỉ ở Manila**  \n",
    "xxx.str.contains('string')==True"
   ]
  },
  {
   "cell_type": "code",
   "execution_count": null,
   "id": "fe7c2ca7-a453-4d04-b02c-ffb3a2d34539",
   "metadata": {
    "tags": []
   },
   "outputs": [],
   "source": [
    "data[data['shop_location'].str.contains('Manila')==True]"
   ]
  },
  {
   "cell_type": "markdown",
   "id": "8e48b300-83d3-4ed4-b46e-273dd23884ff",
   "metadata": {},
   "source": [
    "**Ví dụ 7: Tên cột có chứa dấu cách.**  \n",
    "**shop_location -> shop location**  "
   ]
  },
  {
   "cell_type": "markdown",
   "id": "c67ebcba-7359-4f42-ab0b-4d3dc43cb3ba",
   "metadata": {
    "jp-MarkdownHeadingCollapsed": true,
    "tags": []
   },
   "source": [
    "### 1.4 Lọc bằng hàm query()"
   ]
  },
  {
   "cell_type": "markdown",
   "id": "b8b3fb5b-d868-40cc-ba47-5ba89d7248cd",
   "metadata": {},
   "source": [
    "**Phương thức truy vấn query giúp câu lệnh truy vấn chạy nhanh hơn**  \n",
    "**Các điều kiện được nối với nhau bởi các phép toán logic như: and (và), or (hoặc), not (phủ định) và được để trong một cặp dấu nháy kép.**  \n",
    "<font color='red' size=\"5\" >**df.query(\"(Tên_cột_1 PTSS giá_trị_1) PTLG (Tên_cột_n PTSS giá_trị_n)\")**</font>  \n",
    "<font color='red' size=\"5\" >**df.query(\"(so sanh 1) PTLG (so sanh 2)\")**</font>  "
   ]
  },
  {
   "cell_type": "markdown",
   "id": "9f579b38-0166-4c37-adf0-25a37b489cff",
   "metadata": {},
   "source": [
    "**Ví dụ 1: Lọc lấy tên các shop và địa chỉ có trên 1000 đánh giá tốt và trung bình đánh giá trên 4.8 sao**  "
   ]
  },
  {
   "cell_type": "code",
   "execution_count": null,
   "id": "38438171-24f6-49ae-92c0-371651044942",
   "metadata": {
    "tags": []
   },
   "outputs": [],
   "source": [
    "data[(data['rating_good'] > 1000) & (data['rating_star'] > 4.8)]\\\n",
    ".filter(['name','shop_location','rating_good','rating_star'])"
   ]
  },
  {
   "cell_type": "code",
   "execution_count": null,
   "id": "ea4197de-f751-4729-9df4-804445cdc227",
   "metadata": {
    "tags": []
   },
   "outputs": [],
   "source": [
    "data.query(\"(rating_good > 1000) and (rating_star > 4.8)\")\\\n",
    ".filter(['name','shop_location', 'rating_good','rating_star'])"
   ]
  },
  {
   "cell_type": "markdown",
   "id": "f273c0ad-156b-40e2-bcdb-aa98d1117f75",
   "metadata": {},
   "source": [
    "**Ví dụ 2: Lọc lấy các dữ liệu của các shop có từ 5 năm tồn tại, được shoppe verify, và không có quá 200 đánh giá xấu**  "
   ]
  },
  {
   "cell_type": "code",
   "execution_count": null,
   "id": "51efba3d-e6ea-4cd3-a6cf-942e677af6b0",
   "metadata": {
    "tags": []
   },
   "outputs": [],
   "source": [
    "data.query(\"join_year <= 2017 and is_shopee_verified == 1 and rating_bad <200\")\\\n",
    ".filter(['name','shop_location'])"
   ]
  },
  {
   "cell_type": "code",
   "execution_count": null,
   "id": "52e218e8-3f1e-44e2-81ab-ae4f01e307ea",
   "metadata": {},
   "outputs": [],
   "source": [
    "data.query(\"() and () and ()\")"
   ]
  },
  {
   "cell_type": "markdown",
   "id": "7d9adb9f-d9a2-4842-95d9-0b31608d7e48",
   "metadata": {},
   "source": [
    "**Ví dụ 3: Lọc lấy các dữ liệu của các shop có địa chỉ ở Manila**  \n",
    "xxx.str.contains('string')==True"
   ]
  },
  {
   "cell_type": "code",
   "execution_count": null,
   "id": "640734a7-8d9f-44b8-86f5-20febe9ad475",
   "metadata": {
    "jupyter": {
     "outputs_hidden": true
    },
    "tags": []
   },
   "outputs": [],
   "source": [
    "data.query(\"shop_location.str.contains('Manila')==True\")"
   ]
  },
  {
   "cell_type": "markdown",
   "id": "e9bdb634-bb26-48fb-b139-a352877b28ec",
   "metadata": {},
   "source": [
    "**Chú ý: Các trường hợp trong tên cột có ký tự đặc biệt, ví dụ dấu cách**  \n",
    "**Sử dụng dấu 'huyền' để ghi tên cột**"
   ]
  },
  {
   "cell_type": "code",
   "execution_count": null,
   "id": "d461075b-f0b9-41d3-9739-13e747427629",
   "metadata": {
    "jupyter": {
     "outputs_hidden": true
    },
    "tags": []
   },
   "outputs": [],
   "source": [
    "data.rename(columns= {'shop_location':'shop location'}, inplace=True)\n",
    "data"
   ]
  },
  {
   "cell_type": "code",
   "execution_count": null,
   "id": "10950d72-e45d-40dc-a3f0-6ca1f6a7d46a",
   "metadata": {
    "jupyter": {
     "outputs_hidden": true
    },
    "tags": []
   },
   "outputs": [],
   "source": [
    "data.query(\"`shop location`.str.contains('Manila')==True\")"
   ]
  },
  {
   "cell_type": "markdown",
   "id": "53877179-34be-46b7-b6a7-d5c706433cd0",
   "metadata": {
    "tags": []
   },
   "source": [
    "## 2. Gom nhóm dữ liệu"
   ]
  },
  {
   "cell_type": "markdown",
   "id": "d31ab28b-1003-4345-aa99-5663ccdfca6d",
   "metadata": {},
   "source": [
    "**Nhóm – groupby là một hình thức tổng hợp dữ liệu theo chiến lược tách-áp dụng-kết hợp. Đầu tiên dữ liệu được chia thành các nhóm giống nhau rồi áp dụng các phép toán tổng hợp như mean, min, max, count, sum… trên mỗi nhóm và kết hợp các kết quả từ mỗi nhóm.**  \n",
    "<font color='red' size=\"5\" >**df.groupby(‘Thuộc tính cần phân nhóm’)[‘Thuộc tính cần tính giá trị’].phép toán()**</font>  "
   ]
  },
  {
   "cell_type": "code",
   "execution_count": null,
   "id": "bf7bd2a8-0b20-4082-bc79-e54533019cab",
   "metadata": {},
   "outputs": [],
   "source": [
    "data.head()"
   ]
  },
  {
   "cell_type": "markdown",
   "id": "bc05ca02-dc31-4635-bcd0-2f16e85cdcd9",
   "metadata": {},
   "source": [
    "**Ví dụ 1: Lập bảng số lượng sản phẩm theo tên của shop**  "
   ]
  },
  {
   "cell_type": "code",
   "execution_count": null,
   "id": "6b48d1a0-8592-423b-a4a6-9fdc54488582",
   "metadata": {
    "tags": []
   },
   "outputs": [],
   "source": [
    "aaa = data.groupby('name')['item_count'].sum() #.to_frame()\n",
    "aaa"
   ]
  },
  {
   "cell_type": "code",
   "execution_count": null,
   "id": "e61e1d36-bd12-4320-89b5-5314c02b843e",
   "metadata": {
    "tags": []
   },
   "outputs": [],
   "source": [
    "type(aaa)"
   ]
  },
  {
   "cell_type": "code",
   "execution_count": null,
   "id": "85728717-c6b4-4c27-8924-afa1eacea9df",
   "metadata": {
    "tags": []
   },
   "outputs": [],
   "source": [
    "bbb = data.pivot_table(values='item_count', index='name', aggfunc='sum')\n",
    "bbb"
   ]
  },
  {
   "cell_type": "code",
   "execution_count": null,
   "id": "8c3f87ec-475f-4064-87c4-febdfecfbaf7",
   "metadata": {
    "tags": []
   },
   "outputs": [],
   "source": [
    "type(bbb)"
   ]
  },
  {
   "cell_type": "markdown",
   "id": "e4d6e0e2-037b-4074-8809-03795bb07038",
   "metadata": {},
   "source": [
    "**Ví dụ 2: Lập bảng tính tổng số lượng đánh giá của shop**  \n",
    "<font color='red' size=\"5\" >**df.groupby(‘Thuộc tính cần phân nhóm’)[‘Thuộc tính cần tính giá trị’].phép toán()**</font> "
   ]
  },
  {
   "cell_type": "code",
   "execution_count": null,
   "id": "b51e642a-65f4-453d-9afe-e3ca79d717c3",
   "metadata": {
    "scrolled": true
   },
   "outputs": [],
   "source": [
    "data.head()"
   ]
  },
  {
   "cell_type": "code",
   "execution_count": null,
   "id": "e6cc3845-0334-4355-99db-b4f28d56c0f3",
   "metadata": {
    "tags": []
   },
   "outputs": [],
   "source": [
    "data.groupby('name')[['rating_bad','rating_good','rating_normal']].sum()"
   ]
  },
  {
   "cell_type": "code",
   "execution_count": null,
   "id": "4e846b77-eb5a-4627-84d9-a0b525fc7834",
   "metadata": {
    "tags": []
   },
   "outputs": [],
   "source": [
    "data.pivot_table(values=['rating_bad','rating_good','rating_normal'],\n",
    "                 index= 'name', \n",
    "                 aggfunc= 'sum')"
   ]
  },
  {
   "cell_type": "markdown",
   "id": "24a31298-9343-48fe-8b81-3f8e4f507ff6",
   "metadata": {},
   "source": [
    "**Ví dụ 3: Xuất ra số lượng các shop thành lập theo năm**  \n",
    "<font color='red' size=\"5\" >**df.groupby(‘Thuộc tính cần phân nhóm’)[‘Thuộc tính cần tính giá trị’].phép toán()**</font> "
   ]
  },
  {
   "cell_type": "code",
   "execution_count": null,
   "id": "b552cd20-07c5-412b-804c-9ddab45dded0",
   "metadata": {
    "tags": []
   },
   "outputs": [],
   "source": [
    "data.groupby('join_year')['shopid'].count()"
   ]
  },
  {
   "cell_type": "code",
   "execution_count": null,
   "id": "3a140038-05e1-4ef8-8f63-f5db39c6005d",
   "metadata": {
    "tags": []
   },
   "outputs": [],
   "source": [
    "data.pivot_table(values= 'shopid', index= 'join_year', aggfunc= 'count')"
   ]
  },
  {
   "cell_type": "markdown",
   "id": "ff808fc1-b154-4a9d-b26d-8768f886017a",
   "metadata": {},
   "source": [
    "**Có thể dùng hàm pivot_table() thay thế cho hàm groupby()**  \n",
    "**Trong đó values = thuộc tính cần tính giá trị, index = thuộc tính cần phân nhóm**  \n",
    "<font color='red' size=\"5\" >**df.pivot_table(values=’a’, index=’b’, columns=’c’, aggfunc=‘hàm’)**</font>"
   ]
  },
  {
   "cell_type": "markdown",
   "id": "4a92469d-005e-4dd3-8368-c0c192c330f1",
   "metadata": {
    "tags": []
   },
   "source": [
    "## 3. Sinh dữ liệu từ các cột đã có"
   ]
  },
  {
   "cell_type": "markdown",
   "id": "900d6f0d-9326-4658-8df8-d17710e964e8",
   "metadata": {
    "tags": []
   },
   "source": [
    "### 3.1 Sinh/sửa cột từ các phép toán số học"
   ]
  },
  {
   "cell_type": "markdown",
   "id": "be2ff379-bc07-407c-9373-2a55c11e7274",
   "metadata": {},
   "source": [
    "<font color='red' size=\"5\" >**df.loc[:,'cotmoi']=df.loc[:,'cot1'] phép-toán df.loc[:,'cot2']**</font>  \n",
    "**Trong đó phép-toán là +, -, `*`, /, %, etc**  "
   ]
  },
  {
   "cell_type": "markdown",
   "id": "a9dc85a6-09d2-4d80-b738-3bb09279c6f9",
   "metadata": {},
   "source": [
    "**Ví dụ 1: Thêm cột 'rating', công thức là rating = rating_good `*`2 + rating_normal - rating_bad`*`3**"
   ]
  },
  {
   "cell_type": "code",
   "execution_count": null,
   "id": "12478d6e-b710-4dd0-af87-54c0682db0a5",
   "metadata": {
    "tags": []
   },
   "outputs": [],
   "source": [
    "data.loc[:,['rating_good', 'rating_normal', 'rating_bad']]"
   ]
  },
  {
   "cell_type": "code",
   "execution_count": null,
   "id": "193ebe98-7847-4d6a-816a-984cc5c4cb5f",
   "metadata": {
    "tags": []
   },
   "outputs": [],
   "source": [
    "data.loc[:,'rating']= data.loc[:,'rating_good']*2 \\\n",
    "                        + data.loc[:,'rating_normal'] \\\n",
    "                        - data.loc[:,'rating_bad']*3\n",
    "data.loc[:,['rating_good', 'rating_normal', 'rating_bad','rating']]"
   ]
  },
  {
   "cell_type": "code",
   "execution_count": null,
   "id": "f2009e1b-20ed-452f-8076-c746009a9fcf",
   "metadata": {
    "tags": []
   },
   "outputs": [],
   "source": [
    "data['rating'] = data['rating_good']*2 + data['rating_normal'] - data['rating_bad']*3\n",
    "data.loc[:,['rating_good', 'rating_normal', 'rating_bad','rating']]"
   ]
  },
  {
   "cell_type": "markdown",
   "id": "1be76b8c-ef2a-4ea7-a868-309f26402c46",
   "metadata": {},
   "source": [
    "**Ví dụ 2: Thêm cột 'location' có cấu trúc như sau: 'shop_location, Philippine'** "
   ]
  },
  {
   "cell_type": "code",
   "execution_count": null,
   "id": "11c73e51-7c07-4994-ac02-9f55d380e112",
   "metadata": {
    "tags": []
   },
   "outputs": [],
   "source": [
    "a = 'Hanoi'\n",
    "b ='SaiGon'\n",
    "a + b"
   ]
  },
  {
   "cell_type": "code",
   "execution_count": null,
   "id": "570c00d2-b471-4412-8797-ad21624af3e3",
   "metadata": {
    "tags": []
   },
   "outputs": [],
   "source": [
    "data.loc[:,'location']= data.loc[:,'shop_location'] + ', Philippine'\n",
    "data.loc[:,['shop_location','location']]"
   ]
  },
  {
   "cell_type": "markdown",
   "id": "a3f36b59-28f5-4d48-ad44-121e8404941d",
   "metadata": {},
   "source": [
    "**Ví dụ 3: Thêm cột 'join' có cấu trúc: 'Month day, year' với dữ liệu từ 'join_month', 'join_day', 'join_year'**  \n",
    "**Gợi ý: dùng astype(str) để chuyển đổi số thành str**  "
   ]
  },
  {
   "cell_type": "code",
   "execution_count": null,
   "id": "be65c9da-9bad-485d-8911-9f4db9b6b79b",
   "metadata": {
    "tags": []
   },
   "outputs": [],
   "source": [
    "data.loc[:,'join_year'] #.astype(str)"
   ]
  },
  {
   "cell_type": "code",
   "execution_count": null,
   "id": "d67b225c-57f6-466c-b434-6fbb093f244d",
   "metadata": {
    "tags": []
   },
   "outputs": [],
   "source": [
    "data.loc[:, 'join']= data.loc[:,'join_month'] + ' ' + data.loc[:, 'join_day'].astype(str) + ', '+ data.loc[:, 'join_year'].astype(str)\n",
    "data.loc[:,['join_month','join_day','join_year','join']]"
   ]
  },
  {
   "cell_type": "markdown",
   "id": "be2a274d-ab1f-4c47-b6d1-17e614ae98fa",
   "metadata": {
    "tags": []
   },
   "source": [
    "### 3.2 Sinh/sửa cột từ các phép toán logic"
   ]
  },
  {
   "cell_type": "markdown",
   "id": "3008181f-5aba-4c58-8d74-b32372f0590e",
   "metadata": {},
   "source": [
    "**Sinh ra giá trị True/False theo điều kiện**  \n",
    "<font color='red' size=\"5\" >**df.loc[:,'cotmoi']=df.loc[:,'cot1'] so-sánh xxx**</font>  \n",
    "**Trong đó so-sánh là ==, >, <, >=, <=, ~**  "
   ]
  },
  {
   "cell_type": "markdown",
   "id": "1aada176-38ea-4219-bb54-04eb339376d0",
   "metadata": {},
   "source": [
    "**Ví dụ 1: Thêm cột 'test1' với giá trị logic là 'shop mở sau năm 2020'**  "
   ]
  },
  {
   "cell_type": "code",
   "execution_count": null,
   "id": "6b3b6040-561c-464a-9289-e96089b0e778",
   "metadata": {
    "tags": []
   },
   "outputs": [],
   "source": [
    "data.loc[:,'test1'] = data.loc[:,'join_year'] > 2020\n",
    "data.loc[:,['name','join_year','test1']]"
   ]
  },
  {
   "cell_type": "markdown",
   "id": "c69dd610-9d1f-4f72-a55f-ee5f88647d8b",
   "metadata": {},
   "source": [
    "**Gán giá trị theo kiểu if...then...else...**  \n",
    "<font color='red' size=\"5\" >**df.loc[:,'cotmoi'] = np.where(df.loc[:,'cot1'] so-sánh xxx, giá-trị-1, giá-trị-2)**</font>  \n",
    "**Trong đó so-sánh là ==, >, <, >=, <=, ~**  \n",
    "**giá-trị-1 là giá trị được điền vào nếu so sánh là đúng, giá-trị-2 là giá trị được điền vào nếu so sánh là sai**  "
   ]
  },
  {
   "cell_type": "markdown",
   "id": "04d4180b-31c2-4964-9db0-b681e98b1d56",
   "metadata": {},
   "source": [
    "**Ví dụ 2: Thêm cột 'medal' với giá trị là 'gold' nếu có điểm rating >10000 và 'silver' nếu <=10000**  "
   ]
  },
  {
   "cell_type": "code",
   "execution_count": null,
   "id": "1ee27c57-49df-4efa-ba3f-365ed03696b0",
   "metadata": {
    "tags": []
   },
   "outputs": [],
   "source": [
    "data.loc[] = np.where(mask, ..., ...)"
   ]
  },
  {
   "cell_type": "code",
   "execution_count": null,
   "id": "486c264c-7978-4ea7-b24b-9acda7a3e815",
   "metadata": {
    "tags": []
   },
   "outputs": [],
   "source": [
    "data.loc[:,'medal'] = np.where(data.loc[:,'rating']>10000,'gold','silver')\n",
    "data.loc[:,['name','rating','medal']]"
   ]
  },
  {
   "cell_type": "code",
   "execution_count": null,
   "id": "e7b33fdb-68f0-4513-b6e8-0747f8ec22e4",
   "metadata": {
    "tags": []
   },
   "outputs": [],
   "source": [
    "data.loc[:,'medal2']=np.where(data.loc[:,'test1'], 'gold', 'silver')\n",
    "data.loc[:,['name','test1','medal2']]"
   ]
  },
  {
   "cell_type": "markdown",
   "id": "8b1c7fdb-05b5-4fde-ac05-1731e61d6c8c",
   "metadata": {},
   "source": [
    "**Gán giá trị theo kiểu switch...case...**  \n",
    "<font color='red' size=\"5\" >**df.loc[:,'cotmoi']=np.select(các-điều-kiện, các-giá-trị, default)**</font>  \n",
    "**Trong đó các-điều-kiện là các so sánh, có thể được đặt ở 1 biến riêng**  \n",
    "**các-giá-trị là các giá trị gán vào với các so sánh tương ứng**  "
   ]
  },
  {
   "cell_type": "markdown",
   "id": "e2023610-a0ce-4b45-8b9f-0393da6d2379",
   "metadata": {},
   "source": [
    "**Ví dụ 3: Sửa cột 'medal' với giá trị là 'gold' nếu có điểm rating =>100000 và 'silver' nếu 50000<=rating<100000 và 'bronze' nếu 10000<=rating<50000 và 'iron' nếu rating <10000**  "
   ]
  },
  {
   "cell_type": "code",
   "execution_count": null,
   "id": "4a4019c8-cb8c-46b2-972b-61c8cea8ab15",
   "metadata": {
    "tags": []
   },
   "outputs": [],
   "source": [
    "conditions = [(data.loc[:,'rating']>=100000),\n",
    "              (data.loc[:,'rating']>=50000) & (data.loc[:,'rating']<100000),\n",
    "              (data.loc[:,'rating']>=10000) & (data.loc[:,'rating']<50000)]\n",
    "values = ['gold','silver','bronze']\n",
    "data.loc[:,'medal']=np.select(conditions, values, default='iron')\n",
    "data.loc[:,['name','rating','medal']]"
   ]
  },
  {
   "cell_type": "markdown",
   "id": "d08c8835-0f83-4c0f-91a0-4b053ea72d49",
   "metadata": {
    "tags": []
   },
   "source": [
    "### 3.3 Tách cột thành các cột nhỏ hơn"
   ]
  },
  {
   "cell_type": "markdown",
   "id": "1caa20b3-e5a2-4b21-85b8-c479006b9c74",
   "metadata": {},
   "source": [
    "**Thông thường tách 1 cột chứa nhiều dữ liệu thành các cột chứa từng loại dữ liệu cần thiết**  \n",
    "**Ví dụ, tách cột chứa thông tin dạng string thành các phần nhỏ.**  \n",
    "**Hoặc tách ngày tháng năm**  "
   ]
  },
  {
   "cell_type": "markdown",
   "id": "ccd1e5be-f4da-4d67-9a9e-68dd9c4663bf",
   "metadata": {},
   "source": [
    "**Ví dụ 1: Tách cột 'shop_location' thành 2 cột 'distric' và 'city'**  \n",
    "**Gợi ý: dùng hàm str.split('separator') để phân tách nội dung của str**  \n",
    "**Trong đó 'separator' là ký tự phân chia nội dung, thường là dấu cách ' ' hoặc dấu ','** "
   ]
  },
  {
   "cell_type": "code",
   "execution_count": null,
   "id": "03d447b4-0376-484b-a1e6-78964637d135",
   "metadata": {
    "jupyter": {
     "outputs_hidden": true,
     "source_hidden": true
    }
   },
   "outputs": [],
   "source": [
    "data.loc[:,'shop_location']"
   ]
  },
  {
   "cell_type": "code",
   "execution_count": null,
   "id": "3e859826-c75b-4e33-9d23-2292cf52ddfc",
   "metadata": {
    "jupyter": {
     "outputs_hidden": true,
     "source_hidden": true
    },
    "tags": []
   },
   "outputs": [],
   "source": [
    "temp = data.loc[:,'shop_location'].str.split(',')\n",
    "data.loc[:,'distric']= temp.str[0]\n",
    "data.loc[:,'city']= temp.str[1]\n",
    "data.loc[:,['shop_location','distric','city']]"
   ]
  },
  {
   "cell_type": "markdown",
   "id": "0d261b37-1cb0-4554-9b35-b5e8ca033488",
   "metadata": {},
   "source": [
    "**Ví dụ 2: Tách cột date_collected thành 3 cột Day, Month, Year**  \n",
    "**Gợi ý: dùng hàm <font color='red' size=\"5\" >pandas.to_datetime(dữ-liệu, format).dt.thông-tin</font> để phân tách thời gian**  \n",
    "**Trong đó 'format' là bố cục của thời gian** \n",
    "**thông-tin là loại thông tin muốn lấy, ví dụ hour, minute, day, month, etc.**   "
   ]
  },
  {
   "cell_type": "code",
   "execution_count": 12,
   "id": "f5eef311-e64e-4c25-9cc2-c1ec29b4b55a",
   "metadata": {
    "jupyter": {
     "outputs_hidden": true,
     "source_hidden": true
    }
   },
   "outputs": [
    {
     "data": {
      "text/plain": [
       "0      2021-06-13\n",
       "1      2021-06-13\n",
       "2      2021-06-13\n",
       "3      2021-06-13\n",
       "4      2021-06-13\n",
       "          ...    \n",
       "741    2021-07-06\n",
       "742    2021-07-06\n",
       "743    2021-07-06\n",
       "744    2021-07-06\n",
       "745    2021-07-06\n",
       "Name: date_collected, Length: 746, dtype: object"
      ]
     },
     "execution_count": 12,
     "metadata": {},
     "output_type": "execute_result"
    }
   ],
   "source": [
    "data.loc[:,'date_collected']"
   ]
  },
  {
   "cell_type": "code",
   "execution_count": 13,
   "id": "bf696d49-fc80-4baa-8039-972ffe146691",
   "metadata": {
    "jupyter": {
     "outputs_hidden": true,
     "source_hidden": true
    },
    "tags": []
   },
   "outputs": [
    {
     "data": {
      "text/html": [
       "<div>\n",
       "<style scoped>\n",
       "    .dataframe tbody tr th:only-of-type {\n",
       "        vertical-align: middle;\n",
       "    }\n",
       "\n",
       "    .dataframe tbody tr th {\n",
       "        vertical-align: top;\n",
       "    }\n",
       "\n",
       "    .dataframe thead th {\n",
       "        text-align: right;\n",
       "    }\n",
       "</style>\n",
       "<table border=\"1\" class=\"dataframe\">\n",
       "  <thead>\n",
       "    <tr style=\"text-align: right;\">\n",
       "      <th></th>\n",
       "      <th>date_collected</th>\n",
       "      <th>Day</th>\n",
       "      <th>Month</th>\n",
       "      <th>Year</th>\n",
       "    </tr>\n",
       "  </thead>\n",
       "  <tbody>\n",
       "    <tr>\n",
       "      <th>0</th>\n",
       "      <td>2021-06-13</td>\n",
       "      <td>13</td>\n",
       "      <td>6</td>\n",
       "      <td>2021</td>\n",
       "    </tr>\n",
       "    <tr>\n",
       "      <th>1</th>\n",
       "      <td>2021-06-13</td>\n",
       "      <td>13</td>\n",
       "      <td>6</td>\n",
       "      <td>2021</td>\n",
       "    </tr>\n",
       "    <tr>\n",
       "      <th>2</th>\n",
       "      <td>2021-06-13</td>\n",
       "      <td>13</td>\n",
       "      <td>6</td>\n",
       "      <td>2021</td>\n",
       "    </tr>\n",
       "    <tr>\n",
       "      <th>3</th>\n",
       "      <td>2021-06-13</td>\n",
       "      <td>13</td>\n",
       "      <td>6</td>\n",
       "      <td>2021</td>\n",
       "    </tr>\n",
       "    <tr>\n",
       "      <th>4</th>\n",
       "      <td>2021-06-13</td>\n",
       "      <td>13</td>\n",
       "      <td>6</td>\n",
       "      <td>2021</td>\n",
       "    </tr>\n",
       "    <tr>\n",
       "      <th>...</th>\n",
       "      <td>...</td>\n",
       "      <td>...</td>\n",
       "      <td>...</td>\n",
       "      <td>...</td>\n",
       "    </tr>\n",
       "    <tr>\n",
       "      <th>741</th>\n",
       "      <td>2021-07-06</td>\n",
       "      <td>6</td>\n",
       "      <td>7</td>\n",
       "      <td>2021</td>\n",
       "    </tr>\n",
       "    <tr>\n",
       "      <th>742</th>\n",
       "      <td>2021-07-06</td>\n",
       "      <td>6</td>\n",
       "      <td>7</td>\n",
       "      <td>2021</td>\n",
       "    </tr>\n",
       "    <tr>\n",
       "      <th>743</th>\n",
       "      <td>2021-07-06</td>\n",
       "      <td>6</td>\n",
       "      <td>7</td>\n",
       "      <td>2021</td>\n",
       "    </tr>\n",
       "    <tr>\n",
       "      <th>744</th>\n",
       "      <td>2021-07-06</td>\n",
       "      <td>6</td>\n",
       "      <td>7</td>\n",
       "      <td>2021</td>\n",
       "    </tr>\n",
       "    <tr>\n",
       "      <th>745</th>\n",
       "      <td>2021-07-06</td>\n",
       "      <td>6</td>\n",
       "      <td>7</td>\n",
       "      <td>2021</td>\n",
       "    </tr>\n",
       "  </tbody>\n",
       "</table>\n",
       "<p>746 rows × 4 columns</p>\n",
       "</div>"
      ],
      "text/plain": [
       "    date_collected  Day  Month  Year\n",
       "0       2021-06-13   13      6  2021\n",
       "1       2021-06-13   13      6  2021\n",
       "2       2021-06-13   13      6  2021\n",
       "3       2021-06-13   13      6  2021\n",
       "4       2021-06-13   13      6  2021\n",
       "..             ...  ...    ...   ...\n",
       "741     2021-07-06    6      7  2021\n",
       "742     2021-07-06    6      7  2021\n",
       "743     2021-07-06    6      7  2021\n",
       "744     2021-07-06    6      7  2021\n",
       "745     2021-07-06    6      7  2021\n",
       "\n",
       "[746 rows x 4 columns]"
      ]
     },
     "execution_count": 13,
     "metadata": {},
     "output_type": "execute_result"
    }
   ],
   "source": [
    "data.loc[:,'Day']=pd.to_datetime(data.loc[:,'date_collected'],format='%Y-%m-%d').dt.day\n",
    "data.loc[:,'Month']=pd.to_datetime(data.loc[:,'date_collected'],format='%Y-%m-%d').dt.month\n",
    "data.loc[:,'Year']=pd.to_datetime(data.loc[:,'date_collected'],format='%Y-%m-%d').dt.year\n",
    "data.loc[:,['date_collected','Day', 'Month', 'Year']]"
   ]
  },
  {
   "cell_type": "markdown",
   "id": "733927b2-3cfa-4dbf-b787-c1c16304f3ab",
   "metadata": {},
   "source": [
    "**Ví dụ 3: Tách cột response_time thành 3 cột Hour, Minute, Second**  \n",
    "**<font color='red' size=\"5\" >pandas.to_datetime(dữ-liệu, format).dt.thông-tin</font>**  \n",
    "**Chú ý: trong ví dụ này, dữ liệu có thêm dấu cách trước thông tin thời gian**  "
   ]
  },
  {
   "cell_type": "code",
   "execution_count": 14,
   "id": "ba02ab51-657a-460a-acb7-45d5e44b1223",
   "metadata": {
    "jupyter": {
     "outputs_hidden": true,
     "source_hidden": true
    }
   },
   "outputs": [
    {
     "data": {
      "text/plain": [
       "0       10:13:55\n",
       "1       10:43:05\n",
       "2       08:32:07\n",
       "3       09:10:38\n",
       "4       11:40:59\n",
       "         ...    \n",
       "741     08:45:30\n",
       "742     08:01:23\n",
       "743     08:46:30\n",
       "744     12:19:44\n",
       "745     10:02:42\n",
       "Name: response_time, Length: 746, dtype: object"
      ]
     },
     "execution_count": 14,
     "metadata": {},
     "output_type": "execute_result"
    }
   ],
   "source": [
    "data.loc[:,'response_time']"
   ]
  },
  {
   "cell_type": "code",
   "execution_count": null,
   "id": "f0a3e3dd",
   "metadata": {},
   "outputs": [],
   "source": []
  },
  {
   "cell_type": "code",
   "execution_count": 15,
   "id": "13c985d6-a753-4896-9ec9-49735fc5e891",
   "metadata": {
    "jupyter": {
     "outputs_hidden": true,
     "source_hidden": true
    },
    "tags": []
   },
   "outputs": [
    {
     "data": {
      "text/html": [
       "<div>\n",
       "<style scoped>\n",
       "    .dataframe tbody tr th:only-of-type {\n",
       "        vertical-align: middle;\n",
       "    }\n",
       "\n",
       "    .dataframe tbody tr th {\n",
       "        vertical-align: top;\n",
       "    }\n",
       "\n",
       "    .dataframe thead th {\n",
       "        text-align: right;\n",
       "    }\n",
       "</style>\n",
       "<table border=\"1\" class=\"dataframe\">\n",
       "  <thead>\n",
       "    <tr style=\"text-align: right;\">\n",
       "      <th></th>\n",
       "      <th>response_time</th>\n",
       "      <th>Hour</th>\n",
       "      <th>Minute</th>\n",
       "      <th>Second</th>\n",
       "    </tr>\n",
       "  </thead>\n",
       "  <tbody>\n",
       "    <tr>\n",
       "      <th>0</th>\n",
       "      <td>10:13:55</td>\n",
       "      <td>10</td>\n",
       "      <td>13</td>\n",
       "      <td>55</td>\n",
       "    </tr>\n",
       "    <tr>\n",
       "      <th>1</th>\n",
       "      <td>10:43:05</td>\n",
       "      <td>10</td>\n",
       "      <td>43</td>\n",
       "      <td>5</td>\n",
       "    </tr>\n",
       "    <tr>\n",
       "      <th>2</th>\n",
       "      <td>08:32:07</td>\n",
       "      <td>8</td>\n",
       "      <td>32</td>\n",
       "      <td>7</td>\n",
       "    </tr>\n",
       "    <tr>\n",
       "      <th>3</th>\n",
       "      <td>09:10:38</td>\n",
       "      <td>9</td>\n",
       "      <td>10</td>\n",
       "      <td>38</td>\n",
       "    </tr>\n",
       "    <tr>\n",
       "      <th>4</th>\n",
       "      <td>11:40:59</td>\n",
       "      <td>11</td>\n",
       "      <td>40</td>\n",
       "      <td>59</td>\n",
       "    </tr>\n",
       "    <tr>\n",
       "      <th>...</th>\n",
       "      <td>...</td>\n",
       "      <td>...</td>\n",
       "      <td>...</td>\n",
       "      <td>...</td>\n",
       "    </tr>\n",
       "    <tr>\n",
       "      <th>741</th>\n",
       "      <td>08:45:30</td>\n",
       "      <td>8</td>\n",
       "      <td>45</td>\n",
       "      <td>30</td>\n",
       "    </tr>\n",
       "    <tr>\n",
       "      <th>742</th>\n",
       "      <td>08:01:23</td>\n",
       "      <td>8</td>\n",
       "      <td>1</td>\n",
       "      <td>23</td>\n",
       "    </tr>\n",
       "    <tr>\n",
       "      <th>743</th>\n",
       "      <td>08:46:30</td>\n",
       "      <td>8</td>\n",
       "      <td>46</td>\n",
       "      <td>30</td>\n",
       "    </tr>\n",
       "    <tr>\n",
       "      <th>744</th>\n",
       "      <td>12:19:44</td>\n",
       "      <td>12</td>\n",
       "      <td>19</td>\n",
       "      <td>44</td>\n",
       "    </tr>\n",
       "    <tr>\n",
       "      <th>745</th>\n",
       "      <td>10:02:42</td>\n",
       "      <td>10</td>\n",
       "      <td>2</td>\n",
       "      <td>42</td>\n",
       "    </tr>\n",
       "  </tbody>\n",
       "</table>\n",
       "<p>746 rows × 4 columns</p>\n",
       "</div>"
      ],
      "text/plain": [
       "    response_time  Hour  Minute  Second\n",
       "0        10:13:55    10      13      55\n",
       "1        10:43:05    10      43       5\n",
       "2        08:32:07     8      32       7\n",
       "3        09:10:38     9      10      38\n",
       "4        11:40:59    11      40      59\n",
       "..            ...   ...     ...     ...\n",
       "741      08:45:30     8      45      30\n",
       "742      08:01:23     8       1      23\n",
       "743      08:46:30     8      46      30\n",
       "744      12:19:44    12      19      44\n",
       "745      10:02:42    10       2      42\n",
       "\n",
       "[746 rows x 4 columns]"
      ]
     },
     "execution_count": 15,
     "metadata": {},
     "output_type": "execute_result"
    }
   ],
   "source": [
    "data.loc[:,'Hour']=pd.to_datetime(data.loc[:,'response_time'],format=' %H:%M:%S').dt.hour\n",
    "data.loc[:,'Minute']=pd.to_datetime(data.loc[:,'response_time'],format=' %H:%M:%S').dt.minute\n",
    "data.loc[:,'Second']=pd.to_datetime(data.loc[:,'response_time'],format=' %H:%M:%S').dt.second\n",
    "data.loc[:,['response_time','Hour', 'Minute', 'Second']]"
   ]
  },
  {
   "cell_type": "code",
   "execution_count": null,
   "id": "90960625",
   "metadata": {},
   "outputs": [],
   "source": []
  }
 ],
 "metadata": {
  "kernelspec": {
   "display_name": "Python 3 (ipykernel)",
   "language": "python",
   "name": "python3"
  },
  "language_info": {
   "codemirror_mode": {
    "name": "ipython",
    "version": 3
   },
   "file_extension": ".py",
   "mimetype": "text/x-python",
   "name": "python",
   "nbconvert_exporter": "python",
   "pygments_lexer": "ipython3",
   "version": "3.9.12"
  },
  "toc-autonumbering": false
 },
 "nbformat": 4,
 "nbformat_minor": 5
}
