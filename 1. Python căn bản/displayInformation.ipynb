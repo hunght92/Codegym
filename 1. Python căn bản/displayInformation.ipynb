{
 "cells": [
  {
   "cell_type": "code",
   "execution_count": 1,
   "id": "f6db6b61",
   "metadata": {},
   "outputs": [
    {
     "name": "stdout",
     "output_type": "stream",
     "text": [
      "Ho va ten: Huynh Tan Hung\n",
      "Ngay sinh: 22/09/1992\n",
      "Dia chi: Da Nang\n",
      "Muc dich den voi khoa hoc Python: Tim hieu nganh moi\n"
     ]
    }
   ],
   "source": [
    "print('Ho va ten: Huynh Tan Hung')\n",
    "print('Ngay sinh: 22/09/1992')\n",
    "print('Dia chi: Da Nang')\n",
    "print('Muc dich den voi khoa hoc Python: Tim hieu nganh moi')"
   ]
  },
  {
   "cell_type": "code",
   "execution_count": null,
   "id": "a8bc1919",
   "metadata": {},
   "outputs": [],
   "source": []
  }
 ],
 "metadata": {
  "kernelspec": {
   "display_name": "Python 3 (ipykernel)",
   "language": "python",
   "name": "python3"
  },
  "language_info": {
   "codemirror_mode": {
    "name": "ipython",
    "version": 3
   },
   "file_extension": ".py",
   "mimetype": "text/x-python",
   "name": "python",
   "nbconvert_exporter": "python",
   "pygments_lexer": "ipython3",
   "version": "3.9.12"
  }
 },
 "nbformat": 4,
 "nbformat_minor": 5
}
