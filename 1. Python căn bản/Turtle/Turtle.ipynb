{
 "cells": [
  {
   "cell_type": "code",
   "execution_count": 1,
   "id": "601a3662",
   "metadata": {},
   "outputs": [],
   "source": [
    "import turtle\n",
    "h = turtle.Turtle()\n",
    "\n",
    "h.speed(1)\n",
    "\n",
    "canh = 200\n",
    "\n",
    "# ve tam giac so 1, goc 11h\n",
    "h.backward(canh)\n",
    "h.left(54)\n",
    "h.forward(canh * 1.17)\n",
    "h.right(126)\n",
    "h.forward(canh)\n",
    "\n",
    "# ve tiep tam giac so 2, theo chieu kim dong ho\n",
    "h.backward(canh)\n",
    "h.left(54)\n",
    "h.forward(canh * 1.17)\n",
    "h.right(126)\n",
    "h.forward(canh)\n",
    "\n",
    "# ve tiep tam giac so 3, theo chieu kim dong ho\n",
    "h.backward(canh)\n",
    "h.left(54)\n",
    "h.forward(canh * 1.17)\n",
    "h.right(126)\n",
    "h.forward(canh)\n",
    "\n",
    "# ve tiep tam giac so 4, theo chieu kim dong ho\n",
    "h.backward(canh)\n",
    "h.left(54)\n",
    "h.forward(canh * 1.17)\n",
    "h.right(126)\n",
    "h.forward(canh)\n",
    "\n",
    "# hoan thien hinh\n",
    "h.backward(canh)\n",
    "h.left(54)\n",
    "h.forward(canh * 1.17)\n",
    "\n",
    "turtle.done()"
   ]
  },
  {
   "cell_type": "code",
   "execution_count": null,
   "id": "ca50ea27",
   "metadata": {},
   "outputs": [],
   "source": []
  },
  {
   "cell_type": "code",
   "execution_count": null,
   "id": "679e5fc1",
   "metadata": {},
   "outputs": [],
   "source": []
  },
  {
   "cell_type": "code",
   "execution_count": null,
   "id": "4691317c",
   "metadata": {},
   "outputs": [],
   "source": []
  }
 ],
 "metadata": {
  "kernelspec": {
   "display_name": "Python 3 (ipykernel)",
   "language": "python",
   "name": "python3"
  },
  "language_info": {
   "codemirror_mode": {
    "name": "ipython",
    "version": 3
   },
   "file_extension": ".py",
   "mimetype": "text/x-python",
   "name": "python",
   "nbconvert_exporter": "python",
   "pygments_lexer": "ipython3",
   "version": "3.9.12"
  }
 },
 "nbformat": 4,
 "nbformat_minor": 5
}
