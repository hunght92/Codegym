{
 "cells": [
  {
   "cell_type": "code",
   "execution_count": 1,
   "id": "c3422966",
   "metadata": {},
   "outputs": [],
   "source": [
    "# import turtle\n",
    "# h = turtle.Turtle()\n",
    "\n",
    "# # h.fd(200)\n",
    "# # h.bk(200)\n",
    "# # h.rt(90)\n",
    "# # h.lt(90)\n",
    "\n",
    "# # h.circle(100)\n",
    "\n",
    "# # h.goto(100,100)\n",
    "\n",
    "# # h.home()\n",
    "\n",
    "# # h.dot(200)\n",
    "\n",
    "# #đổi màu bút, cỡ bút\n",
    "# # h.pencolor(\"red\")\n",
    "# # h.pensize(2)\n",
    "# # h.fillcolor(\"cyan\")\n",
    "# # h.begin_fill()\n",
    "# # h.circle(200)\n",
    "# # h.end_fill()\n",
    "\n",
    "\n",
    "# t.shape(\"triangle\")\n",
    "\n",
    "\n",
    "# # Vẽ ngôi sao\n",
    "# h.forward(100)\n",
    "# h.left(72)\n",
    "# h.forward(100)\n",
    "# h.right(144)\n",
    "# h.forward(100)\n",
    "# h.left(72)\n",
    "# h.forward(100)\n",
    "# h.right(144)\n",
    "# h.forward(100)\n",
    "# h.left(72)\n",
    "# h.forward(100)\n",
    "# h.right(144)\n",
    "# h.forward(100)\n",
    "# h.left(72)\n",
    "# h.forward(100)\n",
    "# h.right(144)\n",
    "# h.forward(100)\n",
    "# h.left(72)\n",
    "# h.forward(100)\n",
    "\n",
    "\n",
    "# turtle.done()"
   ]
  },
  {
   "cell_type": "code",
   "execution_count": 2,
   "id": "95a914ca",
   "metadata": {},
   "outputs": [
    {
     "ename": "ModuleNotFoundError",
     "evalue": "No module named 'Turtle'",
     "output_type": "error",
     "traceback": [
      "\u001b[1;31m---------------------------------------------------------------------------\u001b[0m",
      "\u001b[1;31mModuleNotFoundError\u001b[0m                       Traceback (most recent call last)",
      "Input \u001b[1;32mIn [2]\u001b[0m, in \u001b[0;36m<cell line: 1>\u001b[1;34m()\u001b[0m\n\u001b[1;32m----> 1\u001b[0m \u001b[38;5;28;01mimport\u001b[39;00m \u001b[38;5;21;01mTurtle\u001b[39;00m\n\u001b[0;32m      3\u001b[0m screen \u001b[38;5;241m=\u001b[39m turtle\u001b[38;5;241m.\u001b[39mScreen()\n\u001b[0;32m      5\u001b[0m t \u001b[38;5;241m=\u001b[39m turtle\u001b[38;5;241m.\u001b[39mTurtle()\n",
      "\u001b[1;31mModuleNotFoundError\u001b[0m: No module named 'Turtle'"
     ]
    }
   ],
   "source": [
    "import Turtle\n",
    "\n",
    "screen = turtle.Screen()\n",
    "\n",
    "t = turtle.Turtle()\n",
    "\n",
    "t.shape(\"triangle\")\n",
    "\n",
    "turtle.done()"
   ]
  }
 ],
 "metadata": {
  "kernelspec": {
   "display_name": "Python 3 (ipykernel)",
   "language": "python",
   "name": "python3"
  },
  "language_info": {
   "codemirror_mode": {
    "name": "ipython",
    "version": 3
   },
   "file_extension": ".py",
   "mimetype": "text/x-python",
   "name": "python",
   "nbconvert_exporter": "python",
   "pygments_lexer": "ipython3",
   "version": "3.9.12"
  }
 },
 "nbformat": 4,
 "nbformat_minor": 5
}
