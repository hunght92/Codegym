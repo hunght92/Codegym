{
 "cells": [
  {
   "cell_type": "code",
   "execution_count": 4,
   "id": "576dbe38",
   "metadata": {},
   "outputs": [
    {
     "name": "stdout",
     "output_type": "stream",
     "text": [
      "Khác\n"
     ]
    }
   ],
   "source": [
    "d={\n",
    "    2:\"Xin chào\",\n",
    "    3: 2,\n",
    "    True: [1, 2, 3],\n",
    "    False: True,\n",
    "    'Hello': 'Xin chào',\n",
    "    2:\"Khác\"\n",
    "}\n",
    "print(d[2])\n"
   ]
  },
  {
   "cell_type": "code",
   "execution_count": 12,
   "id": "3da12b57",
   "metadata": {},
   "outputs": [
    {
     "name": "stdout",
     "output_type": "stream",
     "text": [
      "Mời nhập mã nhân viên, nhập q nếu muốn thoát: 1\n",
      "Mời nhập năm sinh nhân viên, nhập q nếu muốn thoát: 1\n",
      "Mời nhập mã nhân viên, nhập q nếu muốn thoát: 2\n",
      "Mời nhập năm sinh nhân viên, nhập q nếu muốn thoát: 2\n",
      "Mời nhập mã nhân viên, nhập q nếu muốn thoát: 3\n",
      "Mời nhập năm sinh nhân viên, nhập q nếu muốn thoát: 4\n",
      "Mời nhập mã nhân viên, nhập q nếu muốn thoát: q\n",
      "Mời nhập năm sinh nhân viên, nhập q nếu muốn thoát: q\n",
      "{'1': '1', '2': '2', '3': '4'}\n",
      "1\n",
      "2\n",
      "4\n"
     ]
    }
   ],
   "source": [
    "dict = {}\n",
    "\n",
    "while True:\n",
    "    ma = input(\"Mời nhập mã nhân viên, nhập q nếu muốn thoát: \")\n",
    "    nam_sinh  = input(\"Mời nhập năm sinh nhân viên, nhập q nếu muốn thoát: \")\n",
    "    if ma == \"q\" or nam_sinh == \"q\":\n",
    "        break\n",
    "    dict.update({ma: nam_sinh})\n",
    "    \n",
    "print(dict)\n",
    "\n",
    "for i in dict.values():\n",
    "    print (i)\n",
    "    "
   ]
  },
  {
   "cell_type": "code",
   "execution_count": 1,
   "id": "bcbe6024",
   "metadata": {},
   "outputs": [],
   "source": [
    "def lay_thong_tin(danh_sach_san_pham, id):\n",
    "    if id in danh_sach_san_pham:\n",
    "        get(danh_sach_san_pham[id])\n",
    "    "
   ]
  },
  {
   "cell_type": "code",
   "execution_count": null,
   "id": "9f5504af",
   "metadata": {},
   "outputs": [],
   "source": []
  }
 ],
 "metadata": {
  "kernelspec": {
   "display_name": "Python 3 (ipykernel)",
   "language": "python",
   "name": "python3"
  },
  "language_info": {
   "codemirror_mode": {
    "name": "ipython",
    "version": 3
   },
   "file_extension": ".py",
   "mimetype": "text/x-python",
   "name": "python",
   "nbconvert_exporter": "python",
   "pygments_lexer": "ipython3",
   "version": "3.9.12"
  }
 },
 "nbformat": 4,
 "nbformat_minor": 5
}
