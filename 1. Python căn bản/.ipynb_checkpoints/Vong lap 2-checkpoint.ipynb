{
 "cells": [
  {
   "cell_type": "code",
   "execution_count": null,
   "id": "e2cc80f8",
   "metadata": {},
   "outputs": [],
   "source": [
    "try:\n",
    "    while True:\n",
    "        a = int(input(\"Moi nhap so a: \"))\n",
    "        b = int(input(\"Moi nhap so b: \"))\n",
    "        if b >= a:\n",
    "            break\n",
    "        else:\n",
    "            print(\"Ban da nhap sai, vui long nhap lai a <= b\")\n",
    "    tong = 0\n",
    "    tich = 1\n",
    "\n",
    "    for i in range(a, b+1 ,1):\n",
    "        if i % 2 == 1:\n",
    "            tong = tong + i\n",
    "        else:\n",
    "            tich = tich * i\n",
    "\n",
    "    print(f\"Tu {a} den {b}: Tong cac so le la {tong} va tich cac so chan la {tich}\")\n",
    "\n",
    "except:\n",
    "    print(\"Ban phai nhap vao mot so\")\n"
   ]
  },
  {
   "cell_type": "code",
   "execution_count": 16,
   "id": "5740e87f",
   "metadata": {},
   "outputs": [
    {
     "name": "stdout",
     "output_type": "stream",
     "text": [
      "2\n",
      "3\n",
      "5\n",
      "7\n",
      "11\n",
      "13\n",
      "17\n",
      "19\n"
     ]
    }
   ],
   "source": [
    "for i in range (2, 21):\n",
    "    la_so_nguyen_to = True\n",
    "    for j in range (2,i//2+1):\n",
    "        if i % j == 0:\n",
    "            la_so_nguyen_to = False\n",
    "            break\n",
    "    if la_so_nguyen_to: \n",
    "        print(i)"
   ]
  },
  {
   "cell_type": "code",
   "execution_count": null,
   "id": "122002e2",
   "metadata": {},
   "outputs": [],
   "source": []
  }
 ],
 "metadata": {
  "kernelspec": {
   "display_name": "Python 3 (ipykernel)",
   "language": "python",
   "name": "python3"
  },
  "language_info": {
   "codemirror_mode": {
    "name": "ipython",
    "version": 3
   },
   "file_extension": ".py",
   "mimetype": "text/x-python",
   "name": "python",
   "nbconvert_exporter": "python",
   "pygments_lexer": "ipython3",
   "version": "3.9.12"
  }
 },
 "nbformat": 4,
 "nbformat_minor": 5
}
