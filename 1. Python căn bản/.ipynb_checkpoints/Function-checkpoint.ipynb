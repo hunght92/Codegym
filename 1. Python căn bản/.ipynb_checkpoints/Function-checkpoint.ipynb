{
 "cells": [
  {
   "cell_type": "code",
   "execution_count": null,
   "id": "2cb671aa",
   "metadata": {},
   "outputs": [],
   "source": [
    "def sum(a, b):\n",
    "    return a + b\n",
    "\n",
    "num1 = 12\n",
    "num2 = 14\n",
    "result = sum(num1, num2)\n",
    "print(result)"
   ]
  },
  {
   "cell_type": "code",
   "execution_count": null,
   "id": "4acf5d06",
   "metadata": {},
   "outputs": [],
   "source": [
    "def sum_range(start_num, end_num):\n",
    "    total = 0\n",
    "    return total\n",
    "    for i in range(start_num, end_num + 1):\n",
    "        total += i\n",
    "    \n",
    "    \n",
    "start_num = 1\n",
    "end_num = 5\n",
    "sum_range(start_num, end_num)\n"
   ]
  },
  {
   "cell_type": "code",
   "execution_count": null,
   "id": "dcb75f6e",
   "metadata": {},
   "outputs": [],
   "source": [
    "def bang_cuu_chuong(so):\n",
    "    for i in range (1, 11):\n",
    "        print(f\"{so}*{i}={so*i}\")\n",
    "\n",
    "so = int(input(\"Moi nhap so n: \"))\n",
    "bang_cuu_chuong(so)"
   ]
  },
  {
   "cell_type": "code",
   "execution_count": null,
   "id": "8c941f8f",
   "metadata": {},
   "outputs": [],
   "source": [
    "import turtle\n",
    "def ve_hinh_vuong(canh):\n",
    "    h = turtle.Turtle()\n",
    "    h.penup()\n",
    "    h.fd(canh/2)\n",
    "    h.left(90)\n",
    "    h.pendown()\n",
    "    h.fd(canh/2)\n",
    "    h.left(90)\n",
    "    for i in range(1,5):\n",
    "        h.fd(canh)\n",
    "        h.left(90)\n",
    "    turtle.done()\n",
    "\n",
    "canh = int(input(\"Moi nhap do dai canh hinh vuong: \"))\n",
    "ve_hinh_vuong(canh)"
   ]
  },
  {
   "cell_type": "code",
   "execution_count": 3,
   "id": "1beb00b1",
   "metadata": {},
   "outputs": [
    {
     "name": "stdout",
     "output_type": "stream",
     "text": [
      "Moi nhap so: 8\n"
     ]
    },
    {
     "data": {
      "text/plain": [
       "15"
      ]
     },
     "execution_count": 3,
     "metadata": {},
     "output_type": "execute_result"
    }
   ],
   "source": [
    "def tong_cua_uoc(so):\n",
    "    sum=0\n",
    "    for i in range(1, so+1):\n",
    "        if so%i == 0:\n",
    "            sum += i\n",
    "    return sum\n",
    "        \n",
    "so = int(input(\"Moi nhap so: \"))\n",
    "tong_cua_uoc(so)\n",
    "    "
   ]
  },
  {
   "cell_type": "code",
   "execution_count": null,
   "id": "eab950cc",
   "metadata": {},
   "outputs": [],
   "source": []
  }
 ],
 "metadata": {
  "kernelspec": {
   "display_name": "Python 3 (ipykernel)",
   "language": "python",
   "name": "python3"
  },
  "language_info": {
   "codemirror_mode": {
    "name": "ipython",
    "version": 3
   },
   "file_extension": ".py",
   "mimetype": "text/x-python",
   "name": "python",
   "nbconvert_exporter": "python",
   "pygments_lexer": "ipython3",
   "version": "3.9.12"
  }
 },
 "nbformat": 4,
 "nbformat_minor": 5
}
