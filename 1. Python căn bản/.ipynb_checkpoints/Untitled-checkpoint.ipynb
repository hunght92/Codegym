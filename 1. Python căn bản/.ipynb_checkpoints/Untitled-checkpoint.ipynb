{
 "cells": [
  {
   "cell_type": "code",
   "execution_count": 5,
   "id": "25c98f9f",
   "metadata": {},
   "outputs": [
    {
     "name": "stdout",
     "output_type": "stream",
     "text": [
      "So 1: 11\n",
      "So 2: 55\n",
      "So 3: 33\n",
      "Thu tu 3 so da nhap la 11.0, 33.0, 55.0\n"
     ]
    }
   ],
   "source": [
    "so1 = float(input(\"So 1: \"))\n",
    "so2 = float(input(\"So 2: \"))\n",
    "so3 = float(input(\"So 3: \"))\n",
    "\n",
    "maxx = max(so1, so2, so3)\n",
    "minn = min(so1, so2, so3)\n",
    "medium = (so1 + so2 + so3) - maxx - minn\n",
    "\n",
    "print(f\"Thu tu 3 so da nhap la {minn}, {medium}, {maxx}\")"
   ]
  },
  {
   "cell_type": "code",
   "execution_count": 1,
   "id": "374d8f8c",
   "metadata": {},
   "outputs": [
    {
     "name": "stdout",
     "output_type": "stream",
     "text": [
      "Xc\n"
     ]
    }
   ],
   "source": [
    "chuoi = \"Xin chao\"\n",
    "print (chuoi[0:6:4])"
   ]
  },
  {
   "cell_type": "code",
   "execution_count": 8,
   "id": "278d93c2",
   "metadata": {},
   "outputs": [
    {
     "name": "stdout",
     "output_type": "stream",
     "text": [
      "Chuoi string la Python programming language\n"
     ]
    }
   ],
   "source": [
    "chuoi = \"Python programming language\"\n",
    "print ('Chuoi string la',chuoi)"
   ]
  },
  {
   "cell_type": "code",
   "execution_count": 11,
   "id": "cd8519d6",
   "metadata": {},
   "outputs": [
    {
     "name": "stdout",
     "output_type": "stream",
     "text": [
      "Moi nhap so nam: 2020\n",
      "Nam truoc la 2019 va nam sau la 2021\n"
     ]
    }
   ],
   "source": [
    "nam = int(input(\"Moi nhap so nam: \"))\n",
    "print (f'Nam truoc la {nam - 1} va nam sau la {nam + 1}')"
   ]
  },
  {
   "cell_type": "code",
   "execution_count": 27,
   "id": "47a6c51b",
   "metadata": {},
   "outputs": [
    {
     "name": "stdout",
     "output_type": "stream",
     "text": [
      "Moi nhap chuoi: 4564546\n",
      "Ky tu nam giua la 4\n"
     ]
    }
   ],
   "source": [
    "chuoi = input(\"Moi nhap chuoi: \")\n",
    "do_dai_chuoi = len(chuoi)\n",
    "test = (do_dai_chuoi % 2) == 1\n",
    "print(test and f'Ky tu nam giua la {chuoi[do_dai_chuoi // 2]}' or \"Khong co ky tu nam giua\")"
   ]
  },
  {
   "cell_type": "code",
   "execution_count": 35,
   "id": "c04893c4",
   "metadata": {},
   "outputs": [
    {
     "name": "stdout",
     "output_type": "stream",
     "text": [
      "Moi nhap so 1: 12\n",
      "Moi nhap so 2: 7\n",
      "Moi nhap so 3: 15\n",
      "So 1: 12. So 2: 7. So 3: 15. Ket qua: co\n"
     ]
    }
   ],
   "source": [
    "so1 = int(input(\"Moi nhap so 1: \"))\n",
    "so2 = int(input(\"Moi nhap so 2: \"))\n",
    "so3 = int(input(\"Moi nhap so 3: \"))\n",
    "tong_so1_so3 = so1 + so3\n",
    "test = int((str(tong_so1_so3))[-1]) == so2\n",
    "print(test and f'So 1: {so1}. So 2: {so2}. So 3: {so3}. Ket qua: co' or '')"
   ]
  },
  {
   "cell_type": "code",
   "execution_count": 36,
   "id": "2d771fdc",
   "metadata": {},
   "outputs": [
    {
     "name": "stdout",
     "output_type": "stream",
     "text": [
      "Apple\n"
     ]
    }
   ],
   "source": []
  },
  {
   "cell_type": "code",
   "execution_count": null,
   "id": "ac7dd771",
   "metadata": {},
   "outputs": [],
   "source": []
  }
 ],
 "metadata": {
  "kernelspec": {
   "display_name": "Python 3 (ipykernel)",
   "language": "python",
   "name": "python3"
  },
  "language_info": {
   "codemirror_mode": {
    "name": "ipython",
    "version": 3
   },
   "file_extension": ".py",
   "mimetype": "text/x-python",
   "name": "python",
   "nbconvert_exporter": "python",
   "pygments_lexer": "ipython3",
   "version": "3.9.12"
  }
 },
 "nbformat": 4,
 "nbformat_minor": 5
}
