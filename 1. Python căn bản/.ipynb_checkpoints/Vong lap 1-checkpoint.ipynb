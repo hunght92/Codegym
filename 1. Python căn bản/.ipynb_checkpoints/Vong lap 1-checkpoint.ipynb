{
 "cells": [
  {
   "cell_type": "code",
   "execution_count": null,
   "id": "c9d6b35d",
   "metadata": {},
   "outputs": [],
   "source": [
    "n = 1\n",
    "while n <= 5:\n",
    "    n += 1\n",
    "    print('Xin chao')\n",
    "    break\n",
    "else:\n",
    "    print('Ket thuc vong lap')"
   ]
  },
  {
   "cell_type": "code",
   "execution_count": null,
   "id": "2ec54431",
   "metadata": {},
   "outputs": [],
   "source": [
    "n = 10\n",
    "while n > 0:\n",
    "    print (n)\n",
    "    n = n - 1"
   ]
  },
  {
   "cell_type": "code",
   "execution_count": null,
   "id": "f54193ca",
   "metadata": {},
   "outputs": [],
   "source": [
    "#1. In cac so le tu 1-10\n",
    "\n",
    "n = 1\n",
    "while n % 2 == 1 and n <= 10:\n",
    "    print(n)\n",
    "    n = n + 2"
   ]
  },
  {
   "cell_type": "code",
   "execution_count": null,
   "id": "a4878b14",
   "metadata": {},
   "outputs": [],
   "source": [
    "#1. In cac so chan tu 1-10\n",
    "\n",
    "n = 2\n",
    "while n % 2 == 0 and n <= 10:\n",
    "    print(n)\n",
    "    n = n + 2"
   ]
  },
  {
   "cell_type": "code",
   "execution_count": null,
   "id": "d6648c61",
   "metadata": {},
   "outputs": [],
   "source": [
    "#Nhap vao so 1-9, in ra bang cuu chuong tuong ung\n",
    "n = int(input(\"Moi nhap so n: \"))\n",
    "m = 1\n",
    "\n",
    "while m <= 10:\n",
    "    ket_qua = m * n\n",
    "    print(f\"{n} * {m} = {m * n}\")\n",
    "    m = m + 1"
   ]
  },
  {
   "cell_type": "code",
   "execution_count": null,
   "id": "0a14aede",
   "metadata": {},
   "outputs": [],
   "source": [
    "m = 1\n",
    "\n",
    "while m <= 4:\n",
    "    print('*'*m)\n",
    "    m = m + 1"
   ]
  },
  {
   "cell_type": "code",
   "execution_count": null,
   "id": "75fa6573",
   "metadata": {},
   "outputs": [],
   "source": [
    "so_dong = int(input(\"Nhap so dong: \"))\n",
    "\n",
    "m = 1\n",
    "\n",
    "while m <= 7:\n",
    "#     no_of_space = int((7 - m)/2)\n",
    "    print(' '* (int((7 - m)/2)) + '*'*m)\n",
    "    m = m + 2"
   ]
  },
  {
   "cell_type": "code",
   "execution_count": null,
   "id": "b943fb77",
   "metadata": {},
   "outputs": [],
   "source": [
    "m = -9\n",
    "\n",
    "while abs(m) <= 9:\n",
    "    print(' '*(int(abs(m)/2-1)) + '*'*abs(m))\n",
    "    m = m + 2"
   ]
  },
  {
   "cell_type": "code",
   "execution_count": null,
   "id": "705de4a2",
   "metadata": {},
   "outputs": [],
   "source": [
    "#1. Tính giai thừa của một số nhập vào.\n",
    "n = int(input(\"Moi nhap so n: \"))\n",
    "m = 1\n",
    "giai_thua = 1\n",
    "if n > 0:\n",
    "    while m <= n:\n",
    "        giai_thua = giai_thua * m\n",
    "        m += 1\n",
    "    print(giai_thua)\n",
    "else:\n",
    "    print(\"So n khong hop le\")"
   ]
  },
  {
   "cell_type": "code",
   "execution_count": 8,
   "id": "bfd3270b",
   "metadata": {},
   "outputs": [
    {
     "name": "stdout",
     "output_type": "stream",
     "text": [
      "Moi nhap so x: 53\n",
      "Moi nhap so y: 1\n",
      "Ban da nhap sai, vui long nhap lai x < y\n",
      "Moi nhap so x: 1\n",
      "Moi nhap so y: 4\n",
      "30\n"
     ]
    }
   ],
   "source": [
    "# 2. Nhập 2 số nguyên x và y. Viết chương trình tính tổng bình phương các số từ x đến y. \n",
    "# Với y phải lớn hơn x nếu sai cần bắt người dùng nhập lại\n",
    "\n",
    "while True:\n",
    "    x = int(input(\"Moi nhap so x: \"))\n",
    "    y = int(input(\"Moi nhap so y: \"))\n",
    "    if y > x:\n",
    "        break\n",
    "    else:\n",
    "        print(\"Ban da nhap sai, vui long nhap lai x < y\")\n",
    "\n",
    "tong_binh_phuong = 0   \n",
    "while x <= y:\n",
    "    tong_binh_phuong += x * x\n",
    "    x += 1\n",
    "print (tong_binh_phuong)     "
   ]
  },
  {
   "cell_type": "code",
   "execution_count": 10,
   "id": "8db96ed0",
   "metadata": {},
   "outputs": [
    {
     "name": "stdout",
     "output_type": "stream",
     "text": [
      "Moi nhap so nguyen duong n: 28\n",
      "28 la so hoan chinh\n"
     ]
    }
   ],
   "source": [
    "#3. Số hoàn chỉnh là một số nguyên dương mà tổng các ước nguyên dương ngoại trừ nó bằng chính nó. \n",
    "# Viết chương trình nhập vào 1 số kiểm tra và xuất ra thông báo có phải số hoàn chỉnh không\n",
    "while True:\n",
    "    n = int(input(\"Moi nhap so nguyen duong n: \"))\n",
    "    if n > 0:\n",
    "        break\n",
    "    else:\n",
    "        print(\"Vui long nhap lai so nguyen duong n\")\n",
    "i = 1\n",
    "tong = 0\n",
    "\n",
    "while i < n:\n",
    "    if n % i == 0:\n",
    "        tong = tong + i\n",
    "    i += 1\n",
    "if n == tong:\n",
    "    print(f\"{n} la so hoan chinh\")\n",
    "else:\n",
    "    print(f\"{n} khong phai la so hoan chinh\")"
   ]
  },
  {
   "cell_type": "code",
   "execution_count": null,
   "id": "eb80f341",
   "metadata": {},
   "outputs": [],
   "source": [
    "# 4. Nhập vào hai số nguyên dương a và b (a <= b). \n",
    "# Tìm tổng của tất cả các số lẻ và tích của tất cả các số chẵn nằm giữa hai số đó (kể cả 2 số đó).\n",
    "# Kiểm tra đầu vào, sai bắt nhập lại\n",
    "\n",
    "while True:\n",
    "    a = int(input(\"Moi nhap so a: \"))\n",
    "    b = int(input(\"Moi nhap so b: \"))\n",
    "    if b >= a and a > 0 and b > 0:\n",
    "        break\n",
    "    else:\n",
    "        print(\"Ban da nhap sai, vui long nhap lai a <= b\")\n",
    "\n",
    "tong = 0\n",
    "tich = 1\n",
    "x = a\n",
    "y = b\n",
    "while x <= y:\n",
    "    if x % 2 == 1:\n",
    "        tong = tong + x\n",
    "        x += 1\n",
    "\n",
    "    \n"
   ]
  }
 ],
 "metadata": {
  "kernelspec": {
   "display_name": "Python 3 (ipykernel)",
   "language": "python",
   "name": "python3"
  },
  "language_info": {
   "codemirror_mode": {
    "name": "ipython",
    "version": 3
   },
   "file_extension": ".py",
   "mimetype": "text/x-python",
   "name": "python",
   "nbconvert_exporter": "python",
   "pygments_lexer": "ipython3",
   "version": "3.9.12"
  }
 },
 "nbformat": 4,
 "nbformat_minor": 5
}
