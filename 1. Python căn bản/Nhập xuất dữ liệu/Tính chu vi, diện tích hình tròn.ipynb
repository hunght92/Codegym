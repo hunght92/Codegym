{
 "cells": [
  {
   "cell_type": "code",
   "execution_count": 1,
   "id": "9caf94fc",
   "metadata": {},
   "outputs": [
    {
     "name": "stdout",
     "output_type": "stream",
     "text": [
      "Nhap dien tich hinh tron 100\n",
      "Chu vi hinh tron co ban kinh 100 la 628.3185\n",
      "Dien tich hinh tron co ban kinh 100 la 31415.9265\n"
     ]
    }
   ],
   "source": [
    "import turtle\n",
    "import math\n",
    "\n",
    "r = int(input(\"Nhap dien tich hinh tron \"))\n",
    "\n",
    "# t = turtle.Turtle()\n",
    "# t.hideturtle()\n",
    "# t.pensize(1)\n",
    "# t.color(\"red\")\n",
    "# t.circle(r)\n",
    "# turtle.done()\n",
    "\n",
    "c = 2 * math.pi * r\n",
    "s = math.pi * r * r\n",
    "\n",
    "print(f\"Chu vi hinh tron co ban kinh {r} la {c:.4f}\")\n",
    "print(f\"Dien tich hinh tron co ban kinh {r} la {s:.4f}\")\n"
   ]
  },
  {
   "cell_type": "code",
   "execution_count": null,
   "id": "a51ab599",
   "metadata": {},
   "outputs": [],
   "source": []
  }
 ],
 "metadata": {
  "kernelspec": {
   "display_name": "Python 3 (ipykernel)",
   "language": "python",
   "name": "python3"
  },
  "language_info": {
   "codemirror_mode": {
    "name": "ipython",
    "version": 3
   },
   "file_extension": ".py",
   "mimetype": "text/x-python",
   "name": "python",
   "nbconvert_exporter": "python",
   "pygments_lexer": "ipython3",
   "version": "3.9.12"
  }
 },
 "nbformat": 4,
 "nbformat_minor": 5
}
