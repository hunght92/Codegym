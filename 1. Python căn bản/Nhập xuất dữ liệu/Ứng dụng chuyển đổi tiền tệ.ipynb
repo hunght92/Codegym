{
 "cells": [
  {
   "cell_type": "code",
   "execution_count": 1,
   "id": "fa2638dc",
   "metadata": {},
   "outputs": [
    {
     "name": "stdout",
     "output_type": "stream",
     "text": [
      "Moi nhap so tien USD can doi: 12\n",
      "Moi nhap ty gia USD/VND: 23000\n",
      "12 USD tuong duong 276000 VND\n"
     ]
    }
   ],
   "source": [
    "usd = int(input(\"Moi nhap so tien USD can doi: \"))\n",
    "ty_gia = int(input(\"Moi nhap ty gia USD/VND: \"))\n",
    "vnd = usd * ty_gia\n",
    "print(f\"{usd} USD tuong duong {vnd} VND\")"
   ]
  },
  {
   "cell_type": "code",
   "execution_count": null,
   "id": "7ea82c6e",
   "metadata": {},
   "outputs": [],
   "source": []
  }
 ],
 "metadata": {
  "kernelspec": {
   "display_name": "Python 3 (ipykernel)",
   "language": "python",
   "name": "python3"
  },
  "language_info": {
   "codemirror_mode": {
    "name": "ipython",
    "version": 3
   },
   "file_extension": ".py",
   "mimetype": "text/x-python",
   "name": "python",
   "nbconvert_exporter": "python",
   "pygments_lexer": "ipython3",
   "version": "3.9.12"
  }
 },
 "nbformat": 4,
 "nbformat_minor": 5
}
