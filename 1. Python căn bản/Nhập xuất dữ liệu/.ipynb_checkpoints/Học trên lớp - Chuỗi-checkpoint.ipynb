{
 "cells": [
  {
   "cell_type": "code",
   "execution_count": null,
   "id": "33be8e29",
   "metadata": {},
   "outputs": [],
   "source": [
    "# chuoi = \"Xin chao\"\n",
    "\n",
    "# print(chuoi[0])\n",
    "# print(chuoi[-8])\n",
    "# print(chuoi[0:3])\n",
    "# print(chuoi[4:6])\n",
    "# print(chuoi[0:6:2])\n"
   ]
  },
  {
   "cell_type": "code",
   "execution_count": 3,
   "id": "d7d4ca87",
   "metadata": {},
   "outputs": [
    {
     "name": "stdout",
     "output_type": "stream",
     "text": [
      "True\n",
      "8\n",
      "Xn\n"
     ]
    }
   ],
   "source": [
    "chuoi = \"Xin chao\"\n",
    "print(\"chao\" in chuoi)\n",
    "print(len(chuoi))\n",
    "print(chuoi[-8:-5:2])\n"
   ]
  },
  {
   "cell_type": "code",
   "execution_count": 4,
   "id": "a5847c84",
   "metadata": {},
   "outputs": [
    {
     "name": "stdout",
     "output_type": "stream",
     "text": [
      "erty\n"
     ]
    }
   ],
   "source": [
    "# my_string = \"qwerty\"\n",
    "# print(my_string[2:])"
   ]
  },
  {
   "cell_type": "code",
   "execution_count": null,
   "id": "20a23a58",
   "metadata": {},
   "outputs": [],
   "source": []
  }
 ],
 "metadata": {
  "kernelspec": {
   "display_name": "Python 3 (ipykernel)",
   "language": "python",
   "name": "python3"
  },
  "language_info": {
   "codemirror_mode": {
    "name": "ipython",
    "version": 3
   },
   "file_extension": ".py",
   "mimetype": "text/x-python",
   "name": "python",
   "nbconvert_exporter": "python",
   "pygments_lexer": "ipython3",
   "version": "3.9.12"
  }
 },
 "nbformat": 4,
 "nbformat_minor": 5
}
