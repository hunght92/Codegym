{
 "cells": [
  {
   "cell_type": "code",
   "execution_count": null,
   "id": "e7856d8d",
   "metadata": {},
   "outputs": [],
   "source": [
    "# ten1 = input(\"Moi nhap ten ban 1: \")\n",
    "# tuoi1 = input(\"Moi nhap tuoi ban 1: \")\n",
    "# ten2 = input(\"Moi nhap ten ban 2: \")\n",
    "# tuoi2 = input(\"Moi nhap tuoi ban 2: \")\n",
    "# ten3 = input(\"Moi nhap ten ban 3: \")\n",
    "# tuoi3 = input(\"Moi nhap tuoi ban 3: \")\n",
    "\n",
    "# tuoi_trung_binh = (int(tuoi1) + int(tuoi2) + int(tuoi3))/3\n",
    "\n",
    "# print(f\"Tuoi trung binh cua ba ban {ten1}, {ten2} va {ten3} la {tuoi_trung_binh:.4f}\")\n",
    "\n"
   ]
  },
  {
   "cell_type": "code",
   "execution_count": null,
   "id": "5ec7e751",
   "metadata": {},
   "outputs": [],
   "source": [
    "try:\n",
    "    tuoi1 = int(input(\"Moi nhap tuoi ban 1: \"))\n",
    "except:\n",
    "    print(\"Loi\")\n",
    "print(f\"Tuoi hoc vien la {tuoi1}\")"
   ]
  },
  {
   "cell_type": "code",
   "execution_count": null,
   "id": "3dae5c51",
   "metadata": {},
   "outputs": [],
   "source": []
  }
 ],
 "metadata": {
  "kernelspec": {
   "display_name": "Python 3 (ipykernel)",
   "language": "python",
   "name": "python3"
  },
  "language_info": {
   "codemirror_mode": {
    "name": "ipython",
    "version": 3
   },
   "file_extension": ".py",
   "mimetype": "text/x-python",
   "name": "python",
   "nbconvert_exporter": "python",
   "pygments_lexer": "ipython3",
   "version": "3.9.12"
  }
 },
 "nbformat": 4,
 "nbformat_minor": 5
}
