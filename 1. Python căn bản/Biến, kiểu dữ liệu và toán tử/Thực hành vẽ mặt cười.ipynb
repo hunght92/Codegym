{
 "cells": [
  {
   "cell_type": "code",
   "execution_count": 1,
   "id": "e48d31ab",
   "metadata": {},
   "outputs": [],
   "source": [
    "import turtle\n",
    "t = turtle.Turtle()\n",
    "t.pensize(5)\n",
    "t.pencolor(\"yellow\")\n",
    "\n",
    "# Draw the bigger outside circle\n",
    "facesize = 200\n",
    "t.penup()\n",
    "t.goto(0,-facesize)\n",
    "t.pendown()\n",
    "t.circle(facesize)\n",
    "\n",
    "# Draw the eyes\n",
    "t.fillcolor(\"green\")\n",
    "t.penup()\n",
    "t.goto(-100,50)\n",
    "t.pendown()\n",
    "\n",
    "eye_size = 17.5\n",
    "\n",
    "t.begin_fill()\n",
    "t.circle(eye_size)\n",
    "t.end_fill()\n",
    "t.penup()\n",
    "\n",
    "t.goto(100,50)\n",
    "t.pendown()\n",
    "t.begin_fill()\n",
    "t.circle(eye_size)\n",
    "t.end_fill()\n",
    "\n",
    "# Draw the nose\n",
    "t.penup ()\n",
    "t.goto(0,50)\n",
    "t.pendown()\n",
    "t.circle(-70, steps=3)\n",
    "\n",
    "# Draw the smiling mouth\n",
    "t.penup()\n",
    "t.goto(-100, -70)\n",
    "t.pendown()\n",
    "t.right(90)\n",
    "t.circle(100,180)\n",
    "\n",
    "\n",
    "turtle.done()"
   ]
  }
 ],
 "metadata": {
  "kernelspec": {
   "display_name": "Python 3 (ipykernel)",
   "language": "python",
   "name": "python3"
  },
  "language_info": {
   "codemirror_mode": {
    "name": "ipython",
    "version": 3
   },
   "file_extension": ".py",
   "mimetype": "text/x-python",
   "name": "python",
   "nbconvert_exporter": "python",
   "pygments_lexer": "ipython3",
   "version": "3.9.12"
  }
 },
 "nbformat": 4,
 "nbformat_minor": 5
}
