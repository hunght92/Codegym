{
 "cells": [
  {
   "cell_type": "code",
   "execution_count": 2,
   "id": "67396771",
   "metadata": {},
   "outputs": [
    {
     "name": "stdout",
     "output_type": "stream",
     "text": [
      "Moi nhap do dai canh a: 12\n",
      "Moi nhap do dai canh b: 15\n",
      "Moi nhap do dai canh c: 17\n",
      "Dien tich tam giac voi ba canh co do dai 12.0, 15.0 va 17.0 la 87.74964387392122\n"
     ]
    }
   ],
   "source": [
    "import math\n",
    "\n",
    "a = float(input(\"Moi nhap do dai canh a: \"))\n",
    "b = float(input(\"Moi nhap do dai canh b: \"))\n",
    "c = float(input(\"Moi nhap do dai canh c: \"))\n",
    "\n",
    "\n",
    "s = (a+b+c)/2\n",
    "area = math.sqrt(s*(s-a)*(s-b)*(s-c))\n",
    "\n",
    "print(f\"Dien tich tam giac voi ba canh co do dai {a}, {b} va {c} la {area}\")\n",
    "\n",
    "\n"
   ]
  },
  {
   "cell_type": "code",
   "execution_count": null,
   "id": "e8062308",
   "metadata": {},
   "outputs": [],
   "source": []
  }
 ],
 "metadata": {
  "kernelspec": {
   "display_name": "Python 3 (ipykernel)",
   "language": "python",
   "name": "python3"
  },
  "language_info": {
   "codemirror_mode": {
    "name": "ipython",
    "version": 3
   },
   "file_extension": ".py",
   "mimetype": "text/x-python",
   "name": "python",
   "nbconvert_exporter": "python",
   "pygments_lexer": "ipython3",
   "version": "3.9.12"
  }
 },
 "nbformat": 4,
 "nbformat_minor": 5
}
