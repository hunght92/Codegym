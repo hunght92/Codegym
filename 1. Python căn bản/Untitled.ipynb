{
 "cells": [
  {
   "cell_type": "code",
   "execution_count": 5,
   "id": "25c98f9f",
   "metadata": {},
   "outputs": [
    {
     "name": "stdout",
     "output_type": "stream",
     "text": [
      "So 1: 11\n",
      "So 2: 55\n",
      "So 3: 33\n",
      "Thu tu 3 so da nhap la 11.0, 33.0, 55.0\n"
     ]
    }
   ],
   "source": [
    "so1 = float(input(\"So 1: \"))\n",
    "so2 = float(input(\"So 2: \"))\n",
    "so3 = float(input(\"So 3: \"))\n",
    "\n",
    "maxx = max(so1, so2, so3)\n",
    "minn = min(so1, so2, so3)\n",
    "medium = (so1 + so2 + so3) - maxx - minn\n",
    "\n",
    "print(f\"Thu tu 3 so da nhap la {minn}, {medium}, {maxx}\")"
   ]
  },
  {
   "cell_type": "code",
   "execution_count": 41,
   "id": "374d8f8c",
   "metadata": {},
   "outputs": [
    {
     "name": "stdout",
     "output_type": "stream",
     "text": [
      "Xin ch\n"
     ]
    }
   ],
   "source": [
    "chuoi = \"Xin chao\"\n",
    "print (chuoi[0:6])"
   ]
  },
  {
   "cell_type": "code",
   "execution_count": 8,
   "id": "36eb5a56",
   "metadata": {},
   "outputs": [
    {
     "name": "stdout",
     "output_type": "stream",
     "text": [
      "Chuoi string la Python programming language\n"
     ]
    }
   ],
   "source": [
    "chuoi = \"Python programming language\"\n",
    "print ('Chuoi string la',chuoi)"
   ]
  },
  {
   "cell_type": "code",
   "execution_count": 11,
   "id": "952fb0cc",
   "metadata": {},
   "outputs": [
    {
     "name": "stdout",
     "output_type": "stream",
     "text": [
      "Moi nhap so nam: 2020\n",
      "Nam truoc la 2019 va nam sau la 2021\n"
     ]
    }
   ],
   "source": [
    "nam = int(input(\"Moi nhap so nam: \"))\n",
    "print (f'Nam truoc la {nam - 1} va nam sau la {nam + 1}')"
   ]
  },
  {
   "cell_type": "code",
   "execution_count": 27,
   "id": "1fc44182",
   "metadata": {},
   "outputs": [
    {
     "name": "stdout",
     "output_type": "stream",
     "text": [
      "Moi nhap chuoi: 4564546\n",
      "Ky tu nam giua la 4\n"
     ]
    }
   ],
   "source": [
    "chuoi = input(\"Moi nhap chuoi: \")\n",
    "do_dai_chuoi = len(chuoi)\n",
    "test = (do_dai_chuoi % 2) == 1\n",
    "print(test and f'Ky tu nam giua la {chuoi[do_dai_chuoi // 2]}' or \"Khong co ky tu nam giua\")"
   ]
  },
  {
   "cell_type": "code",
   "execution_count": 35,
   "id": "0c160961",
   "metadata": {},
   "outputs": [
    {
     "name": "stdout",
     "output_type": "stream",
     "text": [
      "Moi nhap so 1: 12\n",
      "Moi nhap so 2: 7\n",
      "Moi nhap so 3: 15\n",
      "So 1: 12. So 2: 7. So 3: 15. Ket qua: co\n"
     ]
    }
   ],
   "source": [
    "so1 = int(input(\"Moi nhap so 1: \"))\n",
    "so2 = int(input(\"Moi nhap so 2: \"))\n",
    "so3 = int(input(\"Moi nhap so 3: \"))\n",
    "tong_so1_so3 = so1 + so3\n",
    "test = int((str(tong_so1_so3))[-1]) == so2\n",
    "print(test and f'So 1: {so1}. So 2: {so2}. So 3: {so3}. Ket qua: co' or '')"
   ]
  },
  {
   "cell_type": "code",
   "execution_count": 40,
   "id": "f8bc8643",
   "metadata": {},
   "outputs": [
    {
     "ename": "SyntaxError",
     "evalue": "invalid syntax (3123832706.py, line 5)",
     "output_type": "error",
     "traceback": [
      "\u001b[1;36m  Input \u001b[1;32mIn [40]\u001b[1;36m\u001b[0m\n\u001b[1;33m    chuoi_moi = chuoi.replace(*,\"*\",do_dai_chuoi-5)\u001b[0m\n\u001b[1;37m                               ^\u001b[0m\n\u001b[1;31mSyntaxError\u001b[0m\u001b[1;31m:\u001b[0m invalid syntax\n"
     ]
    }
   ],
   "source": [
    "chuoi = input(\"Moi nhap chuoi: \")\n",
    "do_dai_chuoi = len(chuoi)\n",
    "print(do_dai_chuoi)\n",
    "test = do_dai_chuoi > 5\n",
    "chuoi_moi = chuoi.replace(*,\"*\",do_dai_chuoi-5)\n",
    "print(test and f'chuoi.replace(chuoi[0:(do_dai_chuoi - 6)],\"*\"*(do_dai_chuoi - 5),do_dai_chuoi-5)' or f'chuoi')"
   ]
  },
  {
   "cell_type": "code",
   "execution_count": null,
   "id": "3a05c96a",
   "metadata": {},
   "outputs": [],
   "source": []
  }
 ],
 "metadata": {
  "kernelspec": {
   "display_name": "Python 3 (ipykernel)",
   "language": "python",
   "name": "python3"
  },
  "language_info": {
   "codemirror_mode": {
    "name": "ipython",
    "version": 3
   },
   "file_extension": ".py",
   "mimetype": "text/x-python",
   "name": "python",
   "nbconvert_exporter": "python",
   "pygments_lexer": "ipython3",
   "version": "3.9.12"
  }
 },
 "nbformat": 4,
 "nbformat_minor": 5
}
