{
 "cells": [
  {
   "cell_type": "code",
   "execution_count": null,
   "id": "ea3394bc",
   "metadata": {},
   "outputs": [],
   "source": [
    "import turtle\n",
    "import random\n",
    "\n",
    "h = turtle.Turtle()\n",
    "h.speed(0)\n",
    "screen = turtle.Screen()\n",
    "screen.bgcolor = ('black')\n",
    "\n",
    "i = 1\n",
    "g = -10\n",
    "rad = 100\n",
    "\n",
    "while i <=36:\n",
    "    h.setheading(g)\n",
    "    \n",
    "    h.pencolor(f\"#{random.randint(0,255):02X}{random.randint(0,255):02X}{random.randint(0,255):02X}\")\n",
    "    \n",
    "    h.right(45)\n",
    "    h.circle(rad, 90)\n",
    "    h.circle(rad/2, 90)\n",
    "    h.circle(rad, 90)\n",
    "    h.circle(rad/2, 90)\n",
    "    \n",
    "    g -= 10\n",
    "    i += 1\n",
    "    \n",
    "turtle.done()\n",
    "    \n",
    "    "
   ]
  }
 ],
 "metadata": {
  "kernelspec": {
   "display_name": "Python 3 (ipykernel)",
   "language": "python",
   "name": "python3"
  },
  "language_info": {
   "codemirror_mode": {
    "name": "ipython",
    "version": 3
   },
   "file_extension": ".py",
   "mimetype": "text/x-python",
   "name": "python",
   "nbconvert_exporter": "python",
   "pygments_lexer": "ipython3",
   "version": "3.9.12"
  }
 },
 "nbformat": 4,
 "nbformat_minor": 5
}
