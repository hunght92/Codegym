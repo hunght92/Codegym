{
 "cells": [
  {
   "cell_type": "code",
   "execution_count": null,
   "id": "4b77a99b",
   "metadata": {},
   "outputs": [],
   "source": [
    "import turtle\n",
    "h = turtle.Turtle()\n",
    "\n",
    "chieu_cao_nha = 200\n",
    "chieu_rong_nha = 170\n",
    "\n",
    "# dua turtle ve diem ve nha\n",
    "h.penup()\n",
    "h.goto(-400,-10)\n",
    "h.pendown()\n",
    "\n",
    "#ve mat truoc cua nha\n",
    "h.fillcolor('blue')\n",
    "h.begin_fill()\n",
    "h.right(90)\n",
    "h.forward(chieu_cao_nha)\n",
    "h.left(180-90)\n",
    "h.forward(chieu_rong_nha)\n",
    "h.left(180-90)\n",
    "h.forward(chieu_cao_nha)\n",
    "h.left(180-90)\n",
    "h.forward(chieu_rong_nha)\n",
    "h.end_fill()\n",
    "\n",
    "# ve mat truoc cua mai nha\n",
    "h.right(140)\n",
    "h.fillcolor('cyan')\n",
    "h.begin_fill()\n",
    "h.forward(100+10)\n",
    "h.right(80)\n",
    "h.forward(110)\n",
    "h.end_fill()\n",
    "\n",
    "\n",
    "turtle.done()"
   ]
  }
 ],
 "metadata": {
  "kernelspec": {
   "display_name": "Python 3 (ipykernel)",
   "language": "python",
   "name": "python3"
  },
  "language_info": {
   "codemirror_mode": {
    "name": "ipython",
    "version": 3
   },
   "file_extension": ".py",
   "mimetype": "text/x-python",
   "name": "python",
   "nbconvert_exporter": "python",
   "pygments_lexer": "ipython3",
   "version": "3.9.12"
  }
 },
 "nbformat": 4,
 "nbformat_minor": 5
}
