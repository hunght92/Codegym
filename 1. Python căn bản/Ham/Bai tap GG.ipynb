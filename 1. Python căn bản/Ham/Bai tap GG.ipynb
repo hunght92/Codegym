{
 "cells": [
  {
   "cell_type": "code",
   "execution_count": 7,
   "id": "007adda1",
   "metadata": {},
   "outputs": [
    {
     "name": "stdout",
     "output_type": "stream",
     "text": [
      "0\n",
      "0\n",
      "14\n"
     ]
    }
   ],
   "source": [
    "# Tính tổng tất cả các “ước số chẵn” của số nguyên dương n\n",
    "\n",
    "def tong_uoc_chan(so):\n",
    "    sum = 0\n",
    "    for i in range (1, so+1):\n",
    "        if so%i == 0:\n",
    "            if i%2 == 0:\n",
    "                sum += i\n",
    "    print(sum)\n",
    "    \n",
    "tong_uoc_chan(7)\n",
    "tong_uoc_chan(9)\n",
    "tong_uoc_chan(8)\n"
   ]
  },
  {
   "cell_type": "code",
   "execution_count": 11,
   "id": "3d5f684e",
   "metadata": {},
   "outputs": [
    {
     "name": "stdout",
     "output_type": "stream",
     "text": [
      "1\n"
     ]
    }
   ],
   "source": [
    "# Tìm ước số lẻ lớn nhất của số nguyên dương n. Ví dụ n = 100 ước lẻ lớn nhất là 25\n",
    "def uoc_le_max(so):\n",
    "    max = 1\n",
    "    for i in range(1, so + 1):\n",
    "        if so%i == 0:\n",
    "            if i%2 != 0:\n",
    "                if i > max:\n",
    "                    max = i\n",
    "    print(max)\n",
    "    \n",
    "uoc_le_max(16)"
   ]
  },
  {
   "cell_type": "code",
   "execution_count": null,
   "id": "fdea4e8c",
   "metadata": {},
   "outputs": [],
   "source": []
  }
 ],
 "metadata": {
  "kernelspec": {
   "display_name": "Python 3 (ipykernel)",
   "language": "python",
   "name": "python3"
  },
  "language_info": {
   "codemirror_mode": {
    "name": "ipython",
    "version": 3
   },
   "file_extension": ".py",
   "mimetype": "text/x-python",
   "name": "python",
   "nbconvert_exporter": "python",
   "pygments_lexer": "ipython3",
   "version": "3.9.12"
  }
 },
 "nbformat": 4,
 "nbformat_minor": 5
}
