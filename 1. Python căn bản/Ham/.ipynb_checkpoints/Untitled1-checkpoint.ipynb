{
 "cells": [
  {
   "cell_type": "code",
   "execution_count": 8,
   "id": "57b13ca9",
   "metadata": {},
   "outputs": [
    {
     "name": "stdout",
     "output_type": "stream",
     "text": [
      "Moi nhap so, nhap q neu muon thoat: 1\n",
      "Moi nhap so, nhap q neu muon thoat: 2\n",
      "Moi nhap so, nhap q neu muon thoat: \n",
      "Moi nhap so, nhap q neu muon thoat: 5\n",
      "Moi nhap so, nhap q neu muon thoat: 7\n",
      "Moi nhap so, nhap q neu muon thoat: 9\n",
      "Moi nhap so, nhap q neu muon thoat: q\n",
      "9 7\n"
     ]
    }
   ],
   "source": [
    "list = []\n",
    "while True:\n",
    "    so = input(\"Mời nhập số, nhập q nếu muốn thoát: \")\n",
    "    if so == \"q\":\n",
    "        break\n",
    "    list.append(so)\n",
    "\n",
    "list.sort(reverse = True)\n",
    "print(list[0],list[1])"
   ]
  },
  {
   "cell_type": "code",
   "execution_count": null,
   "id": "a9c2e793",
   "metadata": {},
   "outputs": [],
   "source": []
  },
  {
   "cell_type": "code",
   "execution_count": null,
   "id": "0aee572f",
   "metadata": {},
   "outputs": [],
   "source": []
  }
 ],
 "metadata": {
  "kernelspec": {
   "display_name": "Python 3 (ipykernel)",
   "language": "python",
   "name": "python3"
  },
  "language_info": {
   "codemirror_mode": {
    "name": "ipython",
    "version": 3
   },
   "file_extension": ".py",
   "mimetype": "text/x-python",
   "name": "python",
   "nbconvert_exporter": "python",
   "pygments_lexer": "ipython3",
   "version": "3.9.12"
  }
 },
 "nbformat": 4,
 "nbformat_minor": 5
}
