{
 "cells": [
  {
   "cell_type": "code",
   "execution_count": 11,
   "id": "492741cb",
   "metadata": {
    "scrolled": true
   },
   "outputs": [
    {
     "name": "stdout",
     "output_type": "stream",
     "text": [
      "Mời nhập số, nhập q nếu muốn thoát: 48\n",
      "Mời nhập số, nhập q nếu muốn thoát: 57\n",
      "Mời nhập số, nhập q nếu muốn thoát: 67\n",
      "Mời nhập số, nhập q nếu muốn thoát: q\n",
      "2 số lớn nhất trong list đã nhập là: 67 và 57\n"
     ]
    }
   ],
   "source": [
    "list = []\n",
    "while True:\n",
    "    so = input(\"Mời nhập số, nhập q nếu muốn thoát: \")\n",
    "    if so == \"q\":\n",
    "        break\n",
    "    list.append(so)\n",
    "\n",
    "list.sort(reverse = True)\n",
    "print(f\"2 số lớn nhất trong list đã nhập là: {list[0]} và {list[1]}\")"
   ]
  },
  {
   "cell_type": "code",
   "execution_count": 19,
   "id": "41830482",
   "metadata": {},
   "outputs": [
    {
     "ename": "TypeError",
     "evalue": "object of type 'int' has no len()",
     "output_type": "error",
     "traceback": [
      "\u001b[1;31m---------------------------------------------------------------------------\u001b[0m",
      "\u001b[1;31mTypeError\u001b[0m                                 Traceback (most recent call last)",
      "Input \u001b[1;32mIn [19]\u001b[0m, in \u001b[0;36m<cell line: 14>\u001b[1;34m()\u001b[0m\n\u001b[0;32m     11\u001b[0m     \u001b[38;5;28;01mif\u001b[39;00m tong \u001b[38;5;241m==\u001b[39m so:\n\u001b[0;32m     12\u001b[0m         \u001b[38;5;28mprint\u001b[39m(so)\n\u001b[1;32m---> 14\u001b[0m \u001b[43mcheck_so_armstrong\u001b[49m\u001b[43m(\u001b[49m\u001b[38;5;241;43m153\u001b[39;49m\u001b[43m)\u001b[49m\n",
      "Input \u001b[1;32mIn [19]\u001b[0m, in \u001b[0;36mcheck_so_armstrong\u001b[1;34m(so)\u001b[0m\n\u001b[0;32m      8\u001b[0m \u001b[38;5;28;01mdef\u001b[39;00m \u001b[38;5;21mcheck_so_armstrong\u001b[39m(so):\n\u001b[1;32m----> 9\u001b[0m     \u001b[38;5;28;01mfor\u001b[39;00m i \u001b[38;5;129;01min\u001b[39;00m \u001b[38;5;28mrange\u001b[39m(\u001b[38;5;241m0\u001b[39m, \u001b[38;5;28;43mlen\u001b[39;49m\u001b[43m(\u001b[49m\u001b[43mso\u001b[49m\u001b[43m)\u001b[49m\u001b[38;5;241m+\u001b[39m\u001b[38;5;241m1\u001b[39m):\n\u001b[0;32m     10\u001b[0m         tong \u001b[38;5;241m=\u001b[39m i\u001b[38;5;241m*\u001b[39m\u001b[38;5;241m*\u001b[39m\u001b[38;5;28mlen\u001b[39m(so)\n\u001b[0;32m     11\u001b[0m     \u001b[38;5;28;01mif\u001b[39;00m tong \u001b[38;5;241m==\u001b[39m so:\n",
      "\u001b[1;31mTypeError\u001b[0m: object of type 'int' has no len()"
     ]
    }
   ],
   "source": [
    "# list = []\n",
    "# while True:\n",
    "#     so = input(\"Mời nhập số, nhập q nếu muốn thoát: \")\n",
    "#     if so == \"q\":\n",
    "#         break\n",
    "#     list.append(so)\n",
    "\n",
    "       \n",
    "    \n",
    "# sum = 0    \n",
    "# for i in list:\n",
    "#     for i in\n",
    "    "
   ]
  },
  {
   "cell_type": "code",
   "execution_count": 21,
   "id": "f43305d6",
   "metadata": {},
   "outputs": [
    {
     "ename": "TypeError",
     "evalue": "object of type 'int' has no len()",
     "output_type": "error",
     "traceback": [
      "\u001b[1;31m---------------------------------------------------------------------------\u001b[0m",
      "\u001b[1;31mTypeError\u001b[0m                                 Traceback (most recent call last)",
      "Input \u001b[1;32mIn [21]\u001b[0m, in \u001b[0;36m<cell line: 7>\u001b[1;34m()\u001b[0m\n\u001b[0;32m      4\u001b[0m     \u001b[38;5;28;01mif\u001b[39;00m tong \u001b[38;5;241m==\u001b[39m so:\n\u001b[0;32m      5\u001b[0m         \u001b[38;5;28mprint\u001b[39m(so)\n\u001b[1;32m----> 7\u001b[0m \u001b[43mcheck_so_armstrong\u001b[49m\u001b[43m(\u001b[49m\u001b[38;5;241;43m153\u001b[39;49m\u001b[43m)\u001b[49m\n",
      "Input \u001b[1;32mIn [21]\u001b[0m, in \u001b[0;36mcheck_so_armstrong\u001b[1;34m(so)\u001b[0m\n\u001b[0;32m      1\u001b[0m \u001b[38;5;28;01mdef\u001b[39;00m \u001b[38;5;21mcheck_so_armstrong\u001b[39m(so):\n\u001b[0;32m      2\u001b[0m     \u001b[38;5;28;01mfor\u001b[39;00m i \u001b[38;5;129;01min\u001b[39;00m \u001b[38;5;28mrange\u001b[39m(\u001b[38;5;241m0\u001b[39m, \u001b[38;5;28mlen\u001b[39m(\u001b[38;5;28mstr\u001b[39m(so))\u001b[38;5;241m+\u001b[39m\u001b[38;5;241m1\u001b[39m):\n\u001b[1;32m----> 3\u001b[0m         tong \u001b[38;5;241m=\u001b[39m i\u001b[38;5;241m*\u001b[39m\u001b[38;5;241m*\u001b[39m\u001b[38;5;28;43mlen\u001b[39;49m\u001b[43m(\u001b[49m\u001b[43mso\u001b[49m\u001b[43m)\u001b[49m\n\u001b[0;32m      4\u001b[0m     \u001b[38;5;28;01mif\u001b[39;00m tong \u001b[38;5;241m==\u001b[39m so:\n\u001b[0;32m      5\u001b[0m         \u001b[38;5;28mprint\u001b[39m(so)\n",
      "\u001b[1;31mTypeError\u001b[0m: object of type 'int' has no len()"
     ]
    }
   ],
   "source": [
    "def check_so_armstrong(so):\n",
    "    for i in range(0, len(str(so))+1):\n",
    "        tong = i**len(str(so))\n",
    "    if tong == so:\n",
    "        print(so)\n",
    "        \n",
    "check_so_armstrong(153)"
   ]
  },
  {
   "cell_type": "code",
   "execution_count": null,
   "id": "fad4f097",
   "metadata": {},
   "outputs": [],
   "source": []
  }
 ],
 "metadata": {
  "kernelspec": {
   "display_name": "Python 3 (ipykernel)",
   "language": "python",
   "name": "python3"
  },
  "language_info": {
   "codemirror_mode": {
    "name": "ipython",
    "version": 3
   },
   "file_extension": ".py",
   "mimetype": "text/x-python",
   "name": "python",
   "nbconvert_exporter": "python",
   "pygments_lexer": "ipython3",
   "version": "3.9.12"
  }
 },
 "nbformat": 4,
 "nbformat_minor": 5
}
