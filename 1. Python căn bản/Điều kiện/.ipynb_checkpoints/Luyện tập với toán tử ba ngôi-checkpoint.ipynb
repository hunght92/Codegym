{
 "cells": [
  {
   "cell_type": "code",
   "execution_count": null,
   "id": "21909868",
   "metadata": {},
   "outputs": [],
   "source": [
    "num_check = int(input(\"Moi nhap so can kiem tra: \"))\n",
    "\n",
    "#Dùng toán tử ba ngôi\n",
    "msg = \"Even\" if num_check % 2 == 0 else \"Odd\"\n",
    "print(msg)"
   ]
  },
  {
   "cell_type": "code",
   "execution_count": null,
   "id": "6ef5a0e9",
   "metadata": {},
   "outputs": [],
   "source": []
  }
 ],
 "metadata": {
  "kernelspec": {
   "display_name": "Python 3 (ipykernel)",
   "language": "python",
   "name": "python3"
  },
  "language_info": {
   "codemirror_mode": {
    "name": "ipython",
    "version": 3
   },
   "file_extension": ".py",
   "mimetype": "text/x-python",
   "name": "python",
   "nbconvert_exporter": "python",
   "pygments_lexer": "ipython3",
   "version": "3.9.12"
  }
 },
 "nbformat": 4,
 "nbformat_minor": 5
}
