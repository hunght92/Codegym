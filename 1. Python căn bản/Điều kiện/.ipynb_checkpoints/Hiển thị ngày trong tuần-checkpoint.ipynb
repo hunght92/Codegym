{
 "cells": [
  {
   "cell_type": "code",
   "execution_count": 3,
   "id": "c1772273",
   "metadata": {},
   "outputs": [
    {
     "name": "stdout",
     "output_type": "stream",
     "text": [
      "Moi nhap so (tu 1 den 7): 5\n",
      "Friday\n"
     ]
    }
   ],
   "source": [
    "num = int(input(\"Moi nhap so (tu 1 den 7): \"))\n",
    "if num == 1:\n",
    "\tprint(\"Monday\")\n",
    "elif num == 2:\n",
    "\tprint(\"Tuesday\")\n",
    "elif num == 3:\n",
    "\tprint(\"Wednesday\")\n",
    "elif num == 4:\n",
    "\tprint(\"Thursday\")\n",
    "elif num == 5:\n",
    "\tprint(\"Friday\")\n",
    "elif num == 6:\n",
    "\tprint(\"Saturday\")\n",
    "elif num == 7:\n",
    "\tprint(\"Sunday\")\n",
    "else:\n",
    "    print(\"Error, out of range\")"
   ]
  },
  {
   "cell_type": "code",
   "execution_count": null,
   "id": "bc574237",
   "metadata": {},
   "outputs": [],
   "source": []
  }
 ],
 "metadata": {
  "kernelspec": {
   "display_name": "Python 3 (ipykernel)",
   "language": "python",
   "name": "python3"
  },
  "language_info": {
   "codemirror_mode": {
    "name": "ipython",
    "version": 3
   },
   "file_extension": ".py",
   "mimetype": "text/x-python",
   "name": "python",
   "nbconvert_exporter": "python",
   "pygments_lexer": "ipython3",
   "version": "3.9.12"
  }
 },
 "nbformat": 4,
 "nbformat_minor": 5
}
