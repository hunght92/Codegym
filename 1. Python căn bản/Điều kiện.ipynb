{
 "cells": [
  {
   "cell_type": "code",
   "execution_count": 6,
   "id": "0fb49da3",
   "metadata": {},
   "outputs": [
    {
     "name": "stdout",
     "output_type": "stream",
     "text": [
      "Nhap vao diem trung binh cua hoc vien (1-10): 11\n",
      "Diem trung binh khong hop le\n"
     ]
    }
   ],
   "source": [
    "diem_trung_binh =float(input(\"Nhap vao diem trung binh cua hoc vien (1-10): \"))\n",
    "if diem_trung_binh > 9 and diem_trung_binh <= 10:\n",
    "    print(\"Gioi\")\n",
    "elif diem_trung_binh <= 9 and diem_trung_binh >= 7:\n",
    "    print(\"Kha\")\n",
    "elif diem_trung_binh <= 7 and diem_trung_binh >= 5:\n",
    "    print(\"Trung binh\")\n",
    "elif diem_trung_binh < 5 and diem_trung_binh >= 0:\n",
    "    print(\"Yeu\")\n",
    "else:\n",
    "    print(\"Diem trung binh khong hop le\")"
   ]
  },
  {
   "cell_type": "code",
   "execution_count": 8,
   "id": "b6de9b9b",
   "metadata": {},
   "outputs": [
    {
     "name": "stdout",
     "output_type": "stream",
     "text": [
      "9 be hon hoac bang 10\n"
     ]
    }
   ],
   "source": [
    "n = 9\n",
    "output = f\"{n} lon hon 10\" if n > 10 else  f\"{n} be hon hoac bang 10\"\n",
    "print (output)"
   ]
  },
  {
   "cell_type": "code",
   "execution_count": 10,
   "id": "e378e129",
   "metadata": {},
   "outputs": [
    {
     "name": "stdout",
     "output_type": "stream",
     "text": [
      "Moi nhap so nguyen n: 7\n",
      "7\n"
     ]
    }
   ],
   "source": [
    "# 1. Nhập vào 1 số nguyên n. Tính trị tuyệt đối của n.\n",
    "n = int(input(\"Moi nhap so nguyen n: \"))\n",
    "if n >= 0:\n",
    "    tri_tuyet_doi = n\n",
    "else:\n",
    "    tri_tuyet_doi = -n\n",
    "print(tri_tuyet_doi)"
   ]
  },
  {
   "cell_type": "code",
   "execution_count": null,
   "id": "4799335a",
   "metadata": {},
   "outputs": [],
   "source": [
    "# 2. Giải phương trình bậc 1.\n"
   ]
  },
  {
   "cell_type": "code",
   "execution_count": null,
   "id": "38a59ce9",
   "metadata": {},
   "outputs": [],
   "source": [
    "# 3. Giải phương trình bậc 2.\n"
   ]
  },
  {
   "cell_type": "code",
   "execution_count": 12,
   "id": "0ec12676",
   "metadata": {},
   "outputs": [
    {
     "name": "stdout",
     "output_type": "stream",
     "text": [
      "Moi nhap so a: 9\n",
      "Moi nhap so b: 7\n",
      "Moi nhap so c: 5\n",
      "9\n"
     ]
    }
   ],
   "source": [
    "# 4. Nhập vào ba số a, b, c. Hãy tìm giá trị lớn nhất của 3 số và in ra kết quả.\n",
    "a = int(input(\"Moi nhap so a: \"))\n",
    "b = int(input(\"Moi nhap so b: \"))\n",
    "c = int(input(\"Moi nhap so c: \"))\n",
    "if a > b:\n",
    "    max = a\n",
    "else:\n",
    "    max = b\n",
    "if max < c:\n",
    "    max = c\n",
    "print(max)"
   ]
  },
  {
   "cell_type": "code",
   "execution_count": 31,
   "id": "7148779c",
   "metadata": {},
   "outputs": [
    {
     "name": "stdout",
     "output_type": "stream",
     "text": [
      "Moi nhap so tu 1 den 5: 7\n",
      "So duoc nhap khong hop le\n"
     ]
    }
   ],
   "source": [
    "# 5. Nhập vào số nguyên từ 1 đến 5. Xuất ra cách đọc các số đó. Ví dụ: 1 xuất ra 'một', 2 xuất ra 'hai'\n",
    "n = int(input(\"Moi nhap so tu 1 den 5: \"))\n",
    "if n == 1:\n",
    "    print(\"Mot\")\n",
    "elif n == 2:\n",
    "    print(\"Hai\")\n",
    "elif n == 3:\n",
    "    print(\"Ba\")\n",
    "elif n == 4:\n",
    "    print(\"Bon\")\n",
    "elif n ==5:\n",
    "    print(\"Nam\")\n",
    "else:\n",
    "    print(\"So duoc nhap khong hop le\")"
   ]
  },
  {
   "cell_type": "code",
   "execution_count": null,
   "id": "66e53dbb",
   "metadata": {},
   "outputs": [],
   "source": [
    "# 6. Nhập vào tháng và năm. Xuất ra số ngày trong tháng và năm đó.\n"
   ]
  },
  {
   "cell_type": "code",
   "execution_count": 36,
   "id": "55947f6a",
   "metadata": {},
   "outputs": [
    {
     "name": "stdout",
     "output_type": "stream",
     "text": [
      "Moi nhap so nam: 4\n",
      "4 la nam nhuan\n"
     ]
    }
   ],
   "source": [
    "# 7. Nhập vào 1 năm. Kiểm tra năm đó có phải năm nhuận hay không. Xuất ra thông báo.\n",
    "nam = input(\"Moi nhap so nam: \")\n",
    "print(f\"{nam} la nam nhuan\") if int(nam[-2:]) % 4 == 0 else print(f\"{nam} khong phai la nam nhuan\")"
   ]
  },
  {
   "cell_type": "code",
   "execution_count": 10,
   "id": "33194802",
   "metadata": {},
   "outputs": [
    {
     "name": "stdout",
     "output_type": "stream",
     "text": [
      "Moi nhap ngay : 29\n",
      "Moi nhap thang: 2\n",
      "Moi nhap nam  : 1300\n",
      "29/2/1300 la ngay hop le\n"
     ]
    }
   ],
   "source": [
    "# 8. Nhập vào ngày, tháng, năm. Kiểm tra ngày, tháng và năm đó có hợp lệ không\n",
    "ngay = int(input(\"Moi nhap ngay : \"))\n",
    "thang = int(input(\"Moi nhap thang: \"))\n",
    "nam = input(\"Moi nhap nam  : \")\n",
    "\n",
    "# Kiểm tra nếu ngày lớn hơn 31 hoặc tháng lớn hơn 12 thì không hợp lệ\n",
    "if ngay > 31 or thang > 12:\n",
    "    print(f\"{ngay}/{thang}/{nam} khong phai la ngay hop le\")\n",
    "    \n",
    "# Kiểm tra nếu năm đó không nhuận mà tháng 2 có trên 28 ngày thì không hợp lệ\n",
    "elif thang == 2 and int(nam[-2:]) % 4 != 0 and ngay > 28:\n",
    "    print(f\"{ngay}/{thang}/{nam} khong phai la ngay hop le\")\n",
    "    \n",
    "# Kiểm tra nếu năm đó nhuận mà tháng 2 có trên 29 ngày thì không hợp lệ   \n",
    "elif thang == 2 and int(nam[-2:]) % 4 == 0 and ngay > 29:\n",
    "    print(f\"{ngay}/{thang}/{nam} khong phai la ngay hop le\")\n",
    "        \n",
    "# Kiểm tra các tháng 4, 6, 9, 11 có trên 30 ngày thì không hợp lệ\n",
    "elif ngay > 30 and (thang == 4 or thang == 6 or thang == 9 or thang == 11):\n",
    "    print(f\"{ngay}/{thang}/{nam} khong phai la ngay hop le\")\n",
    "\n",
    "# Nếu các điều kiện trên không thỏa nghĩa là ngày nhập vào là hợp lệ    \n",
    "else:\n",
    "    print(f\"{ngay}/{thang}/{nam} la ngay hop le\")"
   ]
  },
  {
   "cell_type": "code",
   "execution_count": 15,
   "id": "f1a1d30b",
   "metadata": {},
   "outputs": [
    {
     "name": "stdout",
     "output_type": "stream",
     "text": [
      "Moi nhap ngay : 29\n",
      "Moi nhap thang: 2\n",
      "Moi nhap nam  : 1400\n",
      "False\n",
      "29/2/1400 khong phai la ngay hop le\n"
     ]
    }
   ],
   "source": [
    "ngay = int(input(\"Moi nhap ngay : \"))\n",
    "thang = int(input(\"Moi nhap thang: \"))\n",
    "nam = input(\"Moi nhap nam  : \")\n",
    "\n",
    "\n",
    "# Kiểm tra năm nhập vào có phải năm nhuận không\n",
    "if nam[-2:] == \"00\":\n",
    "    if int(nam[0:1]) % 40 == 0:\n",
    "        nam_nhuan = True\n",
    "    else:\n",
    "        nam_nhuan = False\n",
    "elif int(nam[-2:]) % 4 == 0:\n",
    "    nam_nhuan = True\n",
    "else:\n",
    "    nam_nhuan = False\n",
    "\n",
    "# Kiểm tra nếu ngày, tháng là số âm hoặc ngày lớn hơn 31 hoặc tháng lớn hơn 12 thì không hợp lệ\n",
    "if ngay <= 0 or thang <= 0 or ngay > 31 or thang > 12:\n",
    "    print(f\"{ngay}/{thang}/{nam} khong phai la ngay hop le\")\n",
    "    \n",
    "# Kiểm tra nếu năm đó không nhuận mà tháng 2 có trên 28 ngày thì không hợp lệ\n",
    "elif thang == 2 and nam_nhuan == False and ngay > 28:\n",
    "    print(f\"{ngay}/{thang}/{nam} khong phai la ngay hop le\")\n",
    "    \n",
    "# Kiểm tra nếu năm đó nhuận mà tháng 2 có trên 29 ngày thì không hợp lệ   \n",
    "elif thang == 2 and nam_nhuan == True and ngay > 29:\n",
    "    print(f\"{ngay}/{thang}/{nam} khong phai la ngay hop le\")\n",
    "        \n",
    "# Kiểm tra các tháng 4, 6, 9, 11 có trên 30 ngày thì không hợp lệ\n",
    "elif ngay > 30 and (thang == 4 or thang == 6 or thang == 9 or thang == 11):\n",
    "    print(f\"{ngay}/{thang}/{nam} khong phai la ngay hop le\")\n",
    "\n",
    "# Nếu các điều kiện trên không thỏa nghĩa là ngày nhập vào là hợp lệ    \n",
    "else:\n",
    "    print(f\"{ngay}/{thang}/{nam} la ngay hop le\")"
   ]
  },
  {
   "cell_type": "code",
   "execution_count": 4,
   "id": "1a957d20",
   "metadata": {},
   "outputs": [
    {
     "name": "stdout",
     "output_type": "stream",
     "text": [
      "Moi nhap chuoi: xin chao\n",
      "Moi nhap so n: 4\n",
      "Chuoi moi la: xin\n"
     ]
    }
   ],
   "source": [
    "#Nhập vào 1 chuỗi, và 1 số n. Xóa ký tự thứ n trong chuỗi tính từ đầu chuỗi và xuất trả về chuỗi mới.\n",
    "# Nếu n lớn hơn tổng số ký tự có trong chuỗi thì xuất thông báo 'Không tìm thấy vị trí cần xóa'.\n",
    "# Ngược lại xuất ra chuỗi mới. \n",
    "\n",
    "chuoi = input(\"Moi nhap chuoi: \")\n",
    "n = int(input(\"Moi nhap so n: \"))\n",
    "\n",
    "if n <= len(chuoi):\n",
    "    chuoi_1 = chuoi[0:(n-1)]\n",
    "    chuoi_2 = chuoi[-1:(-n+1)]\n",
    "    print(f\"Chuoi moi la: {chuoi_1}{chuoi_2}\")\n",
    "else:\n",
    "    print(\"Khong tim thay vi tri can xoa\")"
   ]
  },
  {
   "cell_type": "code",
   "execution_count": null,
   "id": "915a99b0",
   "metadata": {},
   "outputs": [],
   "source": []
  }
 ],
 "metadata": {
  "kernelspec": {
   "display_name": "Python 3 (ipykernel)",
   "language": "python",
   "name": "python3"
  },
  "language_info": {
   "codemirror_mode": {
    "name": "ipython",
    "version": 3
   },
   "file_extension": ".py",
   "mimetype": "text/x-python",
   "name": "python",
   "nbconvert_exporter": "python",
   "pygments_lexer": "ipython3",
   "version": "3.9.12"
  }
 },
 "nbformat": 4,
 "nbformat_minor": 5
}
